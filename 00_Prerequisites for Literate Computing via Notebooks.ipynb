{
 "cells": [
  {
   "cell_type": "markdown",
   "metadata": {},
   "source": [
    "# About: Prerequisites for Literate Computing via Notebooks\n",
    "文芸的機械化の準備 - Notebookでね\n",
    "\n",
    "----\n",
    "\n",
    "This notebook describes enviromental prerequisits in order to utilize the set of notebooks under this directory.\n",
    "Prerequisits cover both for the originate host where notebooks operate and for the target hosts manipulated by notebooks.\n",
    "\n",
    "ここでは本ディレクトリに含まれるNotebookを利用するために必要となる環境条件を明示的に定義している。\n",
    "環境条件には、Notebookを動作させているホストマシンの環境、およびNotebookで操作しようとしている対象ホスト群の環境が含まれる。\n",
    "\n",
    "----\n",
    "\n",
    "自身のNotebook環境にNotebookをコピーした後、読み進めることで条件を満たしているか確認できる。\n",
    "\n",
    "条件には推奨の度合いによりレベルがあり、 **A=必須、B=推奨、C=任意** というレベルを設定してある。\n",
    "\n",
    "このNotebookを確認することで、Notebookで操作しようとしている捜査対象ホスト群が **Seedingが済んだ状態である** ことを確認できる。"
   ]
  },
  {
   "cell_type": "markdown",
   "metadata": {},
   "source": [
    "# Ansibleの設定\n",
    "\n",
    "Notebook環境は、以下の条件を満たしている必要がある。\n",
    "\n",
    "## Ansibleがインストールされていること - A\n",
    "\n",
    "以下のコマンド実行がエラーとならず、インストールされているAnsibleのバージョンが表示されること。"
   ]
  },
  {
   "cell_type": "code",
   "execution_count": 1,
   "metadata": {
    "collapsed": false,
    "scrolled": true
   },
   "outputs": [
    {
     "name": "stdout",
     "output_type": "stream",
     "text": [
      "ansible XXX.XXX.XXX.0\r\n",
      "  config file = /etc/ansible/ansible.cfg\r\n",
      "  configured module search path = Default w/o overrides\r\n"
     ]
    }
   ],
   "source": [
    "!ansible --version"
   ]
  },
  {
   "cell_type": "markdown",
   "metadata": {},
   "source": [
    "ansibleコマンドがインストールされていない場合は、[Installing the Control Machine](http://docs.ansible.com/ansible/intro_installation.html#installing-the-control-machine)を参考に、Ansibleをインストールする。"
   ]
  },
  {
   "cell_type": "markdown",
   "metadata": {},
   "source": [
    "## AnsibleでDefault Moduleが利用可能であること - A\n",
    "\n",
    "DefaultのModuleが使えればよい。特にカスタマイズすべき項目はなし。*...将来は腐っているモジュールは差し替えたい。*"
   ]
  },
  {
   "cell_type": "markdown",
   "metadata": {},
   "source": [
    "# Ansible - Binding対象間の設定\n",
    "\n",
    "このNotebook環境にインストールされているAnsibleは、Binding対象となるホストに対して通信、操作可能な状態になっている必要がある。"
   ]
  },
  {
   "cell_type": "markdown",
   "metadata": {},
   "source": [
    "## Inventoryに指定されたホストに到達可能なこと - A\n",
    "\n",
    "AnsibleのInventoryに指定された全ホストに対して、この環境からアクセス可能であること。\n",
    "\n",
    "- 以下のコマンド実行がエラーもしくは警告(`provided hosts list is empty`)とならないこと\n",
    "- Inventoryに登録されているホストに関して、すべてSUCCESSとなること"
   ]
  },
  {
   "cell_type": "code",
   "execution_count": 5,
   "metadata": {
    "collapsed": true
   },
   "outputs": [],
   "source": [
    "#elasticsearchをインストールするサーバーでansibleコマンドを実行するユーザー\n",
    "USER='ansible'\n",
    "\n",
    "#公開鍵認証を行う場合の秘密鍵のパス\n",
    "KEYPATH='~/.ssh/ansible_id_rsa'"
   ]
  },
  {
   "cell_type": "code",
   "execution_count": 21,
   "metadata": {
    "collapsed": false,
    "scrolled": false
   },
   "outputs": [
    {
     "name": "stdout",
     "output_type": "stream",
     "text": [
      "\u001b[0;32mXXX.XXX.XXX.233 | SUCCESS => {\n",
      "    \"changed\": false, \n",
      "    \"ping\": \"pong\"\n",
      "}\u001b[0m\n",
      "\u001b[0;32mXXX.XXX.XXX.234 | SUCCESS => {\n",
      "    \"changed\": false, \n",
      "    \"ping\": \"pong\"\n",
      "}\u001b[0m\n",
      "\u001b[0;32mXXX.XXX.XXX.232 | SUCCESS => {\n",
      "    \"changed\": false, \n",
      "    \"ping\": \"pong\"\n",
      "}\u001b[0m\n",
      "\u001b[0;32mXXX.XXX.XXX.235 | SUCCESS => {\n",
      "    \"changed\": false, \n",
      "    \"ping\": \"pong\"\n",
      "}\u001b[0m\n",
      "\u001b[0;32mXXX.XXX.XXX.236 | SUCCESS => {\n",
      "    \"changed\": false, \n",
      "    \"ping\": \"pong\"\n",
      "}\u001b[0m\n"
     ]
    }
   ],
   "source": [
    "!ansible all -m ping -i /etc/ansible/hosts -u $USER --private-key=$KEYPATH"
   ]
  },
  {
   "cell_type": "markdown",
   "metadata": {},
   "source": [
    "このNotebook環境のAnsibleから、ホストへの認証方法については特に問わない。\n",
    "\n",
    "> 我々(NIIクラウド運用チーム)の環境ではkeypairによる認証を使ってAnsibleから各ホストにアクセスをしている。\n",
    "> そのため、以下のpublic keyをBinding対象ホストの `~/.ssh/authorized_keys` に設定している。"
   ]
  },
  {
   "cell_type": "raw",
   "metadata": {
    "collapsed": false
   },
   "source": [
    "id_rsa.pub\n",
    "ssh-rsa XXXXXXXXXXXXXXXXXXXXXXXXXXXXXXXXXXXXXXXXXXXXXXXXXXXXXXXXXXXXXXXXXXXXXXXXXXXXXXXXXXXXXXXXXXXXXXXXXXXXXXXXXXXXXXXXXXXXXXXXXXXXXXXXXXXXXXXXXXXXXXXXXXXXXXXXXXXXXXXXXXXXXXXXXXXXXXXXXXXXXXXXXXXXXXXXXXXXXXXXXXXXXXXXXXXXXXXXXXXXXXXXXXXXXXXXXXXXXXXXXXXXXXXXXXXXXXXXXXXXXXXXXXXXXXXXXXXXXXXXXXXXXXXXXXXXXXXXXXXXXXXXXXXXXXXXXXXXXXXXXXXXXXXXXXXXXXXXXXXXXXXXXXXXXXXXXXXXXXXXXXXXXXXXXXXX ansible@XXXXXXXXXXXX"
   ]
  },
  {
   "cell_type": "markdown",
   "metadata": {},
   "source": [
    "## 適切なユーザで認証されること - B\n",
    "\n",
    "Ansibleからホストへの認証は、一般ユーザとして認証されるようにしておく。\n",
    "\n",
    "> 我々(NIIクラウド運用チーム)の環境では、ユーザ ansible を作って対応している。"
   ]
  },
  {
   "cell_type": "code",
   "execution_count": 23,
   "metadata": {
    "collapsed": false,
    "scrolled": false
   },
   "outputs": [
    {
     "name": "stdout",
     "output_type": "stream",
     "text": [
      "\u001b[0;32mXXX.XXX.XXX.232 | SUCCESS | rc=0 >>\n",
      "ansible\n",
      "\u001b[0m\n",
      "\u001b[0;32mXXX.XXX.XXX.234 | SUCCESS | rc=0 >>\n",
      "ansible\n",
      "\u001b[0m\n",
      "\u001b[0;32mXXX.XXX.XXX.233 | SUCCESS | rc=0 >>\n",
      "ansible\n",
      "\u001b[0m\n",
      "\u001b[0;32mXXX.XXX.XXX.236 | SUCCESS | rc=0 >>\n",
      "ansible\n",
      "\u001b[0m\n",
      "\u001b[0;32mXXX.XXX.XXX.235 | SUCCESS | rc=0 >>\n",
      "ansible\n",
      "\u001b[0m\n"
     ]
    }
   ],
   "source": [
    "!ansible -a 'whoami' all -i /etc/ansible/hosts -u $USER --private-key=$KEYPATH"
   ]
  },
  {
   "cell_type": "markdown",
   "metadata": {},
   "source": [
    "## Binding対象ホストにてsudo可能であること - A\n",
    "\n",
    "Inventoryに記述された全ホストに関してbecome, become-userが可能であることを確認しておく。\n",
    "\n",
    "- 以下のコマンド実行がエラーとならないこと\n",
    "- Inventoryに登録されているホストに関して、すべてSUCCESSとなり、結果がrootとなること"
   ]
  },
  {
   "cell_type": "code",
   "execution_count": 24,
   "metadata": {
    "collapsed": false,
    "scrolled": true
   },
   "outputs": [
    {
     "name": "stdout",
     "output_type": "stream",
     "text": [
      "\u001b[0;32mXXX.XXX.XXX.234 | SUCCESS | rc=0 >>\n",
      "root\n",
      "\u001b[0m\n",
      "\u001b[0;32mXXX.XXX.XXX.233 | SUCCESS | rc=0 >>\n",
      "root\n",
      "\u001b[0m\n",
      "\u001b[0;32mXXX.XXX.XXX.232 | SUCCESS | rc=0 >>\n",
      "root\n",
      "\u001b[0m\n",
      "\u001b[0;32mXXX.XXX.XXX.236 | SUCCESS | rc=0 >>\n",
      "root\n",
      "\u001b[0m\n",
      "\u001b[0;32mXXX.XXX.XXX.235 | SUCCESS | rc=0 >>\n",
      "root\n",
      "\u001b[0m\n"
     ]
    }
   ],
   "source": [
    "!ansible --become --become-user root -a 'whoami' all -i /etc/ansible/hosts -u $USER --private-key=$KEYPATH"
   ]
  },
  {
   "cell_type": "markdown",
   "metadata": {},
   "source": [
    "以上の項目が満たされていればOK。"
   ]
  },
  {
   "cell_type": "markdown",
   "metadata": {
    "collapsed": true
   },
   "source": [
    "# Binding対象の設定\n",
    "\n",
    "Binding対象に関して、Notebook + Ansibleによる管理を適用する上で適切な設定になっていることを確認する。"
   ]
  },
  {
   "cell_type": "markdown",
   "metadata": {},
   "source": [
    "## Ansibleによる操作ログが記録されていること - B\n",
    "\n",
    "NotebookからBinding対象の操作をおこなった際に、過去おこなった操作を適切に参照できる必要がある。\n",
    "\n",
    "> 我々の環境では、ansibleによる操作は `/var/log/secure` (CentOSの場合) `/var/log/auth.log` (Ubuntuの場合) に記録されている"
   ]
  },
  {
   "cell_type": "code",
   "execution_count": 26,
   "metadata": {
    "collapsed": false,
    "scrolled": true
   },
   "outputs": [
    {
     "name": "stdout",
     "output_type": "stream",
     "text": [
      "\u001b[0;32mXXX.XXX.XXX.232 | SUCCESS | rc=0 >>\n",
      "/var/log/secure-20161218:Dec 16 18:37:03 cnXXXX0601 sudo: ansible : TTY=pts/0 ; PWD=/home/ansible ; USER=root ; COMMAND=/bin/sh -c echo BECOME-SUCCESS-bwztadatoytjhnwilwliaramwawsccwl; /usr/bin/python /home/ansible/.ansible/tmp/ansible-tmp-1481881023.13-255647589199629/yum.py; rm -rf \"/home/ansible/.ansible/tmp/ansible-tmp-1481881023.13-255647589199629/\" > /dev/null 2>&1\n",
      "/var/log/secure-20161218:Dec 16 18:37:04 cnXXXX0601 sudo: ansible : TTY=pts/0 ; PWD=/home/ansible ; USER=root ; COMMAND=/bin/sh -c echo BECOME-SUCCESS-vpysrxwscjihfbkaudlyrkejuqvctyhf; /usr/bin/python /home/ansible/.ansible/tmp/ansible-tmp-1481881024.57-228453908342457/lineinfile.py; rm -rf \"/home/ansible/.ansible/tmp/ansible-tmp-1481881024.57-228453908342457/\" > /dev/null 2>&1\n",
      "/var/log/secure-20161218:Dec 16 18:37:05 cnXXXX0601 sudo: ansible : TTY=pts/0 ; PWD=/home/ansible ; USER=root ; COMMAND=/bin/sh -c echo BECOME-SUCCESS-nrambptrgnjbhwwgbkvuqxyqinguxfry; /usr/bin/python /home/ansible/.ansible/tmp/ansible-tmp-1481881025.3-44579466314317/lineinfile.py; rm -rf \"/home/ansible/.ansible/tmp/ansible-tmp-1481881025.3-44579466314317/\" > /dev/null 2>&1\n",
      "/var/log/secure-20161218:Dec 16 18:37:39 cnXXXX0601 sudo: ansible : TTY=pts/0 ; PWD=/home/ansible ; USER=root ; COMMAND=/bin/sh -c echo BECOME-SUCCESS-lhxnfddrtzxjtlvjbgpycdglmglidncs; /usr/bin/python /home/ansible/.ansible/tmp/ansible-tmp-1481881059.0-139221953190097/setup.py; rm -rf \"/home/ansible/.ansible/tmp/ansible-tmp-1481881059.0-139221953190097/\" > /dev/null 2>&1\n",
      "/var/log/secure-20161218:Dec 16 18:37:40 cnXXXX0601 sudo: ansible : TTY=pts/0 ; PWD=/home/ansible ; USER=root ; COMMAND=/bin/sh -c echo BECOME-SUCCESS-htdsncacbxuccufuyfzlbgcbvnhkxdqh; /usr/bin/python /home/ansible/.ansible/tmp/ansible-tmp-1481881060.41-64550708838681/yum.py; rm -rf \"/home/ansible/.ansible/tmp/ansible-tmp-1481881060.41-64550708838681/\" > /dev/null 2>&1\n",
      "/var/log/secure-20161218:Dec 16 18:38:59 cnXXXX0601 sudo: ansible : TTY=pts/0 ; PWD=/home/ansible ; USER=root ; COMMAND=/bin/sh -c echo BECOME-SUCCESS-flnugvijjrayobjqqhpouvhmhkhnhida; /usr/bin/python /home/ansible/.ansible/tmp/ansible-tmp-1481881138.99-151474263639273/systemd.py; rm -rf \"/home/ansible/.ansible/tmp/ansible-tmp-1481881138.99-151474263639273/\" > /dev/null 2>&1\n",
      "/var/log/secure-20161218:Dec 16 18:39:41 cnXXXX0601 sudo: ansible : TTY=pts/0 ; PWD=/home/ansible ; USER=root ; COMMAND=/bin/sh -c echo BECOME-SUCCESS-zrczsdhaobcfjadtgsavyrspdaiqiuoh; /usr/bin/python /home/ansible/.ansible/tmp/ansible-tmp-1481881181.6-145074426326995/setup.py; rm -rf \"/home/ansible/.ansible/tmp/ansible-tmp-1481881181.6-145074426326995/\" > /dev/null 2>&1\n",
      "/var/log/secure-20161218:Dec 16 18:39:42 cnXXXX0601 sudo: ansible : TTY=pts/0 ; PWD=/home/ansible ; USER=root ; COMMAND=/bin/sh -c echo BECOME-SUCCESS-nvteilvqqywfagnxxbmlvhbowllhlgwf; /usr/bin/python /home/ansible/.ansible/tmp/ansible-tmp-1481881182.38-253420072003379/yum.py; rm -rf \"/home/ansible/.ansible/tmp/ansible-tmp-1481881182.38-253420072003379/\" > /dev/null 2>&1\n",
      "/var/log/secure-20161218:Dec 16 18:40:06 cnXXXX0601 sudo: ansible : TTY=pts/0 ; PWD=/home/ansible ; USER=root ; COMMAND=/bin/sh -c echo BECOME-SUCCESS-zxhjgmdklftskucypafvnvrnnozgmhod; /usr/bin/python /home/ansible/.ansible/tmp/ansible-tmp-1481881206.75-44471211988690/setup.py; rm -rf \"/home/ansible/.ansible/tmp/ansible-tmp-1481881206.75-44471211988690/\" > /dev/null 2>&1\n",
      "/var/log/secure-20161218:Dec 16 18:40:07 cnXXXX0601 sudo: ansible : TTY=pts/0 ; PWD=/home/ansible ; USER=root ; COMMAND=/bin/sh -c echo BECOME-SUCCESS-aevlvbfinwkfynyxlrbtmfbmwxtdduqw; /usr/bin/python /home/ansible/.ansible/tmp/ansible-tmp-1481881207.58-139844390947026/yum.py; rm -rf \"/home/ansible/.ansible/tmp/ansible-tmp-1481881207.58-139844390947026/\" > /dev/null 2>&1grep: /var/log/anaconda: Is a directory\n",
      "grep: /var/log/audit: Is a directory\n",
      "grep: /var/log/cups: Is a directory\n",
      "grep: /var/log/dodai: Is a directory\n",
      "grep: /var/log/elasticsearch: Is a directory\n",
      "grep: /var/log/logstash: Is a directory\n",
      "grep: /var/log/munin-node: Is a directory\n",
      "grep: /var/log/ntpstats: Is a directory\n",
      "grep: /var/log/ppp: Is a directory\n",
      "grep: /var/log/sa: Is a directory\n",
      "grep: /var/log/tuned: Is a directory\n",
      "\u001b[0m\n",
      "\u001b[0;32mXXX.XXX.XXX.234 | SUCCESS | rc=0 >>\n",
      "/var/log/secure-20161218:Dec 16 16:46:38 cnXXXX1203 sudo: ansible : TTY=pts/0 ; PWD=/home/ansible ; USER=root ; COMMAND=/bin/sh -c echo BECOME-SUCCESS-uemgvcnouegxrnioivezuaoblqtmjtys; /usr/bin/python /home/ansible/.ansible/tmp/ansible-tmp-1481874398.2-97925158013397/systemd.py; rm -rf \"/home/ansible/.ansible/tmp/ansible-tmp-1481874398.2-97925158013397/\" > /dev/null 2>&1\n",
      "/var/log/secure-20161218:Dec 16 16:47:24 cnXXXX1203 sudo: ansible : TTY=pts/0 ; PWD=/home/ansible ; USER=root ; COMMAND=/bin/sh -c echo BECOME-SUCCESS-pkzxpmbncpzsfkcldctpyyufslhixqvb; /usr/bin/python /home/ansible/.ansible/tmp/ansible-tmp-1481874444.12-135075725924814/systemd.py; rm -rf \"/home/ansible/.ansible/tmp/ansible-tmp-1481874444.12-135075725924814/\" > /dev/null 2>&1\n",
      "/var/log/secure-20161218:Dec 16 18:37:00 cnXXXX1203 sudo: ansible : TTY=pts/0 ; PWD=/home/ansible ; USER=root ; COMMAND=/bin/sh -c echo BECOME-SUCCESS-uwqualjbxccyyemnslxclwtlpiyzyrtv; /usr/bin/python /home/ansible/.ansible/tmp/ansible-tmp-1481881020.49-23857568544199/setup.py; rm -rf \"/home/ansible/.ansible/tmp/ansible-tmp-1481881020.49-23857568544199/\" > /dev/null 2>&1\n",
      "/var/log/secure-20161218:Dec 16 18:37:02 cnXXXX1203 sudo: ansible : TTY=pts/0 ; PWD=/home/ansible ; USER=root ; COMMAND=/bin/sh -c echo BECOME-SUCCESS-ghjcuxdrzouqtxyaritfyovnusiwykvp; /usr/bin/python /home/ansible/.ansible/tmp/ansible-tmp-1481881022.14-171070577075370/get_url.py; rm -rf \"/home/ansible/.ansible/tmp/ansible-tmp-1481881022.14-171070577075370/\" > /dev/null 2>&1\n",
      "/var/log/secure-20161218:Dec 16 18:37:03 cnXXXX1203 sudo: ansible : TTY=pts/0 ; PWD=/home/ansible ; USER=root ; COMMAND=/bin/sh -c echo BECOME-SUCCESS-dmbvopwsrdopsnznwtkytjmogyvfdfax; /usr/bin/python /home/ansible/.ansible/tmp/ansible-tmp-1481881023.13-111805382190199/yum.py; rm -rf \"/home/ansible/.ansible/tmp/ansible-tmp-1481881023.13-111805382190199/\" > /dev/null 2>&1\n",
      "/var/log/secure-20161218:Dec 16 18:37:04 cnXXXX1203 sudo: ansible : TTY=pts/0 ; PWD=/home/ansible ; USER=root ; COMMAND=/bin/sh -c echo BECOME-SUCCESS-zqxchuaccmnofebkzryzydeueschyznb; /usr/bin/python /home/ansible/.ansible/tmp/ansible-tmp-1481881024.57-250969949300775/lineinfile.py; rm -rf \"/home/ansible/.ansible/tmp/ansible-tmp-1481881024.57-250969949300775/\" > /dev/null 2>&1\n",
      "/var/log/secure-20161218:Dec 16 18:37:05 cnXXXX1203 sudo: ansible : TTY=pts/0 ; PWD=/home/ansible ; USER=root ; COMMAND=/bin/sh -c echo BECOME-SUCCESS-tooxrbhpjqhmdujedptirqfoyhayfgmm; /usr/bin/python /home/ansible/.ansible/tmp/ansible-tmp-1481881025.31-200394752781051/lineinfile.py; rm -rf \"/home/ansible/.ansible/tmp/ansible-tmp-1481881025.31-200394752781051/\" > /dev/null 2>&1\n",
      "/var/log/secure-20161218:Dec 16 18:37:39 cnXXXX1203 sudo: ansible : TTY=pts/0 ; PWD=/home/ansible ; USER=root ; COMMAND=/bin/sh -c echo BECOME-SUCCESS-xtzvuyjohbxtyoyktebzutetoqzarevh; /usr/bin/python /home/ansible/.ansible/tmp/ansible-tmp-1481881059.0-133658066145130/setup.py; rm -rf \"/home/ansible/.ansible/tmp/ansible-tmp-1481881059.0-133658066145130/\" > /dev/null 2>&1\n",
      "/var/log/secure-20161218:Dec 16 18:37:40 cnXXXX1203 sudo: ansible : TTY=pts/0 ; PWD=/home/ansible ; USER=root ; COMMAND=/bin/sh -c echo BECOME-SUCCESS-pedzvuqehunrruvtywqhmwignqtzaclo; /usr/bin/python /home/ansible/.ansible/tmp/ansible-tmp-1481881060.41-216331574570769/yum.py; rm -rf \"/home/ansible/.ansible/tmp/ansible-tmp-1481881060.41-216331574570769/\" > /dev/null 2>&1\n",
      "/var/log/secure-20161218:Dec 16 18:38:59 cnXXXX1203 sudo: ansible : TTY=pts/0 ; PWD=/home/ansible ; USER=root ; COMMAND=/bin/sh -c echo BECOME-SUCCESS-lmbucqdkuuqhipygztqghobczhbovrpe; /usr/bin/python /home/ansible/.ansible/tmp/ansible-tmp-1481881138.99-23773465100269/systemd.py; rm -rf \"/home/ansible/.ansible/tmp/ansible-tmp-1481881138.99-23773465100269/\" > /dev/null 2>&1grep: /var/log/anaconda: Is a directory\n",
      "grep: /var/log/audit: Is a directory\n",
      "grep: /var/log/cups: Is a directory\n",
      "grep: /var/log/dodai: Is a directory\n",
      "grep: /var/log/elasticsearch: Is a directory\n",
      "grep: /var/log/munin-node: Is a directory\n",
      "grep: /var/log/ntpstats: Is a directory\n",
      "grep: /var/log/ppp: Is a directory\n",
      "grep: /var/log/sa: Is a directory\n",
      "grep: /var/log/tuned: Is a directory\n",
      "\u001b[0m\n",
      "\u001b[0;32mXXX.XXX.XXX.233 | SUCCESS | rc=0 >>\n",
      "/var/log/secure-20161218:Dec 16 16:46:38 cnXXXX0802 sudo: ansible : TTY=pts/1 ; PWD=/home/ansible ; USER=root ; COMMAND=/bin/sh -c echo BECOME-SUCCESS-oitchhwfxdlpaqwksjiahmimkqnsuoos; /usr/bin/python /home/ansible/.ansible/tmp/ansible-tmp-1481874398.2-179245227209175/systemd.py; rm -rf \"/home/ansible/.ansible/tmp/ansible-tmp-1481874398.2-179245227209175/\" > /dev/null 2>&1\n",
      "/var/log/secure-20161218:Dec 16 16:47:24 cnXXXX0802 sudo: ansible : TTY=pts/1 ; PWD=/home/ansible ; USER=root ; COMMAND=/bin/sh -c echo BECOME-SUCCESS-gpovdlkealfwtbxhqxqkasyyykcxunpq; /usr/bin/python /home/ansible/.ansible/tmp/ansible-tmp-1481874444.12-216089183058600/systemd.py; rm -rf \"/home/ansible/.ansible/tmp/ansible-tmp-1481874444.12-216089183058600/\" > /dev/null 2>&1\n",
      "/var/log/secure-20161218:Dec 16 18:37:00 cnXXXX0802 sudo: ansible : TTY=pts/0 ; PWD=/home/ansible ; USER=root ; COMMAND=/bin/sh -c echo BECOME-SUCCESS-sglywscbbnsgfbajuofqvdwdkywcoien; /usr/bin/python /home/ansible/.ansible/tmp/ansible-tmp-1481881020.49-64249364869802/setup.py; rm -rf \"/home/ansible/.ansible/tmp/ansible-tmp-1481881020.49-64249364869802/\" > /dev/null 2>&1\n",
      "/var/log/secure-20161218:Dec 16 18:37:02 cnXXXX0802 sudo: ansible : TTY=pts/0 ; PWD=/home/ansible ; USER=root ; COMMAND=/bin/sh -c echo BECOME-SUCCESS-uzchmblbfmoxkrfggtwyctwybxrxuelp; /usr/bin/python /home/ansible/.ansible/tmp/ansible-tmp-1481881022.14-183044307039997/get_url.py; rm -rf \"/home/ansible/.ansible/tmp/ansible-tmp-1481881022.14-183044307039997/\" > /dev/null 2>&1\n",
      "/var/log/secure-20161218:Dec 16 18:37:03 cnXXXX0802 sudo: ansible : TTY=pts/0 ; PWD=/home/ansible ; USER=root ; COMMAND=/bin/sh -c echo BECOME-SUCCESS-vdnuazseccfxygorcebgknxxsalmjtqd; /usr/bin/python /home/ansible/.ansible/tmp/ansible-tmp-1481881023.13-128268519118550/yum.py; rm -rf \"/home/ansible/.ansible/tmp/ansible-tmp-1481881023.13-128268519118550/\" > /dev/null 2>&1\n",
      "/var/log/secure-20161218:Dec 16 18:37:04 cnXXXX0802 sudo: ansible : TTY=pts/0 ; PWD=/home/ansible ; USER=root ; COMMAND=/bin/sh -c echo BECOME-SUCCESS-oiixialcizouospkpsmjhtscqoqizgfh; /usr/bin/python /home/ansible/.ansible/tmp/ansible-tmp-1481881024.57-118077424837675/lineinfile.py; rm -rf \"/home/ansible/.ansible/tmp/ansible-tmp-1481881024.57-118077424837675/\" > /dev/null 2>&1\n",
      "/var/log/secure-20161218:Dec 16 18:37:05 cnXXXX0802 sudo: ansible : TTY=pts/0 ; PWD=/home/ansible ; USER=root ; COMMAND=/bin/sh -c echo BECOME-SUCCESS-isuxytmiakklhqocbtrnueuplhqhxxgy; /usr/bin/python /home/ansible/.ansible/tmp/ansible-tmp-1481881025.31-38734207401871/lineinfile.py; rm -rf \"/home/ansible/.ansible/tmp/ansible-tmp-1481881025.31-38734207401871/\" > /dev/null 2>&1\n",
      "/var/log/secure-20161218:Dec 16 18:37:39 cnXXXX0802 sudo: ansible : TTY=pts/0 ; PWD=/home/ansible ; USER=root ; COMMAND=/bin/sh -c echo BECOME-SUCCESS-zoqxlfrinsleblcgmhfydkxeqbpqwwks; /usr/bin/python /home/ansible/.ansible/tmp/ansible-tmp-1481881059.0-20435270461484/setup.py; rm -rf \"/home/ansible/.ansible/tmp/ansible-tmp-1481881059.0-20435270461484/\" > /dev/null 2>&1\n",
      "/var/log/secure-20161218:Dec 16 18:37:40 cnXXXX0802 sudo: ansible : TTY=pts/0 ; PWD=/home/ansible ; USER=root ; COMMAND=/bin/sh -c echo BECOME-SUCCESS-azduiinbvvvmnonkkfyjfoyclydaxryk; /usr/bin/python /home/ansible/.ansible/tmp/ansible-tmp-1481881060.41-3806266667475/yum.py; rm -rf \"/home/ansible/.ansible/tmp/ansible-tmp-1481881060.41-3806266667475/\" > /dev/null 2>&1\n",
      "/var/log/secure-20161218:Dec 16 18:38:59 cnXXXX0802 sudo: ansible : TTY=pts/0 ; PWD=/home/ansible ; USER=root ; COMMAND=/bin/sh -c echo BECOME-SUCCESS-aozxodlvamloqpalchcqwubuabmamuil; /usr/bin/python /home/ansible/.ansible/tmp/ansible-tmp-1481881138.99-274698715907584/systemd.py; rm -rf \"/home/ansible/.ansible/tmp/ansible-tmp-1481881138.99-274698715907584/\" > /dev/null 2>&1grep: /var/log/anaconda: Is a directory\n",
      "grep: /var/log/audit: Is a directory\n",
      "grep: /var/log/cups: Is a directory\n",
      "grep: /var/log/dodai: Is a directory\n",
      "grep: /var/log/elasticsearch: Is a directory\n",
      "grep: /var/log/munin-node: Is a directory\n",
      "grep: /var/log/ntpstats: Is a directory\n",
      "grep: /var/log/ppp: Is a directory\n",
      "grep: /var/log/sa: Is a directory\n",
      "grep: /var/log/tuned: Is a directory\n",
      "\u001b[0m\n",
      "\u001b[0;32mXXX.XXX.XXX.235 | SUCCESS | rc=0 >>\n",
      "/var/log/secure-20161218:Dec 16 16:46:38 cnXXXX1204 sudo: ansible : TTY=pts/0 ; PWD=/home/ansible ; USER=root ; COMMAND=/bin/sh -c echo BECOME-SUCCESS-zzvsusmpxmwfelfxgtatyqjipzfvzsct; /usr/bin/python /home/ansible/.ansible/tmp/ansible-tmp-1481874398.59-271679866118010/systemd.py; rm -rf \"/home/ansible/.ansible/tmp/ansible-tmp-1481874398.59-271679866118010/\" > /dev/null 2>&1\n",
      "/var/log/secure-20161218:Dec 16 16:47:24 cnXXXX1204 sudo: ansible : TTY=pts/0 ; PWD=/home/ansible ; USER=root ; COMMAND=/bin/sh -c echo BECOME-SUCCESS-fpmtrjjpbvpdoxlvsdjtvoekxkimhuni; /usr/bin/python /home/ansible/.ansible/tmp/ansible-tmp-1481874444.52-237586191119957/systemd.py; rm -rf \"/home/ansible/.ansible/tmp/ansible-tmp-1481874444.52-237586191119957/\" > /dev/null 2>&1\n",
      "/var/log/secure-20161218:Dec 16 18:37:01 cnXXXX1204 sudo: ansible : TTY=pts/0 ; PWD=/home/ansible ; USER=root ; COMMAND=/bin/sh -c echo BECOME-SUCCESS-nlwsphluzxybutbzufbmwszoxgrzckby; /usr/bin/python /home/ansible/.ansible/tmp/ansible-tmp-1481881021.22-83042372532669/setup.py; rm -rf \"/home/ansible/.ansible/tmp/ansible-tmp-1481881021.22-83042372532669/\" > /dev/null 2>&1\n",
      "/var/log/secure-20161218:Dec 16 18:37:02 cnXXXX1204 sudo: ansible : TTY=pts/0 ; PWD=/home/ansible ; USER=root ; COMMAND=/bin/sh -c echo BECOME-SUCCESS-jtewzfvnndftthvkhtcwrdfcfmybuzop; /usr/bin/python /home/ansible/.ansible/tmp/ansible-tmp-1481881022.53-111201083586385/get_url.py; rm -rf \"/home/ansible/.ansible/tmp/ansible-tmp-1481881022.53-111201083586385/\" > /dev/null 2>&1\n",
      "/var/log/secure-20161218:Dec 16 18:37:03 cnXXXX1204 sudo: ansible : TTY=pts/0 ; PWD=/home/ansible ; USER=root ; COMMAND=/bin/sh -c echo BECOME-SUCCESS-nhcdswolakgxgtlpgkcddrwrfiuevntf; /usr/bin/python /home/ansible/.ansible/tmp/ansible-tmp-1481881023.76-197880138607712/yum.py; rm -rf \"/home/ansible/.ansible/tmp/ansible-tmp-1481881023.76-197880138607712/\" > /dev/null 2>&1\n",
      "/var/log/secure-20161218:Dec 16 18:37:05 cnXXXX1204 sudo: ansible : TTY=pts/0 ; PWD=/home/ansible ; USER=root ; COMMAND=/bin/sh -c echo BECOME-SUCCESS-qhggnynjdmtqlwmsssmnoctcxyskxlle; /usr/bin/python /home/ansible/.ansible/tmp/ansible-tmp-1481881024.92-232589006391793/lineinfile.py; rm -rf \"/home/ansible/.ansible/tmp/ansible-tmp-1481881024.92-232589006391793/\" > /dev/null 2>&1\n",
      "/var/log/secure-20161218:Dec 16 18:37:05 cnXXXX1204 sudo: ansible : TTY=pts/0 ; PWD=/home/ansible ; USER=root ; COMMAND=/bin/sh -c echo BECOME-SUCCESS-btdlkvugpldaciczawaafndgezqlbhbs; /usr/bin/python /home/ansible/.ansible/tmp/ansible-tmp-1481881025.67-206248527081772/lineinfile.py; rm -rf \"/home/ansible/.ansible/tmp/ansible-tmp-1481881025.67-206248527081772/\" > /dev/null 2>&1\n",
      "/var/log/secure-20161218:Dec 16 18:37:39 cnXXXX1204 sudo: ansible : TTY=pts/0 ; PWD=/home/ansible ; USER=root ; COMMAND=/bin/sh -c echo BECOME-SUCCESS-oxgdsemrbvsfuzjxstsxnvhjbeywsjsm; /usr/bin/python /home/ansible/.ansible/tmp/ansible-tmp-1481881059.61-14631329762727/setup.py; rm -rf \"/home/ansible/.ansible/tmp/ansible-tmp-1481881059.61-14631329762727/\" > /dev/null 2>&1\n",
      "/var/log/secure-20161218:Dec 16 18:37:49 cnXXXX1204 sudo: ansible : TTY=pts/0 ; PWD=/home/ansible ; USER=root ; COMMAND=/bin/sh -c echo BECOME-SUCCESS-tzlpbqgbgsrdzodgoxtedgkcsztkwlse; /usr/bin/python /home/ansible/.ansible/tmp/ansible-tmp-1481881069.71-58081201608756/yum.py; rm -rf \"/home/ansible/.ansible/tmp/ansible-tmp-1481881069.71-58081201608756/\" > /dev/null 2>&1\n",
      "/var/log/secure-20161218:Dec 16 18:38:59 cnXXXX1204 sudo: ansible : TTY=pts/0 ; PWD=/home/ansible ; USER=root ; COMMAND=/bin/sh -c echo BECOME-SUCCESS-qudwarerawedjvpihlhwkxidpgkhgyud; /usr/bin/python /home/ansible/.ansible/tmp/ansible-tmp-1481881139.38-191759241918691/systemd.py; rm -rf \"/home/ansible/.ansible/tmp/ansible-tmp-1481881139.38-191759241918691/\" > /dev/null 2>&1grep: /var/log/anaconda: Is a directory\n",
      "grep: /var/log/audit: Is a directory\n",
      "grep: /var/log/cups: Is a directory\n",
      "grep: /var/log/dodai: Is a directory\n",
      "grep: /var/log/elasticsearch: Is a directory\n",
      "grep: /var/log/munin-node: Is a directory\n",
      "grep: /var/log/ntpstats: Is a directory\n",
      "grep: /var/log/ppp: Is a directory\n",
      "grep: /var/log/sa: Is a directory\n",
      "grep: /var/log/tuned: Is a directory\n",
      "\u001b[0m\n",
      "\u001b[0;32mXXX.XXX.XXX.236 | SUCCESS | rc=0 >>\n",
      "/var/log/secure-20161219:Dec 16 16:46:38 cnXXXX0402 sudo: ansible : TTY=pts/0 ; PWD=/home/ansible ; USER=root ; COMMAND=/bin/sh -c echo BECOME-SUCCESS-qjhzuufecgxxhwvusmvnfwuqmhmmofjg; /usr/bin/python /home/ansible/.ansible/tmp/ansible-tmp-1481874398.61-209333349977316/systemd.py; rm -rf \"/home/ansible/.ansible/tmp/ansible-tmp-1481874398.61-209333349977316/\" > /dev/null 2>&1\n",
      "/var/log/secure-20161219:Dec 16 16:47:24 cnXXXX0402 sudo: ansible : TTY=pts/0 ; PWD=/home/ansible ; USER=root ; COMMAND=/bin/sh -c echo BECOME-SUCCESS-unirzqeylwszdmydbsuqvpmexgogvofj; /usr/bin/python /home/ansible/.ansible/tmp/ansible-tmp-1481874444.53-17385796593693/systemd.py; rm -rf \"/home/ansible/.ansible/tmp/ansible-tmp-1481874444.53-17385796593693/\" > /dev/null 2>&1\n",
      "/var/log/secure-20161219:Dec 16 18:37:01 cnXXXX0402 sudo: ansible : TTY=pts/0 ; PWD=/home/ansible ; USER=root ; COMMAND=/bin/sh -c echo BECOME-SUCCESS-dlmtnmkdcxjxsrpkbhjicvbqbxkagjcc; /usr/bin/python /home/ansible/.ansible/tmp/ansible-tmp-1481881021.23-242704044344380/setup.py; rm -rf \"/home/ansible/.ansible/tmp/ansible-tmp-1481881021.23-242704044344380/\" > /dev/null 2>&1\n",
      "/var/log/secure-20161219:Dec 16 18:37:02 cnXXXX0402 sudo: ansible : TTY=pts/0 ; PWD=/home/ansible ; USER=root ; COMMAND=/bin/sh -c echo BECOME-SUCCESS-dloukowabafnfhtiaiwnidlmokquuntc; /usr/bin/python /home/ansible/.ansible/tmp/ansible-tmp-1481881022.55-274526158025499/get_url.py; rm -rf \"/home/ansible/.ansible/tmp/ansible-tmp-1481881022.55-274526158025499/\" > /dev/null 2>&1\n",
      "/var/log/secure-20161219:Dec 16 18:37:03 cnXXXX0402 sudo: ansible : TTY=pts/0 ; PWD=/home/ansible ; USER=root ; COMMAND=/bin/sh -c echo BECOME-SUCCESS-pcmyqowvqlozvudijolgnzidwncisaee; /usr/bin/python /home/ansible/.ansible/tmp/ansible-tmp-1481881023.77-228657934057881/yum.py; rm -rf \"/home/ansible/.ansible/tmp/ansible-tmp-1481881023.77-228657934057881/\" > /dev/null 2>&1\n",
      "/var/log/secure-20161219:Dec 16 18:37:05 cnXXXX0402 sudo: ansible : TTY=pts/0 ; PWD=/home/ansible ; USER=root ; COMMAND=/bin/sh -c echo BECOME-SUCCESS-xlnnevlqrsqcnlixalbshavjgsafpool; /usr/bin/python /home/ansible/.ansible/tmp/ansible-tmp-1481881024.94-81851733160666/lineinfile.py; rm -rf \"/home/ansible/.ansible/tmp/ansible-tmp-1481881024.94-81851733160666/\" > /dev/null 2>&1\n",
      "/var/log/secure-20161219:Dec 16 18:37:05 cnXXXX0402 sudo: ansible : TTY=pts/0 ; PWD=/home/ansible ; USER=root ; COMMAND=/bin/sh -c echo BECOME-SUCCESS-zlxlyoegprrnkzxcdpkdwgngrddckjda; /usr/bin/python /home/ansible/.ansible/tmp/ansible-tmp-1481881025.68-185141170614057/lineinfile.py; rm -rf \"/home/ansible/.ansible/tmp/ansible-tmp-1481881025.68-185141170614057/\" > /dev/null 2>&1\n",
      "/var/log/secure-20161219:Dec 16 18:37:39 cnXXXX0402 sudo: ansible : TTY=pts/0 ; PWD=/home/ansible ; USER=root ; COMMAND=/bin/sh -c echo BECOME-SUCCESS-godwvkgdnrtpvrmwiduzpgkluzqdxxaq; /usr/bin/python /home/ansible/.ansible/tmp/ansible-tmp-1481881059.62-158623429862329/setup.py; rm -rf \"/home/ansible/.ansible/tmp/ansible-tmp-1481881059.62-158623429862329/\" > /dev/null 2>&1\n",
      "/var/log/secure-20161219:Dec 16 18:37:50 cnXXXX0402 sudo: ansible : TTY=pts/0 ; PWD=/home/ansible ; USER=root ; COMMAND=/bin/sh -c echo BECOME-SUCCESS-miyctruseegwbcijywanrhcjzpownybu; /usr/bin/python /home/ansible/.ansible/tmp/ansible-tmp-1481881070.62-108477295246321/yum.py; rm -rf \"/home/ansible/.ansible/tmp/ansible-tmp-1481881070.62-108477295246321/\" > /dev/null 2>&1\n",
      "/var/log/secure-20161219:Dec 16 18:38:59 cnXXXX0402 sudo: ansible : TTY=pts/0 ; PWD=/home/ansible ; USER=root ; COMMAND=/bin/sh -c echo BECOME-SUCCESS-wbcamrjpuhvqzxrwsqudxnbwlkxlcwom; /usr/bin/python /home/ansible/.ansible/tmp/ansible-tmp-1481881139.4-49612245095699/systemd.py; rm -rf \"/home/ansible/.ansible/tmp/ansible-tmp-1481881139.4-49612245095699/\" > /dev/null 2>&1grep: /var/log/anaconda: Is a directory\n",
      "grep: /var/log/audit: Is a directory\n",
      "grep: /var/log/cups: Is a directory\n",
      "grep: /var/log/dodai: Is a directory\n",
      "grep: /var/log/elasticsearch: Is a directory\n",
      "grep: /var/log/munin-node: Is a directory\n",
      "grep: /var/log/ntpstats: Is a directory\n",
      "grep: /var/log/ppp: Is a directory\n",
      "grep: /var/log/sa: Is a directory\n",
      "grep: /var/log/tuned: Is a directory\n",
      "\u001b[0m\n"
     ]
    }
   ],
   "source": [
    "!ansible -b -m shell -a 'grep ansible- /var/log/* | tail' all -i /etc/ansible/hosts -u $USER --private-key=$KEYPATH"
   ]
  },
  {
   "cell_type": "markdown",
   "metadata": {},
   "source": [
    "### ログファイルが適切にrotateされていること - B\n",
    "\n",
    "操作の記録がディスクを圧迫しないことを確認しておく。ログは短期的な(Ansibleによる)操作の記録として参照可能にしておくべきものという前提。長期的には、Notebookを証跡としてアーカイブしておくべき。"
   ]
  },
  {
   "cell_type": "markdown",
   "metadata": {},
   "source": [
    "## 共通の方法でホストの状況が確認できること - C\n",
    "\n",
    "Notebookによる操作実施時は、適当なチェックポイントごとに状況を記録することで、後戻りしたくなった時に戻れる(戻ったことが確認できる)ようにする。"
   ]
  },
  {
   "cell_type": "markdown",
   "metadata": {},
   "source": [
    "### OSのバージョン確認\n",
    "\n",
    "lsb_releaseを使う。"
   ]
  },
  {
   "cell_type": "code",
   "execution_count": 27,
   "metadata": {
    "collapsed": false,
    "scrolled": true
   },
   "outputs": [
    {
     "name": "stdout",
     "output_type": "stream",
     "text": [
      "\u001b[0;32mXXX.XXX.XXX.233 | SUCCESS | rc=0 >>\n",
      "LSB Version:\t:core-4.1-amd64:core-4.1-noarch:cxx-4.1-amd64:cxx-4.1-noarch:desktop-4.1-amd64:desktop-4.1-noarch:languages-4.1-amd64:languages-4.1-noarch:printing-4.1-amd64:printing-4.1-noarch\n",
      "Distributor ID:\tCentOS\n",
      "Description:\tCentOS Linux release 7.2.1511 (Core) \n",
      "Release:\t7.2.1511\n",
      "Codename:\tCore\n",
      "\u001b[0m\n",
      "\u001b[0;32mXXX.XXX.XXX.234 | SUCCESS | rc=0 >>\n",
      "LSB Version:\t:core-4.1-amd64:core-4.1-noarch:cxx-4.1-amd64:cxx-4.1-noarch:desktop-4.1-amd64:desktop-4.1-noarch:languages-4.1-amd64:languages-4.1-noarch:printing-4.1-amd64:printing-4.1-noarch\n",
      "Distributor ID:\tCentOS\n",
      "Description:\tCentOS Linux release 7.2.1511 (Core) \n",
      "Release:\t7.2.1511\n",
      "Codename:\tCore\n",
      "\u001b[0m\n",
      "\u001b[0;32mXXX.XXX.XXX.232 | SUCCESS | rc=0 >>\n",
      "LSB Version:\t:core-4.1-amd64:core-4.1-noarch:cxx-4.1-amd64:cxx-4.1-noarch:desktop-4.1-amd64:desktop-4.1-noarch:languages-4.1-amd64:languages-4.1-noarch:printing-4.1-amd64:printing-4.1-noarch\n",
      "Distributor ID:\tCentOS\n",
      "Description:\tCentOS Linux release 7.3.1611 (Core) \n",
      "Release:\t7.3.1611\n",
      "Codename:\tCore\n",
      "\u001b[0m\n",
      "\u001b[0;32mXXX.XXX.XXX.235 | SUCCESS | rc=0 >>\n",
      "LSB Version:\t:core-4.1-amd64:core-4.1-noarch:cxx-4.1-amd64:cxx-4.1-noarch:desktop-4.1-amd64:desktop-4.1-noarch:languages-4.1-amd64:languages-4.1-noarch:printing-4.1-amd64:printing-4.1-noarch\n",
      "Distributor ID:\tCentOS\n",
      "Description:\tCentOS Linux release 7.2.1511 (Core) \n",
      "Release:\t7.2.1511\n",
      "Codename:\tCore\n",
      "\u001b[0m\n",
      "\u001b[0;32mXXX.XXX.XXX.236 | SUCCESS | rc=0 >>\n",
      "LSB Version:\t:core-4.1-amd64:core-4.1-noarch:cxx-4.1-amd64:cxx-4.1-noarch:desktop-4.1-amd64:desktop-4.1-noarch:languages-4.1-amd64:languages-4.1-noarch:printing-4.1-amd64:printing-4.1-noarch\n",
      "Distributor ID:\tCentOS\n",
      "Description:\tCentOS Linux release 7.2.1511 (Core) \n",
      "Release:\t7.2.1511\n",
      "Codename:\tCore\n",
      "\u001b[0m\n"
     ]
    }
   ],
   "source": [
    "!ansible -a 'lsb_release -a' all -i /etc/ansible/hosts -u $USER --private-key=$KEYPATH"
   ]
  },
  {
   "cell_type": "markdown",
   "metadata": {},
   "source": [
    "## リソースの使用状況変化をモニタリングしていること - C\n",
    "\n",
    "Binding対象を操作した際に、予期せぬディスク使用量増加やサービス異常終了に気づけるよう、状況変化をモニタリングしていることが望ましい。"
   ]
  },
  {
   "cell_type": "markdown",
   "metadata": {},
   "source": [
    "## カーネルパラメータ設定"
   ]
  },
  {
   "cell_type": "markdown",
   "metadata": {},
   "source": [
    "vm.max_map_countの値を\"262144\"に設定する。\n",
    "\n",
    "詳細はElasticsearch Referenceの[Virtual memory](https://www.elastic.co/guide/en/elasticsearch/reference/5.0/vm-max-map-count.html)を参照してください。"
   ]
  },
  {
   "cell_type": "code",
   "execution_count": 13,
   "metadata": {
    "collapsed": false,
    "scrolled": true
   },
   "outputs": [
    {
     "name": "stdout",
     "output_type": "stream",
     "text": [
      "\n",
      "PLAY [all] *********************************************************************\n",
      "\n",
      "TASK [setup] *******************************************************************\n",
      "\u001b[0;32mok: [XXX.XXX.XXX.231]\u001b[0m\n",
      "\n",
      "TASK [Set vm.max_map_count to 262144 in /etc/sysctl.conf] **********************\n",
      "\u001b[0;33mchanged: [XXX.XXX.XXX.231]\u001b[0m\n",
      "\n",
      "PLAY RECAP *********************************************************************\n",
      "\u001b[0;33mXXX.XXX.XXX.231\u001b[0m              : \u001b[0;32mok=2   \u001b[0m \u001b[0;33mchanged=1   \u001b[0m unreachable=0    failed=0   \n",
      "\n"
     ]
    }
   ],
   "source": [
    "!ansible-playbook -i /etc/ansible/hosts playbooks/set_kernelparameter.yml -u $USER --private-key=$KEYPATH"
   ]
  },
  {
   "cell_type": "markdown",
   "metadata": {},
   "source": [
    "## 使用portの通信許可設定"
   ]
  },
  {
   "cell_type": "markdown",
   "metadata": {},
   "source": [
    "Elasticsearchで使用する、9200,9300ポートの通信を許可する。  \n",
    "通信を許可するIPアドレスは、ご自身の環境に合わせてplaybooksディレクトリにある、([set_iptables-rule.yml](playbooks/set_iptables-rule.yml))を編集してください。"
   ]
  },
  {
   "cell_type": "code",
   "execution_count": 29,
   "metadata": {
    "collapsed": false,
    "scrolled": true
   },
   "outputs": [
    {
     "name": "stdout",
     "output_type": "stream",
     "text": [
      "\n",
      "PLAY [all] *********************************************************************\n",
      "\n",
      "TASK [setup] *******************************************************************\n",
      "\u001b[0;32mok: [XXX.XXX.XXX.234]\u001b[0m\n",
      "\u001b[0;32mok: [XXX.XXX.XXX.232]\u001b[0m\n",
      "\u001b[0;32mok: [XXX.XXX.XXX.233]\u001b[0m\n",
      "\u001b[0;32mok: [XXX.XXX.XXX.235]\u001b[0m\n",
      "\u001b[0;32mok: [XXX.XXX.XXX.236]\u001b[0m\n",
      "\n",
      "TASK [iptables] ****************************************************************\n",
      "\u001b[0;32mok: [XXX.XXX.XXX.232]\u001b[0m\n",
      "\u001b[0;32mok: [XXX.XXX.XXX.234]\u001b[0m\n",
      "\u001b[0;32mok: [XXX.XXX.XXX.233]\u001b[0m\n",
      "\u001b[0;32mok: [XXX.XXX.XXX.236]\u001b[0m\n",
      "\u001b[0;32mok: [XXX.XXX.XXX.235]\u001b[0m\n",
      "\n",
      "TASK [iptables] ****************************************************************\n",
      "\u001b[0;32mok: [XXX.XXX.XXX.232]\u001b[0m\n",
      "\u001b[0;32mok: [XXX.XXX.XXX.234]\u001b[0m\n",
      "\u001b[0;32mok: [XXX.XXX.XXX.233]\u001b[0m\n",
      "\u001b[0;32mok: [XXX.XXX.XXX.235]\u001b[0m\n",
      "\u001b[0;32mok: [XXX.XXX.XXX.236]\u001b[0m\n",
      "\n",
      "PLAY RECAP *********************************************************************\n",
      "\u001b[0;32mXXX.XXX.XXX.232\u001b[0m              : \u001b[0;32mok=3   \u001b[0m changed=0    unreachable=0    failed=0   \n",
      "\u001b[0;32mXXX.XXX.XXX.233\u001b[0m              : \u001b[0;32mok=3   \u001b[0m changed=0    unreachable=0    failed=0   \n",
      "\u001b[0;32mXXX.XXX.XXX.234\u001b[0m              : \u001b[0;32mok=3   \u001b[0m changed=0    unreachable=0    failed=0   \n",
      "\u001b[0;32mXXX.XXX.XXX.235\u001b[0m              : \u001b[0;32mok=3   \u001b[0m changed=0    unreachable=0    failed=0   \n",
      "\u001b[0;32mXXX.XXX.XXX.236\u001b[0m              : \u001b[0;32mok=3   \u001b[0m changed=0    unreachable=0    failed=0   \n",
      "\n"
     ]
    }
   ],
   "source": [
    "!ansible-playbook -i /etc/ansible/hosts playbooks/set_iptables-rule.yml -u $USER --private-key=$KEYPATH"
   ]
  }
 ],
 "metadata": {
  "anaconda-cloud": {},
  "kernelspec": {
   "display_name": "Python 2",
   "language": "python",
   "name": "python2"
  },
  "language_info": {
   "codemirror_mode": {
    "name": "ipython",
    "version": 2
   },
   "file_extension": ".py",
   "mimetype": "text/x-python",
   "name": "python",
   "nbconvert_exporter": "python",
   "pygments_lexer": "ipython2",
   "version": "2.7.9"
  },
  "toc": {
   "colors": {
    "hover_highlight": "#DAA520",
    "running_highlight": "#FF0000",
    "selected_highlight": "#FFD700"
   },
   "moveMenuLeft": true,
   "nav_menu": {
    "height": "353px",
    "width": "252px"
   },
   "navigate_menu": true,
   "number_sections": true,
   "sideBar": true,
   "threshold": 4,
   "toc_cell": false,
   "toc_number_sections": true,
   "toc_position": {
    "height": "692px",
    "left": "0px",
    "right": "1442px",
    "top": "106px",
    "width": "212px"
   },
   "toc_section_display": "block",
   "toc_threshold": 6,
   "toc_window_display": true
  }
 },
 "nbformat": 4,
 "nbformat_minor": 0
}
