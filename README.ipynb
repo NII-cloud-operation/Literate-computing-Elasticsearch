{
 "cells": [
  {
   "cell_type": "markdown",
   "metadata": {
    "collapsed": true,
    "lc_cell_meme": {
     "current": "762cadde-1537-11e7-b31a-0242ac12000d",
     "next": "762cb018-1537-11e7-b31a-0242ac12000d",
     "previous": null
    },
    "nbpresent": {
     "id": "40314b59-e8b3-4aad-a218-07584ba2b71d"
    },
    "run_control": {
     "frozen": false,
     "read_only": false
    }
   },
   "source": [
    "# About: Notebooks for Elasticsearch README\n",
    "\n",
    "Literate Computing for Reproducible Infrastructure: Elasticsearch運用をJupyter + Ansibleでおこなう際のお手本Notebookです。\n",
    "\n",
    "このリポジトリでは、Elasticsearch( https://www.elastic.co/jp/products/elasticsearch )の環境を構築し、運用するためのNotebook例を紹介しています。\n",
    "\n",
    "**なお、これらのNotebookはNIIクラウドチーム内で行っている作業の考え方を示すためのもので、環境によってはそのままでは動作しないものもあります。**\n",
    "\n",
    "----\n",
    "\n",
    "[![Creative Commons License](https://i.creativecommons.org/l/by/4.0/88x31.png)](http://creativecommons.org/licenses/by/4.0/)\n",
    "\n",
    "Literate-computing-Elasticsearch (c) by National Institute of Informatics\n",
    "\n",
    "Literate-computing-Elasticsearch is licensed under a\n",
    "Creative Commons Attribution 4.0 International License.\n",
    "\n",
    "You should have received a copy of the license along with this\n",
    "work. If not, see <http://creativecommons.org/licenses/by/4.0/>."
   ]
  },
  {
   "cell_type": "markdown",
   "metadata": {
    "collapsed": true,
    "lc_cell_meme": {
     "current": "762cb018-1537-11e7-b31a-0242ac12000d",
     "next": "762cb20c-1537-11e7-b31a-0242ac12000d",
     "previous": "762cadde-1537-11e7-b31a-0242ac12000d"
    },
    "nbpresent": {
     "id": "844ef552-6a93-4614-bb77-8e9288638dbb"
    },
    "run_control": {
     "frozen": false,
     "read_only": false
    }
   },
   "source": [
    "## Elasticsearchとは？\n",
    "Elasticsearchは、リアルタイムにデータを検索/分析するための分散型の全文検索エンジンであり、次のような特徴を持っています。\n",
    "\n",
    "1. __リアルタイム分析__  \n",
    "収集したデータをリアルタイムに検索/分析することができます。  \n",
    "また、高速に検索できるため、他のBIツールのように事前に分析項目を決めなくても、すでに蓄積されたデータに対してインタラクティブな分析をすることが可能です。\n",
    "\n",
    "2. __クラスタリングが容易__  \n",
    "クラスタリングを想定した設計が行われており、他のミドルウェアを利用せずにクラスタを組むことができます。  \n",
    "ノードを追加することによりスケールアウトできるため、必要な処理性能や可用性などに応じたコントロールが容易です。\n",
    "\n",
    "3. __ドキュメント指向、スキーマフリー__  \n",
    "データベースであれば、データをレコードの単位で管理しますが、\n",
    "Elasticsearchではドキュメントと呼ばれる構造化されたJSONデータの形式で管理します。  \n",
    "すべてのフィールドはデフォルトでインデックスされるため、簡単かつ高速に検索できます。  \n",
    "また、このドキュメントはスキーマを決めずに投入することもできるため、すぐに使い始めることができます。  \n",
    "なお、ログデータのような構造化されていないデータを投入する際には、Logstashなどを用いてJSON形式に加工して保持することになります。\n",
    "\n",
    "4. __REST API__  \n",
    "Elasticsearchはシンプルで使いやすいREST APIを提供しています。  \n",
    "検索処理や登録処理（indexing）だけでなく、インデックスやマッピングの定義、クラスタ管理やメンテナンスなど、Elasticsearchのクラスタ・ノードに対する操作は、ほぼすべてAPIを通じて実施できます。\n",
    "\n",
    "5. __オープンソース__  \n",
    "Elasticsearchはオープンソース製品として開発されています。  \n",
    "ライセンスはApache License Version 2.0です。  \n",
    "ただし、一部のプラグインを利用するためにはサブスクリプション契約（兼サポート契約）を結ぶ必要があります。\n",
    "\n",
    "参考）[Elasticsearch公式ページ]( https://www.elastic.co/jp/products )"
   ]
  },
  {
   "cell_type": "markdown",
   "metadata": {
    "collapsed": true,
    "lc_cell_meme": {
     "current": "762cb20c-1537-11e7-b31a-0242ac12000d",
     "next": "762cb3f6-1537-11e7-b31a-0242ac12000d",
     "previous": "762cb018-1537-11e7-b31a-0242ac12000d"
    },
    "nbpresent": {
     "id": "364e65f7-1af8-45cb-a5ff-6a6f12ca7b41"
    },
    "run_control": {
     "frozen": false,
     "read_only": false
    }
   },
   "source": [
    "## 前提条件\n",
    "このNotebookで前提にしているOS/ミドルウェアのバージョンは次の通りです。\n",
    "\n",
    "| OS/ミドルウェア | バージョン |\n",
    "|----|----|\n",
    "|Elasticserach|elasticsearch-5.0.0-1.noarch|\n",
    "|Logstash|logstash-5.0.0-1.noarch|\n",
    "|Ansible|2.2.0.0|\n",
    "|OS|CentOS Linux release 7.2.1511|\n",
    "|JDK|jdk1.8.0_112-1.8.0_112-fcs.x86_64|\n"
   ]
  },
  {
   "cell_type": "markdown",
   "metadata": {
    "collapsed": true,
    "lc_cell_meme": {
     "current": "762cb3f6-1537-11e7-b31a-0242ac12000d",
     "history": [
      {
       "current": "762cb3f6-1537-11e7-b31a-0242ac12000d",
       "next": "762cb5d6-1537-11e7-b31a-0242ac12000d",
       "previous": "762cb20c-1537-11e7-b31a-0242ac12000d"
      },
      {
       "current": "762cb3f6-1537-11e7-b31a-0242ac12000d",
       "next": "762cb7a2-1537-11e7-b31a-0242ac12000d",
       "previous": "762cb20c-1537-11e7-b31a-0242ac12000d"
      }
     ],
     "next": "377d4a52-1fd3-11e7-b31a-0242ac12000d",
     "previous": "762cb20c-1537-11e7-b31a-0242ac12000d"
    },
    "nbpresent": {
     "id": "5bd1473e-5e7a-4b26-ba66-934ee79e981d"
    },
    "run_control": {
     "frozen": false,
     "read_only": false
    }
   },
   "source": [
    "# お手本Notebook\n",
    "\n",
    "お手本NotebookはこのNotebookと同じディレクトリにあります。\n",
    "\n",
    "Notebook名は `XX_(XX_)Notebook名` の形で表現され、Jupyter Notebookのファイル一覧の上でも整理された形で表示できるようにしてあります。"
   ]
  },
  {
   "cell_type": "markdown",
   "metadata": {
    "lc_cell_meme": {
     "current": "377d4a52-1fd3-11e7-b31a-0242ac12000d",
     "history": [
      {
       "current": "377d4a52-1fd3-11e7-b31a-0242ac12000d",
       "next": "762cb7a2-1537-11e7-b31a-0242ac12000d",
       "previous": "762cb3f6-1537-11e7-b31a-0242ac12000d"
      }
     ],
     "next": "c68c3294-1fd3-11e7-b31a-0242ac12000d",
     "previous": "762cb3f6-1537-11e7-b31a-0242ac12000d"
    }
   },
   "source": [
    "## お手本Notebookの一覧\n",
    "\n",
    "お手本Notebookとそれぞれの利用局面の関係については、以下のフローを参考にしてください。"
   ]
  },
  {
   "cell_type": "code",
   "execution_count": 1,
   "metadata": {
    "lc_cell_meme": {
     "current": "c68c3294-1fd3-11e7-b31a-0242ac12000d",
     "history": [
      {
       "current": "c68c3294-1fd3-11e7-b31a-0242ac12000d",
       "next": "762cb7a2-1537-11e7-b31a-0242ac12000d",
       "previous": "377d4a52-1fd3-11e7-b31a-0242ac12000d"
      },
      {
       "current": "c68c3294-1fd3-11e7-b31a-0242ac12000d",
       "next": "762cb7a2-1537-11e7-b31a-0242ac12000d",
       "previous": "377d4a52-1fd3-11e7-b31a-0242ac12000d"
      }
     ],
     "next": "1e7aae78-1fd8-11e7-b31a-0242ac12000d",
     "previous": "377d4a52-1fd3-11e7-b31a-0242ac12000d"
    },
    "run_control": {
     "frozen": true,
     "read_only": true
    }
   },
   "outputs": [
    {
     "data": {
      "image/svg+xml": [
       "<svg viewBox=\"0 0 1434 1440\" xmlns=\"http://www.w3.org/2000/svg\" xmlns:inkspace=\"http://www.inkscape.org/namespaces/inkscape\" xmlns:xlink=\"http://www.w3.org/1999/xlink\">\n",
       "  <defs id=\"defs_block\">\n",
       "    <filter height=\"1.504\" id=\"filter_blur\" inkspace:collect=\"always\" width=\"1.1575\" x=\"-0.07875\" y=\"-0.252\">\n",
       "      <feGaussianBlur id=\"feGaussianBlur3780\" inkspace:collect=\"always\" stdDeviation=\"4.2\"/>\n",
       "    </filter>\n",
       "  </defs>\n",
       "  <title>blockdiag</title>\n",
       "  <desc>blockdiag {\n",
       "    node_width = 210;\n",
       "    node_height = 160;\n",
       "    \n",
       "    00_Prereq -&gt; 01_01_Outline\n",
       "    01_01_Outline -&gt; 01_02_Accommodation_AWS -&gt; 01_03_Set_Inventory -&gt; 01_04_Install -&gt; 01_05_Diagnostics\n",
       "    01_01_Outline -&gt; 01_02g_Accommodation_GCE [style=dotted]\n",
       "    01_02g_Accommodation_GCE -&gt; 01_03_Set_Inventory [style=dotted]\n",
       "    01_05_Diagnostics -&gt; 01_50_Add_Data_Node\n",
       "    01_50_Add_Data_Node &lt;- 01_51_Force_Merge [dir=none, style=dotted]\n",
       "    01_50_Add_Data_Node &lt;- 01_52_Backup_Restore [dir=none, style=dotted]\n",
       "    01_50_Add_Data_Node -&gt; 01_02_Accommodation_AWS\n",
       "    01_04_Install -&gt; 02_Search [folded]\n",
       "    02_Search -&gt; 03_Aggregation -&gt; 04_Store_Data -&gt; 05_Indexing\n",
       "    \n",
       "    group {\n",
       "        label = &quot;運用者向け&quot;\n",
       "        color = &quot;#f0f8ff&quot;;\n",
       "        group {\n",
       "            orientation=portrait;\n",
       "            color=&quot;#f0f8ff&quot;;\n",
       "\n",
       "            00_Prereq\n",
       "            01_01_Outline;\n",
       "            group do {\n",
       "                label=&quot;構築&quot;;\n",
       "                color=&quot;#87cefa&quot;;\n",
       "\n",
       "                01_02_Accommodation_AWS;\n",
       "                01_02g_Accommodation_GCE;\n",
       "                01_03_Set_Inventory;\n",
       "                01_04_Install;\n",
       "            }\n",
       "        }\n",
       "        group check {\n",
       "            orientation=portrait;\n",
       "            label=&quot;確認・診断&quot;;\n",
       "            color=&quot;#87cefa&quot;;\n",
       "\n",
       "            01_05_Diagnostics;\n",
       "        }\n",
       "        group action {\n",
       "            orientation=portrait;\n",
       "            label=&quot;改善&quot;;\n",
       "            color=&quot;#87cefa&quot;;\n",
       "\n",
       "            01_50_Add_Data_Node;\n",
       "            01_51_Force_Merge;\n",
       "            01_52_Backup_Restore;\n",
       "        }\n",
       "    }\n",
       "    group use {\n",
       "        label=&quot;利用者向け&quot;;\n",
       "        color = &quot;#f0f8ff&quot;;\n",
       "        \n",
       "        02_Search;\n",
       "        03_Aggregation;\n",
       "        04_Store_Data;\n",
       "        05_Indexing;\n",
       "    }\n",
       "}</desc>\n",
       "  <rect fill=\"rgb(240,248,255)\" height=\"1180\" style=\"filter:url(#filter_blur)\" width=\"1322\" x=\"56\" y=\"30\"/>\n",
       "  <rect fill=\"rgb(240,248,255)\" height=\"980\" style=\"filter:url(#filter_blur)\" width=\"500\" x=\"56\" y=\"30\"/>\n",
       "  <rect fill=\"rgb(135,206,250)\" height=\"580\" style=\"filter:url(#filter_blur)\" width=\"500\" x=\"56\" y=\"430\"/>\n",
       "  <rect fill=\"rgb(135,206,250)\" height=\"180\" style=\"filter:url(#filter_blur)\" width=\"226\" x=\"604\" y=\"830\"/>\n",
       "  <rect fill=\"rgb(135,206,250)\" height=\"380\" style=\"filter:url(#filter_blur)\" width=\"500\" x=\"878\" y=\"830\"/>\n",
       "  <rect fill=\"rgb(240,248,255)\" height=\"180\" style=\"filter:url(#filter_blur)\" width=\"1048\" x=\"56\" y=\"1230\"/>\n",
       "  <rect fill=\"rgb(0,0,0)\" height=\"160\" stroke=\"rgb(0,0,0)\" style=\"filter:url(#filter_blur);opacity:0.7;fill-opacity:1\" width=\"210\" x=\"67\" y=\"46\"/>\n",
       "  <rect fill=\"rgb(0,0,0)\" height=\"160\" stroke=\"rgb(0,0,0)\" style=\"filter:url(#filter_blur);opacity:0.7;fill-opacity:1\" width=\"210\" x=\"67\" y=\"246\"/>\n",
       "  <rect fill=\"rgb(0,0,0)\" height=\"160\" stroke=\"rgb(0,0,0)\" style=\"filter:url(#filter_blur);opacity:0.7;fill-opacity:1\" width=\"210\" x=\"67\" y=\"446\"/>\n",
       "  <rect fill=\"rgb(0,0,0)\" height=\"160\" stroke=\"rgb(0,0,0)\" style=\"filter:url(#filter_blur);opacity:0.7;fill-opacity:1\" width=\"210\" x=\"341\" y=\"446\"/>\n",
       "  <rect fill=\"rgb(0,0,0)\" height=\"160\" stroke=\"rgb(0,0,0)\" style=\"filter:url(#filter_blur);opacity:0.7;fill-opacity:1\" width=\"210\" x=\"67\" y=\"646\"/>\n",
       "  <rect fill=\"rgb(0,0,0)\" height=\"160\" stroke=\"rgb(0,0,0)\" style=\"filter:url(#filter_blur);opacity:0.7;fill-opacity:1\" width=\"210\" x=\"67\" y=\"846\"/>\n",
       "  <rect fill=\"rgb(0,0,0)\" height=\"160\" stroke=\"rgb(0,0,0)\" style=\"filter:url(#filter_blur);opacity:0.7;fill-opacity:1\" width=\"210\" x=\"615\" y=\"846\"/>\n",
       "  <rect fill=\"rgb(0,0,0)\" height=\"160\" stroke=\"rgb(0,0,0)\" style=\"filter:url(#filter_blur);opacity:0.7;fill-opacity:1\" width=\"210\" x=\"889\" y=\"846\"/>\n",
       "  <rect fill=\"rgb(0,0,0)\" height=\"160\" stroke=\"rgb(0,0,0)\" style=\"filter:url(#filter_blur);opacity:0.7;fill-opacity:1\" width=\"210\" x=\"889\" y=\"1046\"/>\n",
       "  <rect fill=\"rgb(0,0,0)\" height=\"160\" stroke=\"rgb(0,0,0)\" style=\"filter:url(#filter_blur);opacity:0.7;fill-opacity:1\" width=\"210\" x=\"1163\" y=\"1046\"/>\n",
       "  <rect fill=\"rgb(0,0,0)\" height=\"160\" stroke=\"rgb(0,0,0)\" style=\"filter:url(#filter_blur);opacity:0.7;fill-opacity:1\" width=\"210\" x=\"67\" y=\"1246\"/>\n",
       "  <rect fill=\"rgb(0,0,0)\" height=\"160\" stroke=\"rgb(0,0,0)\" style=\"filter:url(#filter_blur);opacity:0.7;fill-opacity:1\" width=\"210\" x=\"341\" y=\"1246\"/>\n",
       "  <rect fill=\"rgb(0,0,0)\" height=\"160\" stroke=\"rgb(0,0,0)\" style=\"filter:url(#filter_blur);opacity:0.7;fill-opacity:1\" width=\"210\" x=\"615\" y=\"1246\"/>\n",
       "  <rect fill=\"rgb(0,0,0)\" height=\"160\" stroke=\"rgb(0,0,0)\" style=\"filter:url(#filter_blur);opacity:0.7;fill-opacity:1\" width=\"210\" x=\"889\" y=\"1246\"/>\n",
       "  <rect fill=\"rgb(255,255,255)\" height=\"160\" stroke=\"rgb(0,0,0)\" width=\"210\" x=\"64\" y=\"40\"/>\n",
       "  <text fill=\"rgb(0,0,0)\" font-anchor=\"middle\" font-family=\"sans-serif\" font-size=\"9\" font-style=\"normal\" font-weight=\"normal\" width=\"206\" x=\"66\" y=\"120\">- 資材の準備</text><text fill=\"rgb(0,0,0)\" font-anchor=\"middle\" font-family=\"sans-serif\" font-size=\"9\" font-style=\"normal\" font-weight=\"normal\" width=\"206\" x=\"66\" y=\"109\">- Ansibleの設定</text><text fill=\"rgb(0,0,0)\" font-anchor=\"middle\" font-family=\"sans-serif\" font-size=\"9\" font-style=\"italic\" font-weight=\"normal\" width=\"206\" x=\"66\" y=\"96\"> Notebookでね</text><text fill=\"rgb(0,0,0)\" font-anchor=\"middle\" font-family=\"sans-serif\" font-size=\"9\" font-style=\"italic\" font-weight=\"normal\" width=\"206\" x=\"66\" y=\"85\">文芸的機械化の準備 -</text><a xlink:href=\"00_Prerequisites for Literate Computing via Notebooks.ipynb\"><text fill=\"rgb(0,0,0)\" font-anchor=\"middle\" font-family=\"sans-serif\" font-size=\"11\" font-style=\"normal\" font-weight=\"bold\" width=\"206\" x=\"66\" y=\"56\">Prerequisites for Literate</text><text fill=\"rgb(0,0,0)\" font-anchor=\"middle\" font-family=\"sans-serif\" font-size=\"11\" font-style=\"normal\" font-weight=\"bold\" width=\"206\" x=\"66\" y=\"69\">Computing via Notebook</text></a><rect fill=\"rgb(255,255,255)\" height=\"160\" stroke=\"rgb(0,0,0)\" width=\"210\" x=\"64\" y=\"240\"/>\n",
       "  <text fill=\"rgb(0,0,0)\" font-anchor=\"middle\" font-family=\"sans-serif\" font-size=\"9\" font-style=\"normal\" font-weight=\"normal\" width=\"206\" x=\"66\" y=\"342\">- 設定の出力</text><text fill=\"rgb(0,0,0)\" font-anchor=\"middle\" font-family=\"sans-serif\" font-size=\"9\" font-style=\"normal\" font-weight=\"normal\" width=\"206\" x=\"66\" y=\"331\">- 典型的な構成</text><text fill=\"rgb(0,0,0)\" font-anchor=\"middle\" font-family=\"sans-serif\" font-size=\"9\" font-style=\"normal\" font-weight=\"normal\" width=\"206\" x=\"66\" y=\"320\">- サイジングの考え方</text><text fill=\"rgb(0,0,0)\" font-anchor=\"middle\" font-family=\"sans-serif\" font-size=\"9\" font-style=\"normal\" font-weight=\"normal\" width=\"206\" x=\"66\" y=\"309\">- 基本概念</text><text fill=\"rgb(0,0,0)\" font-anchor=\"middle\" font-family=\"sans-serif\" font-size=\"9\" font-style=\"italic\" font-weight=\"normal\" width=\"206\" x=\"66\" y=\"296\"> サイジングの観点について説明します。</text><text fill=\"rgb(0,0,0)\" font-anchor=\"middle\" font-family=\"sans-serif\" font-size=\"9\" font-style=\"italic\" font-weight=\"normal\" width=\"206\" x=\"66\" y=\"285\">Elastic Stackの概念やNodeの種類、</text><a xlink:href=\"01_01_Outline.ipynb\"><text fill=\"rgb(0,0,0)\" font-anchor=\"middle\" font-family=\"sans-serif\" font-size=\"11\" font-style=\"normal\" font-weight=\"bold\" width=\"206\" x=\"66\" y=\"256\">Elastic Stackの構築：</text><text fill=\"rgb(0,0,0)\" font-anchor=\"middle\" font-family=\"sans-serif\" font-size=\"11\" font-style=\"normal\" font-weight=\"bold\" width=\"206\" x=\"66\" y=\"269\">概要</text></a><rect fill=\"rgb(255,255,255)\" height=\"160\" stroke=\"rgb(0,0,0)\" width=\"210\" x=\"64\" y=\"440\"/>\n",
       "  <text fill=\"rgb(0,0,0)\" font-anchor=\"middle\" font-family=\"sans-serif\" font-size=\"9\" font-style=\"normal\" font-weight=\"normal\" width=\"206\" x=\"66\" y=\"531\">- Inventory作成用のインスタンスリストを作成</text><text fill=\"rgb(0,0,0)\" font-anchor=\"middle\" font-family=\"sans-serif\" font-size=\"9\" font-style=\"normal\" font-weight=\"normal\" width=\"206\" x=\"66\" y=\"520\">- EC2インスタンスの設定と生成</text><text fill=\"rgb(0,0,0)\" font-anchor=\"middle\" font-family=\"sans-serif\" font-size=\"9\" font-style=\"normal\" font-weight=\"normal\" width=\"206\" x=\"66\" y=\"509\">- 設定</text><text fill=\"rgb(0,0,0)\" font-anchor=\"middle\" font-family=\"sans-serif\" font-size=\"9\" font-style=\"italic\" font-weight=\"normal\" width=\"206\" x=\"66\" y=\"496\"> Amazon EC2インスタンスを確保します。</text><text fill=\"rgb(0,0,0)\" font-anchor=\"middle\" font-family=\"sans-serif\" font-size=\"9\" font-style=\"italic\" font-weight=\"normal\" width=\"206\" x=\"66\" y=\"485\">Elasticsearchのインストール先となる</text><a xlink:href=\"01_02_Accommodation_AWS.ipynb\"><text fill=\"rgb(0,0,0)\" font-anchor=\"middle\" font-family=\"sans-serif\" font-size=\"11\" font-style=\"normal\" font-weight=\"bold\" width=\"206\" x=\"66\" y=\"456\">Elastic Stackの構築手順：</text><text fill=\"rgb(0,0,0)\" font-anchor=\"middle\" font-family=\"sans-serif\" font-size=\"11\" font-style=\"normal\" font-weight=\"bold\" width=\"206\" x=\"66\" y=\"469\">収容（AWS）</text></a><rect fill=\"rgb(255,255,255)\" height=\"160\" stroke=\"rgb(0,0,0)\" width=\"210\" x=\"338\" y=\"440\"/>\n",
       "  <text fill=\"rgb(0,0,0)\" font-anchor=\"middle\" font-family=\"sans-serif\" font-size=\"9\" font-style=\"normal\" font-weight=\"normal\" width=\"206\" x=\"340\" y=\"575\">- Inventory作成用のインスタンスリストを作成</text><text fill=\"rgb(0,0,0)\" font-anchor=\"middle\" font-family=\"sans-serif\" font-size=\"9\" font-style=\"normal\" font-weight=\"normal\" width=\"206\" x=\"340\" y=\"564\">- インスタンスの設定</text><text fill=\"rgb(0,0,0)\" font-anchor=\"middle\" font-family=\"sans-serif\" font-size=\"9\" font-style=\"normal\" font-weight=\"normal\" width=\"206\" x=\"340\" y=\"553\">- ゾーンの設定</text><text fill=\"rgb(0,0,0)\" font-anchor=\"middle\" font-family=\"sans-serif\" font-size=\"9\" font-style=\"normal\" font-weight=\"normal\" width=\"206\" x=\"340\" y=\"542\">GCEインスタンスの設定と生成</text><text fill=\"rgb(0,0,0)\" font-anchor=\"middle\" font-family=\"sans-serif\" font-size=\"9\" font-style=\"normal\" font-weight=\"normal\" width=\"206\" x=\"340\" y=\"531\">- Credentialの指定</text><text fill=\"rgb(0,0,0)\" font-anchor=\"middle\" font-family=\"sans-serif\" font-size=\"9\" font-style=\"normal\" font-weight=\"normal\" width=\"206\" x=\"340\" y=\"520\">- Libraryの確認</text><text fill=\"rgb(0,0,0)\" font-anchor=\"middle\" font-family=\"sans-serif\" font-size=\"9\" font-style=\"normal\" font-weight=\"normal\" width=\"206\" x=\"340\" y=\"509\">動作環境の確認</text><text fill=\"rgb(0,0,0)\" font-anchor=\"middle\" font-family=\"sans-serif\" font-size=\"9\" font-style=\"italic\" font-weight=\"normal\" width=\"206\" x=\"340\" y=\"496\"> Compute Engineインスタンスを確保します。</text><text fill=\"rgb(0,0,0)\" font-anchor=\"middle\" font-family=\"sans-serif\" font-size=\"9\" font-style=\"italic\" font-weight=\"normal\" width=\"206\" x=\"340\" y=\"485\">Elasticsearchのインストール先となるGoogle</text><a xlink:href=\"01_02g_Accommodation_GCE.ipynb\"><text fill=\"rgb(0,0,0)\" font-anchor=\"middle\" font-family=\"sans-serif\" font-size=\"11\" font-style=\"normal\" font-weight=\"bold\" width=\"206\" x=\"340\" y=\"456\">Elastic Stackの構築手順：</text><text fill=\"rgb(0,0,0)\" font-anchor=\"middle\" font-family=\"sans-serif\" font-size=\"11\" font-style=\"normal\" font-weight=\"bold\" width=\"206\" x=\"340\" y=\"469\">収容（GCE）</text></a><rect fill=\"rgb(255,255,255)\" height=\"160\" stroke=\"rgb(0,0,0)\" width=\"210\" x=\"64\" y=\"640\"/>\n",
       "  <text fill=\"rgb(0,0,0)\" font-anchor=\"middle\" font-family=\"sans-serif\" font-size=\"9\" font-style=\"normal\" font-weight=\"normal\" width=\"206\" x=\"66\" y=\"753\">- インベントリのテスト</text><text fill=\"rgb(0,0,0)\" font-anchor=\"middle\" font-family=\"sans-serif\" font-size=\"9\" font-style=\"normal\" font-weight=\"normal\" width=\"206\" x=\"66\" y=\"742\">- 内容の確認・修正</text><text fill=\"rgb(0,0,0)\" font-anchor=\"middle\" font-family=\"sans-serif\" font-size=\"9\" font-style=\"normal\" font-weight=\"normal\" width=\"206\" x=\"66\" y=\"731\">- ファイルの生成</text><text fill=\"rgb(0,0,0)\" font-anchor=\"middle\" font-family=\"sans-serif\" font-size=\"9\" font-style=\"normal\" font-weight=\"normal\" width=\"206\" x=\"66\" y=\"720\">- 既存のインベントリのバックアップ</text><text fill=\"rgb(0,0,0)\" font-anchor=\"middle\" font-family=\"sans-serif\" font-size=\"9\" font-style=\"normal\" font-weight=\"normal\" width=\"206\" x=\"66\" y=\"709\">- 設定</text><text fill=\"rgb(0,0,0)\" font-anchor=\"middle\" font-family=\"sans-serif\" font-size=\"9\" font-style=\"italic\" font-weight=\"normal\" width=\"206\" x=\"66\" y=\"696\"> ファイルに出力します。</text><text fill=\"rgb(0,0,0)\" font-anchor=\"middle\" font-family=\"sans-serif\" font-size=\"9\" font-style=\"italic\" font-weight=\"normal\" width=\"206\" x=\"66\" y=\"685\">Ansibleで利用するインベントリ情報を</text><a xlink:href=\"01_03_Set_Inventory.ipynb\"><text fill=\"rgb(0,0,0)\" font-anchor=\"middle\" font-family=\"sans-serif\" font-size=\"11\" font-style=\"normal\" font-weight=\"bold\" width=\"206\" x=\"66\" y=\"656\">Elastic Stackの構築手順：</text><text fill=\"rgb(0,0,0)\" font-anchor=\"middle\" font-family=\"sans-serif\" font-size=\"11\" font-style=\"normal\" font-weight=\"bold\" width=\"206\" x=\"66\" y=\"669\">インベントリの設定</text></a><rect fill=\"rgb(255,255,255)\" height=\"160\" stroke=\"rgb(0,0,0)\" width=\"210\" x=\"64\" y=\"840\"/>\n",
       "  <text fill=\"rgb(0,0,0)\" font-anchor=\"middle\" font-family=\"sans-serif\" font-size=\"9\" font-style=\"normal\" font-weight=\"normal\" width=\"206\" x=\"66\" y=\"942\">- Logstashへのサンプルデータ投入（オプション）</text><text fill=\"rgb(0,0,0)\" font-anchor=\"middle\" font-family=\"sans-serif\" font-size=\"9\" font-style=\"normal\" font-weight=\"normal\" width=\"206\" x=\"66\" y=\"931\">- クラスタのステータスの確認方法と監視方法</text><text fill=\"rgb(0,0,0)\" font-anchor=\"middle\" font-family=\"sans-serif\" font-size=\"9\" font-style=\"normal\" font-weight=\"normal\" width=\"206\" x=\"66\" y=\"920\">- インストール</text><text fill=\"rgb(0,0,0)\" font-anchor=\"middle\" font-family=\"sans-serif\" font-size=\"9\" font-style=\"normal\" font-weight=\"normal\" width=\"206\" x=\"66\" y=\"909\">- 設定</text><text fill=\"rgb(0,0,0)\" font-anchor=\"middle\" font-family=\"sans-serif\" font-size=\"9\" font-style=\"italic\" font-weight=\"normal\" width=\"206\" x=\"66\" y=\"896\"> 各種パラメータを設定してクラスタを構築します。</text><text fill=\"rgb(0,0,0)\" font-anchor=\"middle\" font-family=\"sans-serif\" font-size=\"9\" font-style=\"italic\" font-weight=\"normal\" width=\"206\" x=\"66\" y=\"885\">Elasticsearchをインストールし、</text><a xlink:href=\"01_04_Install.ipynb\"><text fill=\"rgb(0,0,0)\" font-anchor=\"middle\" font-family=\"sans-serif\" font-size=\"11\" font-style=\"normal\" font-weight=\"bold\" width=\"206\" x=\"66\" y=\"856\">Elastic Stackの構築手順：</text><text fill=\"rgb(0,0,0)\" font-anchor=\"middle\" font-family=\"sans-serif\" font-size=\"11\" font-style=\"normal\" font-weight=\"bold\" width=\"206\" x=\"66\" y=\"869\">インストール</text></a><rect fill=\"rgb(255,255,255)\" height=\"160\" stroke=\"rgb(0,0,0)\" width=\"210\" x=\"612\" y=\"840\"/>\n",
       "  <text fill=\"rgb(0,0,0)\" font-anchor=\"middle\" font-family=\"sans-serif\" font-size=\"9\" font-style=\"normal\" font-weight=\"normal\" width=\"206\" x=\"614\" y=\"931\">- 症状と対処</text><text fill=\"rgb(0,0,0)\" font-anchor=\"middle\" font-family=\"sans-serif\" font-size=\"9\" font-style=\"normal\" font-weight=\"normal\" width=\"206\" x=\"614\" y=\"920\">- 診断</text><text fill=\"rgb(0,0,0)\" font-anchor=\"middle\" font-family=\"sans-serif\" font-size=\"9\" font-style=\"normal\" font-weight=\"normal\" width=\"206\" x=\"614\" y=\"909\">- 準備</text><text fill=\"rgb(0,0,0)\" font-anchor=\"middle\" font-family=\"sans-serif\" font-size=\"9\" font-style=\"italic\" font-weight=\"normal\" width=\"206\" x=\"614\" y=\"896\"> 異常がある場合の対処手順について説明します。</text><text fill=\"rgb(0,0,0)\" font-anchor=\"middle\" font-family=\"sans-serif\" font-size=\"9\" font-style=\"italic\" font-weight=\"normal\" width=\"206\" x=\"614\" y=\"885\">稼働しているElasticsearchに異常がないか調べ、</text><a xlink:href=\"01_05_Diagnostics.ipynb\"><text fill=\"rgb(0,0,0)\" font-anchor=\"middle\" font-family=\"sans-serif\" font-size=\"11\" font-style=\"normal\" font-weight=\"bold\" width=\"206\" x=\"614\" y=\"856\">Elastic Stackの構築：</text><text fill=\"rgb(0,0,0)\" font-anchor=\"middle\" font-family=\"sans-serif\" font-size=\"11\" font-style=\"normal\" font-weight=\"bold\" width=\"206\" x=\"614\" y=\"869\">状態の診断</text></a><rect fill=\"rgb(255,255,255)\" height=\"160\" stroke=\"rgb(0,0,0)\" width=\"210\" x=\"886\" y=\"840\"/>\n",
       "  <text fill=\"rgb(0,0,0)\" font-anchor=\"middle\" font-family=\"sans-serif\" font-size=\"9\" font-style=\"normal\" font-weight=\"normal\" width=\"206\" x=\"888\" y=\"964\">- Data Node追加・障害復旧時の注意点</text><text fill=\"rgb(0,0,0)\" font-anchor=\"middle\" font-family=\"sans-serif\" font-size=\"9\" font-style=\"normal\" font-weight=\"normal\" width=\"206\" x=\"888\" y=\"953\">- クラスタの状態確認</text><text fill=\"rgb(0,0,0)\" font-anchor=\"middle\" font-family=\"sans-serif\" font-size=\"9\" font-style=\"normal\" font-weight=\"normal\" width=\"206\" x=\"888\" y=\"942\">- 追加したホストへのインストール</text><text fill=\"rgb(0,0,0)\" font-anchor=\"middle\" font-family=\"sans-serif\" font-size=\"9\" font-style=\"normal\" font-weight=\"normal\" width=\"206\" x=\"888\" y=\"931\">- インベントリへホストを追加</text><text fill=\"rgb(0,0,0)\" font-anchor=\"middle\" font-family=\"sans-serif\" font-size=\"9\" font-style=\"normal\" font-weight=\"normal\" width=\"206\" x=\"888\" y=\"920\">- サーバの追加生成</text><text fill=\"rgb(0,0,0)\" font-anchor=\"middle\" font-family=\"sans-serif\" font-size=\"9\" font-style=\"normal\" font-weight=\"normal\" width=\"206\" x=\"888\" y=\"909\">- 準備</text><text fill=\"rgb(0,0,0)\" font-anchor=\"middle\" font-family=\"sans-serif\" font-size=\"9\" font-style=\"italic\" font-weight=\"normal\" width=\"206\" x=\"888\" y=\"896\"> クラスタに追加します。</text><text fill=\"rgb(0,0,0)\" font-anchor=\"middle\" font-family=\"sans-serif\" font-size=\"9\" font-style=\"italic\" font-weight=\"normal\" width=\"206\" x=\"888\" y=\"885\">新しいData Nodeを</text><a xlink:href=\"01_50_Add_Data_Node.ipynb\"><text fill=\"rgb(0,0,0)\" font-anchor=\"middle\" font-family=\"sans-serif\" font-size=\"11\" font-style=\"normal\" font-weight=\"bold\" width=\"206\" x=\"888\" y=\"862\">Data Node追加操作</text></a><rect fill=\"rgb(255,255,255)\" height=\"160\" stroke=\"rgb(0,0,0)\" width=\"210\" x=\"886\" y=\"1040\"/>\n",
       "  <text fill=\"rgb(0,0,0)\" font-anchor=\"middle\" font-family=\"sans-serif\" font-size=\"9\" font-style=\"normal\" font-weight=\"normal\" width=\"206\" x=\"888\" y=\"1131\">- Force Merge APIの発行</text><text fill=\"rgb(0,0,0)\" font-anchor=\"middle\" font-family=\"sans-serif\" font-size=\"9\" font-style=\"normal\" font-weight=\"normal\" width=\"206\" x=\"888\" y=\"1120\">- 削除可能なデータ件数の確認</text><text fill=\"rgb(0,0,0)\" font-anchor=\"middle\" font-family=\"sans-serif\" font-size=\"9\" font-style=\"normal\" font-weight=\"normal\" width=\"206\" x=\"888\" y=\"1109\">- 準備</text><text fill=\"rgb(0,0,0)\" font-anchor=\"middle\" font-family=\"sans-serif\" font-size=\"9\" font-style=\"italic\" font-weight=\"normal\" width=\"206\" x=\"888\" y=\"1096\"> Merge操作によってセグメント数を減らします。</text><text fill=\"rgb(0,0,0)\" font-anchor=\"middle\" font-family=\"sans-serif\" font-size=\"9\" font-style=\"italic\" font-weight=\"normal\" width=\"206\" x=\"888\" y=\"1085\">ディスクの使用量を削減するために、強制的な</text><a xlink:href=\"01_51_Force_Merge.ipynb\"><text fill=\"rgb(0,0,0)\" font-anchor=\"middle\" font-family=\"sans-serif\" font-size=\"11\" font-style=\"normal\" font-weight=\"bold\" width=\"206\" x=\"888\" y=\"1062\">Force Merge操作</text></a><rect fill=\"rgb(255,255,255)\" height=\"160\" stroke=\"rgb(0,0,0)\" width=\"210\" x=\"1160\" y=\"1040\"/>\n",
       "  <text fill=\"rgb(0,0,0)\" font-anchor=\"middle\" font-family=\"sans-serif\" font-size=\"9\" font-style=\"normal\" font-weight=\"normal\" width=\"206\" x=\"1162\" y=\"1131\">- リストア</text><text fill=\"rgb(0,0,0)\" font-anchor=\"middle\" font-family=\"sans-serif\" font-size=\"9\" font-style=\"normal\" font-weight=\"normal\" width=\"206\" x=\"1162\" y=\"1120\">- バックアップ</text><text fill=\"rgb(0,0,0)\" font-anchor=\"middle\" font-family=\"sans-serif\" font-size=\"9\" font-style=\"normal\" font-weight=\"normal\" width=\"206\" x=\"1162\" y=\"1109\">- 準備</text><text fill=\"rgb(0,0,0)\" font-anchor=\"middle\" font-family=\"sans-serif\" font-size=\"9\" font-style=\"italic\" font-weight=\"normal\" width=\"206\" x=\"1162\" y=\"1096\"> リストアについて説明します。</text><text fill=\"rgb(0,0,0)\" font-anchor=\"middle\" font-family=\"sans-serif\" font-size=\"9\" font-style=\"italic\" font-weight=\"normal\" width=\"206\" x=\"1162\" y=\"1085\">Data Node上にあるデータのバックアップと</text><a xlink:href=\"01_52_Backup_Restore.ipynb\"><text fill=\"rgb(0,0,0)\" font-anchor=\"middle\" font-family=\"sans-serif\" font-size=\"11\" font-style=\"normal\" font-weight=\"bold\" width=\"206\" x=\"1162\" y=\"1062\">バックアップ＆リストア</text></a><rect fill=\"rgb(255,255,255)\" height=\"160\" stroke=\"rgb(0,0,0)\" width=\"210\" x=\"64\" y=\"1240\"/>\n",
       "  <text fill=\"rgb(0,0,0)\" font-anchor=\"middle\" font-family=\"sans-serif\" font-size=\"9\" font-style=\"normal\" font-weight=\"normal\" width=\"206\" x=\"66\" y=\"1386\">- 実行クエリ解析</text><text fill=\"rgb(0,0,0)\" font-anchor=\"middle\" font-family=\"sans-serif\" font-size=\"9\" font-style=\"normal\" font-weight=\"normal\" width=\"206\" x=\"66\" y=\"1375\">- 大量データ取得時の検索</text><text fill=\"rgb(0,0,0)\" font-anchor=\"middle\" font-family=\"sans-serif\" font-size=\"9\" font-style=\"normal\" font-weight=\"normal\" width=\"206\" x=\"66\" y=\"1364\">- ドキュメントの削除</text><text fill=\"rgb(0,0,0)\" font-anchor=\"middle\" font-family=\"sans-serif\" font-size=\"9\" font-style=\"normal\" font-weight=\"normal\" width=\"206\" x=\"66\" y=\"1353\">- ドキュメントの更新</text><text fill=\"rgb(0,0,0)\" font-anchor=\"middle\" font-family=\"sans-serif\" font-size=\"9\" font-style=\"normal\" font-weight=\"normal\" width=\"206\" x=\"66\" y=\"1342\">- ドキュメントの追加</text><text fill=\"rgb(0,0,0)\" font-anchor=\"middle\" font-family=\"sans-serif\" font-size=\"9\" font-style=\"normal\" font-weight=\"normal\" width=\"206\" x=\"66\" y=\"1331\">- ドキュメントの検索</text><text fill=\"rgb(0,0,0)\" font-anchor=\"middle\" font-family=\"sans-serif\" font-size=\"9\" font-style=\"normal\" font-weight=\"normal\" width=\"206\" x=\"66\" y=\"1320\">- リクエストの基本構文</text><text fill=\"rgb(0,0,0)\" font-anchor=\"middle\" font-family=\"sans-serif\" font-size=\"9\" font-style=\"normal\" font-weight=\"normal\" width=\"206\" x=\"66\" y=\"1309\">- サーチエンジンとしてのElasticsearch</text><text fill=\"rgb(0,0,0)\" font-anchor=\"middle\" font-family=\"sans-serif\" font-size=\"9\" font-style=\"italic\" font-weight=\"normal\" width=\"206\" x=\"66\" y=\"1296\"> 方法について説明します。</text><text fill=\"rgb(0,0,0)\" font-anchor=\"middle\" font-family=\"sans-serif\" font-size=\"9\" font-style=\"italic\" font-weight=\"normal\" width=\"206\" x=\"66\" y=\"1285\">様々な条件で投入したドキュメントを検索する</text><a xlink:href=\"02_Search.ipynb\"><text fill=\"rgb(0,0,0)\" font-anchor=\"middle\" font-family=\"sans-serif\" font-size=\"11\" font-style=\"normal\" font-weight=\"bold\" width=\"206\" x=\"66\" y=\"1256\">サーチエンジンとしての</text><text fill=\"rgb(0,0,0)\" font-anchor=\"middle\" font-family=\"sans-serif\" font-size=\"11\" font-style=\"normal\" font-weight=\"bold\" width=\"206\" x=\"66\" y=\"1269\">利用手順(検索)</text></a><rect fill=\"rgb(255,255,255)\" height=\"160\" stroke=\"rgb(0,0,0)\" width=\"210\" x=\"338\" y=\"1240\"/>\n",
       "  <text fill=\"rgb(0,0,0)\" font-anchor=\"middle\" font-family=\"sans-serif\" font-size=\"9\" font-style=\"normal\" font-weight=\"normal\" width=\"206\" x=\"340\" y=\"1397\">- 実行クエリ解析</text><text fill=\"rgb(0,0,0)\" font-anchor=\"middle\" font-family=\"sans-serif\" font-size=\"9\" font-style=\"normal\" font-weight=\"normal\" width=\"206\" x=\"340\" y=\"1386\">- Matrix Aggregations</text><text fill=\"rgb(0,0,0)\" font-anchor=\"middle\" font-family=\"sans-serif\" font-size=\"9\" font-style=\"normal\" font-weight=\"normal\" width=\"206\" x=\"340\" y=\"1375\">- Pipeline Aggregations</text><text fill=\"rgb(0,0,0)\" font-anchor=\"middle\" font-family=\"sans-serif\" font-size=\"9\" font-style=\"normal\" font-weight=\"normal\" width=\"206\" x=\"340\" y=\"1364\">- Bucket Aggregations</text><text fill=\"rgb(0,0,0)\" font-anchor=\"middle\" font-family=\"sans-serif\" font-size=\"9\" font-style=\"normal\" font-weight=\"normal\" width=\"206\" x=\"340\" y=\"1353\">- Metrics Aggregations</text><text fill=\"rgb(0,0,0)\" font-anchor=\"middle\" font-family=\"sans-serif\" font-size=\"9\" font-style=\"normal\" font-weight=\"normal\" width=\"206\" x=\"340\" y=\"1342\">- レスポンスの基本構文</text><text fill=\"rgb(0,0,0)\" font-anchor=\"middle\" font-family=\"sans-serif\" font-size=\"9\" font-style=\"normal\" font-weight=\"normal\" width=\"206\" x=\"340\" y=\"1331\">- リクエストの基本構文</text><text fill=\"rgb(0,0,0)\" font-anchor=\"middle\" font-family=\"sans-serif\" font-size=\"9\" font-style=\"normal\" font-weight=\"normal\" width=\"206\" x=\"340\" y=\"1320\">- Aggregationとは</text><text fill=\"rgb(0,0,0)\" font-anchor=\"middle\" font-family=\"sans-serif\" font-size=\"9\" font-style=\"normal\" font-weight=\"normal\" width=\"206\" x=\"340\" y=\"1309\">- 準備</text><text fill=\"rgb(0,0,0)\" font-anchor=\"middle\" font-family=\"sans-serif\" font-size=\"9\" font-style=\"italic\" font-weight=\"normal\" width=\"206\" x=\"340\" y=\"1296\"> 方法について説明します。</text><text fill=\"rgb(0,0,0)\" font-anchor=\"middle\" font-family=\"sans-serif\" font-size=\"9\" font-style=\"italic\" font-weight=\"normal\" width=\"206\" x=\"340\" y=\"1285\">検索したドキュメントをさらに集計する</text><a xlink:href=\"03_Aggregation.ipynb\"><text fill=\"rgb(0,0,0)\" font-anchor=\"middle\" font-family=\"sans-serif\" font-size=\"11\" font-style=\"normal\" font-weight=\"bold\" width=\"206\" x=\"340\" y=\"1256\">サーチエンジンとしての</text><text fill=\"rgb(0,0,0)\" font-anchor=\"middle\" font-family=\"sans-serif\" font-size=\"11\" font-style=\"normal\" font-weight=\"bold\" width=\"206\" x=\"340\" y=\"1269\">利用手順(集計)</text></a><rect fill=\"rgb(255,255,255)\" height=\"160\" stroke=\"rgb(0,0,0)\" width=\"210\" x=\"612\" y=\"1240\"/>\n",
       "  <text fill=\"rgb(0,0,0)\" font-anchor=\"middle\" font-family=\"sans-serif\" font-size=\"9\" font-style=\"normal\" font-weight=\"normal\" width=\"206\" x=\"614\" y=\"1375\">- トラブルシューティング</text><text fill=\"rgb(0,0,0)\" font-anchor=\"middle\" font-family=\"sans-serif\" font-size=\"9\" font-style=\"normal\" font-weight=\"normal\" width=\"206\" x=\"614\" y=\"1364\">- Ingest Nodeの利用方法</text><text fill=\"rgb(0,0,0)\" font-anchor=\"middle\" font-family=\"sans-serif\" font-size=\"9\" font-style=\"normal\" font-weight=\"normal\" width=\"206\" x=\"614\" y=\"1353\">- データ加工</text><text fill=\"rgb(0,0,0)\" font-anchor=\"middle\" font-family=\"sans-serif\" font-size=\"9\" font-style=\"normal\" font-weight=\"normal\" width=\"206\" x=\"614\" y=\"1342\">- データフォーマット</text><text fill=\"rgb(0,0,0)\" font-anchor=\"middle\" font-family=\"sans-serif\" font-size=\"9\" font-style=\"normal\" font-weight=\"normal\" width=\"206\" x=\"614\" y=\"1331\">- Logstashの設定</text><text fill=\"rgb(0,0,0)\" font-anchor=\"middle\" font-family=\"sans-serif\" font-size=\"9\" font-style=\"normal\" font-weight=\"normal\" width=\"206\" x=\"614\" y=\"1320\">- Logstashとは</text><text fill=\"rgb(0,0,0)\" font-anchor=\"middle\" font-family=\"sans-serif\" font-size=\"9\" font-style=\"normal\" font-weight=\"normal\" width=\"206\" x=\"614\" y=\"1309\">- 準備</text><text fill=\"rgb(0,0,0)\" font-anchor=\"middle\" font-family=\"sans-serif\" font-size=\"9\" font-style=\"italic\" font-weight=\"normal\" width=\"206\" x=\"614\" y=\"1296\"> データを蓄積する方法について説明します。</text><text fill=\"rgb(0,0,0)\" font-anchor=\"middle\" font-family=\"sans-serif\" font-size=\"9\" font-style=\"italic\" font-weight=\"normal\" width=\"206\" x=\"614\" y=\"1285\">LogstashからElasticsearchへ、様々な形式の</text><a xlink:href=\"04_Store_Data.ipynb\"><text fill=\"rgb(0,0,0)\" font-anchor=\"middle\" font-family=\"sans-serif\" font-size=\"11\" font-style=\"normal\" font-weight=\"bold\" width=\"206\" x=\"614\" y=\"1256\">サーチエンジンとしての</text><text fill=\"rgb(0,0,0)\" font-anchor=\"middle\" font-family=\"sans-serif\" font-size=\"11\" font-style=\"normal\" font-weight=\"bold\" width=\"206\" x=\"614\" y=\"1269\">利用手順(データ蓄積)</text></a><rect fill=\"rgb(255,255,255)\" height=\"160\" stroke=\"rgb(0,0,0)\" width=\"210\" x=\"886\" y=\"1240\"/>\n",
       "  <text fill=\"rgb(0,0,0)\" font-anchor=\"middle\" font-family=\"sans-serif\" font-size=\"9\" font-style=\"normal\" font-weight=\"normal\" width=\"206\" x=\"888\" y=\"1353\">- パラメータ設定</text><text fill=\"rgb(0,0,0)\" font-anchor=\"middle\" font-family=\"sans-serif\" font-size=\"9\" font-style=\"normal\" font-weight=\"normal\" width=\"206\" x=\"888\" y=\"1342\">- reindex APIを使った投入後データの加工方法</text><text fill=\"rgb(0,0,0)\" font-anchor=\"middle\" font-family=\"sans-serif\" font-size=\"9\" font-style=\"normal\" font-weight=\"normal\" width=\"206\" x=\"888\" y=\"1331\">- マッピングの設定方法と注意点</text><text fill=\"rgb(0,0,0)\" font-anchor=\"middle\" font-family=\"sans-serif\" font-size=\"9\" font-style=\"normal\" font-weight=\"normal\" width=\"206\" x=\"888\" y=\"1320\">- マッピング設定</text><text fill=\"rgb(0,0,0)\" font-anchor=\"middle\" font-family=\"sans-serif\" font-size=\"9\" font-style=\"normal\" font-weight=\"normal\" width=\"206\" x=\"888\" y=\"1309\">- 準備</text><text fill=\"rgb(0,0,0)\" font-anchor=\"middle\" font-family=\"sans-serif\" font-size=\"9\" font-style=\"italic\" font-weight=\"normal\" width=\"206\" x=\"888\" y=\"1296\"> reindexの方法について説明します。</text><text fill=\"rgb(0,0,0)\" font-anchor=\"middle\" font-family=\"sans-serif\" font-size=\"9\" font-style=\"italic\" font-weight=\"normal\" width=\"206\" x=\"888\" y=\"1285\">インデックスに与えるマッピング定義の内容や、</text><a xlink:href=\"05_Indexing.ipynb\"><text fill=\"rgb(0,0,0)\" font-anchor=\"middle\" font-family=\"sans-serif\" font-size=\"11\" font-style=\"normal\" font-weight=\"bold\" width=\"206\" x=\"888\" y=\"1256\">サーチエンジンとしての</text><text fill=\"rgb(0,0,0)\" font-anchor=\"middle\" font-family=\"sans-serif\" font-size=\"11\" font-style=\"normal\" font-weight=\"bold\" width=\"206\" x=\"888\" y=\"1269\">利用手順(インデックス設計)</text></a><path d=\"M 169 200 L 169 232\" fill=\"none\" stroke=\"rgb(0,0,0)\"/>\n",
       "  <polygon fill=\"rgb(0,0,0)\" points=\"169,239 165,232 173,232 169,239\" stroke=\"rgb(0,0,0)\"/>\n",
       "  <path d=\"M 169 400 L 169 432\" fill=\"none\" stroke=\"rgb(0,0,0)\"/>\n",
       "  <polygon fill=\"rgb(0,0,0)\" points=\"169,439 165,432 173,432 169,439\" stroke=\"rgb(0,0,0)\"/>\n",
       "  <path d=\"M 169 400 L 169 420\" fill=\"none\" stroke=\"rgb(0,0,0)\" stroke-dasharray=\"2\"/>\n",
       "  <path d=\"M 169 420 L 443 420\" fill=\"none\" stroke=\"rgb(0,0,0)\" stroke-dasharray=\"2\"/>\n",
       "  <path d=\"M 443 420 L 443 432\" fill=\"none\" stroke=\"rgb(0,0,0)\" stroke-dasharray=\"2\"/>\n",
       "  <polygon fill=\"rgb(0,0,0)\" points=\"443,439 439,432 447,432 443,439\" stroke=\"rgb(0,0,0)\"/>\n",
       "  <path d=\"M 169 600 L 169 632\" fill=\"none\" stroke=\"rgb(0,0,0)\"/>\n",
       "  <polygon fill=\"rgb(0,0,0)\" points=\"169,639 165,632 173,632 169,639\" stroke=\"rgb(0,0,0)\"/>\n",
       "  <path d=\"M 443 600 L 443 620\" fill=\"none\" stroke=\"rgb(0,0,0)\" stroke-dasharray=\"2\"/>\n",
       "  <path d=\"M 169 620 L 443 620\" fill=\"none\" stroke=\"rgb(0,0,0)\" stroke-dasharray=\"2\"/>\n",
       "  <path d=\"M 169 620 L 169 632\" fill=\"none\" stroke=\"rgb(0,0,0)\" stroke-dasharray=\"2\"/>\n",
       "  <polygon fill=\"rgb(0,0,0)\" points=\"169,639 165,632 173,632 169,639\" stroke=\"rgb(0,0,0)\"/>\n",
       "  <path d=\"M 169 800 L 169 832\" fill=\"none\" stroke=\"rgb(0,0,0)\"/>\n",
       "  <polygon fill=\"rgb(0,0,0)\" points=\"169,839 165,832 173,832 169,839\" stroke=\"rgb(0,0,0)\"/>\n",
       "  <path d=\"M 274 920 L 604 920\" fill=\"none\" stroke=\"rgb(0,0,0)\"/>\n",
       "  <polygon fill=\"rgb(0,0,0)\" points=\"611,920 604,916 604,924 611,920\" stroke=\"rgb(0,0,0)\"/>\n",
       "  <path d=\"M 169 1000 L 169 1232\" fill=\"none\" stroke=\"rgb(0,0,0)\"/>\n",
       "  <polygon fill=\"rgb(0,0,0)\" points=\"169,1239 165,1232 173,1232 169,1239\" stroke=\"rgb(0,0,0)\"/>\n",
       "  <path d=\"M 169 600 L 169 632\" fill=\"none\" stroke=\"rgb(0,0,0)\"/>\n",
       "  <polygon fill=\"rgb(0,0,0)\" points=\"169,639 165,632 173,632 169,639\" stroke=\"rgb(0,0,0)\"/>\n",
       "  <path d=\"M 443 600 L 443 620\" fill=\"none\" stroke=\"rgb(0,0,0)\" stroke-dasharray=\"2\"/>\n",
       "  <path d=\"M 169 620 L 443 620\" fill=\"none\" stroke=\"rgb(0,0,0)\" stroke-dasharray=\"2\"/>\n",
       "  <path d=\"M 169 620 L 169 632\" fill=\"none\" stroke=\"rgb(0,0,0)\" stroke-dasharray=\"2\"/>\n",
       "  <polygon fill=\"rgb(0,0,0)\" points=\"169,639 165,632 173,632 169,639\" stroke=\"rgb(0,0,0)\"/>\n",
       "  <path d=\"M 169 800 L 169 832\" fill=\"none\" stroke=\"rgb(0,0,0)\"/>\n",
       "  <polygon fill=\"rgb(0,0,0)\" points=\"169,839 165,832 173,832 169,839\" stroke=\"rgb(0,0,0)\"/>\n",
       "  <path d=\"M 274 920 L 604 920\" fill=\"none\" stroke=\"rgb(0,0,0)\"/>\n",
       "  <polygon fill=\"rgb(0,0,0)\" points=\"611,920 604,916 604,924 611,920\" stroke=\"rgb(0,0,0)\"/>\n",
       "  <path d=\"M 169 1000 L 169 1232\" fill=\"none\" stroke=\"rgb(0,0,0)\"/>\n",
       "  <polygon fill=\"rgb(0,0,0)\" points=\"169,1239 165,1232 173,1232 169,1239\" stroke=\"rgb(0,0,0)\"/>\n",
       "  <path d=\"M 822 920 L 878 920\" fill=\"none\" stroke=\"rgb(0,0,0)\"/>\n",
       "  <polygon fill=\"rgb(0,0,0)\" points=\"885,920 878,916 878,924 885,920\" stroke=\"rgb(0,0,0)\"/>\n",
       "  <path d=\"M 1096 920 L 1112 920\" fill=\"none\" stroke=\"rgb(0,0,0)\"/>\n",
       "  <path d=\"M 1112 920 L 1112 425\" fill=\"none\" stroke=\"rgb(0,0,0)\"/>\n",
       "  <path d=\"M 169 425 L 439 425\" fill=\"none\" stroke=\"rgb(0,0,0)\"/>\n",
       "  <path d=\"M 439.0 425.0 A4,4 0 0 1 447.0 425.0\" fill=\"none\" stroke=\"rgb(0,0,0)\"/>\n",
       "  <path d=\"M 447 425 L 1112 425\" fill=\"none\" stroke=\"rgb(0,0,0)\"/>\n",
       "  <path d=\"M 169 425 L 169 432\" fill=\"none\" stroke=\"rgb(0,0,0)\"/>\n",
       "  <polygon fill=\"rgb(0,0,0)\" points=\"169,439 165,432 173,432 169,439\" stroke=\"rgb(0,0,0)\"/>\n",
       "  <path d=\"M 991 1000 L 991 1040\" fill=\"none\" stroke=\"rgb(0,0,0)\" stroke-dasharray=\"2\"/>\n",
       "  <path d=\"M 991 1000 L 991 1020\" fill=\"none\" stroke=\"rgb(0,0,0)\" stroke-dasharray=\"2\"/>\n",
       "  <path d=\"M 991 1020 L 1265 1020\" fill=\"none\" stroke=\"rgb(0,0,0)\" stroke-dasharray=\"2\"/>\n",
       "  <path d=\"M 1265 1020 L 1265 1040\" fill=\"none\" stroke=\"rgb(0,0,0)\" stroke-dasharray=\"2\"/>\n",
       "  <path d=\"M 169 200 L 169 232\" fill=\"none\" stroke=\"rgb(0,0,0)\"/>\n",
       "  <polygon fill=\"rgb(0,0,0)\" points=\"169,239 165,232 173,232 169,239\" stroke=\"rgb(0,0,0)\"/>\n",
       "  <path d=\"M 169 400 L 169 432\" fill=\"none\" stroke=\"rgb(0,0,0)\"/>\n",
       "  <polygon fill=\"rgb(0,0,0)\" points=\"169,439 165,432 173,432 169,439\" stroke=\"rgb(0,0,0)\"/>\n",
       "  <path d=\"M 169 400 L 169 420\" fill=\"none\" stroke=\"rgb(0,0,0)\" stroke-dasharray=\"2\"/>\n",
       "  <path d=\"M 169 420 L 443 420\" fill=\"none\" stroke=\"rgb(0,0,0)\" stroke-dasharray=\"2\"/>\n",
       "  <path d=\"M 443 420 L 443 432\" fill=\"none\" stroke=\"rgb(0,0,0)\" stroke-dasharray=\"2\"/>\n",
       "  <polygon fill=\"rgb(0,0,0)\" points=\"443,439 439,432 447,432 443,439\" stroke=\"rgb(0,0,0)\"/>\n",
       "  <path d=\"M 169 600 L 169 632\" fill=\"none\" stroke=\"rgb(0,0,0)\"/>\n",
       "  <polygon fill=\"rgb(0,0,0)\" points=\"169,639 165,632 173,632 169,639\" stroke=\"rgb(0,0,0)\"/>\n",
       "  <path d=\"M 443 600 L 443 620\" fill=\"none\" stroke=\"rgb(0,0,0)\" stroke-dasharray=\"2\"/>\n",
       "  <path d=\"M 169 620 L 443 620\" fill=\"none\" stroke=\"rgb(0,0,0)\" stroke-dasharray=\"2\"/>\n",
       "  <path d=\"M 169 620 L 169 632\" fill=\"none\" stroke=\"rgb(0,0,0)\" stroke-dasharray=\"2\"/>\n",
       "  <polygon fill=\"rgb(0,0,0)\" points=\"169,639 165,632 173,632 169,639\" stroke=\"rgb(0,0,0)\"/>\n",
       "  <path d=\"M 169 800 L 169 832\" fill=\"none\" stroke=\"rgb(0,0,0)\"/>\n",
       "  <polygon fill=\"rgb(0,0,0)\" points=\"169,839 165,832 173,832 169,839\" stroke=\"rgb(0,0,0)\"/>\n",
       "  <path d=\"M 274 920 L 604 920\" fill=\"none\" stroke=\"rgb(0,0,0)\"/>\n",
       "  <polygon fill=\"rgb(0,0,0)\" points=\"611,920 604,916 604,924 611,920\" stroke=\"rgb(0,0,0)\"/>\n",
       "  <path d=\"M 169 1000 L 169 1232\" fill=\"none\" stroke=\"rgb(0,0,0)\"/>\n",
       "  <polygon fill=\"rgb(0,0,0)\" points=\"169,1239 165,1232 173,1232 169,1239\" stroke=\"rgb(0,0,0)\"/>\n",
       "  <path d=\"M 169 600 L 169 632\" fill=\"none\" stroke=\"rgb(0,0,0)\"/>\n",
       "  <polygon fill=\"rgb(0,0,0)\" points=\"169,639 165,632 173,632 169,639\" stroke=\"rgb(0,0,0)\"/>\n",
       "  <path d=\"M 443 600 L 443 620\" fill=\"none\" stroke=\"rgb(0,0,0)\" stroke-dasharray=\"2\"/>\n",
       "  <path d=\"M 169 620 L 443 620\" fill=\"none\" stroke=\"rgb(0,0,0)\" stroke-dasharray=\"2\"/>\n",
       "  <path d=\"M 169 620 L 169 632\" fill=\"none\" stroke=\"rgb(0,0,0)\" stroke-dasharray=\"2\"/>\n",
       "  <polygon fill=\"rgb(0,0,0)\" points=\"169,639 165,632 173,632 169,639\" stroke=\"rgb(0,0,0)\"/>\n",
       "  <path d=\"M 169 800 L 169 832\" fill=\"none\" stroke=\"rgb(0,0,0)\"/>\n",
       "  <polygon fill=\"rgb(0,0,0)\" points=\"169,839 165,832 173,832 169,839\" stroke=\"rgb(0,0,0)\"/>\n",
       "  <path d=\"M 274 920 L 604 920\" fill=\"none\" stroke=\"rgb(0,0,0)\"/>\n",
       "  <polygon fill=\"rgb(0,0,0)\" points=\"611,920 604,916 604,924 611,920\" stroke=\"rgb(0,0,0)\"/>\n",
       "  <path d=\"M 169 1000 L 169 1232\" fill=\"none\" stroke=\"rgb(0,0,0)\"/>\n",
       "  <polygon fill=\"rgb(0,0,0)\" points=\"169,1239 165,1232 173,1232 169,1239\" stroke=\"rgb(0,0,0)\"/>\n",
       "  <path d=\"M 822 920 L 878 920\" fill=\"none\" stroke=\"rgb(0,0,0)\"/>\n",
       "  <polygon fill=\"rgb(0,0,0)\" points=\"885,920 878,916 878,924 885,920\" stroke=\"rgb(0,0,0)\"/>\n",
       "  <path d=\"M 1096 920 L 1112 920\" fill=\"none\" stroke=\"rgb(0,0,0)\"/>\n",
       "  <path d=\"M 1112 920 L 1112 425\" fill=\"none\" stroke=\"rgb(0,0,0)\"/>\n",
       "  <path d=\"M 169 425 L 439 425\" fill=\"none\" stroke=\"rgb(0,0,0)\"/>\n",
       "  <path d=\"M 439.0 425.0 A4,4 0 0 1 447.0 425.0\" fill=\"none\" stroke=\"rgb(0,0,0)\"/>\n",
       "  <path d=\"M 447 425 L 1112 425\" fill=\"none\" stroke=\"rgb(0,0,0)\"/>\n",
       "  <path d=\"M 169 425 L 169 432\" fill=\"none\" stroke=\"rgb(0,0,0)\"/>\n",
       "  <polygon fill=\"rgb(0,0,0)\" points=\"169,439 165,432 173,432 169,439\" stroke=\"rgb(0,0,0)\"/>\n",
       "  <path d=\"M 991 1000 L 991 1040\" fill=\"none\" stroke=\"rgb(0,0,0)\" stroke-dasharray=\"2\"/>\n",
       "  <path d=\"M 991 1000 L 991 1020\" fill=\"none\" stroke=\"rgb(0,0,0)\" stroke-dasharray=\"2\"/>\n",
       "  <path d=\"M 991 1020 L 1265 1020\" fill=\"none\" stroke=\"rgb(0,0,0)\" stroke-dasharray=\"2\"/>\n",
       "  <path d=\"M 1265 1020 L 1265 1040\" fill=\"none\" stroke=\"rgb(0,0,0)\" stroke-dasharray=\"2\"/>\n",
       "  <path d=\"M 274 1320 L 330 1320\" fill=\"none\" stroke=\"rgb(0,0,0)\"/>\n",
       "  <polygon fill=\"rgb(0,0,0)\" points=\"337,1320 330,1316 330,1324 337,1320\" stroke=\"rgb(0,0,0)\"/>\n",
       "  <path d=\"M 548 1320 L 604 1320\" fill=\"none\" stroke=\"rgb(0,0,0)\"/>\n",
       "  <polygon fill=\"rgb(0,0,0)\" points=\"611,1320 604,1316 604,1324 611,1320\" stroke=\"rgb(0,0,0)\"/>\n",
       "  <path d=\"M 822 1320 L 878 1320\" fill=\"none\" stroke=\"rgb(0,0,0)\"/>\n",
       "  <polygon fill=\"rgb(0,0,0)\" points=\"885,1320 878,1316 878,1324 885,1320\" stroke=\"rgb(0,0,0)\"/>\n",
       "  <text fill=\"rgb(0,0,0)\" font-family=\"sans-serif\" font-size=\"11\" font-style=\"normal\" font-weight=\"normal\" text-anchor=\"middle\" textLength=\"55\" x=\"717\" y=\"36\">運用者向け</text>\n",
       "  <text fill=\"rgb(0,0,0)\" font-family=\"sans-serif\" font-size=\"11\" font-style=\"normal\" font-weight=\"normal\" text-anchor=\"middle\" textLength=\"22\" x=\"306\" y=\"436\">構築</text>\n",
       "  <text fill=\"rgb(0,0,0)\" font-family=\"sans-serif\" font-size=\"11\" font-style=\"normal\" font-weight=\"normal\" text-anchor=\"middle\" textLength=\"55\" x=\"717\" y=\"836\">確認・診断</text>\n",
       "  <text fill=\"rgb(0,0,0)\" font-family=\"sans-serif\" font-size=\"11\" font-style=\"normal\" font-weight=\"normal\" text-anchor=\"middle\" textLength=\"22\" x=\"1128\" y=\"836\">改善</text>\n",
       "  <text fill=\"rgb(0,0,0)\" font-family=\"sans-serif\" font-size=\"11\" font-style=\"normal\" font-weight=\"normal\" text-anchor=\"middle\" textLength=\"55\" x=\"580\" y=\"1236\">利用者向け</text>\n",
       "</svg>"
      ],
      "text/plain": [
       "<IPython.core.display.SVG object>"
      ]
     },
     "execution_count": 1,
     "metadata": {},
     "output_type": "execute_result"
    }
   ],
   "source": [
    "from IPython.display import SVG\n",
    "SVG(filename='images/notebooks-filled.svg')"
   ]
  },
  {
   "cell_type": "markdown",
   "metadata": {
    "lc_cell_meme": {
     "current": "1e7aae78-1fd8-11e7-b31a-0242ac12000d",
     "next": "762cb7a2-1537-11e7-b31a-0242ac12000d",
     "previous": "c68c3294-1fd3-11e7-b31a-0242ac12000d"
    }
   },
   "source": [
    "*構築*フェーズは、構築・運用対象とするElasticsearchのためのマシンを準備し、ソフトウェアのインストール、設定を行います。\n",
    "\n",
    "*確認・診断*フェーズは、構築したElasticsearchの日々の運用や、問題発生時の健康診断を行います。\n",
    "\n",
    "*改善*フェーズは、健康診断の結果、Nodeの追加により容量を増やしたり、データをクリーンアップしたりといった操作を行います。"
   ]
  },
  {
   "cell_type": "markdown",
   "metadata": {
    "collapsed": true,
    "lc_cell_meme": {
     "current": "762cb7a2-1537-11e7-b31a-0242ac12000d",
     "history": [
      {
       "current": "762cb7a2-1537-11e7-b31a-0242ac12000d",
       "next": "762cb96e-1537-11e7-b31a-0242ac12000d",
       "previous": "762cb5d6-1537-11e7-b31a-0242ac12000d"
      },
      {
       "current": "762cb7a2-1537-11e7-b31a-0242ac12000d",
       "next": "762cb96e-1537-11e7-b31a-0242ac12000d",
       "previous": "762cb3f6-1537-11e7-b31a-0242ac12000d"
      },
      {
       "current": "762cb7a2-1537-11e7-b31a-0242ac12000d",
       "next": "762cb96e-1537-11e7-b31a-0242ac12000d",
       "previous": "377d4a52-1fd3-11e7-b31a-0242ac12000d"
      },
      {
       "current": "762cb7a2-1537-11e7-b31a-0242ac12000d",
       "next": "762cb96e-1537-11e7-b31a-0242ac12000d",
       "previous": "c68c3294-1fd3-11e7-b31a-0242ac12000d"
      },
      {
       "current": "762cb7a2-1537-11e7-b31a-0242ac12000d",
       "next": "762cb96e-1537-11e7-b31a-0242ac12000d",
       "previous": "c68c3294-1fd3-11e7-b31a-0242ac12000d"
      }
     ],
     "next": "762cb96e-1537-11e7-b31a-0242ac12000d",
     "previous": "1e7aae78-1fd8-11e7-b31a-0242ac12000d"
    },
    "nbpresent": {
     "id": "254432a4-e8fc-4d50-ac21-04a62e34643a"
    },
    "run_control": {
     "frozen": false,
     "read_only": false
    }
   },
   "source": [
    "## お手本Notebookの目次一覧\n",
    "\n",
    "各Notebookの詳細な目次を参照するには、以下のセルを実行(`Run cell`)してください。Notebookファイルへのリンクが表示されます。"
   ]
  },
  {
   "cell_type": "code",
   "execution_count": 2,
   "metadata": {
    "lc_cell_meme": {
     "current": "762cb96e-1537-11e7-b31a-0242ac12000d",
     "next": "762cbb3a-1537-11e7-b31a-0242ac12000d",
     "previous": "762cb7a2-1537-11e7-b31a-0242ac12000d"
    },
    "run_control": {
     "frozen": true,
     "marked": false,
     "read_only": true
    },
    "scrolled": false
   },
   "outputs": [
    {
     "name": "stderr",
     "output_type": "stream",
     "text": [
      "/usr/local/lib/python2.7/dist-packages/cffi/model.py:525: UserWarning: 'point_conversion_form_t' has no values explicitly defined; guessing that it is equivalent to 'unsigned int'\n",
      "  % self._get_c_name())\n"
     ]
    },
    {
     "data": {
      "text/html": [
       "<div><a href=\"00_Prerequisites for Literate Computing via Notebooks.ipynb\" target=\"_blank\"><b>00_Prerequisites for Literate Computing via Notebooks</b></a><br/><b>About: Prerequisites for Literate Computing via Notebook</b> - 文芸的機械化の準備 - Notebookでね<br/><b>Ansibleの設定</b> - Notebook環境は、以下の条件を満たしている必要がある。<br/>&emsp;・<b>AnsibleでDefault Moduleが利用可能であること - A</b> - DefaultのModuleが使えればよい。特にカスタマイズすべき項目はなし。<br/><b>資材の準備</b> - - Oracle JDK ライセンス認証・RPMパッケージの配置<br/>&emsp;・<b>JVMの資材が準備されていること - A</b> - Elasticsearchを動作させるのに必要なJVMのファイルを用意します。<br/>&emsp;・<b>Elasticsearchのダウンロードサイトにアクセスできること - A</b> - Elasticsearchの媒体を公式サイトからダウンロード可能か確認します。</div><br/><div><a href=\"01_01_Outline.ipynb\" target=\"_blank\"><b>01_01_Outline</b></a><br/><b>Elastic Stackの構築：概要</b> - Elastic Stackの概念やNodeの種類、 サイジングの観点について説明します。<br/>&emsp;・<b>基本概念</b> - 実際の構築の前に、クラスタやそれを構成するNodeに関する基本概念を説明します。<br/>&emsp;・<b>サイジングの考え方</b> - 構築にあたり、1サーバのスペック、設定するshardの数、各役割のノード数を決める必要があります。  <br/>&emsp;・<b>典型的な構成</b> - Elasticsearchを動作させるための典型的な設定を示します。<br/>&emsp;・<b>設定の出力</b> - 前の章の構成例を元に、この後の「収容」「インストール」のNotebookで用いるパラメータを生成します。</div><br/><div><a href=\"01_02_Accommodation_AWS.ipynb\" target=\"_blank\"><b>01_02_Accommodation_AWS</b></a><br/><b>Elastic Stackの構築手順：収容（AWS）</b> - Elasticsearchのインストール先となる Amazon&nbsp;EC2インスタンスを確保します。  <br/>&emsp;・<b>設定</b> - インスタンスの生成に必要な情報を設定します。<br/>&emsp;・<b>EC2インスタンスの設定と生成</b> - サーバ構成に応じたEC2インスタンスの設定を定義し、インスタンスを生成します。<br/>&emsp;・<b>Inventory作成用のインスタンスリストを作成</b> - ホストのパブリックDNS一覧をリスト化します  </div><br/><div><a href=\"01_02g_Accommodation_GCE.ipynb\" target=\"_blank\"><b>01_02g_Accommodation_GCE</b></a><br/><b>Elastic Stackの構築手順：収容（GCE）</b> - Elasticsearchのインストール先となるGoogle Compute&nbsp;Engineインスタンスを確保します。  <br/><b>動作環境の確認</b> - このNotebookは、 [Google Python Client Library](https://github.com/google/google-api-python-client) を使ってマシンの確保を行います。そのため、Libraryがインポート可能であることの確認と、Credentialsが設定されている<br/>&emsp;・<b>Libraryの確認</b> - このNotebook環境にGoogle Python Client Libraryがインストールされている必要があります。インストールされていない場合は、以下のセル実行に失敗し、 ImportError となります。<br/>&emsp;・<b>Credentialの指定</b> - Google Compute EngineにアクセスするためのCredentialを指定してください。<br/><b>GCEインスタンスの設定と生成</b> - サーバ構成に応じたGCEインスタンスの設定を定義し、インスタンスを生成します。<br/>&emsp;・<b>ゾーンの設定</b> - どのZoneにインスタンスを確保するかを定義しておく。<br/>&emsp;・<b>インスタンスの設定</b><br/>&emsp;・<b>Inventory作成用のインスタンスリストを作成</b></div><br/><div><a href=\"01_03_Set_Inventory.ipynb\" target=\"_blank\"><b>01_03_Set_Inventory</b></a><br/><b>Elastic Stackの構築手順：インベントリの設定</b> - Ansibleで利用するインベントリ情報を ファイルに出力します。<br/>&emsp;・<b>設定</b> - アカウントや通信先などを設定します。<br/>&emsp;・<b>既存のインベントリのバックアップ</b> - 出力前に、既存の内容をバックアップ用ディレクトリに退避します。<br/>&emsp;・<b>ファイルの生成</b> - インベントリファイルを生成します。<br/>&emsp;・<b>内容の確認・修正</b> - 生成したインベントリファイルの内容を確認、修正したり、前回のバージョンと比較したい場合は以下から実施できます。<br/>&emsp;・<b>インベントリのテスト</b> - 作成したインベントリにある各ホストに、Ansibleから各種の操作が可能か確認します。</div><br/><div><a href=\"01_04_Install.ipynb\" target=\"_blank\"><b>01_04_Install</b></a><br/><b>Elastic Stackの構築手順：インストール</b> - Elasticsearchをインストールし、 各種パラメータを設定してクラスタを構築します。  <br/>&emsp;・<b>設定</b> - アカウントや通信先などを設定します。<br/>&emsp;・<b>インストール</b> - Elasticsearchのインストールし、設定、起動します。<br/>&emsp;・<b>クラスタのステータスの確認方法と監視方法</b> - クラスタのステータスを確認するためにCluster APIを発行します。<br/>&emsp;・<b>Logstashへのサンプルデータ投入（オプション）</b> - インストール済みのLogstashに、この後のNotebookで利用するサンプルデータを投入します。</div><br/><div><a href=\"01_05_Diagnostics.ipynb\" target=\"_blank\"><b>01_05_Diagnostics</b></a><br/><b>Elastic Stackの構築：状態の診断</b> - 稼働しているElasticsearchに異常がないか調べ、 異常がある場合の対処手順について説明します。<br/>&emsp;・<b>準備</b> - 本章のコマンドを実行するための設定を行います。  <br/>&emsp;・<b>診断</b> - 現在の状態を把握するために、各種の状態を診断します。  <br/>&emsp;・<b>症状と対処</b> - 診断の章で異常があった場合、本章の内容に従い対処します。</div><br/><div><a href=\"01_50_Add_Data_Node.ipynb\" target=\"_blank\"><b>01_50_Add_Data_Node</b></a><br/><b>Data Node追加操作</b> - 新しいData&nbsp;Nodeを クラスタに追加します。<br/>&emsp;・<b>準備</b> - 本章のコマンドを実行するための設定を行います。<br/>&emsp;・<b>サーバの追加生成</b> - Data Nodeを生成する先のサーバを生成します。<br/>&emsp;・<b>インベントリへホストを追加</b> - 追加したホスト情報を既存のインベントリに追記します。<br/>&emsp;・<b>追加したホストへのインストール</b> - 追加したホストに、Elasticsearchをインストールし、設定します。<br/>&emsp;・<b>クラスタの状態確認</b> - クラスタに追加したData Nodeが参加できているか確認します。<br/>&emsp;・<b>Data Node追加・障害復旧時の注意点</b> - Data Nodeを追加したり、一度障害が発生してクラスタから抜けたData Nodeを復旧させる際の注意点について説明します。</div><br/><div><a href=\"01_51_Force_Merge.ipynb\" target=\"_blank\"><b>01_51_Force_Merge</b></a><br/><b>Force Merge操作</b> - ディスクの使用量を削減するために、強制的な Merge操作によってセグメント数を減らします。<br/>&emsp;・<b>準備</b> - 本章のコマンドを実行するための設定を行います。  <br/>&emsp;・<b>削除可能なデータ件数の確認</b> - 削除フラグがonの状態のデータが何件あるか、Indices Statsで確認します。<br/>&emsp;・<b>Force Merge APIの発行</b> - 実際にAPIを発行します。</div><br/><div><a href=\"01_52_Backup_Restore.ipynb\" target=\"_blank\"><b>01_52_Backup_Restore</b></a><br/><b>バックアップ＆リストア</b> - Data&nbsp;Node上にあるデータのバックアップと リストアについて説明します。<br/>&emsp;・<b>準備</b><br/>&emsp;・<b>バックアップ</b> - バックアップ方法について説明します。<br/>&emsp;・<b>リストア</b> - リストア方法について説明します。</div><br/><div><a href=\"02_Search.ipynb\" target=\"_blank\"><b>02_Search</b></a><br/><b>サーチエンジンとしての利用手順(検索)</b> - 様々な条件で投入したドキュメントを検索する 方法について説明します。<br/>&emsp;・<b>サーチエンジンとしてのElasticsearch</b><br/>&emsp;・<b>リクエストの基本構文</b><br/>&emsp;・<b>ドキュメントの検索</b><br/>&emsp;・<b>ドキュメントの追加</b><br/>&emsp;・<b>ドキュメントの更新</b><br/>&emsp;・<b>ドキュメントの削除</b><br/>&emsp;・<b>大量データ取得時の検索</b><br/>&emsp;・<b>実行クエリ解析</b></div><br/><div><a href=\"03_Aggregation.ipynb\" target=\"_blank\"><b>03_Aggregation</b></a><br/><b>サーチエンジンとしての利用手順(集計)</b> - 検索したドキュメントをさらに集計する 方法について説明します。<br/>&emsp;・<b>準備</b><br/>&emsp;・<b>Aggregationとは</b><br/>&emsp;・<b>リクエストの基本構文</b><br/>&emsp;・<b>レスポンスの基本構文</b><br/>&emsp;・<b>Metrics Aggregations</b><br/>&emsp;・<b>Bucket Aggregations</b><br/>&emsp;・<b>Pipeline Aggregations</b><br/>&emsp;・<b>Matrix Aggregations</b><br/>&emsp;・<b>実行クエリ解析</b></div><br/><div><a href=\"04_Store_Data.ipynb\" target=\"_blank\"><b>04_Store_Data</b></a><br/><b>サーチエンジンとしての利用手順(データ蓄積)</b> - LogstashからElasticsearchへ、様々な形式の データを蓄積する方法について説明します。<br/>&emsp;・<b>準備</b><br/>&emsp;・<b>Logstashとは</b><br/>&emsp;・<b>Logstashの設定</b><br/>&emsp;・<b>データフォーマット</b><br/>&emsp;・<b>データ加工</b><br/>&emsp;・<b>Ingest Nodeの利用方法</b><br/>&emsp;・<b>トラブルシューティング</b></div><br/><div><a href=\"05_Indexing.ipynb\" target=\"_blank\"><b>05_Indexing</b></a><br/><b>サーチエンジンとしての利用手順(インデックス設計)</b> - インデックスに与えるマッピング定義の内容や、 reindexの方法について説明します。<br/>&emsp;・<b>準備</b><br/>&emsp;・<b>マッピング設定</b><br/>&emsp;・<b>マッピングの設定方法と注意点</b><br/>&emsp;・<b>reindex APIを使った投入後データの加工方法</b><br/>&emsp;・<b>パラメータ設定</b></div><br/><div><a href=\"99_Summarizing notebooks.ipynb\" target=\"_blank\"><b>99_Summarizing notebooks</b></a><br/><b>About: Notebookの利用フローまとめ</b> - Notebookの利用フローを図としてまとめる例です。<br/><b>必要なツール</b> - このNotebookの実行には[blockdiag](http://blockdiag.com/ja/blockdiag/)が必要です。<br/><b>ブロック図による一覧生成</b> - 以下のセルを実行(`Run All Below`)することで、Notebookがそれぞれどのような局面での利用を想定しているのか、ブロック図で確認することができます。<br/>&emsp;・<b>雛形の生成</b> - まず、Notebookの利用フローを表したブロック図の雛形を作成します。<br/>&emsp;・<b>詳細情報の埋め込み</b> - 生成した雛形に対して、見出しの情報など詳細な情報を埋め込みます。<br/><b>後始末</b> - 一時ファイルを削除します。</div><br/>"
      ],
      "text/plain": [
       "<IPython.core.display.HTML object>"
      ]
     },
     "metadata": {},
     "output_type": "display_data"
    }
   ],
   "source": [
    "%run scripts/get-display-contents.py\n",
    "display_notebook_contents()"
   ]
  },
  {
   "cell_type": "markdown",
   "metadata": {
    "lc_cell_meme": {
     "current": "762cbb3a-1537-11e7-b31a-0242ac12000d",
     "next": "762cbdce-1537-11e7-b31a-0242ac12000d",
     "previous": "762cb96e-1537-11e7-b31a-0242ac12000d"
    },
    "run_control": {
     "frozen": false,
     "read_only": false
    }
   },
   "source": [
    "## お手本Notebookと証跡Notebook\n",
    "\n",
    "お手本Notebookを使う場合は、お手本をコピーし、そのコピーを開きます。このように、**お手本と作業証跡は明確に分けながら作業をおこないます。**\n",
    "\n",
    "また、お手本をコピーする際は、 `YYYYMMDD_NN_` といった実施日を示すプレフィックスを付加することで、後で整理しやすくしています。"
   ]
  },
  {
   "cell_type": "markdown",
   "metadata": {
    "lc_cell_meme": {
     "current": "762cbdce-1537-11e7-b31a-0242ac12000d",
     "next": "762cbfe0-1537-11e7-b31a-0242ac12000d",
     "previous": "762cbb3a-1537-11e7-b31a-0242ac12000d"
    },
    "run_control": {
     "frozen": false,
     "read_only": false
    }
   },
   "source": [
    "## 実際にお手本Notebookを使ってみる\n",
    "\n",
    "以下のJavaScriptを実行することで、簡単にお手本から作業用Notebookを作成することもできます。\n",
    "\n",
    "以下のセルを実行すると、Notebook名のドロップダウンリストと[作業開始]ボタンが現れます。\n",
    "[作業開始]ボタンを押すと、お手本Notebookのコピーを作成した後、自動的にブラウザでコピーが開きます。\n",
    "Notebookの説明を確認しながら実行、適宜修正しながら実行していってください。"
   ]
  },
  {
   "cell_type": "code",
   "execution_count": 3,
   "metadata": {
    "lc_cell_meme": {
     "current": "762cbfe0-1537-11e7-b31a-0242ac12000d",
     "next": "762cc1c0-1537-11e7-b31a-0242ac12000d",
     "previous": "762cbdce-1537-11e7-b31a-0242ac12000d"
    },
    "run_control": {
     "frozen": true,
     "read_only": true
    }
   },
   "outputs": [
    {
     "data": {
      "text/html": [
       "\n",
       "<script type=\"text/Javascript\">\n",
       "    function copy_otehon() {\n",
       "        var sel = document.getElementById('selector');\n",
       "        IPython.notebook.kernel.execute('copy_ref_notebook(\"' + sel.options[sel.selectedIndex].value + '\")',\n",
       "                       {'iopub': {'output': function(msg) {\n",
       "                           window.open(msg.content.text, '_blank')\n",
       "                       }}});\n",
       "    }\n",
       "</script>\n",
       "<select id=\"selector\"><option value=\"00_Prerequisites for Literate Computing via Notebooks.ipynb\">00_Prerequisites for Literate Computing via Notebooks</option><option value=\"01_01_Outline.ipynb\">01_01_Outline</option><option value=\"01_02_Accommodation_AWS.ipynb\">01_02_Accommodation_AWS</option><option value=\"01_02g_Accommodation_GCE.ipynb\">01_02g_Accommodation_GCE</option><option value=\"01_03_Set_Inventory.ipynb\">01_03_Set_Inventory</option><option value=\"01_04_Install.ipynb\">01_04_Install</option><option value=\"01_05_Diagnostics.ipynb\">01_05_Diagnostics</option><option value=\"01_50_Add_Data_Node.ipynb\">01_50_Add_Data_Node</option><option value=\"01_51_Force_Merge.ipynb\">01_51_Force_Merge</option><option value=\"01_52_Backup_Restore.ipynb\">01_52_Backup_Restore</option><option value=\"02_Search.ipynb\">02_Search</option><option value=\"03_Aggregation.ipynb\">03_Aggregation</option><option value=\"04_Store_Data.ipynb\">04_Store_Data</option><option value=\"05_Indexing.ipynb\">05_Indexing</option><option value=\"99_Summarizing notebooks.ipynb\">99_Summarizing notebooks</option></select><button onclick=\"copy_otehon()\">作業開始</button>"
      ],
      "text/plain": [
       "<IPython.core.display.HTML object>"
      ]
     },
     "execution_count": 3,
     "metadata": {},
     "output_type": "execute_result"
    }
   ],
   "source": [
    "from datetime import datetime\n",
    "import shutil\n",
    "\n",
    "def copy_ref_notebook(src):\n",
    "    prefix = datetime.now().strftime('%Y%m%d') + '_'\n",
    "    index = len(filter(lambda name: name.startswith(prefix), os.listdir('.'))) + 1\n",
    "    new_notebook = '{0}{1:0>2}_{2}'.format(prefix, index, src)\n",
    "    shutil.copyfile(src, new_notebook)\n",
    "    print(new_notebook)\n",
    "\n",
    "ref_notebooks = filter(lambda m: m, map(lambda n: re.match(r'([0-9][0-9a-z]+_.*)\\.ipynb', n), os.listdir('.')))\n",
    "ref_notebooks = sorted(ref_notebooks, key=lambda m: m.group(1))\n",
    "\n",
    "frags = map(lambda m: '<option value=\"{name}\">{title}</option>'.format(name=m.group(0), title=m.group(1)),\n",
    "            ref_notebooks)\n",
    "HTML('''\n",
    "<script type=\"text/Javascript\">\n",
    "    function copy_otehon() {\n",
    "        var sel = document.getElementById('selector');\n",
    "        IPython.notebook.kernel.execute('copy_ref_notebook(\"' + sel.options[sel.selectedIndex].value + '\")',\n",
    "                       {'iopub': {'output': function(msg) {\n",
    "                           window.open(msg.content.text, '_blank')\n",
    "                       }}});\n",
    "    }\n",
    "</script>\n",
    "<select id=\"selector\">''' + ''.join(frags) + '</select><button onclick=\"copy_otehon()\">作業開始</button>')"
   ]
  },
  {
   "cell_type": "markdown",
   "metadata": {
    "collapsed": true,
    "lc_cell_meme": {
     "current": "762cc1c0-1537-11e7-b31a-0242ac12000d",
     "next": "762cc38c-1537-11e7-b31a-0242ac12000d",
     "previous": "762cbfe0-1537-11e7-b31a-0242ac12000d"
    },
    "run_control": {
     "frozen": false,
     "read_only": false
    }
   },
   "source": [
    "## お手本のアーカイブ\n",
    "\n",
    "以下のセルで、お手本NotebookのZIPアーカイブを作成できます"
   ]
  },
  {
   "cell_type": "code",
   "execution_count": 5,
   "metadata": {
    "lc_cell_meme": {
     "current": "762cc38c-1537-11e7-b31a-0242ac12000d",
     "history": [
      {
       "current": "762cc38c-1537-11e7-b31a-0242ac12000d",
       "next": null,
       "previous": "762cc1c0-1537-11e7-b31a-0242ac12000d"
      }
     ],
     "next": "d0293c52-1fd8-11e7-b31a-0242ac12000d",
     "previous": "762cc1c0-1537-11e7-b31a-0242ac12000d"
    },
    "nbpresent": {
     "id": "1ef6727d-43a6-4d8c-924e-6eddb0e97a85"
    },
    "run_control": {
     "frozen": true,
     "read_only": true
    },
    "scrolled": true
   },
   "outputs": [
    {
     "name": "stdout",
     "output_type": "stream",
     "text": [
      "updating: 00_Prerequisites for Literate Computing via Notebooks.ipynb (deflated 76%)\n",
      "updating: 01_01_Outline.ipynb (deflated 81%)\n",
      "updating: 01_02_Accommodation_AWS.ipynb (deflated 85%)\n",
      "updating: 01_02g_Accommodation_GCE.ipynb (deflated 86%)\n",
      "updating: 01_03_Set_Inventory.ipynb (deflated 86%)\n",
      "updating: 01_04_Install.ipynb (deflated 87%)\n",
      "updating: 01_05_Diagnostics.ipynb (deflated 89%)\n",
      "updating: 01_50_Add_Data_Node.ipynb (deflated 80%)\n",
      "updating: 01_51_Force_Merge.ipynb (deflated 95%)\n",
      "updating: 01_52_Backup_Restore.ipynb (deflated 86%)\n",
      "updating: 02_Search.ipynb (deflated 92%)\n",
      "updating: 03_Aggregation.ipynb (deflated 94%)\n",
      "updating: 04_Store_Data.ipynb (deflated 88%)\n",
      "updating: 05_Indexing.ipynb (deflated 90%)\n",
      "updating: 99_Summarizing notebooks.ipynb (deflated 89%)\n",
      "updating: Delete_01_06_Manual-Operation.ipynb (deflated 94%)\n",
      "updating: Delete_01_07_Troubleshooting.ipynb (deflated 88%)\n",
      "updating: Readme.ipynb (deflated 84%)\n",
      "updating: logstash_conf/csv.conf (deflated 53%)\n",
      "updating: logstash_conf/document_id.conf (deflated 54%)\n",
      "updating: logstash_conf/geoip.conf (deflated 45%)\n",
      "updating: logstash_conf/json.conf (deflated 30%)\n",
      "updating: logstash_conf/json_multiline.conf (deflated 41%)\n",
      "updating: logstash_conf/ltsv.conf (deflated 81%)\n",
      "updating: logstash_conf/main.conf (deflated 53%)\n",
      "updating: logstash_conf/multi_line.conf (deflated 77%)\n",
      "updating: logstash_conf/single_line.conf (deflated 78%)\n",
      "updating: logstash_conf/tsv.conf (deflated 53%)\n",
      "updating: logstash_conf/useragent.conf (deflated 36%)\n",
      "updating: playbooks/copy_logstash_conf.yml (deflated 35%)\n",
      "updating: playbooks/copy_sample_data.yml (deflated 28%)\n",
      "updating: playbooks/install_elasticsearch.yml (deflated 36%)\n",
      "updating: playbooks/install_jdk.yml (deflated 52%)\n",
      "updating: playbooks/install_logstash.yml (deflated 34%)\n",
      "updating: playbooks/set_api_parameter.yml (deflated 37%)\n",
      "updating: playbooks/set_elasticsearch.yml (deflated 74%)\n",
      "updating: playbooks/set_heap-size.yml (deflated 54%)\n",
      "updating: playbooks/set_iptables-rule.yml (deflated 57%)\n",
      "updating: playbooks/set_kernelparameter.yml (deflated 39%)\n",
      "updating: playbooks/set_test.yml (deflated 35%)\n",
      "updating: playbooks/start_cluster.yml (deflated 33%)\n",
      "updating: sample_data/geoip.csv (deflated 79%)\n",
      "updating: sample_data/geoip.json (deflated 79%)\n",
      "updating: sample_data/mapping.txt (deflated 76%)\n",
      "updating: sample_data/multi_line.txt (deflated 61%)\n",
      "updating: sample_data/single_line.txt (deflated 43%)\n",
      "updating: sample_data/tokyo2015.csv (deflated 74%)\n",
      "updating: sample_data/useragent.txt (deflated 38%)\n",
      "updating: sample_data/weather.csv (deflated 62%)\n",
      "updating: sample_data/weather.json (deflated 89%)\n",
      "updating: sample_data/weather.ltsv (deflated 50%)\n",
      "updating: sample_data/weather.tsv (deflated 62%)\n",
      "updating: sample_data/weather_multiline.json (deflated 89%)\n",
      "updating: images/01_1server.png (deflated 10%)\n",
      "updating: images/01_5server.png (deflated 23%)\n",
      "updating: images/01_basic_concept.png (deflated 17%)\n",
      "updating: images/01_node_type.png (deflated 7%)\n",
      "updating: images/01_server_construction.png (deflated 10%)\n",
      "updating: images/03_pipeline.png (deflated 16%)\n",
      "updating: images/images.pptx (deflated 19%)\n",
      "updating: images/notebooks-filled.svg (deflated 90%)\n",
      "  adding: scripts/generate-diagram.py (deflated 73%)\n",
      "  adding: scripts/get-display-contents.py (deflated 49%)\n",
      "  adding: scripts/get-json-repr.py (deflated 46%)\n",
      "  adding: scripts/get-replace-file.py (deflated 52%)\n",
      "  adding: scripts/get-struct-selector.py (deflated 61%)\n"
     ]
    }
   ],
   "source": [
    "ref_notebooks = filter(lambda m: m, map(lambda n: re.match(r'([A-Z][0-9][0-9a-z]+_.*)\\.ipynb', n), os.listdir('.')))\n",
    "ref_notebooks = sorted(ref_notebooks, key=lambda m: m.group(1))\n",
    "!zip ref_notebooks-{datetime.now().strftime('%Y%m%d')}.zip *.ipynb {' '.join(map(lambda n: '\"' + n.group(0) + '\"', ref_notebooks))} logstash_conf/* playbooks/*.yml sample_data/* images/* scripts/* "
   ]
  },
  {
   "cell_type": "code",
   "execution_count": null,
   "metadata": {
    "collapsed": true,
    "lc_cell_meme": {
     "current": "d0293c52-1fd8-11e7-b31a-0242ac12000d",
     "next": null,
     "previous": "762cc38c-1537-11e7-b31a-0242ac12000d"
    }
   },
   "outputs": [],
   "source": []
  }
 ],
 "metadata": {
  "anaconda-cloud": {},
  "kernelspec": {
   "display_name": "Python 2",
   "language": "python",
   "name": "python2"
  },
  "language_info": {
   "codemirror_mode": {
    "name": "ipython",
    "version": 2
   },
   "file_extension": ".py",
   "mimetype": "text/x-python",
   "name": "python",
   "nbconvert_exporter": "python",
   "pygments_lexer": "ipython2",
   "version": "2.7.9"
  },
  "lc_notebook_meme": {
   "current": "762caa8c-1537-11e7-b31a-0242ac12000d",
   "lc_server_signature": {
    "history": []
   }
  },
  "toc": {
   "colors": {
    "hover_highlight": "#DAA520",
    "running_highlight": "#FF0000",
    "selected_highlight": "#FFD700"
   },
   "moveMenuLeft": true,
   "nav_menu": {
    "height": "191px",
    "width": "252px"
   },
   "navigate_menu": true,
   "number_sections": true,
   "sideBar": true,
   "threshold": 4,
   "toc_cell": false,
   "toc_section_display": "block",
   "toc_window_display": true,
   "widenNotebook": false
  }
 },
 "nbformat": 4,
 "nbformat_minor": 1
}
