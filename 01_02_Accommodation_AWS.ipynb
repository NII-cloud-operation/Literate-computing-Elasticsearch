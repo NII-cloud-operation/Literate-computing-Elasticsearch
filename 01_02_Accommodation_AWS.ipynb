{
 "cells": [
  {
   "cell_type": "markdown",
   "metadata": {
    "lc_cell_meme": {
     "current": "0ab0c5c4-14ea-11e7-b31a-0242ac12000d",
     "next": "0ab0c808-14ea-11e7-b31a-0242ac12000d",
     "previous": null
    },
    "run_control": {
     "frozen": false,
     "read_only": false
    }
   },
   "source": [
    "# Elastic Stackの構築手順：収容（AWS）\n",
    "\n",
    "----\n",
    "\n",
    "Elasticsearchのインストール先となる Amazon&nbsp;EC2インスタンスを確保します。  "
   ]
  },
  {
   "cell_type": "markdown",
   "metadata": {
    "lc_cell_meme": {
     "current": "0ab0c808-14ea-11e7-b31a-0242ac12000d",
     "next": "0ab0ca06-14ea-11e7-b31a-0242ac12000d",
     "previous": "0ab0c5c4-14ea-11e7-b31a-0242ac12000d"
    },
    "run_control": {
     "frozen": false,
     "read_only": false
    }
   },
   "source": [
    "## 設定\n",
    "インスタンスの生成に必要な情報を設定します。"
   ]
  },
  {
   "cell_type": "markdown",
   "metadata": {
    "lc_cell_meme": {
     "current": "0ab0ca06-14ea-11e7-b31a-0242ac12000d",
     "next": "0ab0cbf0-14ea-11e7-b31a-0242ac12000d",
     "previous": "0ab0c808-14ea-11e7-b31a-0242ac12000d"
    },
    "run_control": {
     "frozen": false,
     "read_only": false
    }
   },
   "source": [
    "マシンイメージを設定します。"
   ]
  },
  {
   "cell_type": "code",
   "execution_count": 2,
   "metadata": {
    "collapsed": true,
    "lc_cell_meme": {
     "current": "0ab0cbf0-14ea-11e7-b31a-0242ac12000d",
     "next": "0ab0cde4-14ea-11e7-b31a-0242ac12000d",
     "previous": "0ab0ca06-14ea-11e7-b31a-0242ac12000d"
    },
    "run_control": {
     "frozen": false,
     "read_only": false
    }
   },
   "outputs": [],
   "source": [
    "image_id = 'ami-eec1c380'\n",
    "#CentOS 7 (x86_64) - with Updates HVM\n",
    "#アジアパシフィック東京リージョン"
   ]
  },
  {
   "cell_type": "markdown",
   "metadata": {
    "lc_cell_meme": {
     "current": "0ab0cde4-14ea-11e7-b31a-0242ac12000d",
     "next": "0ab0cfba-14ea-11e7-b31a-0242ac12000d",
     "previous": "0ab0cbf0-14ea-11e7-b31a-0242ac12000d"
    },
    "run_control": {
     "frozen": false,
     "read_only": false
    }
   },
   "source": [
    "インスタンスタイプを設定します。  \n",
    "[Amazon EC2 インスタンス](https://aws.amazon.com/jp/ec2/instance-types/)のページから適切なタイプを選択してください。\n",
    "\n",
    "例えば64GBのメモリを利用するのであれば **m4.4xlarge** が選択候補となります。  \n",
    "利用したいサイズに応じてタイプを選んで下さい。"
   ]
  },
  {
   "cell_type": "code",
   "execution_count": 3,
   "metadata": {
    "collapsed": false,
    "lc_cell_meme": {
     "current": "0ab0cfba-14ea-11e7-b31a-0242ac12000d",
     "next": "0ab0d190-14ea-11e7-b31a-0242ac12000d",
     "previous": "0ab0cde4-14ea-11e7-b31a-0242ac12000d"
    },
    "run_control": {
     "frozen": false,
     "read_only": false
    }
   },
   "outputs": [],
   "source": [
    "instance_type = 'm4.4xlarge'"
   ]
  },
  {
   "cell_type": "markdown",
   "metadata": {
    "lc_cell_meme": {
     "current": "0ab0d190-14ea-11e7-b31a-0242ac12000d",
     "next": "0ab0d366-14ea-11e7-b31a-0242ac12000d",
     "previous": "0ab0cfba-14ea-11e7-b31a-0242ac12000d"
    },
    "run_control": {
     "frozen": false,
     "read_only": false
    }
   },
   "source": [
    "どのロケーションにインスタンスを作成するかを設定します。"
   ]
  },
  {
   "cell_type": "code",
   "execution_count": 4,
   "metadata": {
    "collapsed": true,
    "lc_cell_meme": {
     "current": "0ab0d366-14ea-11e7-b31a-0242ac12000d",
     "next": "0ab0d546-14ea-11e7-b31a-0242ac12000d",
     "previous": "0ab0d190-14ea-11e7-b31a-0242ac12000d"
    },
    "run_control": {
     "frozen": false,
     "read_only": false
    }
   },
   "outputs": [],
   "source": [
    "location = 'Asia Pacific (Tokyo)'"
   ]
  },
  {
   "cell_type": "markdown",
   "metadata": {
    "lc_cell_meme": {
     "current": "0ab0d546-14ea-11e7-b31a-0242ac12000d",
     "next": "0ab0d712-14ea-11e7-b31a-0242ac12000d",
     "previous": "0ab0d366-14ea-11e7-b31a-0242ac12000d"
    },
    "run_control": {
     "frozen": false,
     "read_only": false
    }
   },
   "source": [
    "作成するインスタンス数を設定します。"
   ]
  },
  {
   "cell_type": "code",
   "execution_count": 5,
   "metadata": {
    "collapsed": true,
    "lc_cell_meme": {
     "current": "0ab0d712-14ea-11e7-b31a-0242ac12000d",
     "next": "0ab0d8d4-14ea-11e7-b31a-0242ac12000d",
     "previous": "0ab0d546-14ea-11e7-b31a-0242ac12000d"
    },
    "run_control": {
     "frozen": false,
     "read_only": false
    }
   },
   "outputs": [],
   "source": [
    "instance_count = 3"
   ]
  },
  {
   "cell_type": "markdown",
   "metadata": {
    "lc_cell_meme": {
     "current": "0ab0d8d4-14ea-11e7-b31a-0242ac12000d",
     "next": "0ab0dab4-14ea-11e7-b31a-0242ac12000d",
     "previous": "0ab0d712-14ea-11e7-b31a-0242ac12000d"
    },
    "run_control": {
     "frozen": false,
     "read_only": false
    }
   },
   "source": [
    "データ蓄積ディスクとなる[EBS](http://docs.aws.amazon.com/ja_jp/AWSEC2/latest/UserGuide/AmazonEBS.html)の[ブロックデバイスマッピング](http://docs.aws.amazon.com/ja_jp/AWSEC2/latest/UserGuide/block-device-mapping-concepts.html)設定を行います。  \n",
    "`VolumeSize`、`VolumeType`を設定してください。  \n",
    "`DeleteOnTermination`にtrueを設定すると、インスタンス破棄時にEBSが削除されます。  \n"
   ]
  },
  {
   "cell_type": "code",
   "execution_count": 6,
   "metadata": {
    "collapsed": true,
    "lc_cell_meme": {
     "current": "0ab0dab4-14ea-11e7-b31a-0242ac12000d",
     "next": "0ab0dc80-14ea-11e7-b31a-0242ac12000d",
     "previous": "0ab0d8d4-14ea-11e7-b31a-0242ac12000d"
    },
    "run_control": {
     "frozen": false,
     "read_only": false
    }
   },
   "outputs": [],
   "source": [
    "block_device_mappings = {\n",
    "    \"DeviceName\": \"/dev/sda1\",\n",
    "    \"Ebs\": {\n",
    "      \"VolumeSize\": 1024,\n",
    "      \"VolumeType\": \"gp2\",\n",
    "      \"DeleteOnTermination\": \"true\",\n",
    "    }\n",
    "}"
   ]
  },
  {
   "cell_type": "markdown",
   "metadata": {
    "lc_cell_meme": {
     "current": "0ab0dc80-14ea-11e7-b31a-0242ac12000d",
     "next": "0ab0de56-14ea-11e7-b31a-0242ac12000d",
     "previous": "0ab0dab4-14ea-11e7-b31a-0242ac12000d"
    },
    "run_control": {
     "frozen": false,
     "read_only": false
    }
   },
   "source": [
    "インスタンス群に付与する名前を設定します。  \n",
    "この名前は、後の処理でタグのNameキーに設定されます。"
   ]
  },
  {
   "cell_type": "code",
   "execution_count": 7,
   "metadata": {
    "collapsed": true,
    "lc_cell_meme": {
     "current": "0ab0de56-14ea-11e7-b31a-0242ac12000d",
     "next": "0ab0e022-14ea-11e7-b31a-0242ac12000d",
     "previous": "0ab0dc80-14ea-11e7-b31a-0242ac12000d"
    },
    "run_control": {
     "frozen": false,
     "read_only": false
    }
   },
   "outputs": [],
   "source": [
    "instance_name='es-cluster'"
   ]
  },
  {
   "cell_type": "markdown",
   "metadata": {
    "lc_cell_meme": {
     "current": "0ab0e022-14ea-11e7-b31a-0242ac12000d",
     "next": "0ab0e1ee-14ea-11e7-b31a-0242ac12000d",
     "previous": "0ab0de56-14ea-11e7-b31a-0242ac12000d"
    },
    "run_control": {
     "frozen": false,
     "read_only": false
    }
   },
   "source": [
    "[キーペア](http://docs.aws.amazon.com/ja_jp/AWSEC2/latest/UserGuide/ec2-key-pairs.html#having-ec2-create-your-key-pair)は、以下の公開鍵をインポートしておきます。"
   ]
  },
  {
   "cell_type": "code",
   "execution_count": 8,
   "metadata": {
    "collapsed": false,
    "lc_cell_meme": {
     "current": "0ab0e1ee-14ea-11e7-b31a-0242ac12000d",
     "next": "0ab0e3ba-14ea-11e7-b31a-0242ac12000d",
     "previous": "0ab0e022-14ea-11e7-b31a-0242ac12000d"
    },
    "run_control": {
     "frozen": false,
     "read_only": false
    }
   },
   "outputs": [
    {
     "name": "stdout",
     "output_type": "stream",
     "text": [
      "ssh-rsa XXXXXXXXXXXXXXXXXXXXXXXXXXXXXXXXXXXXXXXXXXXXXXXXXXXXXXXXXXXXXXXXXXXXXXXXXXXXXXXXXXXXXXXXXXXXXXXXXXXXXXXXXXXXXXXXXXXXXXXXXXXXXXXXXXXXXXXXXXXXXXXXXXXXXXXXXXXXXXXXXXXXXXXXXXXXXXXXXXXXXXXXXXXXXXXXXXXXXXXXXXXXXXXXXXXXXXXXXXXXXXXXXXXXXXXXXXXXXXXXXXXXXXXXXXXXXXXXXXXXXXXXXXXXXXXXXXXXXXXXXXXXXXXXXXXXXXXXXXXXXXXXXXXXXXXXXXXXXXXXXXXXXXXXXXXXXXXXXXXXXXXXXXXXXXXXXXXXXXXXXXXXXXXXXXXX ansible@XXXXXXXXXXXX\r\n"
     ]
    }
   ],
   "source": [
    "!cat ~/.ssh/ansible_id_rsa.pub"
   ]
  },
  {
   "cell_type": "markdown",
   "metadata": {
    "lc_cell_meme": {
     "current": "0ab0e3ba-14ea-11e7-b31a-0242ac12000d",
     "next": "0ab0e6f8-14ea-11e7-b31a-0242ac12000d",
     "previous": "0ab0e1ee-14ea-11e7-b31a-0242ac12000d"
    },
    "run_control": {
     "frozen": false,
     "read_only": false
    }
   },
   "source": [
    "使用するキーペア名を設定します。"
   ]
  },
  {
   "cell_type": "code",
   "execution_count": 9,
   "metadata": {
    "collapsed": true,
    "lc_cell_meme": {
     "current": "0ab0e6f8-14ea-11e7-b31a-0242ac12000d",
     "next": "0ab0e946-14ea-11e7-b31a-0242ac12000d",
     "previous": "0ab0e3ba-14ea-11e7-b31a-0242ac12000d"
    },
    "run_control": {
     "frozen": false,
     "read_only": false
    }
   },
   "outputs": [],
   "source": [
    "keypair_name = 'jupyter-aws'"
   ]
  },
  {
   "cell_type": "markdown",
   "metadata": {
    "lc_cell_meme": {
     "current": "0ab0fd32-14ea-11e7-b31a-0242ac12000d",
     "history": [
      {
       "current": "0ab0fd32-14ea-11e7-b31a-0242ac12000d",
       "next": "0ab0ff08-14ea-11e7-b31a-0242ac12000d",
       "previous": "0ab0fb70-14ea-11e7-b31a-0242ac12000d"
      },
      {
       "current": "0ab0fd32-14ea-11e7-b31a-0242ac12000d",
       "next": "0ab100d4-14ea-11e7-b31a-0242ac12000d",
       "previous": "0ab0e946-14ea-11e7-b31a-0242ac12000d"
      }
     ],
     "next": "0ab100d4-14ea-11e7-b31a-0242ac12000d",
     "previous": "0ab0e6f8-14ea-11e7-b31a-0242ac12000d"
    },
    "run_control": {
     "frozen": false,
     "read_only": false
    }
   },
   "source": [
    "セキュリティグループIDを設定してください。"
   ]
  },
  {
   "cell_type": "code",
   "execution_count": 16,
   "metadata": {
    "collapsed": true,
    "lc_cell_meme": {
     "current": "0ab100d4-14ea-11e7-b31a-0242ac12000d",
     "history": [
      {
       "current": "0ab100d4-14ea-11e7-b31a-0242ac12000d",
       "next": "0ab102a0-14ea-11e7-b31a-0242ac12000d",
       "previous": "0ab0ff08-14ea-11e7-b31a-0242ac12000d"
      },
      {
       "current": "0ab100d4-14ea-11e7-b31a-0242ac12000d",
       "next": "0ab0eb1c-14ea-11e7-b31a-0242ac12000d",
       "previous": "0ab0fd32-14ea-11e7-b31a-0242ac12000d"
      }
     ],
     "next": "0ab0e946-14ea-11e7-b31a-0242ac12000d",
     "previous": "0ab0fd32-14ea-11e7-b31a-0242ac12000d"
    },
    "run_control": {
     "frozen": false,
     "read_only": false
    }
   },
   "outputs": [],
   "source": [
    "security_group_id = 'sg-0adf9f6d'"
   ]
  },
  {
   "cell_type": "markdown",
   "metadata": {
    "lc_cell_meme": {
     "current": "0ab0e946-14ea-11e7-b31a-0242ac12000d",
     "history": [
      {
     "current": "0ab0e946-14ea-11e7-b31a-0242ac12000d",
     "next": "0ab0eb1c-14ea-11e7-b31a-0242ac12000d",
     "previous": "0ab0e6f8-14ea-11e7-b31a-0242ac12000d"
    },
      {
       "current": "0ab0e946-14ea-11e7-b31a-0242ac12000d",
       "next": "0ab0fd32-14ea-11e7-b31a-0242ac12000d",
       "previous": "0ab0e6f8-14ea-11e7-b31a-0242ac12000d"
      }
     ],
     "next": "0ab0eb1c-14ea-11e7-b31a-0242ac12000d",
     "previous": "0ab100d4-14ea-11e7-b31a-0242ac12000d"
    },
    "run_control": {
     "frozen": false,
     "read_only": false
    }
   },
   "source": [
    "以下、VPCと、必要ならばサブネットを設定します。    \n",
    "デフォルトのVPCを利用するか否かで、次の\n",
    "- デフォルトのVPCを利用する場合\n",
    "- デフォルトのVPCを利用しない場合\n",
    "\n",
    "のどちらかの節を実行してください。\n",
    "\n",
    "<font color=\"red\">このNotebookの最初の状態としては、[デフォルトのVPCを利用しない場合](#デフォルトのVPCを利用しない場合)の各コマンドはコメントアウトしています。</font>"
   ]
  },
  {
   "cell_type": "markdown",
   "metadata": {
    "lc_cell_meme": {
     "current": "0ab0eb1c-14ea-11e7-b31a-0242ac12000d",
     "next": "0ab0ecfc-14ea-11e7-b31a-0242ac12000d",
     "previous": "0ab0e946-14ea-11e7-b31a-0242ac12000d"
    },
    "run_control": {
     "frozen": false,
     "read_only": false
    }
   },
   "source": [
    "### デフォルトのVPCを利用する場合  \n",
    "セキュリティグループ名のみを設定してください。"
   ]
  },
  {
   "cell_type": "code",
   "execution_count": 10,
   "metadata": {
    "collapsed": true,
    "lc_cell_meme": {
     "current": "0ab0ecfc-14ea-11e7-b31a-0242ac12000d",
     "next": "0ab0eebe-14ea-11e7-b31a-0242ac12000d",
     "previous": "0ab0eb1c-14ea-11e7-b31a-0242ac12000d"
    },
    "run_control": {
     "frozen": false,
     "read_only": false
    }
   },
   "outputs": [],
   "source": [
    "security_group = 'juypter-group'"
   ]
  },
  {
   "cell_type": "markdown",
   "metadata": {
    "lc_cell_meme": {
     "current": "0ab0eebe-14ea-11e7-b31a-0242ac12000d",
     "next": "0ab0f08a-14ea-11e7-b31a-0242ac12000d",
     "previous": "0ab0ecfc-14ea-11e7-b31a-0242ac12000d"
    },
    "run_control": {
     "frozen": false,
     "read_only": false
    }
   },
   "source": [
    "### デフォルトのVPCを利用しない場合\n",
    "VPC内のサブネットIDと、セキュリティグループ**ID**（グループ名ではない）を設定してください。  \n",
    "※それぞれのIDが既にわかっている場合はVPCの調査をスキップし、最後のID設定のセルのみ実施してください。"
   ]
  },
  {
   "cell_type": "markdown",
   "metadata": {
    "lc_cell_meme": {
     "current": "0ab0f08a-14ea-11e7-b31a-0242ac12000d",
     "next": "0ab0f24c-14ea-11e7-b31a-0242ac12000d",
     "previous": "0ab0eebe-14ea-11e7-b31a-0242ac12000d"
    },
    "run_control": {
     "frozen": false,
     "read_only": false
    }
   },
   "source": [
    "対象となるVPCを調べます。"
   ]
  },
  {
   "cell_type": "code",
   "execution_count": 11,
   "metadata": {
    "collapsed": false,
    "lc_cell_meme": {
     "current": "0ab0f24c-14ea-11e7-b31a-0242ac12000d",
     "next": "0ab0f418-14ea-11e7-b31a-0242ac12000d",
     "previous": "0ab0f08a-14ea-11e7-b31a-0242ac12000d"
    },
    "run_control": {
     "frozen": false,
     "read_only": false
    }
   },
   "outputs": [
    {
     "name": "stdout",
     "output_type": "stream",
     "text": [
      "{\r\n",
      "    \"Vpcs\": [\r\n",
      "        {\r\n",
      "            \"VpcId\": \"vpc-11c59c74\", \r\n",
      "            \"InstanceTenancy\": \"default\", \r\n",
      "            \"State\": \"available\", \r\n",
      "            \"DhcpOptionsId\": \"dopt-c337b8a6\", \r\n",
      "            \"CidrBlock\": \"172.31.0.0/16\", \r\n",
      "            \"IsDefault\": true\r\n",
      "        }\r\n",
      "    ]\r\n",
      "}\r\n"
     ]
    }
   ],
   "source": [
    "#!aws ec2 describe-vpcs"
   ]
  },
  {
   "cell_type": "markdown",
   "metadata": {
    "lc_cell_meme": {
     "current": "0ab0f418-14ea-11e7-b31a-0242ac12000d",
     "next": "0ab0f616-14ea-11e7-b31a-0242ac12000d",
     "previous": "0ab0f24c-14ea-11e7-b31a-0242ac12000d"
    },
    "run_control": {
     "frozen": false,
     "read_only": false
    }
   },
   "source": [
    "VPCのIDを設定してください。"
   ]
  },
  {
   "cell_type": "code",
   "execution_count": 12,
   "metadata": {
    "collapsed": true,
    "lc_cell_meme": {
     "current": "0ab0f616-14ea-11e7-b31a-0242ac12000d",
     "next": "0ab0f7e2-14ea-11e7-b31a-0242ac12000d",
     "previous": "0ab0f418-14ea-11e7-b31a-0242ac12000d"
    },
    "run_control": {
     "frozen": false,
     "read_only": false
    }
   },
   "outputs": [],
   "source": [
    "#vpc_id = 'vpc-bd3b81d9'"
   ]
  },
  {
   "cell_type": "markdown",
   "metadata": {
    "lc_cell_meme": {
     "current": "0ab0f7e2-14ea-11e7-b31a-0242ac12000d",
     "next": "0ab0f9ae-14ea-11e7-b31a-0242ac12000d",
     "previous": "0ab0f616-14ea-11e7-b31a-0242ac12000d"
    },
    "run_control": {
     "frozen": false,
     "read_only": false
    }
   },
   "source": [
    "設定したIDのVPCにあるサブネットを表示し、そのIDを調べます。"
   ]
  },
  {
   "cell_type": "code",
   "execution_count": 13,
   "metadata": {
    "collapsed": false,
    "lc_cell_meme": {
     "current": "0ab0f9ae-14ea-11e7-b31a-0242ac12000d",
     "next": "0ab0fb70-14ea-11e7-b31a-0242ac12000d",
     "previous": "0ab0f7e2-14ea-11e7-b31a-0242ac12000d"
    },
    "run_control": {
     "frozen": false,
     "read_only": false
    }
   },
   "outputs": [
    {
     "name": "stdout",
     "output_type": "stream",
     "text": [
      "{\r\n",
      "    \"Subnets\": [\r\n",
      "        {\r\n",
      "            \"VpcId\": \"vpc-bd3b81d9\", \r\n",
      "            \"AvailableIpAddressCount\": 4089, \r\n",
      "            \"MapPublicIpOnLaunch\": true, \r\n",
      "            \"DefaultForAz\": false, \r\n",
      "            \"Ipv6CidrBlockAssociationSet\": [], \r\n",
      "            \"State\": \"available\", \r\n",
      "            \"AvailabilityZone\": \"ap-northeast-1c\", \r\n",
      "            \"SubnetId\": \"subnet-9646c9ce\", \r\n",
      "            \"CidrBlock\": \"172.31.16.0/20\", \r\n",
      "            \"AssignIpv6AddressOnCreation\": false\r\n",
      "        }, \r\n",
      "        {\r\n",
      "            \"VpcId\": \"vpc-bd3b81d9\", \r\n",
      "            \"AvailableIpAddressCount\": 4091, \r\n",
      "            \"MapPublicIpOnLaunch\": false, \r\n",
      "            \"DefaultForAz\": false, \r\n",
      "            \"Ipv6CidrBlockAssociationSet\": [], \r\n",
      "            \"State\": \"available\", \r\n",
      "            \"AvailabilityZone\": \"ap-northeast-1c\", \r\n",
      "            \"SubnetId\": \"subnet-8246c9da\", \r\n",
      "            \"CidrBlock\": \"172.31.0.0/20\", \r\n",
      "            \"AssignIpv6AddressOnCreation\": false\r\n",
      "        }\r\n",
      "    ]\r\n",
      "}\r\n"
     ]
    }
   ],
   "source": [
    "#!aws ec2 describe-subnets --filters \"Name=vpc-id,Values=$vpc_id\""
   ]
  },
  {
   "cell_type": "markdown",
   "metadata": {
    "lc_cell_meme": {
     "current": "0ab0fd32-14ea-11e7-b31a-0242ac12000d",
     "next": "0ab0ff08-14ea-11e7-b31a-0242ac12000d",
     "previous": "0ab0fb70-14ea-11e7-b31a-0242ac12000d"
    },
    "run_control": {
     "frozen": false,
     "read_only": false
    }
   },
   "source": [
    "サブネットIDを設定してください。"
   ]
  },
  {
   "cell_type": "code",
   "execution_count": 15,
   "metadata": {
    "collapsed": true,
    "lc_cell_meme": {
     "current": "0ab0ff08-14ea-11e7-b31a-0242ac12000d",
     "history": [
      {
       "current": "0ab0ff08-14ea-11e7-b31a-0242ac12000d",
     "next": "0ab100d4-14ea-11e7-b31a-0242ac12000d",
     "previous": "0ab0fd32-14ea-11e7-b31a-0242ac12000d"
    }
     ],
     "next": "0ab102a0-14ea-11e7-b31a-0242ac12000d",
     "previous": "0ab0fd32-14ea-11e7-b31a-0242ac12000d"
    },
    "run_control": {
     "frozen": false,
     "read_only": false
    }
   },
   "outputs": [],
   "source": [
    "#subnet_id = 'subnet-9646c9ce'"
   ]
  },
  {
   "cell_type": "markdown",
   "metadata": {
    "heading_collapsed": true,
    "lc_cell_meme": {
     "current": "0ab102a0-14ea-11e7-b31a-0242ac12000d",
     "next": "0ab10462-14ea-11e7-b31a-0242ac12000d",
     "previous": "0ab100d4-14ea-11e7-b31a-0242ac12000d"
    },
    "run_control": {
     "frozen": false,
     "read_only": false
    }
   },
   "source": [
    "## EC2インスタンスの設定と生成 \n",
    "サーバ構成に応じたEC2インスタンスの設定を定義し、インスタンスを生成します。\n",
    "\n",
    "大まかな手順は次の通りです。  \n",
    "1. AWSへのアクセスの確認\n",
    "2. インスタンスの生成\n",
    "3. セキュリティグループへの登録\n",
    "4. タグの設定\n"
   ]
  },
  {
   "cell_type": "markdown",
   "metadata": {
    "hidden": true,
    "lc_cell_meme": {
     "current": "0ab10462-14ea-11e7-b31a-0242ac12000d",
     "next": "0ab1062e-14ea-11e7-b31a-0242ac12000d",
     "previous": "0ab102a0-14ea-11e7-b31a-0242ac12000d"
    },
    "run_control": {
     "frozen": false,
     "read_only": false
    }
   },
   "source": [
    "### AWSへのアクセスの確認\n",
    "AWSのCLIが実行可能か確認します。"
   ]
  },
  {
   "cell_type": "markdown",
   "metadata": {
    "hidden": true,
    "lc_cell_meme": {
     "current": "0ab1062e-14ea-11e7-b31a-0242ac12000d",
     "next": "0ab1082c-14ea-11e7-b31a-0242ac12000d",
     "previous": "0ab10462-14ea-11e7-b31a-0242ac12000d"
    },
    "run_control": {
     "frozen": false,
     "read_only": false
    }
   },
   "source": [
    "具体的には、このNotebook環境に[AWS CLI](http://docs.aws.amazon.com/ja_jp/cli/latest/userguide/cli-chap-welcome.html)がインストールされており、[aws configure](http://docs.aws.amazon.com/ja_jp/streams/latest/dev/kinesis-tutorial-cli-installation.html#config-cli)にAWSの認証情報が登録されていることを確認します。  \n",
    "設定がされていることの確認として、Availability Zoneを列挙してみます。"
   ]
  },
  {
   "cell_type": "code",
   "execution_count": 1,
   "metadata": {
    "collapsed": false,
    "hidden": true,
    "lc_cell_meme": {
     "current": "0ab1082c-14ea-11e7-b31a-0242ac12000d",
     "next": "0ab10a02-14ea-11e7-b31a-0242ac12000d",
     "previous": "0ab1062e-14ea-11e7-b31a-0242ac12000d"
    },
    "run_control": {
     "frozen": false,
     "read_only": false
    },
    "scrolled": true
   },
   "outputs": [
    {
     "name": "stdout",
     "output_type": "stream",
     "text": [
      "{\r\n",
      "    \"AvailabilityZones\": [\r\n",
      "        {\r\n",
      "            \"State\": \"available\", \r\n",
      "            \"RegionName\": \"ap-northeast-1\", \r\n",
      "            \"Messages\": [], \r\n",
      "            \"ZoneName\": \"ap-northeast-1a\"\r\n",
      "        }, \r\n",
      "        {\r\n",
      "            \"State\": \"available\", \r\n",
      "            \"RegionName\": \"ap-northeast-1\", \r\n",
      "            \"Messages\": [], \r\n",
      "            \"ZoneName\": \"ap-northeast-1c\"\r\n",
      "        }\r\n",
      "    ]\r\n",
      "}\r\n"
     ]
    }
   ],
   "source": [
    "!aws ec2 describe-availability-zones"
   ]
  },
  {
   "cell_type": "markdown",
   "metadata": {
    "hidden": true,
    "lc_cell_meme": {
     "current": "0ab10a02-14ea-11e7-b31a-0242ac12000d",
     "next": "0ab10bc4-14ea-11e7-b31a-0242ac12000d",
     "previous": "0ab1082c-14ea-11e7-b31a-0242ac12000d"
    },
    "run_control": {
     "frozen": false,
     "read_only": false
    }
   },
   "source": [
    "JSON形式で出力されることを確認します。"
   ]
  },
  {
   "cell_type": "markdown",
   "metadata": {
    "hidden": true,
    "lc_cell_meme": {
     "current": "0ab10bc4-14ea-11e7-b31a-0242ac12000d",
     "next": "0ab10d90-14ea-11e7-b31a-0242ac12000d",
     "previous": "0ab10a02-14ea-11e7-b31a-0242ac12000d"
    },
    "run_control": {
     "frozen": false,
     "read_only": false
    }
   },
   "source": [
    "### インスタンスの生成\n",
    "設定した定義を用いてインスタンスを生成します。"
   ]
  },
  {
   "cell_type": "code",
   "execution_count": 17,
   "metadata": {
    "collapsed": false,
    "hidden": true,
    "lc_cell_meme": {
     "current": "0ab10d90-14ea-11e7-b31a-0242ac12000d",
     "next": "0ab10f5c-14ea-11e7-b31a-0242ac12000d",
     "previous": "0ab10bc4-14ea-11e7-b31a-0242ac12000d"
    },
    "run_control": {
     "frozen": false,
     "read_only": false
    },
    "scrolled": false
   },
   "outputs": [
    {
     "data": {
      "text/plain": [
       "[{u'AmiLaunchIndex': 2,\n",
       "  u'Architecture': u'x86_64',\n",
       "  u'BlockDeviceMappings': [],\n",
       "  u'ClientToken': u'',\n",
       "  u'EbsOptimized': False,\n",
       "  u'Hypervisor': u'xen',\n",
       "  u'ImageId': u'ami-eec1c380',\n",
       "  u'InstanceId': u'i-062580d4adacade92',\n",
       "  u'InstanceType': u'm4.4xlarge',\n",
       "  u'KeyName': u'acro-estest_key',\n",
       "  u'LaunchTime': u'2017-03-16T07:01:52.000Z',\n",
       "  u'Monitoring': {u'State': u'disabled'},\n",
       "  u'NetworkInterfaces': [{u'Attachment': {u'AttachTime': u'2017-03-16T07:01:52.000Z',\n",
       "     u'AttachmentId': u'eni-attach-a19008cf',\n",
       "     u'DeleteOnTermination': True,\n",
       "     u'DeviceIndex': 0,\n",
       "     u'Status': u'attaching'},\n",
       "    u'Description': u'',\n",
       "    u'Groups': [{u'GroupId': u'sg-0adf9f6d',\n",
       "      u'GroupName': u'acro-sg-estest02'}],\n",
       "    u'Ipv6Addresses': [],\n",
       "    u'MacAddress': u'0a:3a:20:94:22:dd',\n",
       "    u'NetworkInterfaceId': u'eni-5702c409',\n",
       "    u'OwnerId': u'610531041244',\n",
       "    u'PrivateDnsName': u'ip-172-31-30-87.ap-northeast-1.compute.internal',\n",
       "    u'PrivateIpAddress': u'172.31.30.87',\n",
       "    u'PrivateIpAddresses': [{u'Primary': True,\n",
       "      u'PrivateDnsName': u'ip-172-31-30-87.ap-northeast-1.compute.internal',\n",
       "      u'PrivateIpAddress': u'172.31.30.87'}],\n",
       "    u'SourceDestCheck': True,\n",
       "    u'Status': u'in-use',\n",
       "    u'SubnetId': u'subnet-9646c9ce',\n",
       "    u'VpcId': u'vpc-bd3b81d9'}],\n",
       "  u'Placement': {u'AvailabilityZone': u'ap-northeast-1c',\n",
       "   u'GroupName': u'',\n",
       "   u'Tenancy': u'default'},\n",
       "  u'PrivateDnsName': u'ip-172-31-30-87.ap-northeast-1.compute.internal',\n",
       "  u'PrivateIpAddress': u'172.31.30.87',\n",
       "  u'ProductCodes': [],\n",
       "  u'PublicDnsName': u'',\n",
       "  u'RootDeviceName': u'/dev/sda1',\n",
       "  u'RootDeviceType': u'ebs',\n",
       "  u'SecurityGroups': [{u'GroupId': u'sg-0adf9f6d',\n",
       "    u'GroupName': u'acro-sg-estest02'}],\n",
       "  u'SourceDestCheck': True,\n",
       "  u'State': {u'Code': 0, u'Name': u'pending'},\n",
       "  u'StateReason': {u'Code': u'pending', u'Message': u'pending'},\n",
       "  u'StateTransitionReason': u'',\n",
       "  u'SubnetId': u'subnet-9646c9ce',\n",
       "  u'VirtualizationType': u'hvm',\n",
       "  u'VpcId': u'vpc-bd3b81d9'},\n",
       " {u'AmiLaunchIndex': 1,\n",
       "  u'Architecture': u'x86_64',\n",
       "  u'BlockDeviceMappings': [],\n",
       "  u'ClientToken': u'',\n",
       "  u'EbsOptimized': False,\n",
       "  u'Hypervisor': u'xen',\n",
       "  u'ImageId': u'ami-eec1c380',\n",
       "  u'InstanceId': u'i-07261e8cde704e995',\n",
       "  u'InstanceType': u'm4.4xlarge',\n",
       "  u'KeyName': u'acro-estest_key',\n",
       "  u'LaunchTime': u'2017-03-16T07:01:52.000Z',\n",
       "  u'Monitoring': {u'State': u'disabled'},\n",
       "  u'NetworkInterfaces': [{u'Attachment': {u'AttachTime': u'2017-03-16T07:01:52.000Z',\n",
       "     u'AttachmentId': u'eni-attach-a29008cc',\n",
       "     u'DeleteOnTermination': True,\n",
       "     u'DeviceIndex': 0,\n",
       "     u'Status': u'attaching'},\n",
       "    u'Description': u'',\n",
       "    u'Groups': [{u'GroupId': u'sg-0adf9f6d',\n",
       "      u'GroupName': u'acro-sg-estest02'}],\n",
       "    u'Ipv6Addresses': [],\n",
       "    u'MacAddress': u'0a:34:68:e0:0a:2d',\n",
       "    u'NetworkInterfaceId': u'eni-5402c40a',\n",
       "    u'OwnerId': u'610531041244',\n",
       "    u'PrivateDnsName': u'ip-172-31-23-86.ap-northeast-1.compute.internal',\n",
       "    u'PrivateIpAddress': u'172.31.23.86',\n",
       "    u'PrivateIpAddresses': [{u'Primary': True,\n",
       "      u'PrivateDnsName': u'ip-172-31-23-86.ap-northeast-1.compute.internal',\n",
       "      u'PrivateIpAddress': u'172.31.23.86'}],\n",
       "    u'SourceDestCheck': True,\n",
       "    u'Status': u'in-use',\n",
       "    u'SubnetId': u'subnet-9646c9ce',\n",
       "    u'VpcId': u'vpc-bd3b81d9'}],\n",
       "  u'Placement': {u'AvailabilityZone': u'ap-northeast-1c',\n",
       "   u'GroupName': u'',\n",
       "   u'Tenancy': u'default'},\n",
       "  u'PrivateDnsName': u'ip-172-31-23-86.ap-northeast-1.compute.internal',\n",
       "  u'PrivateIpAddress': u'172.31.23.86',\n",
       "  u'ProductCodes': [],\n",
       "  u'PublicDnsName': u'',\n",
       "  u'RootDeviceName': u'/dev/sda1',\n",
       "  u'RootDeviceType': u'ebs',\n",
       "  u'SecurityGroups': [{u'GroupId': u'sg-0adf9f6d',\n",
       "    u'GroupName': u'acro-sg-estest02'}],\n",
       "  u'SourceDestCheck': True,\n",
       "  u'State': {u'Code': 0, u'Name': u'pending'},\n",
       "  u'StateReason': {u'Code': u'pending', u'Message': u'pending'},\n",
       "  u'StateTransitionReason': u'',\n",
       "  u'SubnetId': u'subnet-9646c9ce',\n",
       "  u'VirtualizationType': u'hvm',\n",
       "  u'VpcId': u'vpc-bd3b81d9'},\n",
       " {u'AmiLaunchIndex': 0,\n",
       "  u'Architecture': u'x86_64',\n",
       "  u'BlockDeviceMappings': [],\n",
       "  u'ClientToken': u'',\n",
       "  u'EbsOptimized': False,\n",
       "  u'Hypervisor': u'xen',\n",
       "  u'ImageId': u'ami-eec1c380',\n",
       "  u'InstanceId': u'i-04f72c7db246797be',\n",
       "  u'InstanceType': u'm4.4xlarge',\n",
       "  u'KeyName': u'acro-estest_key',\n",
       "  u'LaunchTime': u'2017-03-16T07:01:52.000Z',\n",
       "  u'Monitoring': {u'State': u'disabled'},\n",
       "  u'NetworkInterfaces': [{u'Attachment': {u'AttachTime': u'2017-03-16T07:01:52.000Z',\n",
       "     u'AttachmentId': u'eni-attach-a39008cd',\n",
       "     u'DeleteOnTermination': True,\n",
       "     u'DeviceIndex': 0,\n",
       "     u'Status': u'attaching'},\n",
       "    u'Description': u'',\n",
       "    u'Groups': [{u'GroupId': u'sg-0adf9f6d',\n",
       "      u'GroupName': u'acro-sg-estest02'}],\n",
       "    u'Ipv6Addresses': [],\n",
       "    u'MacAddress': u'0a:11:af:23:a0:9b',\n",
       "    u'NetworkInterfaceId': u'eni-5502c40b',\n",
       "    u'OwnerId': u'610531041244',\n",
       "    u'PrivateDnsName': u'ip-172-31-28-229.ap-northeast-1.compute.internal',\n",
       "    u'PrivateIpAddress': u'172.31.28.229',\n",
       "    u'PrivateIpAddresses': [{u'Primary': True,\n",
       "      u'PrivateDnsName': u'ip-172-31-28-229.ap-northeast-1.compute.internal',\n",
       "      u'PrivateIpAddress': u'172.31.28.229'}],\n",
       "    u'SourceDestCheck': True,\n",
       "    u'Status': u'in-use',\n",
       "    u'SubnetId': u'subnet-9646c9ce',\n",
       "    u'VpcId': u'vpc-bd3b81d9'}],\n",
       "  u'Placement': {u'AvailabilityZone': u'ap-northeast-1c',\n",
       "   u'GroupName': u'',\n",
       "   u'Tenancy': u'default'},\n",
       "  u'PrivateDnsName': u'ip-172-31-28-229.ap-northeast-1.compute.internal',\n",
       "  u'PrivateIpAddress': u'172.31.28.229',\n",
       "  u'ProductCodes': [],\n",
       "  u'PublicDnsName': u'',\n",
       "  u'RootDeviceName': u'/dev/sda1',\n",
       "  u'RootDeviceType': u'ebs',\n",
       "  u'SecurityGroups': [{u'GroupId': u'sg-0adf9f6d',\n",
       "    u'GroupName': u'acro-sg-estest02'}],\n",
       "  u'SourceDestCheck': True,\n",
       "  u'State': {u'Code': 0, u'Name': u'pending'},\n",
       "  u'StateReason': {u'Code': u'pending', u'Message': u'pending'},\n",
       "  u'StateTransitionReason': u'',\n",
       "  u'SubnetId': u'subnet-9646c9ce',\n",
       "  u'VirtualizationType': u'hvm',\n",
       "  u'VpcId': u'vpc-bd3b81d9'}]"
      ]
     },
     "execution_count": 17,
     "metadata": {},
     "output_type": "execute_result"
    }
   ],
   "source": [
    "import json\n",
    "%run scripts/get-json-repr.py\n",
    "\n",
    "# インスタンスを生成する。デフォルトのVPCを使うかどうか（上でsubnet_idを指定しているかどうか）でオプションを分ける\n",
    "if('subnet_id' not in locals() or subnet_id is None):\n",
    "    instances_stdout = !aws ec2 run-instances --image-id {image_id} --count {instance_count} --instance-type {instance_type} --key-name {keypair_name} --block-device-mappings {get_block_device_mappings_repr(block_device_mappings)} --security-groups {security_group}\n",
    "else:\n",
    "    instances_stdout = !aws ec2 run-instances --image-id {image_id} --count {instance_count} --instance-type {instance_type} --key-name {keypair_name} --block-device-mappings {get_block_device_mappings_repr(block_device_mappings)} --security-group-ids {security_group_id} --subnet-id {subnet_id}\n",
    "\n",
    "instances = json.loads('\\n'.join(instances_stdout))['Instances']\n",
    "instances"
   ]
  },
  {
   "cell_type": "markdown",
   "metadata": {
    "hidden": true,
    "lc_cell_meme": {
     "current": "0ab10f5c-14ea-11e7-b31a-0242ac12000d",
     "next": "0ab11132-14ea-11e7-b31a-0242ac12000d",
     "previous": "0ab10d90-14ea-11e7-b31a-0242ac12000d"
    },
    "run_control": {
     "frozen": false,
     "read_only": false
    }
   },
   "source": [
    "生成したインスタンスIDを確認します。"
   ]
  },
  {
   "cell_type": "code",
   "execution_count": 18,
   "metadata": {
    "collapsed": false,
    "hidden": true,
    "lc_cell_meme": {
     "current": "0ab11132-14ea-11e7-b31a-0242ac12000d",
     "next": "0ab112f4-14ea-11e7-b31a-0242ac12000d",
     "previous": "0ab10f5c-14ea-11e7-b31a-0242ac12000d"
    },
    "run_control": {
     "frozen": false,
     "read_only": false
    },
    "scrolled": true
   },
   "outputs": [
    {
     "data": {
      "text/plain": [
       "['i-062580d4adacade92', 'i-07261e8cde704e995', 'i-04f72c7db246797be']"
      ]
     },
     "execution_count": 18,
     "metadata": {},
     "output_type": "execute_result"
    }
   ],
   "source": [
    "id_list = map(lambda i: i['InstanceId'].encode('utf-8'), instances)\n",
    "id_list_text = ' '.join(id_list)\n",
    "id_list"
   ]
  },
  {
   "cell_type": "markdown",
   "metadata": {
    "hidden": true,
    "lc_cell_meme": {
     "current": "0ab112f4-14ea-11e7-b31a-0242ac12000d",
     "next": "0ab114b6-14ea-11e7-b31a-0242ac12000d",
     "previous": "0ab11132-14ea-11e7-b31a-0242ac12000d"
    },
    "run_control": {
     "frozen": false,
     "read_only": false
    }
   },
   "source": [
    "インスタンスの状態が `running` になるまで待ちます。"
   ]
  },
  {
   "cell_type": "code",
   "execution_count": 19,
   "metadata": {
    "collapsed": false,
    "hidden": true,
    "lc_cell_meme": {
     "current": "0ab114b6-14ea-11e7-b31a-0242ac12000d",
     "next": "0ab11682-14ea-11e7-b31a-0242ac12000d",
     "previous": "0ab112f4-14ea-11e7-b31a-0242ac12000d"
    },
    "run_control": {
     "frozen": false,
     "read_only": false
    }
   },
   "outputs": [
    {
     "name": "stdout",
     "output_type": "stream",
     "text": [
      "i-062580d4adacade92 : pending\n",
      "i-07261e8cde704e995 : pending\n",
      "i-04f72c7db246797be : pending\n",
      "Not running : 3\n",
      "------\n",
      "i-062580d4adacade92 : pending\n",
      "i-07261e8cde704e995 : pending\n",
      "i-04f72c7db246797be : pending\n",
      "Not running : 3\n",
      "------\n",
      "i-062580d4adacade92 : running\n",
      "i-07261e8cde704e995 : running\n",
      "i-04f72c7db246797be : running\n"
     ]
    }
   ],
   "source": [
    "from functools import reduce\n",
    "import time\n",
    "\n",
    "for loop in range(0, 10):\n",
    "    # インスタンス情報を取得\n",
    "    desc_instances_stdout = !aws ec2 describe-instances --instance-ids $id_list_text\n",
    "    # JSON化し、インスタンスのリストとして取り出す\n",
    "    desc_instances = json.loads('\\n'.join(desc_instances_stdout))\n",
    "    target_instances = reduce(lambda x, y: x + y, map(lambda r: r['Instances'], desc_instances['Reservations']))\n",
    "    # IDと状態を出力\n",
    "    status_text = '\\n'.join(map(lambda i : '{0} : {1}'.format(i['InstanceId'], i['State']['Name']), target_instances))\n",
    "    print(status_text)\n",
    "    # runningになっていないものがまだあれば、スリープして最初に戻る。全てrunningなら終了。\n",
    "    not_running_num = len(list(filter(lambda i : i['State']['Name'] != 'running', target_instances)))\n",
    "    if(not_running_num == 0):\n",
    "        break\n",
    "    print('Not running : {0}'.format(not_running_num))\n",
    "    time.sleep(5)\n",
    "    print('------')"
   ]
  },
  {
   "cell_type": "markdown",
   "metadata": {
    "hidden": true,
    "lc_cell_meme": {
     "current": "0ab11682-14ea-11e7-b31a-0242ac12000d",
     "next": "0ab1184e-14ea-11e7-b31a-0242ac12000d",
     "previous": "0ab114b6-14ea-11e7-b31a-0242ac12000d"
    },
    "run_control": {
     "frozen": false,
     "read_only": false
    }
   },
   "source": [
    "確保したホストを確認します。"
   ]
  },
  {
   "cell_type": "code",
   "execution_count": 20,
   "metadata": {
    "collapsed": false,
    "hidden": true,
    "lc_cell_meme": {
     "current": "0ab1184e-14ea-11e7-b31a-0242ac12000d",
     "next": "0ab11a10-14ea-11e7-b31a-0242ac12000d",
     "previous": "0ab11682-14ea-11e7-b31a-0242ac12000d"
    },
    "run_control": {
     "frozen": false,
     "read_only": false
    },
    "scrolled": true
   },
   "outputs": [
    {
     "data": {
      "text/plain": [
       "['ec2-54-238-216-212.ap-northeast-1.compute.amazonaws.com',\n",
       " 'ec2-54-249-8-131.ap-northeast-1.compute.amazonaws.com',\n",
       " 'ec2-54-249-98-66.ap-northeast-1.compute.amazonaws.com']"
      ]
     },
     "execution_count": 20,
     "metadata": {},
     "output_type": "execute_result"
    }
   ],
   "source": [
    "host_list = map(lambda i: i['PublicDnsName'].encode('utf-8'), target_instances)\n",
    "host_list"
   ]
  },
  {
   "cell_type": "markdown",
   "metadata": {
    "hidden": true,
    "lc_cell_meme": {
     "current": "0ab11a10-14ea-11e7-b31a-0242ac12000d",
     "next": "0ab11c0e-14ea-11e7-b31a-0242ac12000d",
     "previous": "0ab1184e-14ea-11e7-b31a-0242ac12000d"
    },
    "run_control": {
     "frozen": false,
     "read_only": false
    }
   },
   "source": [
    "pingが通ることを確認します。"
   ]
  },
  {
   "cell_type": "code",
   "execution_count": 21,
   "metadata": {
    "collapsed": false,
    "hidden": true,
    "lc_cell_meme": {
     "current": "0ab11c0e-14ea-11e7-b31a-0242ac12000d",
     "next": "0ab11de4-14ea-11e7-b31a-0242ac12000d",
     "previous": "0ab11a10-14ea-11e7-b31a-0242ac12000d"
    },
    "run_control": {
     "frozen": false,
     "read_only": false
    }
   },
   "outputs": [
    {
     "data": {
      "text/plain": [
       "['PING ec2-54-238-216-212.ap-northeast-1.compute.amazonaws.com (54.238.216.212): 56 data bytes\\n--- ec2-54-238-216-212.ap-northeast-1.compute.amazonaws.com ping statistics ---\\n4 packets transmitted, 0 packets received, 100% packet loss',\n",
       " 'PING ec2-54-249-8-131.ap-northeast-1.compute.amazonaws.com (54.249.8.131): 56 data bytes\\n64 bytes from 54.249.8.131: icmp_seq=3 ttl=55 time=5.329 ms\\n--- ec2-54-249-8-131.ap-northeast-1.compute.amazonaws.com ping statistics ---\\n4 packets transmitted, 1 packets received, 75% packet loss\\nround-trip min/avg/max/stddev = 5.329/5.329/5.329/0.000 ms',\n",
       " 'PING ec2-54-249-98-66.ap-northeast-1.compute.amazonaws.com (54.249.98.66): 56 data bytes\\n64 bytes from 54.249.98.66: icmp_seq=1 ttl=55 time=5.820 ms\\n64 bytes from 54.249.98.66: icmp_seq=2 ttl=55 time=5.274 ms\\n64 bytes from 54.249.98.66: icmp_seq=3 ttl=55 time=5.400 ms\\n--- ec2-54-249-98-66.ap-northeast-1.compute.amazonaws.com ping statistics ---\\n4 packets transmitted, 3 packets received, 25% packet loss\\nround-trip min/avg/max/stddev = 5.274/5.498/5.820/0.233 ms']"
      ]
     },
     "execution_count": 21,
     "metadata": {},
     "output_type": "execute_result"
    }
   ],
   "source": [
    "import commands, sys\n",
    "results = map(lambda host:commands.getoutput('ping -c 4 ' + host), host_list)\n",
    "results"
   ]
  },
  {
   "cell_type": "markdown",
   "metadata": {
    "hidden": true,
    "lc_cell_meme": {
     "current": "0ab11de4-14ea-11e7-b31a-0242ac12000d",
     "next": "0ab11fba-14ea-11e7-b31a-0242ac12000d",
     "previous": "0ab11c0e-14ea-11e7-b31a-0242ac12000d"
    },
    "run_control": {
     "frozen": false,
     "read_only": false
    }
   },
   "source": [
    "全てのインスタンスに対しpingが通ればEC2インスタンス生成は完了です。"
   ]
  },
  {
   "cell_type": "markdown",
   "metadata": {
    "hidden": true,
    "lc_cell_meme": {
     "current": "0ab11fba-14ea-11e7-b31a-0242ac12000d",
     "next": "0ab1217c-14ea-11e7-b31a-0242ac12000d",
     "previous": "0ab11de4-14ea-11e7-b31a-0242ac12000d"
    },
    "run_control": {
     "frozen": false,
     "read_only": false
    }
   },
   "source": [
    "### セキュリティグループへの登録\n",
    "各インスタンスのPrivate IPアドレスを、セキュリティグループの許可リストに追加します。  "
   ]
  },
  {
   "cell_type": "markdown",
   "metadata": {
    "hidden": true,
    "lc_cell_meme": {
     "current": "0ab1217c-14ea-11e7-b31a-0242ac12000d",
     "next": "0ab1233e-14ea-11e7-b31a-0242ac12000d",
     "previous": "0ab11fba-14ea-11e7-b31a-0242ac12000d"
    },
    "run_control": {
     "frozen": false,
     "read_only": false
    }
   },
   "source": [
    "インスタンスごとに、9200番ポート（外部通信用）と9300番ポート（クラスタ内部通信用）の両方を許可します。"
   ]
  },
  {
   "cell_type": "code",
   "execution_count": 22,
   "metadata": {
    "collapsed": false,
    "hidden": true,
    "lc_cell_meme": {
     "current": "0ab1233e-14ea-11e7-b31a-0242ac12000d",
     "next": "0ab12500-14ea-11e7-b31a-0242ac12000d",
     "previous": "0ab1217c-14ea-11e7-b31a-0242ac12000d"
    },
    "run_control": {
     "frozen": false,
     "read_only": false
    }
   },
   "outputs": [],
   "source": [
    "private_ip_list = map(lambda i: i['PrivateIpAddress'].encode('utf-8'), instances)\n",
    "\n",
    "for ip in private_ip_list:\n",
    "    !aws ec2 authorize-security-group-ingress --group-id {security_group_id} --protocol tcp --port 9200 --cidr $ip/32\n",
    "    !aws ec2 authorize-security-group-ingress --group-id {security_group_id} --protocol tcp --port 9300 --cidr $ip/32"
   ]
  },
  {
   "cell_type": "markdown",
   "metadata": {
    "hidden": true,
    "lc_cell_meme": {
     "current": "0ab12500-14ea-11e7-b31a-0242ac12000d",
     "next": "0ab126d6-14ea-11e7-b31a-0242ac12000d",
     "previous": "0ab1233e-14ea-11e7-b31a-0242ac12000d"
    },
    "run_control": {
     "frozen": false,
     "read_only": false
    }
   },
   "source": [
    "### タグの設定\n",
    "タグのNameキーに名称を設定します。"
   ]
  },
  {
   "cell_type": "code",
   "execution_count": 23,
   "metadata": {
    "collapsed": true,
    "hidden": true,
    "lc_cell_meme": {
     "current": "0ab126d6-14ea-11e7-b31a-0242ac12000d",
     "next": "0ab128a2-14ea-11e7-b31a-0242ac12000d",
     "previous": "0ab12500-14ea-11e7-b31a-0242ac12000d"
    },
    "run_control": {
     "frozen": false,
     "read_only": false
    }
   },
   "outputs": [],
   "source": [
    "!aws ec2 create-tags --resources $id_list_text --tags Key=Name,Value=$instance_name"
   ]
  },
  {
   "cell_type": "markdown",
   "metadata": {
    "lc_cell_meme": {
     "current": "0ab128a2-14ea-11e7-b31a-0242ac12000d",
     "next": "0ab12a78-14ea-11e7-b31a-0242ac12000d",
     "previous": "0ab126d6-14ea-11e7-b31a-0242ac12000d"
    },
    "run_control": {
     "frozen": false,
     "read_only": false
    }
   },
   "source": [
    "## Inventory作成用のインスタンスリストを作成\n",
    "ホストのパブリックDNS一覧をリスト化します  "
   ]
  },
  {
   "cell_type": "markdown",
   "metadata": {
    "lc_cell_meme": {
     "current": "0ab12a78-14ea-11e7-b31a-0242ac12000d",
     "next": "0ab12c3a-14ea-11e7-b31a-0242ac12000d",
     "previous": "0ab128a2-14ea-11e7-b31a-0242ac12000d"
    },
    "run_control": {
     "frozen": false,
     "read_only": false
    }
   },
   "source": [
    "次のブックの[Inventory作成](01_03_Install.ipynb#Inventory作成)で使用します。  \n",
    "出現した文字列をクリップボードにコピーしてください。"
   ]
  },
  {
   "cell_type": "code",
   "execution_count": 25,
   "metadata": {
    "collapsed": false,
    "lc_cell_meme": {
     "current": "0ab12c3a-14ea-11e7-b31a-0242ac12000d",
     "next": null,
     "previous": "0ab12a78-14ea-11e7-b31a-0242ac12000d"
    },
    "run_control": {
     "frozen": false,
     "read_only": false
    }
   },
   "outputs": [
    {
     "name": "stdout",
     "output_type": "stream",
     "text": [
      "host_list = {'host1':'ec2-54-238-216-212.ap-northeast-1.compute.amazonaws.com','host2':'ec2-54-249-8-131.ap-northeast-1.compute.amazonaws.com','host3':'ec2-54-249-98-66.ap-northeast-1.compute.amazonaws.com'}\n"
     ]
    }
   ],
   "source": [
    "host_list = ['\\'host{0}\\':\\'{1}\\''.format(str(i+1), x) for i,x in enumerate(host_list)] \n",
    "print('host_list = {{{0}}}'.format(','.join(host_list)))"
   ]
  }
 ],
 "metadata": {
  "anaconda-cloud": {},
  "celltoolbar": "Raw Cell Format",
  "kernelspec": {
   "display_name": "Python 2",
   "language": "python",
   "name": "python2"
  },
  "language_info": {
   "codemirror_mode": {
    "name": "ipython",
    "version": 2
   },
   "file_extension": ".py",
   "mimetype": "text/x-python",
   "name": "python",
   "nbconvert_exporter": "python",
   "pygments_lexer": "ipython2",
   "version": "2.7.9"
  },
  "lc_notebook_meme": {
   "current": "0ab0c164-14ea-11e7-b31a-0242ac12000d",
   "lc_server_signature": {
    "history": []
   }
  },
  "toc": {
   "colors": {
    "hover_highlight": "#DAA520",
    "running_highlight": "#FF0000",
    "selected_highlight": "#FFD700"
   },
   "moveMenuLeft": true,
   "nav_menu": {
    "height": "30px",
    "width": "252px"
   },
   "navigate_menu": true,
   "number_sections": true,
   "sideBar": true,
   "threshold": 4,
   "toc_cell": false,
   "toc_position": {
    "height": "835px",
    "left": "0px",
    "right": "1654.67px",
    "top": "106px",
    "width": "292px"
   },
   "toc_section_display": "block",
   "toc_window_display": true
  }
 },
 "nbformat": 4,
 "nbformat_minor": 2
}
