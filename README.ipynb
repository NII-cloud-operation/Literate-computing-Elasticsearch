{
 "cells": [
  {
   "cell_type": "markdown",
   "metadata": {
    "collapsed": true,
    "nbpresent": {
     "id": "40314b59-e8b3-4aad-a218-07584ba2b71d"
    }
   },
   "source": [
    "# About: Notebooks for Elasticsearch README\n",
    "\n",
    "Literate Computing for Reproducible Infrastructure: Elasticsearch運用をJupyter + Ansibleでおこなう際のお手本Notebookです。\n",
    "\n",
    "このリポジトリでは、Elasticsearch( https://www.elastic.co/jp/products/elasticsearch )の環境を構築し、運用するためのNotebook例を紹介しています。\n",
    "\n",
    "**なお、これらのNotebookはNIIクラウドチーム内で行っている作業の考え方を示すためのもので、環境によってはそのままでは動作しないものもあります。**\n",
    "\n",
    "本Notebookのライセンスは、Creative Commons License 4.0に従います。\n",
    "[![Creative Commons License](https://i.creativecommons.org/l/by/4.0/88x31.png)](http://creativecommons.org/licenses/by/4.0/)  \n",
    "\n",
    "ただし、本Notebookで利用している[サンプルデータ](sample_data/tokyo2015.csv)は、気象庁が公開している[利用規約](http://www.jma.go.jp/jma/kishou/info/coment.html)に従います。"
   ]
  },
  {
   "cell_type": "markdown",
   "metadata": {
    "collapsed": true,
    "nbpresent": {
     "id": "844ef552-6a93-4614-bb77-8e9288638dbb"
    }
   },
   "source": [
    "## Elasticsearchとは？\n",
    "Elasticsearchは、リアルタイムにデータを検索/分析するための分散型の全文検索エンジンであり、次のような特徴を持っています。\n",
    "\n",
    "1. __リアルタイム分析__  \n",
    "収集したデータをリアルタイムに検索/分析することができます。  \n",
    "また、高速に検索できるため、他のBIツールのように事前に分析項目を決めなくても、すでに蓄積されたデータに対してインタラクティブな分析をすることが可能です。\n",
    "\n",
    "2. __クラスタリングが容易__  \n",
    "クラスタリングを想定した設計が行われており、他のミドルウェアを利用せずにクラスタを組むことができます。  \n",
    "ノードを追加することによりスケールアウトできるため、必要な処理性能や可用性などに応じたコントロールが容易です。\n",
    "\n",
    "3. __ドキュメント指向、スキーマフリー__  \n",
    "データベースであれば、データをレコードの単位で管理しますが、\n",
    "Elasticsearchではドキュメントと呼ばれる構造化されたJSONデータの形式で管理します。  \n",
    "すべてのフィールドはデフォルトでインデックスされるため、簡単かつ高速に検索できます。  \n",
    "また、このドキュメントはスキーマを決めずに投入することもできるため、すぐに使い始めることができます。  \n",
    "なお、ログデータのような構造化されていないデータを投入する際には、Logstashなどを用いてJSON形式に加工して保持することになります。\n",
    "\n",
    "4. __REST API__  \n",
    "Elasticsearchはシンプルで使いやすいREST APIを提供しています。  \n",
    "検索処理や登録処理（indexing）だけでなく、インデックスやマッピングの定義、クラスタ管理やメンテナンスなど、Elasticsearchのクラスタ・ノードに対する操作は、ほぼすべてAPIを通じて実施できます。\n",
    "\n",
    "5. __オープンソース__  \n",
    "Elasticsearchはオープンソース製品として開発されています。  \n",
    "ライセンスはApache License Version 2.0です。  \n",
    "ただし、一部のプラグインを利用するためにはサブスクリプション契約（兼サポート契約）を結ぶ必要があります。\n",
    "\n",
    "参考）[Elasticsearch公式ページ]( https://www.elastic.co/jp/products )"
   ]
  },
  {
   "cell_type": "markdown",
   "metadata": {
    "collapsed": true,
    "nbpresent": {
     "id": "364e65f7-1af8-45cb-a5ff-6a6f12ca7b41"
    }
   },
   "source": [
    "## 前提条件\n",
    "このNotebookで前提にしているOS/ミドルウェアのバージョンは次の通りです。\n",
    "\n",
    "| OS/ミドルウェア | バージョン |\n",
    "|----|----|\n",
    "|Elasticserach|elasticsearch-5.0.0-1.noarch|\n",
    "|Logstash|logstash-5.0.0-1.noarch|\n",
    "|Ansible|2.2.0.0|\n",
    "|OS|CentOS Linux release 7.2.1511|\n",
    "|JDK|jdk1.8.0_112-1.8.0_112-fcs.x86_64|\n"
   ]
  },
  {
   "cell_type": "markdown",
   "metadata": {
    "collapsed": true,
    "nbpresent": {
     "id": "5bd1473e-5e7a-4b26-ba66-934ee79e981d"
    }
   },
   "source": [
    "## お手本Notebook\n",
    "\n",
    "お手本NotebookはこのNotebookと同じディレクトリにあります。\n",
    "\n",
    "特に、**[00_Prerequisites for Literate Computing via Notebooks](00_Prerequisites for Literate Computing via Notebooks.ipynb)は、お手本Notebookが適用可能なNotebook環境、Bind対象であるかどうかを確認するためのNotebook**です。はじめに実施して、これらのお手本Notebookが利用可能な状態かを確認してみてください。"
   ]
  },
  {
   "cell_type": "markdown",
   "metadata": {},
   "source": [
    "### お手本Notebookの構成\n",
    "このNotebookは、以下のような構成になっています。\n",
    "\n",
    "1. [Elastic Stackの構築手順](01_Setup.ipynb)\n",
    "2. [サーチエンジンとしての利用手順(検索)](02_Search.ipynb)\n",
    "3. [サーチエンジンとしての利用手順(集計)](03_Aggregation.ipynb)\n",
    "4. [サーチエンジンとしての利用手順(データ蓄積)](04_Store_Data.ipynb)\n",
    "5. [サーチエンジンとしての利用手順(インデックス設計)](05_Indexing.ipynb)\n",
    "6. [サーチエンジンとしての利用手順(運用)](06_Manual-Operation.ipynb)\n",
    "7. [トラブルシューティング](07_Troubleshooting.ipynb)\n",
    "\n",
    "1台構成のElastic Stackの構築手順については、は次を利用してください。\n",
    "1. [Elastic Stackの構築手順(1台構成)](01_Setup_1server.ipynb)"
   ]
  },
  {
   "cell_type": "markdown",
   "metadata": {
    "collapsed": true,
    "nbpresent": {
     "id": "254432a4-e8fc-4d50-ac21-04a62e34643a"
    }
   },
   "source": [
    "## お手本Notebookの一覧\n",
    "\n",
    "現在、このNotebook環境からアクセス可能なNotebookの一覧を参照するには、以下のセルを実行(`Run cell`)してください。Notebookファイルへのリンクが表示されます。"
   ]
  },
  {
   "cell_type": "code",
   "execution_count": 1,
   "metadata": {
    "collapsed": false
   },
   "outputs": [
    {
     "data": {
      "text/html": [
       "<div><a href=\"00_Prerequisites for Literate Computing via Notebooks.ipynb\" target=\"_blank\">00_Prerequisites for Literate Computing via Notebooks</a></div><div><a href=\"01_Setup.ipynb\" target=\"_blank\">01_Setup</a></div><div><a href=\"01_Setup_1server.ipynb\" target=\"_blank\">01_Setup_1server</a></div><div><a href=\"02_Search.ipynb\" target=\"_blank\">02_Search</a></div><div><a href=\"03_Aggregation.ipynb\" target=\"_blank\">03_Aggregation</a></div><div><a href=\"04_Store_Data.ipynb\" target=\"_blank\">04_Store_Data</a></div><div><a href=\"05_Indexing.ipynb\" target=\"_blank\">05_Indexing</a></div><div><a href=\"06_Manual-Operation.ipynb\" target=\"_blank\">06_Manual-Operation</a></div><div><a href=\"07_Troubleshooting.ipynb\" target=\"_blank\">07_Troubleshooting</a></div>"
      ],
      "text/plain": [
       "<IPython.core.display.HTML object>"
      ]
     },
     "execution_count": 1,
     "metadata": {},
     "output_type": "execute_result"
    }
   ],
   "source": [
    "import re\n",
    "import os\n",
    "from IPython.core.display import HTML\n",
    "\n",
    "ref_notebooks = filter(lambda m: m, map(lambda n: re.match(r'([0-9][0-9a-z]+_.*)\\.ipynb', n), os.listdir('.')))\n",
    "ref_notebooks = sorted(ref_notebooks, key=lambda m: m.group(1))\n",
    "HTML(''.join(map(lambda m: '<div><a href=\"{name}\" target=\"_blank\">{title}</a></div>'.format(name=m.group(0), title=m.group(1)),\n",
    "                 ref_notebooks)))"
   ]
  },
  {
   "cell_type": "markdown",
   "metadata": {},
   "source": [
    "## お手本Notebookと証跡Notebook\n",
    "\n",
    "お手本Notebookを使う場合は、お手本をコピーし、そのコピーを開きます。このように、**お手本と作業証跡は明確に分けながら作業をおこないます。**\n",
    "\n",
    "また、お手本をコピーする際は、 `YYYYMMDD_NN_` といった実施日を示すプレフィックスを付加することで、後で整理しやすくしています。"
   ]
  },
  {
   "cell_type": "markdown",
   "metadata": {},
   "source": [
    "## 実際にお手本Notebookを使ってみる\n",
    "\n",
    "以下のJavaScriptを実行することで、簡単にお手本から作業用Notebookを作成することもできます。\n",
    "\n",
    "以下のセルを実行すると、Notebook名のドロップダウンリストと[作業開始]ボタンが現れます。\n",
    "[作業開始]ボタンを押すと、お手本Notebookのコピーを作成した後、自動的にブラウザでコピーが開きます。\n",
    "Notebookの説明を確認しながら実行、適宜修正しながら実行していってください。"
   ]
  },
  {
   "cell_type": "code",
   "execution_count": 2,
   "metadata": {
    "collapsed": false
   },
   "outputs": [
    {
     "data": {
      "text/html": [
       "\n",
       "<script type=\"text/Javascript\">\n",
       "    function copy_otehon() {\n",
       "        var sel = document.getElementById('selector');\n",
       "        IPython.notebook.kernel.execute('copy_ref_notebook(\"' + sel.options[sel.selectedIndex].value + '\")',\n",
       "                       {'iopub': {'output': function(msg) {\n",
       "                           window.open(msg.content.text, '_blank')\n",
       "                       }}});\n",
       "    }\n",
       "</script>\n",
       "<select id=\"selector\"><option value=\"00_Prerequisites for Literate Computing via Notebooks.ipynb\">00_Prerequisites for Literate Computing via Notebooks</option><option value=\"01_Setup.ipynb\">01_Setup</option><option value=\"01_Setup_1server.ipynb\">01_Setup_1server</option><option value=\"02_Search.ipynb\">02_Search</option><option value=\"03_Aggregation.ipynb\">03_Aggregation</option><option value=\"04_Store_Data.ipynb\">04_Store_Data</option><option value=\"05_Indexing.ipynb\">05_Indexing</option><option value=\"06_Manual-Operation.ipynb\">06_Manual-Operation</option><option value=\"07_Troubleshooting.ipynb\">07_Troubleshooting</option></select><button onclick=\"copy_otehon()\">作業開始</button>"
      ],
      "text/plain": [
       "<IPython.core.display.HTML object>"
      ]
     },
     "execution_count": 2,
     "metadata": {},
     "output_type": "execute_result"
    }
   ],
   "source": [
    "from datetime import datetime\n",
    "import shutil\n",
    "\n",
    "def copy_ref_notebook(src):\n",
    "    prefix = datetime.now().strftime('%Y%m%d') + '_'\n",
    "    index = len(filter(lambda name: name.startswith(prefix), os.listdir('.'))) + 1\n",
    "    new_notebook = '{0}{1:0>2}_{2}'.format(prefix, index, src)\n",
    "    shutil.copyfile(src, new_notebook)\n",
    "    print(new_notebook)\n",
    "\n",
    "frags = map(lambda m: '<option value=\"{name}\">{title}</option>'.format(name=m.group(0), title=m.group(1)),\n",
    "            ref_notebooks)\n",
    "HTML('''\n",
    "<script type=\"text/Javascript\">\n",
    "    function copy_otehon() {\n",
    "        var sel = document.getElementById('selector');\n",
    "        IPython.notebook.kernel.execute('copy_ref_notebook(\"' + sel.options[sel.selectedIndex].value + '\")',\n",
    "                       {'iopub': {'output': function(msg) {\n",
    "                           window.open(msg.content.text, '_blank')\n",
    "                       }}});\n",
    "    }\n",
    "</script>\n",
    "<select id=\"selector\">''' + ''.join(frags) + '</select><button onclick=\"copy_otehon()\">作業開始</button>')"
   ]
  },
  {
   "cell_type": "markdown",
   "metadata": {
    "collapsed": true
   },
   "source": [
    "## お手本のアーカイブ\n",
    "\n",
    "以下のセルで、お手本NotebookのZIPアーカイブを作成できます"
   ]
  },
  {
   "cell_type": "code",
   "execution_count": 6,
   "metadata": {
    "collapsed": false,
    "nbpresent": {
     "id": "1ef6727d-43a6-4d8c-924e-6eddb0e97a85"
    },
    "scrolled": true
   },
   "outputs": [
    {
     "name": "stdout",
     "output_type": "stream",
     "text": [
      "  adding: 00_Prerequisites for Literate Computing via Notebooks.ipynb (deflated 83%)\n",
      "  adding: 01_Setup.ipynb (deflated 82%)\n",
      "  adding: 01_Setup_1server.ipynb (deflated 84%)\n",
      "  adding: 02_Search.ipynb (deflated 93%)\n",
      "  adding: 03_Aggregation.ipynb (deflated 93%)\n",
      "  adding: 04_Store_Data.ipynb (deflated 88%)\n",
      "  adding: 05_Indexing.ipynb (deflated 78%)\n",
      "  adding: 06_Manual-Operation.ipynb (deflated 94%)\n",
      "  adding: 07_Troubleshooting.ipynb (deflated 86%)\n",
      "  adding: Readme.ipynb (deflated 72%)\n",
      "  adding: logstash_conf/csv.conf (deflated 53%)\n",
      "  adding: logstash_conf/document_id.conf (deflated 55%)\n",
      "  adding: logstash_conf/geoip.conf (deflated 47%)\n",
      "  adding: logstash_conf/json.conf (deflated 32%)\n",
      "  adding: logstash_conf/json_multiline.conf (deflated 44%)\n",
      "  adding: logstash_conf/ltsv.conf (deflated 81%)\n",
      "  adding: logstash_conf/main.conf (deflated 53%)\n",
      "  adding: logstash_conf/multi_line.conf (deflated 78%)\n",
      "  adding: logstash_conf/single_line.conf (deflated 78%)\n",
      "  adding: logstash_conf/tsv.conf (deflated 53%)\n",
      "  adding: logstash_conf/useragent.conf (deflated 38%)\n",
      "  adding: playbooks/install_elasticsearch.yml (deflated 36%)\n",
      "  adding: playbooks/install_elasticsearch_1server.yml (deflated 36%)\n",
      "  adding: playbooks/install_jdk.yml (deflated 48%)\n",
      "  adding: playbooks/install_jdk_1server.yml (deflated 48%)\n",
      "  adding: playbooks/install_logstash.yml (deflated 33%)\n",
      "  adding: playbooks/install_logstash_1server.yml (deflated 33%)\n",
      "  adding: playbooks/send_sampledata-kai.yml (deflated 28%)\n",
      "  adding: playbooks/send_sampledata.yml (deflated 23%)\n",
      "  adding: playbooks/set_iptables-rule.yml (deflated 56%)\n",
      "  adding: playbooks/set_kernelparameter.yml (deflated 38%)\n",
      "  adding: playbooks/start_1server.yml (deflated 31%)\n",
      "  adding: playbooks/start_cluster.yml (deflated 33%)\n",
      "  adding: sample_data/geoip.csv (deflated 79%)\n",
      "  adding: sample_data/geoip.json (deflated 79%)\n",
      "  adding: sample_data/mapping.txt (deflated 77%)\n",
      "  adding: sample_data/multi_line.txt (deflated 61%)\n",
      "  adding: sample_data/single_line.txt (deflated 43%)\n",
      "  adding: sample_data/tokyo2015.csv (deflated 74%)\n",
      "  adding: sample_data/useragent.txt (deflated 39%)\n",
      "  adding: sample_data/weather.csv (deflated 62%)\n",
      "  adding: sample_data/weather.json (deflated 89%)\n",
      "  adding: sample_data/weather.ltsv (deflated 50%)\n",
      "  adding: sample_data/weather.tsv (deflated 62%)\n",
      "  adding: sample_data/weather_multiline.json (deflated 90%)\n",
      "  adding: images/01_1server.png (deflated 10%)\n",
      "  adding: images/01_5server.png (deflated 23%)\n",
      "  adding: images/01_basic_concept.png (deflated 17%)\n",
      "  adding: images/01_node_type.png (deflated 7%)\n",
      "  adding: images/01_server_construction.png (deflated 10%)\n",
      "  adding: images/03_pipeline.png (deflated 16%)\n",
      "  adding: images/images.pptx (deflated 18%)\n"
     ]
    }
   ],
   "source": [
    "ref_notebooks = filter(lambda m: m, map(lambda n: re.match(r'([A-Z][0-9][0-9a-z]+_.*)\\.ipynb', n), os.listdir('.')))\n",
    "ref_notebooks = sorted(ref_notebooks, key=lambda m: m.group(1))\n",
    "!zip ref_notebooks-{datetime.now().strftime('%Y%m%d')}.zip *.ipynb {' '.join(map(lambda n: '\"' + n.group(0) + '\"', ref_notebooks))} logstash_conf/* playbooks/*.yml sample_data/* images/* "
   ]
  }
 ],
 "metadata": {
  "anaconda-cloud": {},
  "kernelspec": {
   "display_name": "Python 2",
   "language": "python",
   "name": "python2"
  },
  "language_info": {
   "codemirror_mode": {
    "name": "ipython",
    "version": 2
   },
   "file_extension": ".py",
   "mimetype": "text/x-python",
   "name": "python",
   "nbconvert_exporter": "python",
   "pygments_lexer": "ipython2",
   "version": "2.7.9"
  },
  "toc": {
   "colors": {
    "hover_highlight": "#DAA520",
    "running_highlight": "#FF0000",
    "selected_highlight": "#FFD700"
   },
   "moveMenuLeft": true,
   "nav_menu": {
    "height": "191px",
    "width": "252px"
   },
   "navigate_menu": true,
   "number_sections": true,
   "sideBar": true,
   "threshold": 4,
   "toc_cell": false,
   "toc_section_display": "block",
   "toc_window_display": true
  }
 },
 "nbformat": 4,
 "nbformat_minor": 1
}
