{
 "cells": [
  {
   "cell_type": "markdown",
   "metadata": {},
   "source": [
    "# Elastic Stackの構築手順"
   ]
  },
  {
   "cell_type": "markdown",
   "metadata": {},
   "source": [
    "## 基本概念"
   ]
  },
  {
   "cell_type": "markdown",
   "metadata": {},
   "source": [
    "実際の構築の前に、クラスタに関する基本概念を説明します。"
   ]
  },
  {
   "cell_type": "markdown",
   "metadata": {},
   "source": [
    "### Elasticsearchクラスタ"
   ]
  },
  {
   "cell_type": "markdown",
   "metadata": {},
   "source": [
    "Elasticsearchは複数台のサーバで起動しているElasticsearch間で連携して、分散処理を行うことができます。  \n",
    "以下のような要素によって構成されます。"
   ]
  },
  {
   "cell_type": "markdown",
   "metadata": {},
   "source": [
    "![images/01_basic_concept.png](images/01_basic_concept.png)\n",
    "\n",
    "**※Node数が3、Shard数が3、Replica数が1の場合の例**"
   ]
  },
  {
   "cell_type": "markdown",
   "metadata": {},
   "source": [
    "|名称|意味|\n",
    "|----|----|\n",
    "|ノード<br>Node|動作しているElasticsearch Serverのことです。|\n",
    "|クラスタ<br>Cluster|Nodeの集合です。|\n",
    "|インデックス<br>Index|リレーショナルデータベースでのDatabaseに相当する概念です。<br>Indexは複数のType(テーブルに相当)を持ち、<br>Typeは複数のDocument(レコードに相当)を持ちます。<br>1つのClusterに複数のIndexを作成できます。|\n",
    "|シャード<br>Shard|Indexを分割した断片です。Shardの単位でNodeに配置されます。|\n",
    "|プライマリシャード<br>Primary Shard|読み書きの対象となるShardです。|\n",
    "|レプリカシャード<br>Replica Shard|読み取り専用の、Primary Shardの複製です。|\n"
   ]
  },
  {
   "cell_type": "markdown",
   "metadata": {},
   "source": [
    "複数のNodeを生成してそれぞれを物理マシン等に分散配置することで、蓄積するデータ量や検索の速度を向上できますが、\n",
    "用意した各物理マシンのスペックを十分に発揮させてElasticsearchのクラウドを稼働させるには、蓄積しているデータも分割して分散配置する必要があります。  \n",
    "Shardはそのための分割の単位です。分割するShard数を設定することで、自動的にCluster内のNodeにPrimary Shardとして配置されます。  \n",
    "さらに設定されたReplica数だけ、各Primary Shardが複製され、可用性を確保します。"
   ]
  },
  {
   "cell_type": "markdown",
   "metadata": {},
   "source": [
    "## ノードの役割の違い"
   ]
  },
  {
   "cell_type": "markdown",
   "metadata": {},
   "source": [
    "### Nodeの種類と使い分け\n",
    "\n",
    "Nodeの役割はデータの蓄積だけではありません。Clusterの管理やデータの加工などの役割を持った、複数のNodeの種類が存在します。  \n",
    "種類ごとの役割は次の通りです。"
   ]
  },
  {
   "cell_type": "markdown",
   "metadata": {},
   "source": [
    "![images/01_node_type.png](images/01_node_type.png)"
   ]
  },
  {
   "cell_type": "markdown",
   "metadata": {},
   "source": [
    "| 種別              | 役割                                                                                                                                                                                                                                                                                                                                                                                                                                                                                                                                                                                                                                                      | elasticsearch.ymlの設定内容 |\n",
    "|-------------------|-----------------------------------------------------------------------------------------------------------------------------------------------------------------------------------------------------------------------------------------------------------------------------------------------------------------------------------------------------------------------------------------------------------------------------------------------------------------------------------------------------------------------------------------------------------------------------------------------------------------------------------------------------------| |\n",
    "| Coordinating Node | 検索リクエストやインデクシングリクエストなどを受けつけるノードです。<br>このノードは、リクエストを受けた際に必要なデータを持っているノードに対してリクエストを転送し、返ってきた結果をマージしてからレスポンスとして返す役割を持ちます。|**※特になし**<br><br>全てのノードは、設定によらずCoordinating Nodeとして動作します。実際のどのノードをCoordinating Nodeとするかは利用方法次第となります。 |\n",
    "| Master Node       | クラスタの管理を行うノードです。このノードはクラスタに属するノードを把握したり、データを保持するシャードを決定するなど、クラスタ全体に関わる役割を持ちます。<br>右の設定をしたノードはmaster-eligible nodeと呼ばれるMasterの候補となります。<br>それらの候補が連携し、うち1台がMaster Nodeとして選出されるよう動きます。 |**node.master=true**<br>(デフォルトはtrue)<br><br>つまりデフォルトでmaster-eligible nodeとなります。<br>なお、特にdata nodeの役割を持たずにmaster-eligible nodeの役割のみを持つノードをdedicated master nodeと呼びます。 |\n",
    "| Data Node         | Elasticsearchのデータを保持するノードです。このノードはデータを保持し、クエリに対応した結果を返す役割を持ちます。<br><br>Data NodeはMaster Nodeとは兼任することも、別にすることもできます。<br>特にノード数の少ないクラスタ構成（～5台程度）では、すべてのノードをMaster NodeかつData Nodeとし、ノード数が増えた場合には役割を分けると良いでしょう。 |**node.data=true**<br>(デフォルトはtrue)<br><br>つまりデフォルトでData Nodeとなります。 |\n",
    "| Client Node       | Master Node、Data Nodeのいずれの役割も担わず、Coordinating Nodeの役割に特化したノードの便宜的な呼び方です。<br><br>Kibanaを配置したサーバにElasticsearchのClient nodeを配置することで、他のElasticsearchのクラスタに負荷を掛けないようにしたり、Elasticsearchのロードバランサのように振る舞わせるようにしたりなどの用途で用います。|**node.master=false**<br>**node.data=false** |\n",
    "| Ingest Node       | 実際のインデクシング処理を行う前に、ドキュメントを加工することができるノードです。<br>いくつかの加工処理を記述した「pipeline」を登録しておけば、その内容に従った処理をすることが可能です。<br>また、pipelineの振る舞いを検査するためのSimulate Pipeline APIも提供されています。 | **node.ingest=true**<br>(デフォルトはtrue)<br><br>つまりデフォルトでIngest Nodeとなります。 |"
   ]
  },
  {
   "cell_type": "markdown",
   "metadata": {},
   "source": [
    "## クラスタの構築"
   ]
  },
  {
   "cell_type": "markdown",
   "metadata": {},
   "source": [
    "### 構成と手順の概要"
   ]
  },
  {
   "cell_type": "markdown",
   "metadata": {},
   "source": [
    "ここからは、実際のElasticsearchクラスタを構築します。  \n",
    "\n",
    "このNotebookで構成するのは、以下の図に示すような構成（Data Node3台、Master Node1台、Client Node1台)です。  \n",
    "もし複数台のサーバがなかったり、まずElastic Stackを1台のサーバで試したいだけであったりすれば、もう1つのNotebook「[01_Setup_1server](01_Setup_1server.ipynb)」での構築を試してください。"
   ]
  },
  {
   "cell_type": "markdown",
   "metadata": {},
   "source": [
    "![images/01_5server.png](images/01_5server.png)"
   ]
  },
  {
   "cell_type": "markdown",
   "metadata": {},
   "source": [
    "この後のNotebookでの大まかな手順は次の通りです。  \n",
    "\n",
    "1. jdkのインストール\n",
    "2. Elasticsearchのインストール\n",
    "3. elasticsearch.ymlの設定\n",
    "4. Elasticsearchの起動\n",
    "5. Logstashのインストール\n",
    "6. Logstashの設定\n",
    "7. サンプルデータの投入"
   ]
  },
  {
   "cell_type": "markdown",
   "metadata": {},
   "source": [
    "なおLogstashとは、Elastic Stackをを構成するプロダクトの１つです。  \n",
    "様々な形式のデータの読み込み、加工、格納を処理するパイプラインを簡単に構築できます。  \n",
    "  \n",
    "詳細は[04_Store_Data](04_Store_Data.ipynb)で説明しますが、ここではサンプルデータを投入したいので、先にインストールまでしておきます。"
   ]
  },
  {
   "cell_type": "markdown",
   "metadata": {},
   "source": [
    "### 準備"
   ]
  },
  {
   "cell_type": "markdown",
   "metadata": {},
   "source": [
    "このNotebookで環境を構築したい先のサーバを、次のセルで設定してください。"
   ]
  },
  {
   "cell_type": "code",
   "execution_count": 98,
   "metadata": {
    "collapsed": false,
    "scrolled": true
   },
   "outputs": [
    {
     "name": "stdout",
     "output_type": "stream",
     "text": [
      "env: ES_CLIENT=XXX.XXX.XXX.232:9200\n",
      "env: ES_MASTER=XXX.XXX.XXX.233:9200\n",
      "env: ES_DATA1=XXX.XXX.XXX.234:9200\n",
      "env: ES_DATA2=XXX.XXX.XXX.235:9200\n",
      "env: ES_DATA3=XXX.XXX.XXX.236:9200\n",
      "env: LOGSTASH_HOST=XXX.XXX.XXX.232\n",
      "env: INDEX=meteorological-data-*\n",
      "env: TYPE=logs\n"
     ]
    }
   ],
   "source": [
    "%env ES_CLIENT=XXX.XXX.XXX.232:9200\n",
    "%env ES_MASTER=XXX.XXX.XXX.233:9200\n",
    "%env ES_DATA1=XXX.XXX.XXX.234:9200\n",
    "%env ES_DATA2=XXX.XXX.XXX.235:9200\n",
    "%env ES_DATA3=XXX.XXX.XXX.236:9200\n",
    "%env LOGSTASH_HOST=XXX.XXX.XXX.232\n",
    "%env INDEX=meteorological-data-*\n",
    "%env TYPE=logs"
   ]
  },
  {
   "cell_type": "markdown",
   "metadata": {},
   "source": [
    "各サーバにansibleコマンドを発行するため、\n",
    "ansibleを実行可能なユーザアカウントとそのSSHキーを次のセルで設定してください。"
   ]
  },
  {
   "cell_type": "code",
   "execution_count": 104,
   "metadata": {
    "collapsed": true
   },
   "outputs": [],
   "source": [
    "#elasticsearchをインストールするサーバーでansibleコマンドを実行するユーザー\n",
    "USER='ansible'\n",
    "\n",
    "#公開鍵認証を行う場合の秘密鍵のパス\n",
    "KEYPATH='~/.ssh/ansible_id_rsa'"
   ]
  },
  {
   "cell_type": "markdown",
   "metadata": {},
   "source": [
    "ansibleのインベントリファイルを作成します。\n",
    "次のセルを実行して得られる出力内容を/etc/ansible/hostsとして保存します。"
   ]
  },
  {
   "cell_type": "markdown",
   "metadata": {
    "collapsed": false,
    "variables": {
     "ES_CLIENT": "XXX.XXX.XXX.232:9200",
     "ES_DATA1": "XXX.XXX.XXX.234:9200",
     "ES_DATA2": "XXX.XXX.XXX.235:9200",
     "ES_DATA3": "XXX.XXX.XXX.236:9200",
     "ES_MASTER": "XXX.XXX.XXX.233:9200",
     "LOGSTASH_HOST": "XXX.XXX.XXX.232"
    }
   },
   "source": [
    "[client-nodes]  \n",
    "< ES_CLIENT >  \n",
    "[master-nodes]  \n",
    "< ES_MASTER >  \n",
    "[data-nodes]  \n",
    "< ES_DATA1 >  \n",
    "< ES_DATA2 >  \n",
    "< ES_DATA3 >  \n",
    "[logstash-server]  \n",
    "< LOGSTASH_HOST >"
   ]
  },
  {
   "cell_type": "markdown",
   "metadata": {},
   "source": [
    "ここまでの設定が問題ないか確認します。  \n",
    "次のセルを実行して、ansibleコマンドが各サーバで実行できることを確認してください。"
   ]
  },
  {
   "cell_type": "code",
   "execution_count": 37,
   "metadata": {
    "collapsed": false
   },
   "outputs": [
    {
     "name": "stdout",
     "output_type": "stream",
     "text": [
      "\u001b[0;32mXXX.XXX.XXX.234 | SUCCESS => {\n",
      "    \"changed\": false, \n",
      "    \"ping\": \"pong\"\n",
      "}\u001b[0m\n",
      "\u001b[0;32mXXX.XXX.XXX.233 | SUCCESS => {\n",
      "    \"changed\": false, \n",
      "    \"ping\": \"pong\"\n",
      "}\u001b[0m\n",
      "\u001b[0;32mXXX.XXX.XXX.232 | SUCCESS => {\n",
      "    \"changed\": false, \n",
      "    \"ping\": \"pong\"\n",
      "}\u001b[0m\n",
      "\u001b[0;32mXXX.XXX.XXX.235 | SUCCESS => {\n",
      "    \"changed\": false, \n",
      "    \"ping\": \"pong\"\n",
      "}\u001b[0m\n",
      "\u001b[0;32mXXX.XXX.XXX.236 | SUCCESS => {\n",
      "    \"changed\": false, \n",
      "    \"ping\": \"pong\"\n",
      "}\u001b[0m\n"
     ]
    }
   ],
   "source": [
    "!ansible all -m ping -i /etc/ansible/hosts -u $USER --private-key=$KEYPATH"
   ]
  },
  {
   "cell_type": "markdown",
   "metadata": {},
   "source": [
    "各サーバから、次のようにSUCCESSという応答が返ってくれば問題なく実行できています。"
   ]
  },
  {
   "cell_type": "raw",
   "metadata": {},
   "source": [
    "<各サーバのIPアドレス> | SUCCESS => {\n",
    "    \"changed\": false, \n",
    "    \"ping\": \"pong\"\n",
    "}"
   ]
  },
  {
   "cell_type": "markdown",
   "metadata": {},
   "source": [
    "この後から実際の構築作業を開始します。"
   ]
  },
  {
   "cell_type": "markdown",
   "metadata": {},
   "source": [
    "### jdkのインストール"
   ]
  },
  {
   "cell_type": "markdown",
   "metadata": {},
   "source": [
    "ElasticsearchはJavaで実装されており、実行するためにはJavaの環境が必要です。  \n",
    "Elasticsearch-5.0.0ではバージョン1.8.0_73以降のものが推奨されています。"
   ]
  },
  {
   "cell_type": "markdown",
   "metadata": {},
   "source": [
    "[Oracleの公式サイト](http://www.oracle.com/technetwork/java/javase/downloads/java-archive-javase8-2177648.html#jdk-8u112-oth-JPR)からjdk-8u112のrpm形式（jdk-8u112-linux-x64.rpm）をダウンロードしてください。  \n",
    "ダウンロード先のディレクトリは**/tmp**とします。"
   ]
  },
  {
   "cell_type": "markdown",
   "metadata": {},
   "source": [
    "次のコマンドを実行して、ダウンロードしたjdkをインストールします。"
   ]
  },
  {
   "cell_type": "code",
   "execution_count": 62,
   "metadata": {
    "collapsed": false,
    "scrolled": true
   },
   "outputs": [
    {
     "name": "stdout",
     "output_type": "stream",
     "text": [
      "\n",
      "PLAY [all] *********************************************************************\n",
      "\n",
      "TASK [setup] *******************************************************************\n",
      "\u001b[0;32mok: [XXX.XXX.XXX.234]\u001b[0m\n",
      "\u001b[0;32mok: [XXX.XXX.XXX.233]\u001b[0m\n",
      "\u001b[0;32mok: [XXX.XXX.XXX.232]\u001b[0m\n",
      "\u001b[0;32mok: [XXX.XXX.XXX.236]\u001b[0m\n",
      "\u001b[0;32mok: [XXX.XXX.XXX.235]\u001b[0m\n",
      "\n",
      "TASK [download jdk-8u112-linux-x64.rpm] ****************************************\n",
      "\u001b[0;32mok: [XXX.XXX.XXX.233]\u001b[0m\n",
      "\u001b[0;32mok: [XXX.XXX.XXX.234]\u001b[0m\n",
      "\u001b[0;32mok: [XXX.XXX.XXX.232]\u001b[0m\n",
      "\u001b[0;32mok: [XXX.XXX.XXX.235]\u001b[0m\n",
      "\u001b[0;32mok: [XXX.XXX.XXX.236]\u001b[0m\n",
      "\n",
      "TASK [install jdk] *************************************************************\n",
      "\u001b[0;32mok: [XXX.XXX.XXX.234]\u001b[0m\n",
      "\u001b[0;32mok: [XXX.XXX.XXX.233]\u001b[0m\n",
      "\u001b[0;32mok: [XXX.XXX.XXX.232]\u001b[0m\n",
      "\u001b[0;32mok: [XXX.XXX.XXX.236]\u001b[0m\n",
      "\u001b[0;32mok: [XXX.XXX.XXX.235]\u001b[0m\n",
      "\n",
      "TASK [set JAVA_HOME] ***********************************************************\n",
      "\u001b[0;32mok: [XXX.XXX.XXX.233]\u001b[0m\n",
      "\u001b[0;32mok: [XXX.XXX.XXX.234]\u001b[0m\n",
      "\u001b[0;32mok: [XXX.XXX.XXX.232]\u001b[0m\n",
      "\u001b[0;32mok: [XXX.XXX.XXX.235]\u001b[0m\n",
      "\u001b[0;32mok: [XXX.XXX.XXX.236]\u001b[0m\n",
      "\n",
      "TASK [set PATH] ****************************************************************\n",
      "\u001b[0;32mok: [XXX.XXX.XXX.234]\u001b[0m\n",
      "\u001b[0;32mok: [XXX.XXX.XXX.232]\u001b[0m\n",
      "\u001b[0;32mok: [XXX.XXX.XXX.233]\u001b[0m\n",
      "\u001b[0;32mok: [XXX.XXX.XXX.236]\u001b[0m\n",
      "\u001b[0;32mok: [XXX.XXX.XXX.235]\u001b[0m\n",
      "\n",
      "PLAY RECAP *********************************************************************\n",
      "\u001b[0;32mXXX.XXX.XXX.232\u001b[0m              : \u001b[0;32mok=5   \u001b[0m changed=0    unreachable=0    failed=0   \n",
      "\u001b[0;32mXXX.XXX.XXX.233\u001b[0m              : \u001b[0;32mok=5   \u001b[0m changed=0    unreachable=0    failed=0   \n",
      "\u001b[0;32mXXX.XXX.XXX.234\u001b[0m              : \u001b[0;32mok=5   \u001b[0m changed=0    unreachable=0    failed=0   \n",
      "\u001b[0;32mXXX.XXX.XXX.235\u001b[0m              : \u001b[0;32mok=5   \u001b[0m changed=0    unreachable=0    failed=0   \n",
      "\u001b[0;32mXXX.XXX.XXX.236\u001b[0m              : \u001b[0;32mok=5   \u001b[0m changed=0    unreachable=0    failed=0   \n",
      "\n"
     ]
    }
   ],
   "source": [
    "!ansible-playbook -i /etc/ansible/hosts playbooks/install_jdk.yml -u $USER --private-key=$KEYPATH"
   ]
  },
  {
   "cell_type": "markdown",
   "metadata": {},
   "source": [
    "### Elasticsearchのインストール"
   ]
  },
  {
   "cell_type": "markdown",
   "metadata": {},
   "source": [
    "次のコマンドを実行して、Elasticsearchをインストールします。"
   ]
  },
  {
   "cell_type": "code",
   "execution_count": 63,
   "metadata": {
    "collapsed": false,
    "scrolled": false
   },
   "outputs": [
    {
     "name": "stdout",
     "output_type": "stream",
     "text": [
      "\n",
      "PLAY [all] *********************************************************************\n",
      "\n",
      "TASK [setup] *******************************************************************\n",
      "\u001b[0;32mok: [XXX.XXX.XXX.233]\u001b[0m\n",
      "\u001b[0;32mok: [XXX.XXX.XXX.234]\u001b[0m\n",
      "\u001b[0;32mok: [XXX.XXX.XXX.232]\u001b[0m\n",
      "\u001b[0;32mok: [XXX.XXX.XXX.236]\u001b[0m\n",
      "\u001b[0;32mok: [XXX.XXX.XXX.235]\u001b[0m\n",
      "\n",
      "TASK [install elasticsearch 5.0.0] *********************************************\n",
      "\u001b[0;32mok: [XXX.XXX.XXX.232]\u001b[0m\n",
      "\u001b[0;32mok: [XXX.XXX.XXX.234]\u001b[0m\n",
      "\u001b[0;32mok: [XXX.XXX.XXX.233]\u001b[0m\n",
      "\u001b[0;32mok: [XXX.XXX.XXX.236]\u001b[0m\n",
      "\u001b[0;32mok: [XXX.XXX.XXX.235]\u001b[0m\n",
      "\n",
      "PLAY RECAP *********************************************************************\n",
      "\u001b[0;32mXXX.XXX.XXX.232\u001b[0m              : \u001b[0;32mok=2   \u001b[0m changed=0    unreachable=0    failed=0   \n",
      "\u001b[0;32mXXX.XXX.XXX.233\u001b[0m              : \u001b[0;32mok=2   \u001b[0m changed=0    unreachable=0    failed=0   \n",
      "\u001b[0;32mXXX.XXX.XXX.234\u001b[0m              : \u001b[0;32mok=2   \u001b[0m changed=0    unreachable=0    failed=0   \n",
      "\u001b[0;32mXXX.XXX.XXX.235\u001b[0m              : \u001b[0;32mok=2   \u001b[0m changed=0    unreachable=0    failed=0   \n",
      "\u001b[0;32mXXX.XXX.XXX.236\u001b[0m              : \u001b[0;32mok=2   \u001b[0m changed=0    unreachable=0    failed=0   \n",
      "\n"
     ]
    }
   ],
   "source": [
    "!ansible-playbook playbooks/install_elasticsearch.yml -i /etc/ansible/hosts -u $USER --private-key=$KEYPATH"
   ]
  },
  {
   "cell_type": "markdown",
   "metadata": {},
   "source": [
    "### elasticsearch.ymlの設定"
   ]
  },
  {
   "cell_type": "markdown",
   "metadata": {},
   "source": [
    "elasticsearch.ymlの設定を変更します。"
   ]
  },
  {
   "cell_type": "markdown",
   "metadata": {},
   "source": [
    "elasticsearch.ymlの設定内容は各nodeごとに異なります。  \n",
    "次の表に、nodeの種類別に設定を記載します。\n",
    "デフォルトファイルの変更箇所を示すので、環境に合わせてelasticsearchのサーバ上にあるファイルを適宜変更してください。  \n",
    "パスは/etc/elasticsearch/elasticsearch.ymlです。\n",
    "\n",
    "nodeの種類と役割については[ノードの役割の違い](#ノードの役割の違い)で説明しています。\n",
    "\n",
    "例）Master Nodeはnode.dataの値がfalseなので、elasticsearch.ymlに 「**node.data:false**」 と記述します"
   ]
  },
  {
   "cell_type": "markdown",
   "metadata": {},
   "source": [
    "|                                  | Client Node    | Master Node    | Data Node      |\n",
    "|----------------------------------|----------------|----------------|----------------|\n",
    "| cluster.name<br>クラスタの名前です。任意の名前で構いませんがすべてのノードで同一の名前を設定してください。                      | cluster-name   | cluster-name   | cluster-name   |\n",
    "| network.host<br>他のノードからアクセスする際に指定するホスト名またはIPアドレスを示します。<br>ノード自身のホスト名またはIPアドレスで書きかえてください。| 自身のホストアドレス<br>(例)192.0.0.1        | 自身のホストアドレス        | 自身のホストアドレス        |\n",
    "| node.master<br>  Master Nodeになるかどうかを決める設定です。<br>この項目はデフォルトではelasticsearch.ymlに記述がないので追記します。                      | false          | true           | false          |\n",
    "| node.data<br>Data Nodeになるかどうかを決める設定です。<br>この項目はデフォルトではelasticsearch.ymlに記述がないので追記します。                        | false          | false          | true           |\n",
    "| discovery.zen.ping.unicast.hosts<br>クラスタに含まれるmaster-eligible nodeのホスト名またはIPアドレスを指定します。  | Master Nodeのホストアドレス<br>(例)[192.0.0.1] | Master Nodeのホストアドレス | Master Nodeのホストアドレス|"
   ]
  },
  {
   "cell_type": "markdown",
   "metadata": {
    "collapsed": false
   },
   "source": [
    "### Elasticsearchの起動"
   ]
  },
  {
   "cell_type": "markdown",
   "metadata": {},
   "source": [
    "Elasticsearchを起動します。"
   ]
  },
  {
   "cell_type": "code",
   "execution_count": 64,
   "metadata": {
    "collapsed": false,
    "scrolled": true
   },
   "outputs": [
    {
     "name": "stdout",
     "output_type": "stream",
     "text": [
      "\n",
      "PLAY [all] *********************************************************************\n",
      "\n",
      "TASK [setup] *******************************************************************\n",
      "\u001b[0;32mok: [XXX.XXX.XXX.233]\u001b[0m\n",
      "\u001b[0;32mok: [XXX.XXX.XXX.234]\u001b[0m\n",
      "\u001b[0;32mok: [XXX.XXX.XXX.232]\u001b[0m\n",
      "\u001b[0;32mok: [XXX.XXX.XXX.235]\u001b[0m\n",
      "\u001b[0;32mok: [XXX.XXX.XXX.236]\u001b[0m\n",
      "\n",
      "TASK [start elasticsearch] *****************************************************\n",
      "\u001b[0;32mok: [XXX.XXX.XXX.233]\u001b[0m\n",
      "\u001b[0;32mok: [XXX.XXX.XXX.232]\u001b[0m\n",
      "\u001b[0;32mok: [XXX.XXX.XXX.234]\u001b[0m\n",
      "\u001b[0;32mok: [XXX.XXX.XXX.235]\u001b[0m\n",
      "\u001b[0;32mok: [XXX.XXX.XXX.236]\u001b[0m\n",
      "\n",
      "PLAY RECAP *********************************************************************\n",
      "\u001b[0;32mXXX.XXX.XXX.232\u001b[0m              : \u001b[0;32mok=2   \u001b[0m changed=0    unreachable=0    failed=0   \n",
      "\u001b[0;32mXXX.XXX.XXX.233\u001b[0m              : \u001b[0;32mok=2   \u001b[0m changed=0    unreachable=0    failed=0   \n",
      "\u001b[0;32mXXX.XXX.XXX.234\u001b[0m              : \u001b[0;32mok=2   \u001b[0m changed=0    unreachable=0    failed=0   \n",
      "\u001b[0;32mXXX.XXX.XXX.235\u001b[0m              : \u001b[0;32mok=2   \u001b[0m changed=0    unreachable=0    failed=0   \n",
      "\u001b[0;32mXXX.XXX.XXX.236\u001b[0m              : \u001b[0;32mok=2   \u001b[0m changed=0    unreachable=0    failed=0   \n",
      "\n"
     ]
    }
   ],
   "source": [
    "!ansible-playbook playbooks/start_cluster.yml -i /etc/ansible/hosts -u $USER --private-key=$KEYPATH"
   ]
  },
  {
   "cell_type": "markdown",
   "metadata": {},
   "source": [
    "各サーバの起動は次のコマンドで確認してください。"
   ]
  },
  {
   "cell_type": "code",
   "execution_count": 65,
   "metadata": {
    "collapsed": false,
    "scrolled": true
   },
   "outputs": [
    {
     "name": "stdout",
     "output_type": "stream",
     "text": [
      "\u001b[0;32mXXX.XXX.XXX.233 | SUCCESS | rc=0 >>\n",
      "● elasticsearch.service - Elasticsearch\n",
      "   Loaded: loaded (/usr/lib/systemd/system/elasticsearch.service; disabled; vendor preset: disabled)\n",
      "   Active: active (running) since Tue 2016-12-13 13:21:45 JST; 3 days ago\n",
      "     Docs: http://www.elastic.co\n",
      "  Process: 23237 ExecStartPre=/usr/share/elasticsearch/bin/elasticsearch-systemd-pre-exec (code=exited, status=0/SUCCESS)\n",
      " Main PID: 23240 (java)\n",
      "   CGroup: /system.slice/elasticsearch.service\n",
      "           └─23240 /bin/java -Xms2g -Xmx2g -XX:+UseConcMarkSweepGC -XX:CMSInitiatingOccupancyFraction=75 -XX:+UseCMSInitiatingOccupancyOnly -XX:+DisableExplicitGC -XX:+AlwaysPreTouch -server -Djava.awt.headless=true -Dfile.encoding=UTF-8 -Djna.nosys=true -Dio.netty.noUnsafe=true -Dio.netty.noKeySetOptimization=true -Dlog4j.shutdownHookEnabled=false -Dlog4j2.disable.jmx=true -Dlog4j.skipJansi=true -XX:+HeapDumpOnOutOfMemoryError -Des.path.home=/usr/share/elasticsearch -cp /usr/share/elasticsearch/lib/elasticsearch-5.0.0.jar:/usr/share/elasticsearch/lib/* org.elasticsearch.bootstrap.Elasticsearch -p /var/run/elasticsearch/elasticsearch.pid --quiet -Edefault.path.logs=/var/log/elasticsearch -Edefault.path.data=/var/lib/elasticsearch -Edefault.path.conf=/etc/elasticsearch\n",
      "\n",
      "Dec 13 13:21:45 cnXXXX0802.ecloud.nii.ac.jp systemd[1]: Starting Elasticsearch...\n",
      "Dec 13 13:21:45 cnXXXX0802.ecloud.nii.ac.jp systemd[1]: Started Elasticsearch.\n",
      "Dec 16 11:05:47 cnXXXX0802.ecloud.nii.ac.jp systemd[1]: Started Elasticsearch.\n",
      "Dec 16 11:14:42 cnXXXX0802.ecloud.nii.ac.jp systemd[1]: Started Elasticsearch.\n",
      "Dec 16 12:47:52 cnXXXX0802.ecloud.nii.ac.jp systemd[1]: Started Elasticsearch.\n",
      "Dec 16 16:41:30 cnXXXX0802.ecloud.nii.ac.jp systemd[1]: Started Elasticsearch.\n",
      "Dec 16 16:41:37 cnXXXX0802.ecloud.nii.ac.jp systemd[1]: Started Elasticsearch.\n",
      "\u001b[0m\n",
      "\u001b[0;32mXXX.XXX.XXX.234 | SUCCESS | rc=0 >>\n",
      "● elasticsearch.service - Elasticsearch\n",
      "   Loaded: loaded (/usr/lib/systemd/system/elasticsearch.service; disabled; vendor preset: disabled)\n",
      "   Active: active (running) since Tue 2016-12-13 13:21:59 JST; 3 days ago\n",
      "     Docs: http://www.elastic.co\n",
      "  Process: 20926 ExecStartPre=/usr/share/elasticsearch/bin/elasticsearch-systemd-pre-exec (code=exited, status=0/SUCCESS)\n",
      " Main PID: 20929 (java)\n",
      "   CGroup: /system.slice/elasticsearch.service\n",
      "           └─20929 /bin/java -Xms2g -Xmx2g -XX:+UseConcMarkSweepGC -XX:CMSInitiatingOccupancyFraction=75 -XX:+UseCMSInitiatingOccupancyOnly -XX:+DisableExplicitGC -XX:+AlwaysPreTouch -server -Djava.awt.headless=true -Dfile.encoding=UTF-8 -Djna.nosys=true -Dio.netty.noUnsafe=true -Dio.netty.noKeySetOptimization=true -Dlog4j.shutdownHookEnabled=false -Dlog4j2.disable.jmx=true -Dlog4j.skipJansi=true -XX:+HeapDumpOnOutOfMemoryError -Des.path.home=/usr/share/elasticsearch -cp /usr/share/elasticsearch/lib/elasticsearch-5.0.0.jar:/usr/share/elasticsearch/lib/* org.elasticsearch.bootstrap.Elasticsearch -p /var/run/elasticsearch/elasticsearch.pid --quiet -Edefault.path.logs=/var/log/elasticsearch -Edefault.path.data=/var/lib/elasticsearch -Edefault.path.conf=/etc/elasticsearch\n",
      "\n",
      "Dec 13 13:21:59 cnXXXX1203.ecloud.nii.ac.jp systemd[1]: Starting Elasticsearch...\n",
      "Dec 13 13:21:59 cnXXXX1203.ecloud.nii.ac.jp systemd[1]: Started Elasticsearch.\n",
      "Dec 16 11:05:47 cnXXXX1203.ecloud.nii.ac.jp systemd[1]: Started Elasticsearch.\n",
      "Dec 16 11:14:42 cnXXXX1203.ecloud.nii.ac.jp systemd[1]: Started Elasticsearch.\n",
      "Dec 16 12:47:52 cnXXXX1203.ecloud.nii.ac.jp systemd[1]: Started Elasticsearch.\n",
      "Dec 16 16:41:30 cnXXXX1203.ecloud.nii.ac.jp systemd[1]: Started Elasticsearch.\n",
      "Dec 16 16:41:37 cnXXXX1203.ecloud.nii.ac.jp systemd[1]: Started Elasticsearch.\n",
      "\u001b[0m\n",
      "\u001b[0;32mXXX.XXX.XXX.232 | SUCCESS | rc=0 >>\n",
      "● elasticsearch.service - Elasticsearch\n",
      "   Loaded: loaded (/usr/lib/systemd/system/elasticsearch.service; disabled; vendor preset: disabled)\n",
      "   Active: active (running) since Fri 2016-12-16 16:46:38 JST; 1h 52min ago\n",
      "     Docs: http://www.elastic.co\n",
      "  Process: 21631 ExecStartPre=/usr/share/elasticsearch/bin/elasticsearch-systemd-pre-exec (code=exited, status=0/SUCCESS)\n",
      " Main PID: 21634 (java)\n",
      "   CGroup: /system.slice/elasticsearch.service\n",
      "           └─21634 /bin/java -Xms2g -Xmx2g -XX:+UseConcMarkSweepGC -XX:CMSInitiatingOccupancyFraction=75 -XX:+UseCMSInitiatingOccupancyOnly -XX:+DisableExplicitGC -XX:+AlwaysPreTouch -server -Djava.awt.headless=true -Dfile.encoding=UTF-8 -Djna.nosys=true -Dio.netty.noUnsafe=true -Dio.netty.noKeySetOptimization=true -Dlog4j.shutdownHookEnabled=false -Dlog4j2.disable.jmx=true -Dlog4j.skipJansi=true -XX:+HeapDumpOnOutOfMemoryError -Des.path.home=/usr/share/elasticsearch -cp /usr/share/elasticsearch/lib/elasticsearch-5.0.0.jar:/usr/share/elasticsearch/lib/* org.elasticsearch.bootstrap.Elasticsearch -p /var/run/elasticsearch/elasticsearch.pid --quiet -Edefault.path.logs=/var/log/elasticsearch -Edefault.path.data=/var/lib/elasticsearch -Edefault.path.conf=/etc/elasticsearch\n",
      "\n",
      "Dec 16 16:46:38 cnXXXX0601.ecloud.nii.ac.jp systemd[1]: Starting Elasticsearch...\n",
      "Dec 16 16:46:38 cnXXXX0601.ecloud.nii.ac.jp systemd[1]: Started Elasticsearch.\n",
      "\u001b[0m\n",
      "\u001b[0;32mXXX.XXX.XXX.235 | SUCCESS | rc=0 >>\n",
      "● elasticsearch.service - Elasticsearch\n",
      "   Loaded: loaded (/usr/lib/systemd/system/elasticsearch.service; disabled; vendor preset: disabled)\n",
      "   Active: active (running) since Tue 2016-12-13 13:22:04 JST; 3 days ago\n",
      "     Docs: http://www.elastic.co\n",
      "  Process: 20583 ExecStartPre=/usr/share/elasticsearch/bin/elasticsearch-systemd-pre-exec (code=exited, status=0/SUCCESS)\n",
      " Main PID: 20586 (java)\n",
      "   CGroup: /system.slice/elasticsearch.service\n",
      "           └─20586 /bin/java -Xms2g -Xmx2g -XX:+UseConcMarkSweepGC -XX:CMSInitiatingOccupancyFraction=75 -XX:+UseCMSInitiatingOccupancyOnly -XX:+DisableExplicitGC -XX:+AlwaysPreTouch -server -Djava.awt.headless=true -Dfile.encoding=UTF-8 -Djna.nosys=true -Dio.netty.noUnsafe=true -Dio.netty.noKeySetOptimization=true -Dlog4j.shutdownHookEnabled=false -Dlog4j2.disable.jmx=true -Dlog4j.skipJansi=true -XX:+HeapDumpOnOutOfMemoryError -Des.path.home=/usr/share/elasticsearch -cp /usr/share/elasticsearch/lib/elasticsearch-5.0.0.jar:/usr/share/elasticsearch/lib/* org.elasticsearch.bootstrap.Elasticsearch -p /var/run/elasticsearch/elasticsearch.pid --quiet -Edefault.path.logs=/var/log/elasticsearch -Edefault.path.data=/var/lib/elasticsearch -Edefault.path.conf=/etc/elasticsearch\n",
      "\n",
      "Dec 13 13:22:04 cnXXXX1204.ecloud.nii.ac.jp systemd[1]: Starting Elasticsearch...\n",
      "Dec 13 13:22:04 cnXXXX1204.ecloud.nii.ac.jp systemd[1]: Started Elasticsearch.\n",
      "Dec 16 11:05:47 cnXXXX1204.ecloud.nii.ac.jp systemd[1]: Started Elasticsearch.\n",
      "Dec 16 11:14:43 cnXXXX1204.ecloud.nii.ac.jp systemd[1]: Started Elasticsearch.\n",
      "Dec 16 12:47:52 cnXXXX1204.ecloud.nii.ac.jp systemd[1]: Started Elasticsearch.\n",
      "Dec 16 16:41:30 cnXXXX1204.ecloud.nii.ac.jp systemd[1]: Started Elasticsearch.\n",
      "Dec 16 16:41:37 cnXXXX1204.ecloud.nii.ac.jp systemd[1]: Started Elasticsearch.\n",
      "\u001b[0m\n",
      "\u001b[0;32mXXX.XXX.XXX.236 | SUCCESS | rc=0 >>\n",
      "● elasticsearch.service - Elasticsearch\n",
      "   Loaded: loaded (/usr/lib/systemd/system/elasticsearch.service; disabled; vendor preset: disabled)\n",
      "   Active: active (running) since Tue 2016-12-13 13:22:03 JST; 3 days ago\n",
      "     Docs: http://www.elastic.co\n",
      "  Process: 20763 ExecStartPre=/usr/share/elasticsearch/bin/elasticsearch-systemd-pre-exec (code=exited, status=0/SUCCESS)\n",
      " Main PID: 20766 (java)\n",
      "   CGroup: /system.slice/elasticsearch.service\n",
      "           └─20766 /bin/java -Xms2g -Xmx2g -XX:+UseConcMarkSweepGC -XX:CMSInitiatingOccupancyFraction=75 -XX:+UseCMSInitiatingOccupancyOnly -XX:+DisableExplicitGC -XX:+AlwaysPreTouch -server -Djava.awt.headless=true -Dfile.encoding=UTF-8 -Djna.nosys=true -Dio.netty.noUnsafe=true -Dio.netty.noKeySetOptimization=true -Dlog4j.shutdownHookEnabled=false -Dlog4j2.disable.jmx=true -Dlog4j.skipJansi=true -XX:+HeapDumpOnOutOfMemoryError -Des.path.home=/usr/share/elasticsearch -cp /usr/share/elasticsearch/lib/elasticsearch-5.0.0.jar:/usr/share/elasticsearch/lib/* org.elasticsearch.bootstrap.Elasticsearch -p /var/run/elasticsearch/elasticsearch.pid --quiet -Edefault.path.logs=/var/log/elasticsearch -Edefault.path.data=/var/lib/elasticsearch -Edefault.path.conf=/etc/elasticsearch\n",
      "\n",
      "Dec 13 13:22:03 cnXXXX0402.ecloud.nii.ac.jp systemd[1]: Starting Elasticsearch...\n",
      "Dec 13 13:22:03 cnXXXX0402.ecloud.nii.ac.jp systemd[1]: Started Elasticsearch.\n",
      "Dec 16 11:05:47 cnXXXX0402.ecloud.nii.ac.jp systemd[1]: Started Elasticsearch.\n",
      "Dec 16 11:14:43 cnXXXX0402.ecloud.nii.ac.jp systemd[1]: Started Elasticsearch.\n",
      "Dec 16 12:47:52 cnXXXX0402.ecloud.nii.ac.jp systemd[1]: Started Elasticsearch.\n",
      "Dec 16 16:41:30 cnXXXX0402.ecloud.nii.ac.jp systemd[1]: Started Elasticsearch.\n",
      "Dec 16 16:41:37 cnXXXX0402.ecloud.nii.ac.jp systemd[1]: Started Elasticsearch.\n",
      "\u001b[0m\n"
     ]
    }
   ],
   "source": [
    "!ansible all -m shell -a \"sudo systemctl status elasticsearch\" -u $USER --private-key=$KEYPATH"
   ]
  },
  {
   "cell_type": "markdown",
   "metadata": {},
   "source": [
    "次のように  \n",
    "**Active: active (running)**    \n",
    "と表示されれば正常に起動しています。"
   ]
  },
  {
   "cell_type": "raw",
   "metadata": {},
   "source": [
    " Active: active (running) since Thu 2016-10-27 13:16:16 JST; 31min ago"
   ]
  },
  {
   "cell_type": "markdown",
   "metadata": {
    "collapsed": true
   },
   "source": [
    "### Logstashのインストール"
   ]
  },
  {
   "cell_type": "markdown",
   "metadata": {},
   "source": [
    "次のコマンドを実行して、Logstashをインストールします。"
   ]
  },
  {
   "cell_type": "code",
   "execution_count": 67,
   "metadata": {
    "collapsed": false,
    "scrolled": false
   },
   "outputs": [
    {
     "name": "stdout",
     "output_type": "stream",
     "text": [
      "\n",
      "PLAY [logstash-server] *********************************************************\n",
      "\n",
      "TASK [setup] *******************************************************************\n",
      "\u001b[0;32mok: [XXX.XXX.XXX.232]\u001b[0m\n",
      "\n",
      "TASK [install logstash] ********************************************************\n",
      "\u001b[0;32mok: [XXX.XXX.XXX.232]\u001b[0m\n",
      "\n",
      "PLAY RECAP *********************************************************************\n",
      "\u001b[0;32mXXX.XXX.XXX.232\u001b[0m              : \u001b[0;32mok=2   \u001b[0m changed=0    unreachable=0    failed=0   \n",
      "\n"
     ]
    }
   ],
   "source": [
    "!ansible-playbook -i /etc/ansible/hosts playbooks/install_logstash.yml -u $USER --private-key=$KEYPATH"
   ]
  },
  {
   "cell_type": "markdown",
   "metadata": {},
   "source": [
    "## クラスタのステータスの確認方法と監視方法"
   ]
  },
  {
   "cell_type": "markdown",
   "metadata": {},
   "source": [
    "クラスタのステータスを確認するためにはCluster APIを用います。  \n",
    "概要を表示したい場合にはCluster Health APIを用います。  \n",
    "クラスタの状態や、クラスタに属しているノードの数、シャードの数などを見ることができます。"
   ]
  },
  {
   "cell_type": "code",
   "execution_count": 106,
   "metadata": {
    "collapsed": false,
    "scrolled": false
   },
   "outputs": [
    {
     "name": "stdout",
     "output_type": "stream",
     "text": [
      "{\r\n",
      "  \"cluster_name\" : \"cluster-name\",\r\n",
      "  \"status\" : \"green\",\r\n",
      "  \"timed_out\" : false,\r\n",
      "  \"number_of_nodes\" : 5,\r\n",
      "  \"number_of_data_nodes\" : 3,\r\n",
      "  \"active_primary_shards\" : 85,\r\n",
      "  \"active_shards\" : 170,\r\n",
      "  \"relocating_shards\" : 0,\r\n",
      "  \"initializing_shards\" : 0,\r\n",
      "  \"unassigned_shards\" : 0,\r\n",
      "  \"delayed_unassigned_shards\" : 0,\r\n",
      "  \"number_of_pending_tasks\" : 0,\r\n",
      "  \"number_of_in_flight_fetch\" : 0,\r\n",
      "  \"task_max_waiting_in_queue_millis\" : 0,\r\n",
      "  \"active_shards_percent_as_number\" : 100.0\r\n",
      "}\r\n"
     ]
    }
   ],
   "source": [
    "!curl -XGET http://$ES_CLIENT/_cluster/health?pretty"
   ]
  },
  {
   "cell_type": "markdown",
   "metadata": {},
   "source": [
    "上記のコマンドを実行して得られる出力の中で、**status**や**number_of_nodes**を見れば  \n",
    "クラスタの状態およびクラスタ内のノード数を確認することができます。  \n",
    "データ投入直後などは、クラスタの状態がyellowになっている場合があります。その際はgreenになったことを確認してから検索などを行ってください。"
   ]
  },
  {
   "cell_type": "markdown",
   "metadata": {},
   "source": [
    "出力例"
   ]
  },
  {
   "cell_type": "raw",
   "metadata": {},
   "source": [
    "　\"status\" : \"green\",\n",
    "  \"number_of_nodes\" : 5"
   ]
  },
  {
   "cell_type": "markdown",
   "metadata": {},
   "source": [
    "より詳細な情報を確認したい場合にはCluster Stats APIを用います。"
   ]
  },
  {
   "cell_type": "code",
   "execution_count": 69,
   "metadata": {
    "collapsed": false,
    "scrolled": true
   },
   "outputs": [
    {
     "name": "stdout",
     "output_type": "stream",
     "text": [
      "{\r\n",
      "  \"_nodes\" : {\r\n",
      "    \"total\" : 5,\r\n",
      "    \"successful\" : 5,\r\n",
      "    \"failed\" : 0\r\n",
      "  },\r\n",
      "  \"cluster_name\" : \"cluster-name\",\r\n",
      "  \"timestamp\" : 1481881240987,\r\n",
      "  \"status\" : \"green\",\r\n",
      "  \"indices\" : {\r\n",
      "    \"count\" : 17,\r\n",
      "    \"shards\" : {\r\n",
      "      \"total\" : 170,\r\n",
      "      \"primaries\" : 85,\r\n",
      "      \"replication\" : 1.0,\r\n",
      "      \"index\" : {\r\n",
      "        \"shards\" : {\r\n",
      "          \"min\" : 10,\r\n",
      "          \"max\" : 10,\r\n",
      "          \"avg\" : 10.0\r\n",
      "        },\r\n",
      "        \"primaries\" : {\r\n",
      "          \"min\" : 5,\r\n",
      "          \"max\" : 5,\r\n",
      "          \"avg\" : 5.0\r\n",
      "        },\r\n",
      "        \"replication\" : {\r\n",
      "          \"min\" : 1.0,\r\n",
      "          \"max\" : 1.0,\r\n",
      "          \"avg\" : 1.0\r\n",
      "        }\r\n",
      "      }\r\n",
      "    },\r\n",
      "    \"docs\" : {\r\n",
      "      \"count\" : 470,\r\n",
      "      \"deleted\" : 0\r\n",
      "    },\r\n",
      "    \"store\" : {\r\n",
      "      \"size_in_bytes\" : 2595256,\r\n",
      "      \"throttle_time_in_millis\" : 0\r\n",
      "    },\r\n",
      "    \"fielddata\" : {\r\n",
      "      \"memory_size_in_bytes\" : 0,\r\n",
      "      \"evictions\" : 0\r\n",
      "    },\r\n",
      "    \"query_cache\" : {\r\n",
      "      \"memory_size_in_bytes\" : 0,\r\n",
      "      \"total_count\" : 0,\r\n",
      "      \"hit_count\" : 0,\r\n",
      "      \"miss_count\" : 0,\r\n",
      "      \"cache_size\" : 0,\r\n",
      "      \"cache_count\" : 0,\r\n",
      "      \"evictions\" : 0\r\n",
      "    },\r\n",
      "    \"completion\" : {\r\n",
      "      \"size_in_bytes\" : 0\r\n",
      "    },\r\n",
      "    \"segments\" : {\r\n",
      "      \"count\" : 186,\r\n",
      "      \"memory_in_bytes\" : 1266308,\r\n",
      "      \"terms_memory_in_bytes\" : 861915,\r\n",
      "      \"stored_fields_memory_in_bytes\" : 58032,\r\n",
      "      \"term_vectors_memory_in_bytes\" : 0,\r\n",
      "      \"norms_memory_in_bytes\" : 72960,\r\n",
      "      \"points_memory_in_bytes\" : 27161,\r\n",
      "      \"doc_values_memory_in_bytes\" : 246240,\r\n",
      "      \"index_writer_memory_in_bytes\" : 0,\r\n",
      "      \"version_map_memory_in_bytes\" : 0,\r\n",
      "      \"fixed_bit_set_memory_in_bytes\" : 0,\r\n",
      "      \"max_unsafe_auto_id_timestamp\" : -1,\r\n",
      "      \"file_sizes\" : { }\r\n",
      "    }\r\n",
      "  },\r\n",
      "  \"nodes\" : {\r\n",
      "    \"count\" : {\r\n",
      "      \"total\" : 5,\r\n",
      "      \"data\" : 3,\r\n",
      "      \"coordinating_only\" : 0,\r\n",
      "      \"master\" : 1,\r\n",
      "      \"ingest\" : 5\r\n",
      "    },\r\n",
      "    \"versions\" : [\r\n",
      "      \"5.0.0\"\r\n",
      "    ],\r\n",
      "    \"os\" : {\r\n",
      "      \"available_processors\" : 120,\r\n",
      "      \"allocated_processors\" : 120,\r\n",
      "      \"names\" : [\r\n",
      "        {\r\n",
      "          \"name\" : \"Linux\",\r\n",
      "          \"count\" : 5\r\n",
      "        }\r\n",
      "      ],\r\n",
      "      \"mem\" : {\r\n",
      "        \"total_in_bytes\" : 505994928128,\r\n",
      "        \"free_in_bytes\" : 473811009536,\r\n",
      "        \"used_in_bytes\" : 32183918592,\r\n",
      "        \"free_percent\" : 94,\r\n",
      "        \"used_percent\" : 6\r\n",
      "      }\r\n",
      "    },\r\n",
      "    \"process\" : {\r\n",
      "      \"cpu\" : {\r\n",
      "        \"percent\" : 0\r\n",
      "      },\r\n",
      "      \"open_file_descriptors\" : {\r\n",
      "        \"min\" : 637,\r\n",
      "        \"max\" : 757,\r\n",
      "        \"avg\" : 706\r\n",
      "      }\r\n",
      "    },\r\n",
      "    \"jvm\" : {\r\n",
      "      \"max_uptime_in_millis\" : 278335092,\r\n",
      "      \"versions\" : [\r\n",
      "        {\r\n",
      "          \"version\" : \"1.8.0_112\",\r\n",
      "          \"vm_name\" : \"Java HotSpot(TM) 64-Bit Server VM\",\r\n",
      "          \"vm_version\" : \"25.112-b15\",\r\n",
      "          \"vm_vendor\" : \"Oracle Corporation\",\r\n",
      "          \"count\" : 5\r\n",
      "        }\r\n",
      "      ],\r\n",
      "      \"mem\" : {\r\n",
      "        \"heap_used_in_bytes\" : 2941656776,\r\n",
      "        \"heap_max_in_bytes\" : 10379591680\r\n",
      "      },\r\n",
      "      \"threads\" : 880\r\n",
      "    },\r\n",
      "    \"fs\" : {\r\n",
      "      \"total_in_bytes\" : 2460069908480,\r\n",
      "      \"free_in_bytes\" : 2440254070784,\r\n",
      "      \"available_in_bytes\" : 2315171446784\r\n",
      "    },\r\n",
      "    \"plugins\" : [ ],\r\n",
      "    \"network_types\" : {\r\n",
      "      \"transport_types\" : {\r\n",
      "        \"netty4\" : 5\r\n",
      "      },\r\n",
      "      \"http_types\" : {\r\n",
      "        \"netty4\" : 5\r\n",
      "      }\r\n",
      "    }\r\n",
      "  }\r\n",
      "}\r\n"
     ]
    }
   ],
   "source": [
    "!curl -XGET http://$ES_CLIENT/_cluster/stats?pretty"
   ]
  },
  {
   "cell_type": "markdown",
   "metadata": {},
   "source": [
    "このコマンドでは、シャードやメモリに関する情報を取得することができます。  \n",
    "詳細はElasticsearch Referenceの[Cluster Stats](https://www.elastic.co/guide/en/elasticsearch/reference/current/cluster-stats.html)を参照してください。"
   ]
  },
  {
   "cell_type": "markdown",
   "metadata": {},
   "source": [
    "### Monitoringによる監視"
   ]
  },
  {
   "cell_type": "markdown",
   "metadata": {},
   "source": [
    "Monitoring([公式ページ](https://www.elastic.co/guide/en/x-pack/current/xpack-monitoring.html))はサブスクリプションを購入すると利用できる「X-Pack」をインストールすることで有効になる機能です。  \n",
    "\n",
    "Elasticsearchの稼働状況を監視するプラグインで、CPU使用率やディスクサイズ、Latencyなどの情報を取得することができます。  \n",
    "取得した情報はElasticsearchに登録されるので、あとから遡ってクラスタのステータスを確認することも可能です。  \n",
    "\n",
    "また、X-Packに含まれるWatcherを用いることで、特定の条件下で通知を行うこともできます。  \n",
    "例） CPU使用率が特定の値を超えた、ディスク空き容量が一定量を下回ったなど。"
   ]
  },
  {
   "cell_type": "markdown",
   "metadata": {},
   "source": [
    "## Logstashの設定"
   ]
  },
  {
   "cell_type": "markdown",
   "metadata": {
    "collapsed": true,
    "variables": {
     "ES_CLIENT": "XXX.XXX.XXX.232:9200"
    }
   },
   "source": [
    "サンプルデータをElasticsearchに登録するためのlogstash設定ファイルは[logstash_conf](logstash_conf)に配置してあるmain.confを用います。  \n",
    "main.confの中で、Elasticsearchのホスト名を指定する箇所があるので、[準備](#準備)で定義した  \n",
    "\n",
    "ES_CLIENT: < ES_CLIENT >  \n",
    "\n",
    "で書き換えてください。  \n",
    "具体的な修正箇所は次の通りです\n"
   ]
  },
  {
   "cell_type": "raw",
   "metadata": {},
   "source": [
    "output{  \n",
    "    elasticsearch{  \n",
    "        #ES_CLENTの部分を書き換える\n",
    "        hosts => \"ES_CLIENT\"  \n",
    "        index => \"meteorological-data-%{+yyyy-MM}\"  \n",
    "    }  \n",
    "}  "
   ]
  },
  {
   "cell_type": "markdown",
   "metadata": {},
   "source": [
    "ここで利用するmain.confは標準入力で読み込んだCSV形式の内容をElasticsearchに格納するための設定です。  \n",
    "具体的な意味は[04_Store_Data](04_Store_Data.ipynb)で説明します。"
   ]
  },
  {
   "cell_type": "markdown",
   "metadata": {},
   "source": [
    "Logstashをインストールしたサーバーの ~/ 配下に[logstash_conf](logstash_conf)のmain.confをコピーしてください。"
   ]
  },
  {
   "cell_type": "markdown",
   "metadata": {},
   "source": [
    "### データ型の定義（マッピング定義）"
   ]
  },
  {
   "cell_type": "markdown",
   "metadata": {},
   "source": [
    "サンプルデータの登録をする前に、登録するデータの「データ型」を定義しておく必要があります。  \n",
    "データ型の種類およびマッピング定義の詳細に関しては[05_Indexing](05_Indexing.ipynb)を参照してください。"
   ]
  },
  {
   "cell_type": "markdown",
   "metadata": {},
   "source": [
    "次のコマンドを実行してマッピング定義を行います。  "
   ]
  },
  {
   "cell_type": "code",
   "execution_count": 113,
   "metadata": {
    "collapsed": false
   },
   "outputs": [
    {
     "name": "stdout",
     "output_type": "stream",
     "text": [
      "{\"acknowledged\":true}"
     ]
    },
    {
     "name": "stderr",
     "output_type": "stream",
     "text": [
      "  % Total    % Received % Xferd  Average Speed   Time    Time     Time  Current\n",
      "                                 Dload  Upload   Total   Spent    Left  Speed\n",
      "\r",
      "  0     0    0     0    0     0      0      0 --:--:-- --:--:-- --:--:--     0\r",
      "100  1394  100    21  100  1373    687  44930 --:--:-- --:--:-- --:--:-- 45766\n"
     ]
    }
   ],
   "source": [
    "%%bash\n",
    "curl -XPUT \"http://$ES_CLIENT/_template/weather\" -d @- << EOF\n",
    "{\n",
    "  \"template\" : \"meteorological-data-*\",\n",
    "  \"mappings\": {\n",
    "    \"logs\": {\n",
    "      \"dynamic_templates\" : [\n",
    "        {\n",
    "          \"my_strings\" : {\n",
    "            \"match_mapping_type\" : \"string\",\n",
    "            \"mapping\" : {\n",
    "              \"type\" : \"keyword\"\n",
    "            }\n",
    "          }\n",
    "        }\n",
    "      ],\n",
    "      \"properties\": {\n",
    "        \"atmospheric_pressure\": {\n",
    "          \"type\": \"float\"\n",
    "        },\n",
    "        \"sea_level_pressure\":{\n",
    "          \"type\": \"float\"\n",
    "        },\n",
    "        \"precipitation_day\": {\n",
    "          \"type\": \"integer\"\n",
    "        },\n",
    "        \"precipitation_day\": {\n",
    "          \"type\": \"float\"\n",
    "        },\n",
    "        \"precipitation_max_hour\":{\n",
    "          \"type\":\"float\"\n",
    "        },\n",
    "        \"precipitation_max_10min\":{\n",
    "          \"type\":\"float\"\n",
    "        },\n",
    "        \"temperature_avg\":{\n",
    "          \"type\":\"float\"\n",
    "        },\n",
    "        \"temperature_max\":{\n",
    "          \"type\":\"float\"\n",
    "        },\n",
    "        \"temperature_min\":{\n",
    "          \"type\":\"float\"\n",
    "        },\n",
    "        \"humidity_avg\":{\n",
    "          \"type\":\"float\"\n",
    "        },\n",
    "        \"humidity_min\":{\n",
    "          \"type\":\"float\"\n",
    "        },\n",
    "        \"wind_speed_avg\":{\n",
    "          \"type\":\"float\"\n",
    "        },\n",
    "        \"wind_speed_max\":{\n",
    "          \"type\":\"float\"\n",
    "        },\n",
    "        \"wind_speed_max_moment\":{\n",
    "          \"type\":\"float\"\n",
    "        },\n",
    "        \"sunshine_duration\":{\n",
    "          \"type\":\"float\"\n",
    "        },\n",
    "        \"snowfall\":{\n",
    "          \"type\":\"float\"\n",
    "        },\n",
    "        \"snowfall_max\":{\n",
    "          \"type\":\"float\"\n",
    "        }\n",
    "      }\n",
    "    }\n",
    "  }\n",
    "}\n",
    "EOF"
   ]
  },
  {
   "cell_type": "markdown",
   "metadata": {},
   "source": [
    "### サンプルデータの投入"
   ]
  },
  {
   "cell_type": "markdown",
   "metadata": {},
   "source": [
    "以降の章で扱うサンプルデータを登録します。  \n",
    "ここでは気象庁から提供されている気象データを利用します。\n",
    "[気象庁「過去の気象データ・ダウンロード」](http://www.data.jma.go.jp/gmd/risk/obsdl/)\n",
    "\n",
    "公開されているデータのうち、2015年の東京のデータ(1年分)を本Notebookで利用するCSV形式に変換し、サンプルデータとして利用します([tokyo2015.csv](sample_data/tokyo2015.csv))。\n",
    "\n",
    "サンプルデータと気象庁データの項目は、次のように対応しています。\n",
    "\n",
    "| サンプルデータの項目 | 気象庁データの項目 | 備考 |\n",
    "|-----------|--------------------|------|\n",
    "| @timestamp | 年月日 ||\n",
    "| location | 地点 | 気象庁データに直接の記載はないため、変換時に追加した |\n",
    "| atmospheric_pressure | 日平均現地気圧 ||\n",
    "| sea_level_pressure | 日平均海面気圧 ||\n",
    "| precipitation_day | 降水量の日合計 ||\n",
    "| precipitation_max_hour | 1時間降水量の日最大 ||\n",
    "| precipitation_max_10min | 10分間降水量の日最大 ||\n",
    "| temperature_avg | 日平均気温 ||\n",
    "| temperature_max | 日最高気温 ||\n",
    "| temperature_min | 日最低気温 ||\n",
    "| humidity_avg | 日平均相対湿度 ||\n",
    "| humidity_min | 日最小相対湿度 ||\n",
    "| wind_speed_avg | 日平均風速 ||\n",
    "| wind_speed_max | 日最大風速 ||\n",
    "| wind_direction | 日最大風速（風向） ||\n",
    "| wind_speed_max_moment | 日最大瞬間風速 ||\n",
    "| wind_direction_max_moment | 日最大瞬間風速（風向） ||\n",
    "| sunshine_duration | 日照時間 ||\n",
    "| snowfall | 降雪量の日合計 ||\n",
    "| snowfall_max | 日最深積雪 ||\n",
    "| information_daytime | 天気概況（昼：06時～18時） ||\n",
    "| information_night | 天気概況（夜：18時～翌日06時） |||\n",
    "\n",
    "気象庁データの利用あたっては気象庁が公開している[利用規約](http://www.jma.go.jp/jma/kishou/info/coment.html)を参照してください。"
   ]
  },
  {
   "cell_type": "markdown",
   "metadata": {},
   "source": [
    "登録するデータの内容は次のコマンドで確認できます。1行目がデータの項目を表し、2行目以降が実際のデータです。  \n",
    "Elasticsearchは慣習として時刻情報を@timestampというフィールドに格納します。"
   ]
  },
  {
   "cell_type": "code",
   "execution_count": 71,
   "metadata": {
    "collapsed": false,
    "scrolled": true
   },
   "outputs": [
    {
     "name": "stdout",
     "output_type": "stream",
     "text": [
      "@timestamp,location,atmospheric_pressure,sea_level_pressure,precipitation_day,precipitation_max_hour,precipitation_max_10min,temperature_avg,temperature_max,temperature_min,humidity_avg,humidity_min,wind_speed_avg,wind_speed_max,wind_direction,wind_speed_max_moment,wind_direction_max_moment,sunshine_duration,snowfall,snowfall_max,information_daytime,information_night\r",
      "\r\n",
      "2015-01-01T00:00:00,tokyo,1000.4,1003.4,0,0,0,3.7,8.2,0.7,41.0,30.0,4.4,9.4,西,18.7,北西,1.3,,,時々晴一時雪,晴\r",
      "\r\n",
      "2015-01-02T00:00:00,tokyo,1007.4,1010.4,,,,2.7,7.9,-2.2,41.0,19.0,2.1,4.2,西,7.8,西,6.0,,,時々曇,一時曇\r",
      "\r\n",
      "2015-01-03T00:00:00,tokyo,1012.0,1015.1,,,,3.8,8.9,-1.1,42.0,19.0,3.0,7.4,北西,10.9,北西,8.9,,,晴,後薄曇\r",
      "\r\n",
      "2015-01-04T00:00:00,tokyo,1010.4,1013.4,,,,4.0,9.3,-0.4,51.0,33.0,1.3,2.8,北西,3.8,北東,6.0,,,後晴,晴\r",
      "\r\n"
     ]
    }
   ],
   "source": [
    "!head -n 5 sample_data/tokyo2015.csv"
   ]
  },
  {
   "cell_type": "markdown",
   "metadata": {},
   "source": [
    "Logstashのサーバーにサンプルデータをコピーします。   \n",
    "Logstashをインストールしたサーバーの ~/ 配下に[sample_data](sample_data)のtokyo2015.csvをコピーしてください。"
   ]
  },
  {
   "cell_type": "markdown",
   "metadata": {},
   "source": [
    "Logstashを使ってサンプルデータをElasticsearchに登録します。次のセルのコマンドを実行してください。"
   ]
  },
  {
   "cell_type": "code",
   "execution_count": 72,
   "metadata": {
    "collapsed": false,
    "scrolled": false
   },
   "outputs": [
    {
     "name": "stdout",
     "output_type": "stream",
     "text": [
      "\u001b[0;32mXXX.XXX.XXX.232 | SUCCESS | rc=0 >>\r\n",
      "Sending Logstash logs to /var/log/logstash which is now configured via log4j2.properties.\r\n",
      "\u001b[0m\r\n"
     ]
    }
   ],
   "source": [
    "!ansible logstash-server -i /etc/ansible/hosts -m shell -a \"cat tokyo2015.csv | sudo /usr/share/logstash/bin/logstash --path.settings /etc/logstash -f /etc/logstash/conf.d/main.conf\" -u $USER --private-key=$KEYPATH"
   ]
  },
  {
   "cell_type": "markdown",
   "metadata": {},
   "source": [
    "データが登録されているかどうかは、次のセルを実行することで確認できます。"
   ]
  },
  {
   "cell_type": "code",
   "execution_count": 73,
   "metadata": {
    "collapsed": false,
    "scrolled": true
   },
   "outputs": [
    {
     "name": "stdout",
     "output_type": "stream",
     "text": [
      "{\r\n",
      "  \"took\" : 13,\r\n",
      "  \"timed_out\" : false,\r\n",
      "  \"_shards\" : {\r\n",
      "    \"total\" : 70,\r\n",
      "    \"successful\" : 70,\r\n",
      "    \"failed\" : 0\r\n",
      "  },\r\n",
      "  \"hits\" : {\r\n",
      "    \"total\" : 358,\r\n",
      "    \"max_score\" : 1.0,\r\n",
      "    \"hits\" : [\r\n",
      "      {\r\n",
      "        \"_index\" : \"meteorological-data-2015.01\",\r\n",
      "        \"_type\" : \"logs\",\r\n",
      "        \"_id\" : \"tokyo_15-01-08\",\r\n",
      "        \"_score\" : 1.0,\r\n",
      "        \"_source\" : {\r\n",
      "          \"date\" : \"15-01-08\",\r\n",
      "          \"wind_speed_avg\" : \"4.4\",\r\n",
      "          \"snowfall\" : null,\r\n",
      "          \"temperature_max\" : \"11.2\",\r\n",
      "          \"precipitation_day\" : null,\r\n",
      "          \"wind_speed_max\" : \"8.4\",\r\n",
      "          \"sunshine_duration\" : \"8.9\",\r\n",
      "          \"temperature_avg\" : \"6.2\",\r\n",
      "          \"temperature_min\" : \"2.0\",\r\n",
      "          \"@version\" : \"1\",\r\n",
      "          \"wind_direction_max_moment\" : \"北西\",\r\n",
      "          \"information_night\" : \"晴\",\r\n",
      "          \"precipitation_max_10min\" : null,\r\n",
      "          \"precipitation_max_hour\" : null,\r\n",
      "          \"wind_direction\" : \"西\",\r\n",
      "          \"information_daytime\" : \"晴\",\r\n",
      "          \"@timestamp\" : \"2015-01-07T15:00:00.000Z\",\r\n",
      "          \"humidity_avg\" : \"33.0\",\r\n",
      "          \"humidity_min\" : \"20.0\",\r\n",
      "          \"atmospheric_pressure\" : \"1006.2\",\r\n",
      "          \"location\" : \"tokyo\",\r\n",
      "          \"wind_speed_max_moment\" : \"13.6\",\r\n",
      "          \"snowfall_max\" : null,\r\n",
      "          \"sea_level_pressure\" : \"1009.2\"\r\n",
      "        }\r\n",
      "      },\r\n",
      "      {\r\n",
      "        \"_index\" : \"meteorological-data-2015.01\",\r\n",
      "        \"_type\" : \"logs\",\r\n",
      "        \"_id\" : \"tokyo_15-01-12\",\r\n",
      "        \"_score\" : 1.0,\r\n",
      "        \"_source\" : {\r\n",
      "          \"date\" : \"15-01-12\",\r\n",
      "          \"wind_speed_avg\" : \"4.6\",\r\n",
      "          \"snowfall\" : null,\r\n",
      "          \"temperature_max\" : \"9.0\",\r\n",
      "          \"precipitation_day\" : null,\r\n",
      "          \"wind_speed_max\" : \"9.1\",\r\n",
      "          \"sunshine_duration\" : \"9.1\",\r\n",
      "          \"temperature_avg\" : \"5.2\",\r\n",
      "          \"temperature_min\" : \"2.0\",\r\n",
      "          \"@version\" : \"1\",\r\n",
      "          \"wind_direction_max_moment\" : \"西\",\r\n",
      "          \"information_night\" : \"晴\",\r\n",
      "          \"precipitation_max_10min\" : null,\r\n",
      "          \"precipitation_max_hour\" : null,\r\n",
      "          \"wind_direction\" : \"西\",\r\n",
      "          \"information_daytime\" : \"晴\",\r\n",
      "          \"@timestamp\" : \"2015-01-11T15:00:00.000Z\",\r\n",
      "          \"humidity_avg\" : \"39.0\",\r\n",
      "          \"humidity_min\" : \"25.0\",\r\n",
      "          \"atmospheric_pressure\" : \"1016.3\",\r\n",
      "          \"location\" : \"tokyo\",\r\n",
      "          \"wind_speed_max_moment\" : \"15.8\",\r\n",
      "          \"snowfall_max\" : null,\r\n",
      "          \"sea_level_pressure\" : \"1019.3\"\r\n",
      "        }\r\n",
      "      },\r\n",
      "      {\r\n",
      "        \"_index\" : \"meteorological-data-2015.01\",\r\n",
      "        \"_type\" : \"logs\",\r\n",
      "        \"_id\" : \"tokyo_15-01-16\",\r\n",
      "        \"_score\" : 1.0,\r\n",
      "        \"_source\" : {\r\n",
      "          \"date\" : \"15-01-16\",\r\n",
      "          \"wind_speed_avg\" : \"2.8\",\r\n",
      "          \"snowfall\" : null,\r\n",
      "          \"temperature_max\" : \"13.2\",\r\n",
      "          \"precipitation_day\" : \"0\",\r\n",
      "          \"wind_speed_max\" : \"5.7\",\r\n",
      "          \"sunshine_duration\" : \"6.9\",\r\n",
      "          \"temperature_avg\" : \"8.9\",\r\n",
      "          \"temperature_min\" : \"4.9\",\r\n",
      "          \"@version\" : \"1\",\r\n",
      "          \"wind_direction_max_moment\" : \"北西\",\r\n",
      "          \"information_night\" : \"後晴\",\r\n",
      "          \"precipitation_max_10min\" : \"0\",\r\n",
      "          \"precipitation_max_hour\" : \"0\",\r\n",
      "          \"wind_direction\" : \"東\",\r\n",
      "          \"information_daytime\" : \"後曇\",\r\n",
      "          \"@timestamp\" : \"2015-01-15T15:00:00.000Z\",\r\n",
      "          \"humidity_avg\" : \"54.0\",\r\n",
      "          \"humidity_min\" : \"23.0\",\r\n",
      "          \"atmospheric_pressure\" : \"1009.7\",\r\n",
      "          \"location\" : \"tokyo\",\r\n",
      "          \"wind_speed_max_moment\" : \"10.7\",\r\n",
      "          \"snowfall_max\" : null,\r\n",
      "          \"sea_level_pressure\" : \"1012.6\"\r\n",
      "        }\r\n",
      "      },\r\n",
      "      {\r\n",
      "        \"_index\" : \"meteorological-data-2015.01\",\r\n",
      "        \"_type\" : \"logs\",\r\n",
      "        \"_id\" : \"tokyo_15-01-23\",\r\n",
      "        \"_score\" : 1.0,\r\n",
      "        \"_source\" : {\r\n",
      "          \"date\" : \"15-01-23\",\r\n",
      "          \"wind_speed_avg\" : \"4.3\",\r\n",
      "          \"snowfall\" : null,\r\n",
      "          \"temperature_max\" : \"12.8\",\r\n",
      "          \"precipitation_day\" : \"7.5\",\r\n",
      "          \"wind_speed_max\" : \"9.1\",\r\n",
      "          \"sunshine_duration\" : \"6.8\",\r\n",
      "          \"temperature_avg\" : \"6.9\",\r\n",
      "          \"temperature_min\" : \"3.7\",\r\n",
      "          \"@version\" : \"1\",\r\n",
      "          \"wind_direction_max_moment\" : null,\r\n",
      "          \"information_night\" : \"晴\",\r\n",
      "          \"precipitation_max_10min\" : \"1.0\",\r\n",
      "          \"precipitation_max_hour\" : \"2.5\",\r\n",
      "          \"wind_direction\" : \"北西\",\r\n",
      "          \"information_daytime\" : \"一時曇\",\r\n",
      "          \"@timestamp\" : \"2015-01-22T15:00:00.000Z\",\r\n",
      "          \"humidity_avg\" : \"63.0\",\r\n",
      "          \"humidity_min\" : \"33.0\",\r\n",
      "          \"atmospheric_pressure\" : \"1004.1\",\r\n",
      "          \"location\" : \"tokyo\",\r\n",
      "          \"wind_speed_max_moment\" : \"17.6\",\r\n",
      "          \"snowfall_max\" : null,\r\n",
      "          \"sea_level_pressure\" : \"1007.1\"\r\n",
      "        }\r\n",
      "      },\r\n",
      "      {\r\n",
      "        \"_index\" : \"meteorological-data-2015.01\",\r\n",
      "        \"_type\" : \"logs\",\r\n",
      "        \"_id\" : \"tokyo_15-01-26\",\r\n",
      "        \"_score\" : 1.0,\r\n",
      "        \"_source\" : {\r\n",
      "          \"date\" : \"15-01-26\",\r\n",
      "          \"wind_speed_avg\" : \"2.0\",\r\n",
      "          \"snowfall\" : null,\r\n",
      "          \"temperature_max\" : \"12.9\",\r\n",
      "          \"precipitation_day\" : \"0.5\",\r\n",
      "          \"wind_speed_max\" : \"3.8\",\r\n",
      "          \"sunshine_duration\" : \"4.4\",\r\n",
      "          \"temperature_avg\" : \"9.0\",\r\n",
      "          \"temperature_min\" : \"5.6\",\r\n",
      "          \"@version\" : \"1\",\r\n",
      "          \"wind_direction_max_moment\" : \"南東\",\r\n",
      "          \"information_night\" : \"一時曇\",\r\n",
      "          \"precipitation_max_10min\" : \"0.5\",\r\n",
      "          \"precipitation_max_hour\" : \"0.5\",\r\n",
      "          \"wind_direction\" : \"南東\",\r\n",
      "          \"information_daytime\" : \"時々晴\",\r\n",
      "          \"@timestamp\" : \"2015-01-25T15:00:00.000Z\",\r\n",
      "          \"humidity_avg\" : \"74.0\",\r\n",
      "          \"humidity_min\" : \"52.0\",\r\n",
      "          \"atmospheric_pressure\" : \"1019.1\",\r\n",
      "          \"location\" : \"tokyo\",\r\n",
      "          \"wind_speed_max_moment\" : \"6.0\",\r\n",
      "          \"snowfall_max\" : null,\r\n",
      "          \"sea_level_pressure\" : \"1022.1\"\r\n",
      "        }\r\n",
      "      },\r\n",
      "      {\r\n",
      "        \"_index\" : \"meteorological-data-2015.02\",\r\n",
      "        \"_type\" : \"logs\",\r\n",
      "        \"_id\" : \"tokyo_15-02-11\",\r\n",
      "        \"_score\" : 1.0,\r\n",
      "        \"_source\" : {\r\n",
      "          \"date\" : \"15-02-11\",\r\n",
      "          \"wind_speed_avg\" : \"2.0\",\r\n",
      "          \"snowfall\" : null,\r\n",
      "          \"temperature_max\" : \"10.9\",\r\n",
      "          \"precipitation_day\" : null,\r\n",
      "          \"wind_speed_max\" : \"4.2\",\r\n",
      "          \"sunshine_duration\" : \"9.7\",\r\n",
      "          \"temperature_avg\" : \"5.6\",\r\n",
      "          \"temperature_min\" : \"0.2\",\r\n",
      "          \"@version\" : \"1\",\r\n",
      "          \"wind_direction_max_moment\" : null,\r\n",
      "          \"information_night\" : \"曇時々晴\",\r\n",
      "          \"precipitation_max_10min\" : null,\r\n",
      "          \"precipitation_max_hour\" : null,\r\n",
      "          \"wind_direction\" : null,\r\n",
      "          \"information_daytime\" : null,\r\n",
      "          \"@timestamp\" : \"2015-02-10T15:00:00.000Z\",\r\n",
      "          \"humidity_avg\" : \"54.0\",\r\n",
      "          \"humidity_min\" : \"30.0\",\r\n",
      "          \"atmospheric_pressure\" : \"1009.1\",\r\n",
      "          \"location\" : \"tokyo\",\r\n",
      "          \"wind_speed_max_moment\" : \"6.9\",\r\n",
      "          \"snowfall_max\" : null,\r\n",
      "          \"sea_level_pressure\" : \"1012.1\"\r\n",
      "        }\r\n",
      "      },\r\n",
      "      {\r\n",
      "        \"_index\" : \"meteorological-data-2015.02\",\r\n",
      "        \"_type\" : \"logs\",\r\n",
      "        \"_id\" : \"tokyo_15-02-12\",\r\n",
      "        \"_score\" : 1.0,\r\n",
      "        \"_source\" : {\r\n",
      "          \"date\" : \"15-02-12\",\r\n",
      "          \"wind_speed_avg\" : \"1.7\",\r\n",
      "          \"snowfall\" : null,\r\n",
      "          \"temperature_max\" : \"13.0\",\r\n",
      "          \"precipitation_day\" : null,\r\n",
      "          \"wind_speed_max\" : \"3.8\",\r\n",
      "          \"sunshine_duration\" : \"9.5\",\r\n",
      "          \"temperature_avg\" : \"7.0\",\r\n",
      "          \"temperature_min\" : \"1.2\",\r\n",
      "          \"@version\" : \"1\",\r\n",
      "          \"wind_direction_max_moment\" : \"北西\",\r\n",
      "          \"information_night\" : \"一時曇\",\r\n",
      "          \"precipitation_max_10min\" : null,\r\n",
      "          \"precipitation_max_hour\" : null,\r\n",
      "          \"wind_direction\" : \"北西\",\r\n",
      "          \"information_daytime\" : \"晴\",\r\n",
      "          \"@timestamp\" : \"2015-02-11T15:00:00.000Z\",\r\n",
      "          \"humidity_avg\" : \"56.0\",\r\n",
      "          \"humidity_min\" : \"33.0\",\r\n",
      "          \"atmospheric_pressure\" : \"1001.6\",\r\n",
      "          \"location\" : \"tokyo\",\r\n",
      "          \"wind_speed_max_moment\" : \"5.8\",\r\n",
      "          \"snowfall_max\" : null,\r\n",
      "          \"sea_level_pressure\" : \"1004.5\"\r\n",
      "        }\r\n",
      "      },\r\n",
      "      {\r\n",
      "        \"_index\" : \"meteorological-data-2015.02\",\r\n",
      "        \"_type\" : \"logs\",\r\n",
      "        \"_id\" : \"tokyo_15-02-25\",\r\n",
      "        \"_score\" : 1.0,\r\n",
      "        \"_source\" : {\r\n",
      "          \"date\" : \"15-02-25\",\r\n",
      "          \"wind_speed_avg\" : \"2.7\",\r\n",
      "          \"snowfall\" : null,\r\n",
      "          \"temperature_max\" : \"13.2\",\r\n",
      "          \"precipitation_day\" : \"0\",\r\n",
      "          \"wind_speed_max\" : \"5.4\",\r\n",
      "          \"sunshine_duration\" : \"2.8\",\r\n",
      "          \"temperature_avg\" : \"9.2\",\r\n",
      "          \"temperature_min\" : \"7.5\",\r\n",
      "          \"@version\" : \"1\",\r\n",
      "          \"wind_direction_max_moment\" : \"南東\",\r\n",
      "          \"information_night\" : null,\r\n",
      "          \"precipitation_max_10min\" : \"0\",\r\n",
      "          \"precipitation_max_hour\" : \"0\",\r\n",
      "          \"wind_direction\" : \"東\",\r\n",
      "          \"information_daytime\" : null,\r\n",
      "          \"@timestamp\" : \"2015-02-24T15:00:00.000Z\",\r\n",
      "          \"humidity_avg\" : \"58.0\",\r\n",
      "          \"humidity_min\" : \"45.0\",\r\n",
      "          \"atmospheric_pressure\" : \"1016.1\",\r\n",
      "          \"location\" : \"tokyo\",\r\n",
      "          \"wind_speed_max_moment\" : \"8.6\",\r\n",
      "          \"snowfall_max\" : null,\r\n",
      "          \"sea_level_pressure\" : \"1019.0\"\r\n",
      "        }\r\n",
      "      },\r\n",
      "      {\r\n",
      "        \"_index\" : \"meteorological-data-2015.02\",\r\n",
      "        \"_type\" : \"logs\",\r\n",
      "        \"_id\" : \"tokyo_15-02-28\",\r\n",
      "        \"_score\" : 1.0,\r\n",
      "        \"_source\" : {\r\n",
      "          \"date\" : \"15-02-28\",\r\n",
      "          \"wind_speed_avg\" : \"3.8\",\r\n",
      "          \"snowfall\" : null,\r\n",
      "          \"temperature_max\" : \"12.8\",\r\n",
      "          \"precipitation_day\" : null,\r\n",
      "          \"wind_speed_max\" : \"6.9\",\r\n",
      "          \"sunshine_duration\" : \"9.2\",\r\n",
      "          \"temperature_avg\" : \"7.4\",\r\n",
      "          \"temperature_min\" : \"3.0\",\r\n",
      "          \"@version\" : \"1\",\r\n",
      "          \"wind_direction_max_moment\" : \"北西\",\r\n",
      "          \"information_night\" : \"後一時雨\",\r\n",
      "          \"precipitation_max_10min\" : null,\r\n",
      "          \"precipitation_max_hour\" : null,\r\n",
      "          \"wind_direction\" : \"西\",\r\n",
      "          \"information_daytime\" : \"一時曇\",\r\n",
      "          \"@timestamp\" : \"2015-02-27T15:00:00.000Z\",\r\n",
      "          \"humidity_avg\" : \"37.0\",\r\n",
      "          \"humidity_min\" : \"14.0\",\r\n",
      "          \"atmospheric_pressure\" : \"1021.1\",\r\n",
      "          \"location\" : \"tokyo\",\r\n",
      "          \"wind_speed_max_moment\" : \"11.8\",\r\n",
      "          \"snowfall_max\" : null,\r\n",
      "          \"sea_level_pressure\" : \"1024.1\"\r\n",
      "        }\r\n",
      "      },\r\n",
      "      {\r\n",
      "        \"_index\" : \"meteorological-data-2015.03\",\r\n",
      "        \"_type\" : \"logs\",\r\n",
      "        \"_id\" : \"tokyo_15-03-06\",\r\n",
      "        \"_score\" : 1.0,\r\n",
      "        \"_source\" : {\r\n",
      "          \"date\" : \"15-03-06\",\r\n",
      "          \"wind_speed_avg\" : \"2.8\",\r\n",
      "          \"snowfall\" : null,\r\n",
      "          \"temperature_max\" : \"12.0\",\r\n",
      "          \"precipitation_day\" : \"0\",\r\n",
      "          \"wind_speed_max\" : \"4.4\",\r\n",
      "          \"sunshine_duration\" : \"1.9\",\r\n",
      "          \"temperature_avg\" : \"7.3\",\r\n",
      "          \"temperature_min\" : \"4.9\",\r\n",
      "          \"@version\" : \"1\",\r\n",
      "          \"wind_direction_max_moment\" : \"北東\",\r\n",
      "          \"information_night\" : \"一時曇\",\r\n",
      "          \"precipitation_max_10min\" : \"0\",\r\n",
      "          \"precipitation_max_hour\" : \"0\",\r\n",
      "          \"wind_direction\" : \"北東\",\r\n",
      "          \"information_daytime\" : null,\r\n",
      "          \"@timestamp\" : \"2015-03-05T15:00:00.000Z\",\r\n",
      "          \"humidity_avg\" : \"53.0\",\r\n",
      "          \"humidity_min\" : \"34.0\",\r\n",
      "          \"atmospheric_pressure\" : \"1021.2\",\r\n",
      "          \"location\" : \"tokyo\",\r\n",
      "          \"wind_speed_max_moment\" : \"9.6\",\r\n",
      "          \"snowfall_max\" : null,\r\n",
      "          \"sea_level_pressure\" : \"1024.2\"\r\n",
      "        }\r\n",
      "      }\r\n",
      "    ]\r\n",
      "  }\r\n",
      "}\r\n"
     ]
    }
   ],
   "source": [
    "!curl -XGET http://$ES_CLIENT/$INDEX/_search/?pretty"
   ]
  },
  {
   "cell_type": "markdown",
   "metadata": {},
   "source": [
    "登録したデータの内容がJSON形式で表示されるので、それを確認してください。  \n",
    "レスポンスのサイズを指定していないため、ここでは最大10件まで確認できます。  \n",
    "データが登録されていることが確認できたら、セットアップ作業は終了です。"
   ]
  },
  {
   "cell_type": "markdown",
   "metadata": {},
   "source": [
    "## 構築するにあたって"
   ]
  },
  {
   "cell_type": "markdown",
   "metadata": {},
   "source": [
    "構築にあたり、1サーバのスペック、設定するshardの数、各役割のノード数を決める必要があります。  \n",
    "その際の指針となる考えを示します。  \n",
    "具体的な数値に関しては用途に応じて決定してください。"
   ]
  },
  {
   "cell_type": "markdown",
   "metadata": {},
   "source": [
    "![images/01_server_construction.png](images/01_server_construction.png)"
   ]
  },
  {
   "cell_type": "markdown",
   "metadata": {},
   "source": [
    "### 1サーバ当たりのスペック"
   ]
  },
  {
   "cell_type": "markdown",
   "metadata": {},
   "source": [
    "Elasticsearchに何をさせるかによってボトルネックになる箇所が異なるため、  \n",
    "ハードウェアのスペックを決定する際に、ある程度「どういう処理をするのか」を想定しておく必要があります。  \n",
    "\n",
    "Elasticsearchを利用する際に特に検討が必要なスペックは以下の通りです。  \n",
    "\n",
    "- CPU: 全体の処理速度とコア数はクエリの並列処理  \n",
    "- ディスク: 検索とindexの頻度(データ登録の頻度)  \n",
    "- メモリ: キャッシュとして利用されるため、ディスクと同じく検索のレスポンスに影響します。  "
   ]
  },
  {
   "cell_type": "markdown",
   "metadata": {},
   "source": [
    "ここでは良くある2つのユースケースを示します。"
   ]
  },
  {
   "cell_type": "markdown",
   "metadata": {},
   "source": [
    "#### ユースケース1  "
   ]
  },
  {
   "cell_type": "markdown",
   "metadata": {},
   "source": [
    "検索処理を高速に行いたい場合"
   ]
  },
  {
   "cell_type": "markdown",
   "metadata": {},
   "source": [
    "このケースではクエリを並列に実行させて、検索レスポンスの速度を確保する必要があります。  \n",
    "クエリはshardごとに並列で実行されるため、CPUコア数までshard数を設定する、サーバ台数を増やす、といった対応を行います。  \n",
    "\n",
    "また、検索速度を上げるにはディスクの速度だけではなく、OSのディスクキャッシュを潤沢に確保する必要があります。  \n",
    "単純な検索クエリについてElastic社が性能検証を行った結果、もっともパフォーマンスが出やすいのが「メモリ:ディスク=1:16」と実測されました。  \n",
    "例えば、メモリが64GBの場合には1TBのデータ保持が適切です。  "
   ]
  },
  {
   "cell_type": "markdown",
   "metadata": {},
   "source": [
    "※メモリとディスク容量の比率はElastic社の資料[Sizing Scenario](https://speakerdeck.com/elastic/quantitative-cluster-sizing?slide=16)を参考にしています。"
   ]
  },
  {
   "cell_type": "markdown",
   "metadata": {},
   "source": [
    "|メモリ(GB)|ディスク(GB)|\n",
    "|---------|-----------|\n",
    "| 32      | 512       |\n",
    "| 64      | 1024      |\n",
    "<center>メモリとディスクの割合を1:16で計算した場合</center>"
   ]
  },
  {
   "cell_type": "markdown",
   "metadata": {},
   "source": [
    "#### ユースケース2 "
   ]
  },
  {
   "cell_type": "markdown",
   "metadata": {},
   "source": [
    "色々なデータを大量に持たせたい場合  \n",
    "\n",
    "ユースケース1に記載した以上にディスクの比率を大きくし、1ノードのデータ量を増やした場合、ディスクキャッシュのヒット率が下がり、ディスクアクセスが増加するため、検索速度が遅くなります。  \n",
    "どの程度までの検索時間を許容するかに依存しますが、1ノードのデータ量はユースケース1の10倍程度までが目安となります。"
   ]
  },
  {
   "cell_type": "markdown",
   "metadata": {},
   "source": [
    "### Shard数を決める"
   ]
  },
  {
   "cell_type": "markdown",
   "metadata": {},
   "source": [
    "Elasticsearchの使用用途によって、設定するshard数も変わってきます。  \n",
    "1.6.1で上げた2つのユースケースの例で考えると、\n",
    "\n",
    "ユースケース1では、サーバ1台のCPUコア数と同じ数を設定します。  \n",
    "ユースケース2では、shard数を3～5程度にし、サーバ1台のデータ容量を多く持てるようにすると良いです。"
   ]
  },
  {
   "cell_type": "markdown",
   "metadata": {},
   "source": [
    "shard数を多くするメリット・デメリットは以下が考えられます。    \n",
    "- メリット: クエリの並列数が上がり、1ノード当たりのパフォーマンス向上が見込める  \n",
    "- デメリット: shard数をCPUコア数より大きくしても並列度が上がらず、検索速度は向上しない \n",
    "\n",
    "設定方法としてshard数を縮小するためのAPIが用意されています。  \n",
    "詳細はElasticsearch Referenceの[Shrink Index](https://www.elastic.co/guide/en/elasticsearch/reference/current/indices-shrink-index.html)を参照してください。"
   ]
  },
  {
   "cell_type": "markdown",
   "metadata": {},
   "source": [
    "また、shard数はクエリ解析時にも影響があります。  \n",
    "詳細は[07_Troubleshooting](07_Troubleshooting.ipynb#Slowログを確認)を参照してください。"
   ]
  },
  {
   "cell_type": "markdown",
   "metadata": {},
   "source": [
    "### サーバ台数の決め方"
   ]
  },
  {
   "cell_type": "markdown",
   "metadata": {},
   "source": [
    "もとめられる検索速度、扱うデータ量、用意できるサーバスペックによってクラスタを構成する台数は大きく変化します。  \n",
    "そのため、正確な見積もりは難しいため、ベンチマークを実施することを推奨します。  \n",
    "ここでは、データ、マスターノード数を決定する上での考えを示します。"
   ]
  },
  {
   "cell_type": "markdown",
   "metadata": {},
   "source": [
    "#### データノード数"
   ]
  },
  {
   "cell_type": "markdown",
   "metadata": {},
   "source": [
    "以下にデータノード数を決める流れを示します。  \n",
    "\n",
    "**①データサイズ(保持するデータ量) を決定する**  \n",
    "データの内容により、データサイズは異なります。  \n",
    "必要なデータ量の何分の1かをElasticsearchに登録し、そのとき利用したディスク使用量から、全体のデータ量を算出してください。"
   ]
  },
  {
   "cell_type": "markdown",
   "metadata": {},
   "source": [
    "**②必要メモリサイズ(①のデータサイズを扱うために必要なメモリ量)を決定する**  \n",
    "次に、メモリとディスクの比率から、必要なメモリサイズを算出します。  \n",
    "ここでは、ユースケース1を想定し、メモリ:ディスクの比率として1:16とし、1ノード当たりメモリ64GB、ディスク1TBとします。  \n",
    "\n",
    "*必要メモリサイズ = ディスク / 16 *"
   ]
  },
  {
   "cell_type": "markdown",
   "metadata": {},
   "source": [
    "ノード1台あたりのメモリサイズの詳細はElasticsearch Referenceの[Memory](https://www.elastic.co/guide/en/elasticsearch/guide/current/hardware.html#_memory)を参照してください。"
   ]
  },
  {
   "cell_type": "markdown",
   "metadata": {},
   "source": [
    "**③データノード数を決定する**  \n",
    "必要なデータ量から、それを満たすデータノード数を算出します。  \n",
    "このケースでは、ノード1台あたりのディスクサイズは1TBとしているため、こちらを使用して計算します。  \n",
    "\n",
    "*データノード数 = 全体のデータ量 / 1(TB)　※ただし、冗長性を考慮し、最低3台とする。*"
   ]
  },
  {
   "cell_type": "markdown",
   "metadata": {},
   "source": [
    "#### マスターノード数"
   ]
  },
  {
   "cell_type": "markdown",
   "metadata": {},
   "source": [
    "マスターノード数は、Split brain問題を避けるために3台とすることが望ましいです。  \n",
    "Split brainとは、クラスタ内でMaster nodeが複数存在してしまいデータが失われる危険性がある問題です。  \n",
    "詳細はElasticsearch Referenceの[Master Eligible Node](https://www.elastic.co/guide/en/elasticsearch/reference/5.0/modules-node.html#split-brain)を参照してください。"
   ]
  },
  {
   "cell_type": "markdown",
   "metadata": {},
   "source": [
    "### Elasticsearch本体のパラメータチューニング"
   ]
  },
  {
   "cell_type": "markdown",
   "metadata": {
    "collapsed": true
   },
   "source": [
    "パフォーマンスを改善するための主なパラメータは次のようなものになります。  \n",
    "設定にはindexごとの設定や、ノードごとの設定、クラスタ全体の設定があり、設定方法が異なります。  \n",
    "設定に関しての詳細はElasticsearch Referenceの[Configuring Elasticsearch](https://www.elastic.co/guide/en/elasticsearch/reference/5.0/settings.html)を参照してください。"
   ]
  },
  {
   "cell_type": "markdown",
   "metadata": {},
   "source": [
    "| チューニング項目         | 設定項目名            | チューニング概要       |詳細の参照先       |設定方法                                                                                                                                                                                                      |\n",
    "|--------------------------|-----------------------|-------------------------------------------------------------------------------------------------------------------------------------------------------------------------------------------------|---------------------------------------|\n",
    "| [シャード数](#Shard数を決める)               | number_of_shards      | シャード数を増やすことで書き込みを分散します。|[Index Modules](https://www.elastic.co/guide/en/elasticsearch/reference/5.0/index-modules.html#dynamic-index-settings)       |indexごとに設定することができます。REST APIから設定します。                                                                                                                                                                                      |\n",
    "| [indexの更新間隔](#1サーバ当たりのスペック)          | refresh_interval      | indexの更新間隔を広げることで、インデックス処理は遅延しますが、Elasticsearchの負荷を下げることができます。|[Index Modules](https://www.elastic.co/guide/en/elasticsearch/reference/5.0/index-modules.html#dynamic-index-settings)         |indexごとに設定することができます。REST APIから設定します。                                                                                                                                            |\n",
    "| [リクエストキューのサイズ](#サーバ台数の決め方) | thread_pool.queue.size | リクエストキューのサイズを増やすことで、高負荷時のエラー発生を防ぐことができます。<br>キューが溢れた場合、Elasticsearchはドキュメントを破棄し、429エラーを返します。<br>Logstashを用いてドキュメント登録を行っている場合、下記のようなエラーが出力されます。<br>その場合はキューのサイズを増やすか、Elasticsearchの処理速度を向上させる必要があります。<br><br>17:42:11.840 [[main]>worker6] INFO  logstash.outputs.elasticsearch - retrying failed action with response code: 429 ({\"type\"=>\"es_rejected_execution_exception\", \"reason\"=>\"rejected execution of org.elasticsearch.transport.TransportService$6@1adec92 on EsThreadPoolExecutor[bulk, queue capacity = 0, org.elasticsearch.common.util.concurrent.EsThreadPoolExecutor@75905a2[Running, pool size = 1, active threads = 0, queued tasks = 0, completed tasks = 1]]\"})|[Thread Pool](https://www.elastic.co/guide/en/elasticsearch/reference/5.0/modules-threadpool.html)             |elasticsearch.ymlで設定することができます。                                                                                                                                                        |\n",
    "| [バルク処理のスレッド数](#1サーバ当たりのスペック)   | thread_pool.bulk.size  | バルクインポート処理（複数のドキュメントをまとめて追加する処理）を受け付けるスレッド数を増減させます。<br>スレッド数を増加させることによって処理が並列化され、パフォーマンスの向上が期待されます。<br>ただし、稼働マシンのコア数を超える値を設定できないように制限されています。|[Thread Pool](https://www.elastic.co/guide/en/elasticsearch/reference/5.0/modules-threadpool.html)   |elasticsearch.ymlで設定することができます。                                                                                              "
   ]
  },
  {
   "cell_type": "markdown",
   "metadata": {},
   "source": [
    "## Elasticsearchが得意としないクエリ"
   ]
  },
  {
   "cell_type": "markdown",
   "metadata": {},
   "source": [
    "### 時系列データの連続する期間"
   ]
  },
  {
   "cell_type": "markdown",
   "metadata": {},
   "source": [
    "Elasticsearchは「保有データの中から該当するデータを見つける、見つけたデータを集計する」点に強みがありますが、不得意とする集計方法も存在します。  \n",
    "「連続して条件を満たすデータの範囲を求める」「条件が変化する箇所を見つける」ようなこと不得意な処理です。 \n",
    "\n",
    "例えば、「ある期間の中で正→負→正と値が切り替わる回数を集計する」といった処理です。  \n",
    "こういった解析は[03_Aggregation](03_Aggregation.ipynb)のBucket SelectorやSerial Differencing機能を組み合わせることで実現可能ですが、複雑なクエリとなり、実行時間も長くなるため、注意が必要です。  "
   ]
  },
  {
   "cell_type": "markdown",
   "metadata": {},
   "source": [
    "### 正規化されたデータ"
   ]
  },
  {
   "cell_type": "markdown",
   "metadata": {},
   "source": [
    "リレーショナルデータベースのようなデータのJOINをできないため、データの投入時に正規化を崩す必要があります。  \n",
    "例として１つの計測データと、それが参照するマスターデータがある場合を考えましょう。"
   ]
  },
  {
   "cell_type": "raw",
   "metadata": {},
   "source": [
    "計測データ  \n",
    "\"time:2016/01/15T09:15:13,id:1,val: 10\"  \n",
    "\"time:2016/01/15T09:15:13,id:3,val: 20\"  \n",
    "\"time:2016/01/15T09:15:15,id:1,val: 30\"  \n",
    "\"time:2016/01/15T09:15:15,id:2,val: 40\"  \n",
    "\n",
    "マスターデータ  \n",
    "\"id:1,name: Foo\"  \n",
    "\"id:2,name: Bar\"  \n",
    "\"id:3,name: Baz\"  "
   ]
  },
  {
   "cell_type": "markdown",
   "metadata": {},
   "source": [
    "このようなデータの場合、以下のようなドキュメントを登録します。"
   ]
  },
  {
   "cell_type": "raw",
   "metadata": {},
   "source": [
    "投入データ  \n",
    "\"time:2016/01/15T09:15:13,id:1,val: 10,name: Foo\"  \n",
    "\"time:2016/01/15T09:15:13,id:3,val: 20,name: Baz\"  \n",
    "\"time:2016/01/15T09:15:15,id:1,val: 30,name: Foo\"  \n",
    "\"time:2016/01/15T09:15:15,id:2,val: 40,name: Bar\"  "
   ]
  },
  {
   "cell_type": "markdown",
   "metadata": {},
   "source": [
    "正規化しないことでデータ量は増えますが、Elasticsearchではこのようにデータを持つ必要があります。"
   ]
  },
  {
   "cell_type": "markdown",
   "metadata": {},
   "source": [
    "### 同時更新が必要なもの"
   ]
  },
  {
   "cell_type": "markdown",
   "metadata": {},
   "source": [
    "トランザクション機能がないため、複数クライアントから同じドキュメントを同時に更新すると、期待と異なる動作をする可能性があります。  \n",
    "この問題を回避する方法については、Elasticsearch Referenceの[Solving Concurrency Issues](https://www.elastic.co/guide/en/elasticsearch/guide/2.x/concurrency-solutions.html)を参照ください。"
   ]
  }
 ],
 "metadata": {
  "anaconda-cloud": {},
  "kernelspec": {
   "display_name": "Python 2",
   "language": "python",
   "name": "python2"
  },
  "language_info": {
   "codemirror_mode": {
    "name": "ipython",
    "version": 2
   },
   "file_extension": ".py",
   "mimetype": "text/x-python",
   "name": "python",
   "nbconvert_exporter": "python",
   "pygments_lexer": "ipython2",
   "version": "2.7.9"
  },
  "latex_envs": {
   "bibliofile": "biblio.bib",
   "cite_by": "apalike",
   "current_citInitial": 1,
   "eqLabelWithNumbers": true,
   "eqNumInitial": 0
  },
  "toc": {
   "colors": {
    "hover_highlight": "#DAA520",
    "running_highlight": "#FF0000",
    "selected_highlight": "#FFD700"
   },
   "moveMenuLeft": true,
   "nav_menu": {
    "height": "407px",
    "width": "252px"
   },
   "navigate_menu": true,
   "number_sections": true,
   "sideBar": true,
   "threshold": 4,
   "toc_cell": false,
   "toc_position": {
    "height": "844px",
    "left": "0px",
    "right": "1576px",
    "top": "106px",
    "width": "344px"
   },
   "toc_section_display": "block",
   "toc_window_display": true
  }
 },
 "nbformat": 4,
 "nbformat_minor": 1
}
