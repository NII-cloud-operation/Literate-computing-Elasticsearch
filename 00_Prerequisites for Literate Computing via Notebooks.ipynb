{
 "cells": [
  {
   "cell_type": "markdown",
   "metadata": {
    "lc_cell_meme": {
     "current": "e84f4368-1a78-11e7-b31a-0242ac12000d",
     "next": "e84f45ac-1a78-11e7-b31a-0242ac12000d",
     "previous": null
    },
    "run_control": {
     "frozen": false,
     "read_only": false
    }
   },
   "source": [
    "# About: Prerequisites for Literate Computing via Notebook\n",
    "文芸的機械化の準備 - Notebookでね\n",
    "\n",
    "----\n",
    "\n",
    "This notebook describes enviromental prerequisits in order to utilize the set of notebooks under this directory.\n",
    "Prerequisits cover both for the originate host where notebooks operate and for the target hosts manipulated by notebooks.\n",
    "\n",
    "ここでは本ディレクトリに含まれるNotebookを利用するために必要となる環境条件を明示的に定義している。\n",
    "環境条件には、Notebookを動作させているホストマシンの環境、およびNotebookで操作しようとしている対象ホスト群の環境が含まれる。\n",
    "\n",
    "----\n",
    "\n",
    "自身のNotebook環境にNotebookをコピーした後、読み進めることで条件を満たしているか確認できる。\n",
    "\n",
    "条件には推奨の度合いによりレベルがあり、 **A=必須、B=推奨、C=任意** というレベルを設定してある。\n"
   ]
  },
  {
   "cell_type": "markdown",
   "metadata": {
    "lc_cell_meme": {
     "current": "e84f45ac-1a78-11e7-b31a-0242ac12000d",
     "next": "e84f47a0-1a78-11e7-b31a-0242ac12000d",
     "previous": "e84f4368-1a78-11e7-b31a-0242ac12000d"
    },
    "run_control": {
     "frozen": false,
     "read_only": false
    }
   },
   "source": [
    "# Ansibleの設定\n",
    "\n",
    "Notebook環境は、以下の条件を満たしている必要がある。\n",
    "\n",
    "## Ansibleがインストールされていること - A\n",
    "\n",
    "以下のコマンド実行がエラーとならず、インストールされているAnsibleのバージョンが表示されること。"
   ]
  },
  {
   "cell_type": "code",
   "execution_count": 1,
   "metadata": {
    "collapsed": false,
    "lc_cell_meme": {
     "current": "e84f47a0-1a78-11e7-b31a-0242ac12000d",
     "next": "e84f4a8e-1a78-11e7-b31a-0242ac12000d",
     "previous": "e84f45ac-1a78-11e7-b31a-0242ac12000d"
    },
    "run_control": {
     "frozen": false,
     "read_only": false
    },
    "scrolled": true
   },
   "outputs": [
    {
     "name": "stdout",
     "output_type": "stream",
     "text": [
      "ansible XXX.XXX.XXX.0\r\n",
      "  config file = /etc/ansible/ansible.cfg\r\n",
      "  configured module search path = Default w/o overrides\r\n"
     ]
    }
   ],
   "source": [
    "!ansible --version"
   ]
  },
  {
   "cell_type": "markdown",
   "metadata": {
    "lc_cell_meme": {
     "current": "e84f4a8e-1a78-11e7-b31a-0242ac12000d",
     "next": "e84f4cbe-1a78-11e7-b31a-0242ac12000d",
     "previous": "e84f47a0-1a78-11e7-b31a-0242ac12000d"
    },
    "run_control": {
     "frozen": false,
     "read_only": false
    }
   },
   "source": [
    "ansibleコマンドがインストールされていない場合は、[Installing the Control Machine](http://docs.ansible.com/ansible/intro_installation.html#installing-the-control-machine)を参考に、Ansibleをインストールする。"
   ]
  },
  {
   "cell_type": "markdown",
   "metadata": {
    "lc_cell_meme": {
     "current": "e84f4cbe-1a78-11e7-b31a-0242ac12000d",
     "history": [
      {
       "current": "e84f4cbe-1a78-11e7-b31a-0242ac12000d",
       "next": "e84f4e94-1a78-11e7-b31a-0242ac12000d",
       "previous": "e84f4a8e-1a78-11e7-b31a-0242ac12000d"
      }
     ],
     "next": "e84f7ee6-1a78-11e7-b31a-0242ac12000d",
     "previous": "e84f4a8e-1a78-11e7-b31a-0242ac12000d"
    },
    "run_control": {
     "frozen": false,
     "read_only": false
    }
   },
   "source": [
    "## AnsibleでDefault Moduleが利用可能であること - A\n",
    "\n",
    "DefaultのModuleが使えればよい。特にカスタマイズすべき項目はなし。"
   ]
  },
  {
   "cell_type": "markdown",
   "metadata": {
    "lc_cell_meme": {
     "current": "e84f7ee6-1a78-11e7-b31a-0242ac12000d",
     "history": [
      {
       "current": "e84f7ee6-1a78-11e7-b31a-0242ac12000d",
       "next": null,
       "previous": "e84f7d24-1a78-11e7-b31a-0242ac12000d"
      },
      {
       "current": "e84f7ee6-1a78-11e7-b31a-0242ac12000d",
       "next": "27b8ee6e-1a79-11e7-b31a-0242ac12000d",
       "previous": "e84f7d24-1a78-11e7-b31a-0242ac12000d"
      },
      {
       "current": "e84f7ee6-1a78-11e7-b31a-0242ac12000d",
       "next": "27b8ee6e-1a79-11e7-b31a-0242ac12000d",
       "previous": "e84f70b8-1a78-11e7-b31a-0242ac12000d"
      }
     ],
     "next": "27b8ee6e-1a79-11e7-b31a-0242ac12000d",
     "previous": "e84f4cbe-1a78-11e7-b31a-0242ac12000d"
    },
    "run_control": {
     "frozen": false,
     "read_only": false
    }
   },
   "source": [
    "# 資材の準備\n",
    "\n",
    "インストールに必要な資材が、ローカルファイルシステム中に配置されている/インターネットを介してアクセス可能な状態になっていること。\n",
    "\n",
    "- Oracle JDKのライセンス認証されたRPMパッケージがローカルファイルシステム中に配置されていること\n",
    "- インターネットアクセス・Elasticリポジトリに到達可能であること"
   ]
  },
  {
   "cell_type": "markdown",
   "metadata": {
    "lc_cell_meme": {
     "current": "016a8e20-241f-11e7-b31a-0242ac12000d",
     "next": "27b8ee6e-1a79-11e7-b31a-0242ac12000d",
     "previous": "e84f7ee6-1a78-11e7-b31a-0242ac12000d"
    },
    "run_control": {
     "frozen": false,
     "read_only": false
    }
   },
   "source": [
    "> Elasticsearchに限らず、システムの構築前には資材の取得方法を設計しておく必要があります。\n",
    "> \n",
    "> - 外部のリポジトリから取得する\n",
    "> - 認証済みの資材をパッケージ単位でローカルに配置し利用する\n",
    "> - 認証済みの資材でローカルにリポジトリを立てる\n",
    "> \n",
    "> などを、外部通信が可能な環境なのか、パッケージの認証はいつ実施するのかなどの観点で決定してください。  \n",
    "> 本Notebookでは、JVMの資材は認証済みの物をローカルに配置し、Elasticの資材は外部のリポジトリから取得する前提で構成しています。"
   ]
  },
  {
   "cell_type": "markdown",
   "metadata": {
    "collapsed": true,
    "lc_cell_meme": {
     "current": "27b8ee6e-1a79-11e7-b31a-0242ac12000d",
     "history": [
      {
       "current": "27b8ee6e-1a79-11e7-b31a-0242ac12000d",
       "next": null,
       "previous": "e84f7ee6-1a78-11e7-b31a-0242ac12000d"
      }
     ],
     "next": "aed33ef0-1aa5-11e7-b31a-0242ac12000d",
     "previous": "e84f7ee6-1a78-11e7-b31a-0242ac12000d"
    },
    "run_control": {
     "frozen": false,
     "read_only": false
    }
   },
   "source": [
    "## JVMの資材が準備されていること - A\n",
    "Elasticsearchを動作させるのに必要なJVMのファイルを用意します。"
   ]
  },
  {
   "cell_type": "markdown",
   "metadata": {
    "lc_cell_meme": {
     "current": "aed33ef0-1aa5-11e7-b31a-0242ac12000d",
     "history": [
      {
       "current": "aed33ef0-1aa5-11e7-b31a-0242ac12000d",
       "next": null,
       "previous": "27b8ee6e-1a79-11e7-b31a-0242ac12000d"
      }
     ],
     "next": "f65d68b8-1aa5-11e7-b31a-0242ac12000d",
     "previous": "27b8ee6e-1a79-11e7-b31a-0242ac12000d"
    },
    "run_control": {
     "frozen": false,
     "read_only": false
    }
   },
   "source": [
    "Elasticsearchでサポート対象となっているJVMは公式ページの[Support Matrix](https://www.elastic.co/support/matrix#show_jvm)に列挙されております。  \n",
    "この中でサポート対象のものであればどれでも問題はありませんが、  \n",
    "本手順ではOracleJVMを利用する前提としております。"
   ]
  },
  {
   "cell_type": "markdown",
   "metadata": {
    "lc_cell_meme": {
     "current": "f65d68b8-1aa5-11e7-b31a-0242ac12000d",
     "next": "f65d6d0e-1aa5-11e7-b31a-0242ac12000d",
     "previous": "aed33ef0-1aa5-11e7-b31a-0242ac12000d"
    },
    "run_control": {
     "frozen": false,
     "read_only": false
    }
   },
   "source": [
    "Elasticsearch-5.0.0ではバージョン1.8.0_73以降のものが推奨されています。\n",
    "- [Oracleの公式サイト](http://www.oracle.com/technetwork/java/javase/downloads/java-archive-javase8-2177648.html#jdk-8u112-oth-JPR)からjdk-8uXXXのrpm形式（Notebook作成時はjdk-8u112-linux-x64.rpm）をダウンロードしてください。\n",
    "- ダウンロードした媒体を /tmp に設置してください。"
   ]
  },
  {
   "cell_type": "code",
   "execution_count": 1,
   "metadata": {
    "collapsed": false,
    "lc_cell_meme": {
     "current": "f65d6d0e-1aa5-11e7-b31a-0242ac12000d",
     "next": "f65d6f52-1aa5-11e7-b31a-0242ac12000d",
     "previous": "f65d68b8-1aa5-11e7-b31a-0242ac12000d"
    },
    "run_control": {
     "frozen": false,
     "read_only": false
    }
   },
   "outputs": [
    {
     "name": "stdout",
     "output_type": "stream",
     "text": [
      "/tmp/jdk-8u112-linux-x64.rpm\r\n"
     ]
    }
   ],
   "source": [
    "!ls /tmp/jdk*"
   ]
  },
  {
   "cell_type": "markdown",
   "metadata": {
    "lc_cell_meme": {
     "current": "f65d6f52-1aa5-11e7-b31a-0242ac12000d",
     "history": [
      {
       "current": "f65d6f52-1aa5-11e7-b31a-0242ac12000d",
       "next": "f65d713c-1aa5-11e7-b31a-0242ac12000d",
       "previous": "f65d6d0e-1aa5-11e7-b31a-0242ac12000d"
      },
      {
       "current": "f65d6f52-1aa5-11e7-b31a-0242ac12000d",
       "next": "509977ec-1aa9-11e7-b31a-0242ac12000d",
       "previous": "f65d6d0e-1aa5-11e7-b31a-0242ac12000d"
      }
     ],
     "next": "454634fa-1aab-11e7-b31a-0242ac12000d",
     "previous": "f65d6d0e-1aa5-11e7-b31a-0242ac12000d"
    },
    "run_control": {
     "frozen": false,
     "read_only": false
    }
   },
   "source": [
    "## Elasticsearchのダウンロードサイトにアクセスできること - A\n",
    "Elasticsearchの媒体を公式サイトからダウンロード可能か確認します。"
   ]
  },
  {
   "cell_type": "markdown",
   "metadata": {
    "lc_cell_meme": {
     "current": "454634fa-1aab-11e7-b31a-0242ac12000d",
     "next": "509977ec-1aa9-11e7-b31a-0242ac12000d",
     "previous": "f65d6f52-1aa5-11e7-b31a-0242ac12000d"
    },
    "run_control": {
     "frozen": false,
     "read_only": false
    }
   },
   "source": [
    "次のコマンドを実行し、\"200 OK\"と表示されれば問題ありません。"
   ]
  },
  {
   "cell_type": "code",
   "execution_count": 5,
   "metadata": {
    "collapsed": false,
    "lc_cell_meme": {
     "current": "509977ec-1aa9-11e7-b31a-0242ac12000d",
     "history": [
      {
       "current": "509977ec-1aa9-11e7-b31a-0242ac12000d",
       "next": "50997c06-1aa9-11e7-b31a-0242ac12000d",
       "previous": "f65d713c-1aa5-11e7-b31a-0242ac12000d"
      },
      {
       "current": "509977ec-1aa9-11e7-b31a-0242ac12000d",
       "next": "50997c06-1aa9-11e7-b31a-0242ac12000d",
       "previous": "f65d6f52-1aa5-11e7-b31a-0242ac12000d"
      },
      {
       "current": "509977ec-1aa9-11e7-b31a-0242ac12000d",
       "next": "50997c06-1aa9-11e7-b31a-0242ac12000d",
       "previous": "509977ec-1aa9-11e7-b31a-0242ac12000d"
      }
     ],
     "next": null,
     "previous": "454634fa-1aab-11e7-b31a-0242ac12000d"
    },
    "run_control": {
     "frozen": false,
     "read_only": false
    }
   },
   "outputs": [
    {
     "name": "stdout",
     "output_type": "stream",
     "text": [
      "2017-04-06 18:27:16 URL: https://artifacts.elastic.co/downloads/elasticsearch/elasticsearch-5.0.0.rpm 200 OK\r\n"
     ]
    }
   ],
   "source": [
    "!wget --spider -nv --timeout 60 -t 1 https://artifacts.elastic.co/downloads/elasticsearch/elasticsearch-5.0.0.rpm"
   ]
  }
 ],
 "metadata": {
  "anaconda-cloud": {},
  "kernelspec": {
   "display_name": "Python 2",
   "language": "python",
   "name": "python2"
  },
  "language_info": {
   "codemirror_mode": {
    "name": "ipython",
    "version": 2
   },
   "file_extension": ".py",
   "mimetype": "text/x-python",
   "name": "python",
   "nbconvert_exporter": "python",
   "pygments_lexer": "ipython2",
   "version": "2.7.9"
  },
  "lc_notebook_meme": {
   "current": "e84f3f44-1a78-11e7-b31a-0242ac12000d",
   "lc_server_signature": {
    "history": []
   }
  },
  "toc": {
   "colors": {
    "hover_highlight": "#DAA520",
    "running_highlight": "#FF0000",
    "selected_highlight": "#FFD700"
   },
   "moveMenuLeft": true,
   "nav_menu": {
    "height": "353px",
    "width": "252px"
   },
   "navigate_menu": true,
   "number_sections": true,
   "sideBar": true,
   "threshold": 4,
   "toc_cell": false,
   "toc_number_sections": true,
   "toc_position": {
    "height": "840px",
    "left": "0px",
    "right": "1442px",
    "top": "130px",
    "width": "212px"
   },
   "toc_section_display": "block",
   "toc_threshold": 6,
   "toc_window_display": true
  }
 },
 "nbformat": 4,
 "nbformat_minor": 0
}
