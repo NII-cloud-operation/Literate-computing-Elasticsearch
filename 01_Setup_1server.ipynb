{
 "cells": [
  {
   "cell_type": "markdown",
   "metadata": {},
   "source": [
    "# Elastic Stackの構築手順"
   ]
  },
  {
   "cell_type": "markdown",
   "metadata": {},
   "source": [
    "## 1サーバでの構築"
   ]
  },
  {
   "cell_type": "markdown",
   "metadata": {},
   "source": [
    "本ドキュメントは、1サーバ上にLogstashとElasticsearchを構築する手順となります。"
   ]
  },
  {
   "cell_type": "markdown",
   "metadata": {},
   "source": [
    "### 構成と手順の概要"
   ]
  },
  {
   "cell_type": "markdown",
   "metadata": {},
   "source": [
    "1サーバ上にElasticsearchを構築します。  \n",
    "\n",
    "このNotebookで構成するのは、以下の図に示すような構成です。 \n",
    "各ノードの役割は[01_Setup](01_Setup.ipynb#ノードの役割の違い)を参照してください。"
   ]
  },
  {
   "cell_type": "markdown",
   "metadata": {},
   "source": [
    "![images/01_1server.png](images/01_1server.png)"
   ]
  },
  {
   "cell_type": "markdown",
   "metadata": {},
   "source": [
    "この後のNotebookでの大まかな手順は次の通りです。  \n",
    "\n",
    "1. jdkのインストール\n",
    "2. Elasticsearchのインストール\n",
    "3. elasticsearch.ymlの設定\n",
    "4. Elasticsearchの起動\n",
    "5. Logstashのインストール\n",
    "6. Logstashの設定\n",
    "7. サンプルデータの投入"
   ]
  },
  {
   "cell_type": "markdown",
   "metadata": {},
   "source": [
    "なおLogstashとは、Elastic Stackを構成するプロダクトの１つです。  \n",
    "様々な形式のデータの読み込み、加工、格納を処理するパイプラインを簡単に構築できます。  \n",
    "  \n",
    "詳細は[04_Store_Data](04_Store_Data.ipynb)で説明しますが、ここではサンプルデータを投入したいので、先にインストールまでしておきます。"
   ]
  },
  {
   "cell_type": "markdown",
   "metadata": {},
   "source": [
    "### 準備"
   ]
  },
  {
   "cell_type": "markdown",
   "metadata": {},
   "source": [
    "ansibleから構築対象サーバへ接続確認を行います。  \n",
    "このNotebookで環境を構築したい先のサーバを、次のセルで設定してください。"
   ]
  },
  {
   "cell_type": "code",
   "execution_count": 118,
   "metadata": {
    "collapsed": false,
    "scrolled": false
   },
   "outputs": [
    {
     "name": "stdout",
     "output_type": "stream",
     "text": [
      "env: ES_CLIENT=XXX.XXX.XXX.231:9200\n",
      "env: LOGSTASH_HOST=XXX.XXX.XXX.231\n",
      "env: INDEX=meteorological-data-*\n",
      "env: TYPE=logs\n"
     ]
    }
   ],
   "source": [
    "%env ES_CLIENT=XXX.XXX.XXX.231:9200\n",
    "%env LOGSTASH_HOST=XXX.XXX.XXX.231\n",
    "%env INDEX=meteorological-data-*\n",
    "%env TYPE=logs"
   ]
  },
  {
   "cell_type": "markdown",
   "metadata": {},
   "source": [
    "各サーバにansibleコマンドを発行するため、\n",
    "ansibleを実行可能なユーザアカウントとそのSSHキーを次のセルで設定してください。"
   ]
  },
  {
   "cell_type": "code",
   "execution_count": 103,
   "metadata": {
    "collapsed": true
   },
   "outputs": [],
   "source": [
    "#elasticsearchをインストールするサーバーでansibleコマンドを実行するユーザー\n",
    "USER='ansible'\n",
    "\n",
    "#公開鍵認証を行う場合の秘密鍵のパス\n",
    "KEYPATH='~/.ssh/ansible_id_rsa'"
   ]
  },
  {
   "cell_type": "markdown",
   "metadata": {},
   "source": [
    "ansibleのインベントリファイルを作成します。  \n",
    "次のセルの内容を/etc/ansible/hostsとして保存します。"
   ]
  },
  {
   "cell_type": "markdown",
   "metadata": {
    "collapsed": false,
    "variables": {
     "ES_CLIENT": "XXX.XXX.XXX.231:9200",
     "ES_CLIENT%9200": "<p><strong>TypeError</strong>: not all arguments converted during string formatting</p>\n",
     "LOGSTASH_HOST": "XXX.XXX.XXX.231"
    }
   },
   "source": [
    "[es-node]  \n",
    "< ES_CLIENT >  \n",
    "[logstash-server]  \n",
    "< LOGSTASH_HOST >"
   ]
  },
  {
   "cell_type": "markdown",
   "metadata": {},
   "source": [
    "ここまでの設定が問題ないか確認します。  \n",
    "次のセルを実行して、ansibleコマンドが各サーバで実行できることを確認してください。"
   ]
  },
  {
   "cell_type": "code",
   "execution_count": 104,
   "metadata": {
    "collapsed": false,
    "scrolled": false
   },
   "outputs": [
    {
     "name": "stdout",
     "output_type": "stream",
     "text": [
      "\u001b[0;32mXXX.XXX.XXX.231 | SUCCESS => {\r\n",
      "    \"changed\": false, \r\n",
      "    \"ping\": \"pong\"\r\n",
      "}\u001b[0m\r\n"
     ]
    }
   ],
   "source": [
    "!ansible all -m ping -i /etc/ansible/host-1server -u $USER --private-key=$KEYPATH"
   ]
  },
  {
   "cell_type": "markdown",
   "metadata": {},
   "source": [
    "各サーバから、次のようにSUCCESSという応答が返ってくれば問題なく実行できています。"
   ]
  },
  {
   "cell_type": "raw",
   "metadata": {},
   "source": [
    "<各サーバのIPアドレス> | SUCCESS => {\n",
    "    \"changed\": false, \n",
    "    \"ping\": \"pong\"\n",
    "}"
   ]
  },
  {
   "cell_type": "markdown",
   "metadata": {},
   "source": [
    "この後から実際の構築作業を開始します。"
   ]
  },
  {
   "cell_type": "markdown",
   "metadata": {},
   "source": [
    "### jdkのインストール"
   ]
  },
  {
   "cell_type": "markdown",
   "metadata": {},
   "source": [
    "ElasticsearchはJavaで実装されており、実行するためにはJavaの環境が必要です。  \n",
    "Elasticsearch-5.0.0ではバージョン1.8.0_73以降のものが推奨されています。"
   ]
  },
  {
   "cell_type": "markdown",
   "metadata": {},
   "source": [
    "次のコマンドを実行して、jdkをインストールします。"
   ]
  },
  {
   "cell_type": "code",
   "execution_count": 105,
   "metadata": {
    "collapsed": false,
    "scrolled": false
   },
   "outputs": [
    {
     "name": "stdout",
     "output_type": "stream",
     "text": [
      "\n",
      "PLAY [all] *********************************************************************\n",
      "\n",
      "TASK [setup] *******************************************************************\n",
      "\u001b[0;32mok: [XXX.XXX.XXX.231]\u001b[0m\n",
      "\n",
      "TASK [download jdk-8u112-linux-x64.rpm] ****************************************\n",
      "\u001b[0;33mchanged: [XXX.XXX.XXX.231]\u001b[0m\n",
      "\n",
      "TASK [install jdk] *************************************************************\n",
      "\u001b[0;33mchanged: [XXX.XXX.XXX.231]\u001b[0m\n",
      "\n",
      "TASK [set JAVA_HOME] ***********************************************************\n",
      "\u001b[0;32mok: [XXX.XXX.XXX.231]\u001b[0m\n",
      "\n",
      "TASK [set PATH] ****************************************************************\n",
      "\u001b[0;32mok: [XXX.XXX.XXX.231]\u001b[0m\n",
      "\n",
      "PLAY RECAP *********************************************************************\n",
      "\u001b[0;33mXXX.XXX.XXX.231\u001b[0m              : \u001b[0;32mok=5   \u001b[0m \u001b[0;33mchanged=2   \u001b[0m unreachable=0    failed=0   \n",
      "\n"
     ]
    }
   ],
   "source": [
    "!ansible-playbook -i /etc/ansible/host-1server playbooks/install_jdk_1server.yml -u $USER --private-key=$KEYPATH"
   ]
  },
  {
   "cell_type": "markdown",
   "metadata": {},
   "source": [
    "### Elasticsearchのインストール"
   ]
  },
  {
   "cell_type": "markdown",
   "metadata": {},
   "source": [
    "次のコマンドを実行して、Elasticsearchをインストールします。"
   ]
  },
  {
   "cell_type": "code",
   "execution_count": 106,
   "metadata": {
    "collapsed": false,
    "scrolled": true
   },
   "outputs": [
    {
     "name": "stdout",
     "output_type": "stream",
     "text": [
      "\n",
      "PLAY [all] *********************************************************************\n",
      "\n",
      "TASK [setup] *******************************************************************\n",
      "\u001b[0;32mok: [XXX.XXX.XXX.231]\u001b[0m\n",
      "\n",
      "TASK [install elasticsearch 5.0.0] *********************************************\n",
      "\u001b[0;33mchanged: [XXX.XXX.XXX.231]\u001b[0m\n",
      "\n",
      "PLAY RECAP *********************************************************************\n",
      "\u001b[0;33mXXX.XXX.XXX.231\u001b[0m              : \u001b[0;32mok=2   \u001b[0m \u001b[0;33mchanged=1   \u001b[0m unreachable=0    failed=0   \n",
      "\n"
     ]
    }
   ],
   "source": [
    "!ansible-playbook playbooks/install_elasticsearch_1server.yml -i /etc/ansible/host-1server -u $USER --private-key=$KEYPATH"
   ]
  },
  {
   "cell_type": "markdown",
   "metadata": {},
   "source": [
    "### elasticsearch.ymlの設定"
   ]
  },
  {
   "cell_type": "markdown",
   "metadata": {},
   "source": [
    "1ノードで動作するための設定を行います。"
   ]
  },
  {
   "cell_type": "markdown",
   "metadata": {},
   "source": [
    "elasticsearch.ymlの設定値を次の表に記載します。  \n",
    "デフォルトファイルの変更箇所を示すので、環境に合わせて適宜変更してください。  \n",
    "パスは/etc/elasticsearch/elasticsearch.ymlです。"
   ]
  },
  {
   "cell_type": "markdown",
   "metadata": {
    "variables": {
     "ES_MASTER": {}
    }
   },
   "source": [
    "| パラメータ名                       | Node           |\n",
    "|----------------------------------|----------------|\n",
    "| node.name                        | ホスト名        |\n",
    "| network.host                     | IPアドレス      |"
   ]
  },
  {
   "cell_type": "markdown",
   "metadata": {},
   "source": [
    "#### 設定項目の説明"
   ]
  },
  {
   "cell_type": "markdown",
   "metadata": {
    "collapsed": true
   },
   "source": [
    "* node.name: ホスト名  \n",
    "ノードの名前です。ホスト名を指定してください。  \n",
    "\n",
    "  \n",
    "* network.host: IPアドレス  \n",
    "他のノードからアクセスする際に指定するホスト名またはIPアドレスを示します。  \n",
    "ノード自身のホスト名またはIPアドレスで書きかえてください。  "
   ]
  },
  {
   "cell_type": "markdown",
   "metadata": {
    "collapsed": false
   },
   "source": [
    "### Elasticsearchの起動"
   ]
  },
  {
   "cell_type": "markdown",
   "metadata": {},
   "source": [
    "Elasticsearchを起動します。"
   ]
  },
  {
   "cell_type": "code",
   "execution_count": 120,
   "metadata": {
    "collapsed": false,
    "scrolled": true
   },
   "outputs": [
    {
     "name": "stdout",
     "output_type": "stream",
     "text": [
      "\n",
      "PLAY [es-node] *****************************************************************\n",
      "\n",
      "TASK [setup] *******************************************************************\n",
      "\u001b[0;32mok: [XXX.XXX.XXX.231]\u001b[0m\n",
      "\n",
      "TASK [start elasticsearch 1server] *********************************************\n",
      "\u001b[0;33mchanged: [XXX.XXX.XXX.231]\u001b[0m\n",
      "\n",
      "PLAY RECAP *********************************************************************\n",
      "\u001b[0;33mXXX.XXX.XXX.231\u001b[0m              : \u001b[0;32mok=2   \u001b[0m \u001b[0;33mchanged=1   \u001b[0m unreachable=0    failed=0   \n",
      "\n"
     ]
    }
   ],
   "source": [
    "!ansible-playbook playbooks/start_1server.yml -i /etc/ansible/host-1server -u $USER --private-key=$KEYPATH"
   ]
  },
  {
   "cell_type": "markdown",
   "metadata": {},
   "source": [
    "各サーバの起動は次のコマンドで確認してください。"
   ]
  },
  {
   "cell_type": "code",
   "execution_count": 121,
   "metadata": {
    "collapsed": false,
    "scrolled": false
   },
   "outputs": [
    {
     "name": "stdout",
     "output_type": "stream",
     "text": [
      "\u001b[0;32mXXX.XXX.XXX.231 | SUCCESS | rc=0 >>\r\n",
      "● elasticsearch.service - Elasticsearch\r\n",
      "   Loaded: loaded (/usr/lib/systemd/system/elasticsearch.service; disabled; vendor preset: disabled)\r\n",
      "   Active: active (running) since Wed 2016-12-14 11:26:50 JST; 1h 5min ago\r\n",
      "     Docs: http://www.elastic.co\r\n",
      " Main PID: 19632 (java)\r\n",
      "   CGroup: /system.slice/elasticsearch.service\r\n",
      "           └─19632 /bin/java -Xms2g -Xmx2g -XX:+UseConcMarkSweepGC -XX:CMSInitiatingOccupancyFraction=75 -XX:+UseCMSInitiatingOccupancyOnly -XX:+DisableExplicitGC -XX:+AlwaysPreTouch -server -Djava.awt.headless=true -Dfile.encoding=UTF-8 -Djna.nosys=true -Dio.netty.noUnsafe=true -Dio.netty.noKeySetOptimization=true -Dlog4j.shutdownHookEnabled=false -Dlog4j2.disable.jmx=true -Dlog4j.skipJansi=true -XX:+HeapDumpOnOutOfMemoryError -Des.path.home=/usr/share/elasticsearch -cp /usr/share/elasticsearch/lib/elasticsearch-5.0.0.jar:/usr/share/elasticsearch/lib/* org.elasticsearch.bootstrap.Elasticsearch -p /var/run/elasticsearch/elasticsearch.pid --quiet -Edefault.path.logs=/var/log/elasticsearch -Edefault.path.data=/var/lib/elasticsearch -Edefault.path.conf=/etc/elasticsearch\r\n",
      "\r\n",
      "Dec 14 11:26:49 cnXXXX1003.ecloud.nii.ac.jp systemd[1]: Starting Elasticsearch...\r\n",
      "Dec 14 11:26:50 cnXXXX1003.ecloud.nii.ac.jp systemd[1]: Started Elasticsearch.\r\n",
      "Dec 14 12:32:02 cnXXXX1003.ecloud.nii.ac.jp systemd[1]: Started Elasticsearch.\r\n",
      "\u001b[0m\r\n"
     ]
    }
   ],
   "source": [
    "!ansible all -i /etc/ansible/host-1server -m shell -a \"sudo systemctl status elasticsearch\" -u $USER --private-key=$KEYPATH"
   ]
  },
  {
   "cell_type": "markdown",
   "metadata": {},
   "source": [
    "次のように  \n",
    "**Active: active (running)**    \n",
    "と表示されれば正常に起動しています。"
   ]
  },
  {
   "cell_type": "raw",
   "metadata": {},
   "source": [
    " Active: active (running) since Thu 2016-10-27 13:16:16 JST; 31min ago"
   ]
  },
  {
   "cell_type": "markdown",
   "metadata": {
    "collapsed": true
   },
   "source": [
    "### Logstashのインストール"
   ]
  },
  {
   "cell_type": "markdown",
   "metadata": {},
   "source": [
    "次のコマンドを実行して、Logstashをインストールします。"
   ]
  },
  {
   "cell_type": "code",
   "execution_count": 109,
   "metadata": {
    "collapsed": false,
    "scrolled": false
   },
   "outputs": [
    {
     "name": "stdout",
     "output_type": "stream",
     "text": [
      "\n",
      "PLAY [logstash-server] *********************************************************\n",
      "\n",
      "TASK [setup] *******************************************************************\n",
      "\u001b[0;32mok: [XXX.XXX.XXX.231]\u001b[0m\n",
      "\n",
      "TASK [install logstash] ********************************************************\n",
      "\u001b[0;33mchanged: [XXX.XXX.XXX.231]\u001b[0m\n",
      "\n",
      "PLAY RECAP *********************************************************************\n",
      "\u001b[0;33mXXX.XXX.XXX.231\u001b[0m              : \u001b[0;32mok=2   \u001b[0m \u001b[0;33mchanged=1   \u001b[0m unreachable=0    failed=0   \n",
      "\n"
     ]
    }
   ],
   "source": [
    "!ansible-playbook -i /etc/ansible/host-1server playbooks/install_logstash_1server.yml -u $USER --private-key=$KEYPATH"
   ]
  },
  {
   "cell_type": "markdown",
   "metadata": {},
   "source": [
    "### Logstashの設定"
   ]
  },
  {
   "cell_type": "markdown",
   "metadata": {
    "collapsed": true,
    "variables": {
     "ES_CLIENT": "XXX.XXX.XXX.231",
     "ES_HOST": "<p><strong>NameError</strong>: name &#39;ES_HOST&#39; is not defined</p>\n"
    }
   },
   "source": [
    "サンプルデータをElasticsearchに登録するためのlogstash設定ファイルは[logstash_conf](logstash_conf)に配置してあるmain.confを用います。  \n",
    "main.confの中で、Elasticsearchのホスト名を指定する箇所があるので、  \n",
    "[準備](#準備)で定義した  \n",
    "\n",
    "ES_CLIENT:< ES_CLIENT >  \n",
    "\n",
    "で書き換えてください。  \n",
    "具体的な修正箇所は次の通りです\n"
   ]
  },
  {
   "cell_type": "raw",
   "metadata": {},
   "source": [
    "output{  \n",
    "    elasticsearch{  \n",
    "        #ES_CLIENTの部分を書き換える\n",
    "        hosts => \"ES_CLIENT\"  \n",
    "        index => \"meteorological-data-%{+yyyy-MM}\"  \n",
    "    }  \n",
    "}  "
   ]
  },
  {
   "cell_type": "markdown",
   "metadata": {},
   "source": [
    "ここで利用するmain.confは標準入力で読み込んだCSV形式の内容をElasticsearchに格納するための設定です。  \n",
    "具体的な意味は[04_Store_Data](04_Store_Data.ipynb)で説明します。"
   ]
  },
  {
   "cell_type": "markdown",
   "metadata": {},
   "source": [
    "main.confをLogstashのサーバーの/etc/logstash/conf.d配下にコピーしてください。"
   ]
  },
  {
   "cell_type": "markdown",
   "metadata": {},
   "source": [
    "### データ型の定義（マッピング定義）"
   ]
  },
  {
   "cell_type": "markdown",
   "metadata": {},
   "source": [
    "サンプルデータの登録をする前に、登録するデータの「データ型」を定義しておく必要があります。  \n",
    "データ型の種類およびマッピング定義の詳細に関しては[05_Indexing](http://localhost:8888/notebooks/05_Indexing.ipynb)を参照してください。"
   ]
  },
  {
   "cell_type": "markdown",
   "metadata": {},
   "source": [
    "次のコマンドを実行してマッピング定義を行います。"
   ]
  },
  {
   "cell_type": "code",
   "execution_count": 123,
   "metadata": {
    "collapsed": false
   },
   "outputs": [
    {
     "name": "stdout",
     "output_type": "stream",
     "text": [
      "{\"acknowledged\":true}"
     ]
    },
    {
     "name": "stderr",
     "output_type": "stream",
     "text": [
      "  % Total    % Received % Xferd  Average Speed   Time    Time     Time  Current\n",
      "                                 Dload  Upload   Total   Spent    Left  Speed\n",
      "\r",
      "  0     0    0     0    0     0      0      0 --:--:-- --:--:-- --:--:--     0\r",
      "100  1394  100    21  100  1373    152   9970 --:--:-- --:--:-- --:--:-- 10021\n"
     ]
    }
   ],
   "source": [
    "%%bash\n",
    "curl -XPUT \"http://$ES_CLIENT/_template/weather\" -d @- << EOF\n",
    "{\n",
    "  \"template\" : \"meteorological-data-*\",\n",
    "  \"mappings\": {\n",
    "    \"logs\": {\n",
    "      \"dynamic_templates\" : [\n",
    "        {\n",
    "          \"my_strings\" : {\n",
    "            \"match_mapping_type\" : \"string\",\n",
    "            \"mapping\" : {\n",
    "              \"type\" : \"keyword\"\n",
    "            }\n",
    "          }\n",
    "        }\n",
    "      ],\n",
    "      \"properties\": {\n",
    "        \"atmospheric_pressure\": {\n",
    "          \"type\": \"float\"\n",
    "        },\n",
    "        \"sea_level_pressure\":{\n",
    "          \"type\": \"float\"\n",
    "        },\n",
    "        \"precipitation_day\": {\n",
    "          \"type\": \"integer\"\n",
    "        },\n",
    "        \"precipitation_day\": {\n",
    "          \"type\": \"float\"\n",
    "        },\n",
    "        \"precipitation_max_hour\":{\n",
    "          \"type\":\"float\"\n",
    "        },\n",
    "        \"precipitation_max_10min\":{\n",
    "          \"type\":\"float\"\n",
    "        },\n",
    "        \"temperature_avg\":{\n",
    "          \"type\":\"float\"\n",
    "        },\n",
    "        \"temperature_max\":{\n",
    "          \"type\":\"float\"\n",
    "        },\n",
    "        \"temperature_min\":{\n",
    "          \"type\":\"float\"\n",
    "        },\n",
    "        \"humidity_avg\":{\n",
    "          \"type\":\"float\"\n",
    "        },\n",
    "        \"humidity_min\":{\n",
    "          \"type\":\"float\"\n",
    "        },\n",
    "        \"wind_speed_avg\":{\n",
    "          \"type\":\"float\"\n",
    "        },\n",
    "        \"wind_speed_max\":{\n",
    "          \"type\":\"float\"\n",
    "        },\n",
    "        \"wind_speed_max_moment\":{\n",
    "          \"type\":\"float\"\n",
    "        },\n",
    "        \"sunshine_duration\":{\n",
    "          \"type\":\"float\"\n",
    "        },\n",
    "        \"snowfall\":{\n",
    "          \"type\":\"float\"\n",
    "        },\n",
    "        \"snowfall_max\":{\n",
    "          \"type\":\"float\"\n",
    "        }\n",
    "      }\n",
    "    }\n",
    "  }\n",
    "}\n",
    "EOF"
   ]
  },
  {
   "cell_type": "markdown",
   "metadata": {},
   "source": [
    "### サンプルデータの投入"
   ]
  },
  {
   "cell_type": "markdown",
   "metadata": {},
   "source": [
    "以降の章で扱うサンプルデータを登録します。  \n",
    "ここでは気象庁から提供されている、東京都の2015年における気象データ1年分を用います。\n",
    "\n",
    "[気象庁「過去の気象データ」](http://www.data.jma.go.jp/gmd/risk/obsdl/)"
   ]
  },
  {
   "cell_type": "markdown",
   "metadata": {},
   "source": [
    "登録するデータの内容は次のコマンドで確認できます。"
   ]
  },
  {
   "cell_type": "code",
   "execution_count": 124,
   "metadata": {
    "collapsed": false
   },
   "outputs": [
    {
     "name": "stdout",
     "output_type": "stream",
     "text": [
      "@timestamp,location,atmospheric_pressure,sea_level_pressure,precipitation_day,precipitation_max_hour,precipitation_max_10min,temperature_avg,temperature_max,temperature_min,humidity_avg,humidity_min,wind_speed_avg,wind_speed_max,wind_direction,wind_speed_max_moment,wind_direction_max_moment,sunshine_duration,snowfall,snowfall_max,information_daytime,information_night\r",
      "\r\n",
      "2015-01-01T00:00:00,tokyo,1000.4,1003.4,0,0,0,3.7,8.2,0.7,41.0,30.0,4.4,9.4,西,18.7,北西,1.3,,,時々晴一時雪,晴\r",
      "\r\n",
      "2015-01-02T00:00:00,tokyo,1007.4,1010.4,,,,2.7,7.9,-2.2,41.0,19.0,2.1,4.2,西,7.8,西,6.0,,,時々曇,一時曇\r",
      "\r\n",
      "2015-01-03T00:00:00,tokyo,1012.0,1015.1,,,,3.8,8.9,-1.1,42.0,19.0,3.0,7.4,北西,10.9,北西,8.9,,,晴,後薄曇\r",
      "\r\n",
      "2015-01-04T00:00:00,tokyo,1010.4,1013.4,,,,4.0,9.3,-0.4,51.0,33.0,1.3,2.8,北西,3.8,北東,6.0,,,後晴,晴\r",
      "\r\n"
     ]
    }
   ],
   "source": [
    "!head -n 5 sample_data/tokyo2015.csv"
   ]
  },
  {
   "cell_type": "markdown",
   "metadata": {},
   "source": [
    "Logstashのサーバーにサンプルデータをコピーします。  "
   ]
  },
  {
   "cell_type": "markdown",
   "metadata": {},
   "source": [
    "[sample_data](sample_data)にあるtokyo2015.csvをLogstashのサーバーに配置してください。"
   ]
  },
  {
   "cell_type": "markdown",
   "metadata": {},
   "source": [
    "Logstashを使ってサンプルデータをElasticsearchに登録します。次のセルのコマンドを実行してください。"
   ]
  },
  {
   "cell_type": "code",
   "execution_count": 125,
   "metadata": {
    "collapsed": false,
    "scrolled": true
   },
   "outputs": [
    {
     "name": "stdout",
     "output_type": "stream",
     "text": [
      "\u001b[0;32mXXX.XXX.XXX.231 | SUCCESS | rc=0 >>\r\n",
      "Sending Logstash logs to /var/log/logstash which is now configured via log4j2.properties.\r\n",
      "\u001b[0m\r\n"
     ]
    }
   ],
   "source": [
    "!ansible logstash-server -i /etc/ansible/host-1server -m shell -a \"cat tokyo2015.csv | sudo /usr/share/logstash/bin/logstash --path.settings /etc/logstash -f /etc/logstash/conf.d/main.conf\" -u $USER --private-key=$KEYPATH"
   ]
  },
  {
   "cell_type": "markdown",
   "metadata": {},
   "source": [
    "データが登録されているかどうかは、次のセルを実行することで確認できます。"
   ]
  },
  {
   "cell_type": "code",
   "execution_count": 126,
   "metadata": {
    "collapsed": false,
    "scrolled": true
   },
   "outputs": [
    {
     "name": "stdout",
     "output_type": "stream",
     "text": [
      "{\n",
      "  \"took\" : 49,\n",
      "  \"timed_out\" : false,\n",
      "  \"_shards\" : {\n",
      "    \"total\" : 70,\n",
      "    \"successful\" : 70,\n",
      "    \"failed\" : 0\n",
      "  },\n",
      "  \"hits\" : {\n",
      "    \"total\" : 358,\n",
      "    \"max_score\" : 1.0,\n",
      "    \"hits\" : [\n",
      "      {\n",
      "        \"_index\" : \"meteorological-data-2015.01\",\n",
      "        \"_type\" : \"logs\",\n",
      "        \"_id\" : \"tokyo_15-01-08\",\n",
      "        \"_score\" : 1.0,\n",
      "        \"_source\" : {\n",
      "          \"date\" : \"15-01-08\",\n",
      "          \"wind_speed_avg\" : \"4.4\",\n",
      "          \"snowfall\" : null,\n",
      "          \"temperature_max\" : \"11.2\",\n",
      "          \"precipitation_day\" : null,\n",
      "          \"wind_speed_max\" : \"8.4\",\n",
      "          \"sunshine_duration\" : \"8.9\",\n",
      "          \"temperature_avg\" : \"6.2\",\n",
      "          \"temperature_min\" : \"2.0\",\n",
      "          \"@version\" : \"1\",\n",
      "          \"wind_direction_max_moment\" : \"北西\",\n",
      "          \"information_night\" : \"晴\",\n",
      "          \"precipitation_max_10min\" : null,\n",
      "          \"precipitation_max_hour\" : null,\n",
      "          \"wind_direction\" : \"西\",\n",
      "          \"information_daytime\" : \"晴\",\n",
      "          \"@timestamp\" : \"2015-01-07T15:00:00.000Z\",\n",
      "          \"humidity_avg\" : \"33.0\",\n",
      "          \"humidity_min\" : \"20.0\",\n",
      "          \"atmospheric_pressure\" : \"1006.2\",\n",
      "          \"location\" : \"tokyo\",\n",
      "          \"wind_speed_max_moment\" : \"13.6\",\n",
      "          \"snowfall_max\" : null,\n",
      "          \"sea_level_pressure\" : \"1009.2\"\n",
      "        }\n",
      "      },\n",
      "      {\n",
      "        \"_index\" : \"meteorological-data-2015.01\",\n",
      "        \"_type\" : \"logs\",\n",
      "        \"_id\" : \"tokyo_15-01-12\",\n",
      "        \"_score\" : 1.0,\n",
      "        \"_source\" : {\n",
      "          \"date\" : \"15-01-12\",\n",
      "          \"wind_speed_avg\" : \"4.6\",\n",
      "          \"snowfall\" : null,\n",
      "          \"temperature_max\" : \"9.0\",\n",
      "          \"precipitation_day\" : null,\n",
      "          \"wind_speed_max\" : \"9.1\",\n",
      "          \"sunshine_duration\" : \"9.1\",\n",
      "          \"temperature_avg\" : \"5.2\",\n",
      "          \"temperature_min\" : \"2.0\",\n",
      "          \"@version\" : \"1\",\n",
      "          \"wind_direction_max_moment\" : \"西\",\n",
      "          \"information_night\" : \"晴\",\n",
      "          \"precipitation_max_10min\" : null,\n",
      "          \"precipitation_max_hour\" : null,\n",
      "          \"wind_direction\" : \"西\",\n",
      "          \"information_daytime\" : \"晴\",\n",
      "          \"@timestamp\" : \"2015-01-11T15:00:00.000Z\",\n",
      "          \"humidity_avg\" : \"39.0\",\n",
      "          \"humidity_min\" : \"25.0\",\n",
      "          \"atmospheric_pressure\" : \"1016.3\",\n",
      "          \"location\" : \"tokyo\",\n",
      "          \"wind_speed_max_moment\" : \"15.8\",\n",
      "          \"snowfall_max\" : null,\n",
      "          \"sea_level_pressure\" : \"1019.3\"\n",
      "        }\n",
      "      },\n",
      "      {\n",
      "        \"_index\" : \"meteorological-data-2015.01\",\n",
      "        \"_type\" : \"logs\",\n",
      "        \"_id\" : \"tokyo_15-01-16\",\n",
      "        \"_score\" : 1.0,\n",
      "        \"_source\" : {\n",
      "          \"date\" : \"15-01-16\",\n",
      "          \"wind_speed_avg\" : \"2.8\",\n",
      "          \"snowfall\" : null,\n",
      "          \"temperature_max\" : \"13.2\",\n",
      "          \"precipitation_day\" : \"0\",\n",
      "          \"wind_speed_max\" : \"5.7\",\n",
      "          \"sunshine_duration\" : \"6.9\",\n",
      "          \"temperature_avg\" : \"8.9\",\n",
      "          \"temperature_min\" : \"4.9\",\n",
      "          \"@version\" : \"1\",\n",
      "          \"wind_direction_max_moment\" : \"北西\",\n",
      "          \"information_night\" : \"後晴\",\n",
      "          \"precipitation_max_10min\" : \"0\",\n",
      "          \"precipitation_max_hour\" : \"0\",\n",
      "          \"wind_direction\" : \"東\",\n",
      "          \"information_daytime\" : \"後曇\",\n",
      "          \"@timestamp\" : \"2015-01-15T15:00:00.000Z\",\n",
      "          \"humidity_avg\" : \"54.0\",\n",
      "          \"humidity_min\" : \"23.0\",\n",
      "          \"atmospheric_pressure\" : \"1009.7\",\n",
      "          \"location\" : \"tokyo\",\n",
      "          \"wind_speed_max_moment\" : \"10.7\",\n",
      "          \"snowfall_max\" : null,\n",
      "          \"sea_level_pressure\" : \"1012.6\"\n",
      "        }\n",
      "      },\n",
      "      {\n",
      "        \"_index\" : \"meteorological-data-2015.01\",\n",
      "        \"_type\" : \"logs\",\n",
      "        \"_id\" : \"tokyo_15-01-23\",\n",
      "        \"_score\" : 1.0,\n",
      "        \"_source\" : {\n",
      "          \"date\" : \"15-01-23\",\n",
      "          \"wind_speed_avg\" : \"4.3\",\n",
      "          \"snowfall\" : null,\n",
      "          \"temperature_max\" : \"12.8\",\n",
      "          \"precipitation_day\" : \"7.5\",\n",
      "          \"wind_speed_max\" : \"9.1\",\n",
      "          \"sunshine_duration\" : \"6.8\",\n",
      "          \"temperature_avg\" : \"6.9\",\n",
      "          \"temperature_min\" : \"3.7\",\n",
      "          \"@version\" : \"1\",\n",
      "          \"wind_direction_max_moment\" : null,\n",
      "          \"information_night\" : \"晴\",\n",
      "          \"precipitation_max_10min\" : \"1.0\",\n",
      "          \"precipitation_max_hour\" : \"2.5\",\n",
      "          \"wind_direction\" : \"北西\",\n",
      "          \"information_daytime\" : \"一時曇\",\n",
      "          \"@timestamp\" : \"2015-01-22T15:00:00.000Z\",\n",
      "          \"humidity_avg\" : \"63.0\",\n",
      "          \"humidity_min\" : \"33.0\",\n",
      "          \"atmospheric_pressure\" : \"1004.1\",\n",
      "          \"location\" : \"tokyo\",\n",
      "          \"wind_speed_max_moment\" : \"17.6\",\n",
      "          \"snowfall_max\" : null,\n",
      "          \"sea_level_pressure\" : \"1007.1\"\n",
      "        }\n",
      "      },\n",
      "      {\n",
      "        \"_index\" : \"meteorological-data-2015.01\",\n",
      "        \"_type\" : \"logs\",\n",
      "        \"_id\" : \"tokyo_15-01-26\",\n",
      "        \"_score\" : 1.0,\n",
      "        \"_source\" : {\n",
      "          \"date\" : \"15-01-26\",\n",
      "          \"wind_speed_avg\" : \"2.0\",\n",
      "          \"snowfall\" : null,\n",
      "          \"temperature_max\" : \"12.9\",\n",
      "          \"precipitation_day\" : \"0.5\",\n",
      "          \"wind_speed_max\" : \"3.8\",\n",
      "          \"sunshine_duration\" : \"4.4\",\n",
      "          \"temperature_avg\" : \"9.0\",\n",
      "          \"temperature_min\" : \"5.6\",\n",
      "          \"@version\" : \"1\",\n",
      "          \"wind_direction_max_moment\" : \"南東\",\n",
      "          \"information_night\" : \"一時曇\",\n",
      "          \"precipitation_max_10min\" : \"0.5\",\n",
      "          \"precipitation_max_hour\" : \"0.5\",\n",
      "          \"wind_direction\" : \"南東\",\n",
      "          \"information_daytime\" : \"時々晴\",\n",
      "          \"@timestamp\" : \"2015-01-25T15:00:00.000Z\",\n",
      "          \"humidity_avg\" : \"74.0\",\n",
      "          \"humidity_min\" : \"52.0\",\n",
      "          \"atmospheric_pressure\" : \"1019.1\",\n",
      "          \"location\" : \"tokyo\",\n",
      "          \"wind_speed_max_moment\" : \"6.0\",\n",
      "          \"snowfall_max\" : null,\n",
      "          \"sea_level_pressure\" : \"1022.1\"\n",
      "        }\n",
      "      },\n",
      "      {\n",
      "        \"_index\" : \"meteorological-data-2015.02\",\n",
      "        \"_type\" : \"logs\",\n",
      "        \"_id\" : \"tokyo_15-02-11\",\n",
      "        \"_score\" : 1.0,\n",
      "        \"_source\" : {\n",
      "          \"date\" : \"15-02-11\",\n",
      "          \"wind_speed_avg\" : \"2.0\",\n",
      "          \"snowfall\" : null,\n",
      "          \"temperature_max\" : \"10.9\",\n",
      "          \"precipitation_day\" : null,\n",
      "          \"wind_speed_max\" : \"4.2\",\n",
      "          \"sunshine_duration\" : \"9.7\",\n",
      "          \"temperature_avg\" : \"5.6\",\n",
      "          \"temperature_min\" : \"0.2\",\n",
      "          \"@version\" : \"1\",\n",
      "          \"wind_direction_max_moment\" : null,\n",
      "          \"information_night\" : \"曇時々晴\",\n",
      "          \"precipitation_max_10min\" : null,\n",
      "          \"precipitation_max_hour\" : null,\n",
      "          \"wind_direction\" : null,\n",
      "          \"information_daytime\" : null,\n",
      "          \"@timestamp\" : \"2015-02-10T15:00:00.000Z\",\n",
      "          \"humidity_avg\" : \"54.0\",\n",
      "          \"humidity_min\" : \"30.0\",\n",
      "          \"atmospheric_pressure\" : \"1009.1\",\n",
      "          \"location\" : \"tokyo\",\n",
      "          \"wind_speed_max_moment\" : \"6.9\",\n",
      "          \"snowfall_max\" : null,\n",
      "          \"sea_level_pressure\" : \"1012.1\"\n",
      "        }\n",
      "      },\n",
      "      {\n",
      "        \"_index\" : \"meteorological-data-2015.02\",\n",
      "        \"_type\" : \"logs\",\n",
      "        \"_id\" : \"tokyo_15-02-12\",\n",
      "        \"_score\" : 1.0,\n",
      "        \"_source\" : {\n",
      "          \"date\" : \"15-02-12\",\n",
      "          \"wind_speed_avg\" : \"1.7\",\n",
      "          \"snowfall\" : null,\n",
      "          \"temperature_max\" : \"13.0\",\n",
      "          \"precipitation_day\" : null,\n",
      "          \"wind_speed_max\" : \"3.8\",\n",
      "          \"sunshine_duration\" : \"9.5\",\n",
      "          \"temperature_avg\" : \"7.0\",\n",
      "          \"temperature_min\" : \"1.2\",\n",
      "          \"@version\" : \"1\",\n",
      "          \"wind_direction_max_moment\" : \"北西\",\n",
      "          \"information_night\" : \"一時曇\",\n",
      "          \"precipitation_max_10min\" : null,\n",
      "          \"precipitation_max_hour\" : null,\n",
      "          \"wind_direction\" : \"北西\",\n",
      "          \"information_daytime\" : \"晴\",\n",
      "          \"@timestamp\" : \"2015-02-11T15:00:00.000Z\",\n",
      "          \"humidity_avg\" : \"56.0\",\n",
      "          \"humidity_min\" : \"33.0\",\n",
      "          \"atmospheric_pressure\" : \"1001.6\",\n",
      "          \"location\" : \"tokyo\",\n",
      "          \"wind_speed_max_moment\" : \"5.8\",\n",
      "          \"snowfall_max\" : null,\n",
      "          \"sea_level_pressure\" : \"1004.5\"\n",
      "        }\n",
      "      },\n",
      "      {\n",
      "        \"_index\" : \"meteorological-data-2015.02\",\n",
      "        \"_type\" : \"logs\",\n",
      "        \"_id\" : \"tokyo_15-02-25\",\n",
      "        \"_score\" : 1.0,\n",
      "        \"_source\" : {\n",
      "          \"date\" : \"15-02-25\",\n",
      "          \"wind_speed_avg\" : \"2.7\",\n",
      "          \"snowfall\" : null,\n",
      "          \"temperature_max\" : \"13.2\",\n",
      "          \"precipitation_day\" : \"0\",\n",
      "          \"wind_speed_max\" : \"5.4\",\n",
      "          \"sunshine_duration\" : \"2.8\",\n",
      "          \"temperature_avg\" : \"9.2\",\n",
      "          \"temperature_min\" : \"7.5\",\n",
      "          \"@version\" : \"1\",\n",
      "          \"wind_direction_max_moment\" : \"南東\",\n",
      "          \"information_night\" : null,\n",
      "          \"precipitation_max_10min\" : \"0\",\n",
      "          \"precipitation_max_hour\" : \"0\",\n",
      "          \"wind_direction\" : \"東\",\n",
      "          \"information_daytime\" : null,\n",
      "          \"@timestamp\" : \"2015-02-24T15:00:00.000Z\",\n",
      "          \"humidity_avg\" : \"58.0\",\n",
      "          \"humidity_min\" : \"45.0\",\n",
      "          \"atmospheric_pressure\" : \"1016.1\",\n",
      "          \"location\" : \"tokyo\",\n",
      "          \"wind_speed_max_moment\" : \"8.6\",\n",
      "          \"snowfall_max\" : null,\n",
      "          \"sea_level_pressure\" : \"1019.0\"\n",
      "        }\n",
      "      },\n",
      "      {\n",
      "        \"_index\" : \"meteorological-data-2015.02\",\n",
      "        \"_type\" : \"logs\",\n",
      "        \"_id\" : \"tokyo_15-02-28\",\n",
      "        \"_score\" : 1.0,\n",
      "        \"_source\" : {\n",
      "          \"date\" : \"15-02-28\",\n",
      "          \"wind_speed_avg\" : \"3.8\",\n",
      "          \"snowfall\" : null,\n",
      "          \"temperature_max\" : \"12.8\",\n",
      "          \"precipitation_day\" : null,\n",
      "          \"wind_speed_max\" : \"6.9\",\n",
      "          \"sunshine_duration\" : \"9.2\",\n",
      "          \"temperature_avg\" : \"7.4\",\n",
      "          \"temperature_min\" : \"3.0\",\n",
      "          \"@version\" : \"1\",\n",
      "          \"wind_direction_max_moment\" : \"北西\",\n",
      "          \"information_night\" : \"後一時雨\",\n",
      "          \"precipitation_max_10min\" : null,\n",
      "          \"precipitation_max_hour\" : null,\n",
      "          \"wind_direction\" : \"西\",\n",
      "          \"information_daytime\" : \"一時曇\",\n",
      "          \"@timestamp\" : \"2015-02-27T15:00:00.000Z\",\n",
      "          \"humidity_avg\" : \"37.0\",\n",
      "          \"humidity_min\" : \"14.0\",\n",
      "          \"atmospheric_pressure\" : \"1021.1\",\n",
      "          \"location\" : \"tokyo\",\n",
      "          \"wind_speed_max_moment\" : \"11.8\",\n",
      "          \"snowfall_max\" : null,\n",
      "          \"sea_level_pressure\" : \"1024.1\"\n",
      "        }\n",
      "      },\n",
      "      {\n",
      "        \"_index\" : \"meteorological-data-2015.03\",\n",
      "        \"_type\" : \"logs\",\n",
      "        \"_id\" : \"tokyo_15-03-06\",\n",
      "        \"_score\" : 1.0,\n",
      "        \"_source\" : {\n",
      "          \"date\" : \"15-03-06\",\n",
      "          \"wind_speed_avg\" : \"2.8\",\n",
      "          \"snowfall\" : null,\n",
      "          \"temperature_max\" : \"12.0\",\n",
      "          \"precipitation_day\" : \"0\",\n",
      "          \"wind_speed_max\" : \"4.4\",\n",
      "          \"sunshine_duration\" : \"1.9\",\n",
      "          \"temperature_avg\" : \"7.3\",\n",
      "          \"temperature_min\" : \"4.9\",\n",
      "          \"@version\" : \"1\",\n",
      "          \"wind_direction_max_moment\" : \"北東\",\n",
      "          \"information_night\" : \"一時曇\",\n",
      "          \"precipitation_max_10min\" : \"0\",\n",
      "          \"precipitation_max_hour\" : \"0\",\n",
      "          \"wind_direction\" : \"北東\",\n",
      "          \"information_daytime\" : null,\n",
      "          \"@timestamp\" : \"2015-03-05T15:00:00.000Z\",\n",
      "          \"humidity_avg\" : \"53.0\",\n",
      "          \"humidity_min\" : \"34.0\",\n",
      "          \"atmospheric_pressure\" : \"1021.2\",\n",
      "          \"location\" : \"tokyo\",\n",
      "          \"wind_speed_max_moment\" : \"9.6\",\n",
      "          \"snowfall_max\" : null,\n",
      "          \"sea_level_pressure\" : \"1024.2\"\n",
      "        }\n",
      "      }\n",
      "    ]\n",
      "  }\n",
      "}\n"
     ]
    },
    {
     "name": "stderr",
     "output_type": "stream",
     "text": [
      "  % Total    % Received % Xferd  Average Speed   Time    Time     Time  Current\n",
      "                                 Dload  Upload   Total   Spent    Left  Speed\n",
      "\r",
      "  0     0    0     0    0     0      0      0 --:--:-- --:--:-- --:--:--     0\r",
      "100 11287  100 11287    0     0   132k      0 --:--:-- --:--:-- --:--:--  134k\n"
     ]
    }
   ],
   "source": [
    "%%bash\n",
    "curl -XGET \"http://$ES_CLIENT/$INDEX/_search/?pretty\""
   ]
  }
 ],
 "metadata": {
  "anaconda-cloud": {},
  "kernelspec": {
   "display_name": "Python 2",
   "language": "python",
   "name": "python2"
  },
  "language_info": {
   "codemirror_mode": {
    "name": "ipython",
    "version": 2
   },
   "file_extension": ".py",
   "mimetype": "text/x-python",
   "name": "python",
   "nbconvert_exporter": "python",
   "pygments_lexer": "ipython2",
   "version": "2.7.9"
  },
  "toc": {
   "colors": {
    "hover_highlight": "#DAA520",
    "running_highlight": "#FF0000",
    "selected_highlight": "#FFD700"
   },
   "moveMenuLeft": true,
   "nav_menu": {
    "height": "407px",
    "width": "252px"
   },
   "navigate_menu": true,
   "number_sections": true,
   "sideBar": true,
   "threshold": 4,
   "toc_cell": false,
   "toc_section_display": "block",
   "toc_window_display": true
  }
 },
 "nbformat": 4,
 "nbformat_minor": 1
}
