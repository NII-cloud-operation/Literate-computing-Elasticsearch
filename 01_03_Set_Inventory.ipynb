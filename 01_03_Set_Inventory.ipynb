{
 "cells": [
  {
   "cell_type": "markdown",
   "metadata": {
    "lc_cell_meme": {
     "current": "8c601204-151d-11e7-b31a-0242ac12000d",
     "next": "8c60145c-151d-11e7-b31a-0242ac12000d",
     "previous": null
    },
    "run_control": {
     "frozen": false,
     "read_only": false
    }
   },
   "source": [
    "# Elastic Stackの構築手順：インベントリの設定\n",
    "----\n",
    "Ansibleで利用するインベントリ情報を ファイルに出力します。"
   ]
  },
  {
   "cell_type": "markdown",
   "metadata": {
    "lc_cell_meme": {
     "current": "8c60145c-151d-11e7-b31a-0242ac12000d",
     "history": [
      {
       "current": "8c60145c-151d-11e7-b31a-0242ac12000d",
       "next": "8c601682-151d-11e7-b31a-0242ac12000d",
       "previous": "8c601204-151d-11e7-b31a-0242ac12000d"
      }
     ],
     "next": "5f0d8008-1b4d-11e7-b31a-0242ac12000d",
     "previous": "8c601204-151d-11e7-b31a-0242ac12000d"
    },
    "run_control": {
     "frozen": false,
     "read_only": false
    }
   },
   "source": [
    "具体的には、[01_01_Outline.ipynbの設定の出力](01_01_Outline.ipynb#設定の出力)で生成されたインベントリのテンプレート(hosts_template)に、  \n",
    "01_02_Accommodation_XXX.ipynb で生成したサーバのIPアドレス一覧を適用し、  \n",
    "インベントリファイルを作成します。"
   ]
  },
  {
   "cell_type": "markdown",
   "metadata": {
    "lc_cell_meme": {
     "current": "5f0d8008-1b4d-11e7-b31a-0242ac12000d",
     "next": "5f0d8454-1b4d-11e7-b31a-0242ac12000d",
     "previous": "8c60145c-151d-11e7-b31a-0242ac12000d"
    }
   },
   "source": [
    "## 設定\n",
    "アカウントや通信先などを設定します。"
   ]
  },
  {
   "cell_type": "markdown",
   "metadata": {
    "lc_cell_meme": {
     "current": "5f0d8454-1b4d-11e7-b31a-0242ac12000d",
     "history": [
      {
       "current": "5f0d8454-1b4d-11e7-b31a-0242ac12000d",
       "next": "5f0d86d4-1b4d-11e7-b31a-0242ac12000d",
       "previous": "5f0d8008-1b4d-11e7-b31a-0242ac12000d"
      }
     ],
     "next": "e84f524a-1a78-11e7-b31a-0242ac12000d",
     "previous": "5f0d8008-1b4d-11e7-b31a-0242ac12000d"
    }
   },
   "source": [
    "各サーバにAnsibleコマンドを発行するため、  \n",
    "Ansibleを実行可能なユーザアカウントとそのSSHキーを次のセルで設定してください。"
   ]
  },
  {
   "cell_type": "code",
   "execution_count": 2,
   "metadata": {
    "collapsed": true,
    "lc_cell_meme": {
     "current": "e84f524a-1a78-11e7-b31a-0242ac12000d",
     "history": [
      {
       "current": "e84f524a-1a78-11e7-b31a-0242ac12000d",
       "next": "e84f5420-1a78-11e7-b31a-0242ac12000d",
       "previous": "e84f5074-1a78-11e7-b31a-0242ac12000d"
      },
      {
       "current": "e84f524a-1a78-11e7-b31a-0242ac12000d",
       "next": "e84f5420-1a78-11e7-b31a-0242ac12000d",
       "previous": "17863540-1b4d-11e7-b31a-0242ac12000d"
      }
     ],
     "next": "8c601682-151d-11e7-b31a-0242ac12000d",
     "previous": "5f0d8454-1b4d-11e7-b31a-0242ac12000d"
    },
    "run_control": {
     "frozen": false,
     "read_only": false
    }
   },
   "outputs": [],
   "source": [
    "#elasticsearchをインストールするサーバーでansibleコマンドを実行するユーザー\n",
    "USER='ansible'\n",
    "\n",
    "#公開鍵認証を行う場合の秘密鍵のパス\n",
    "#KEYPATH='/notebooks/etc/key/id_rsa'\n",
    "KEYPATH = '~/.ssh/ansible_id_rsa'"
   ]
  },
  {
   "cell_type": "markdown",
   "metadata": {
    "heading_collapsed": true,
    "lc_cell_meme": {
     "current": "8c601682-151d-11e7-b31a-0242ac12000d",
     "history": [
      {
       "current": "8c601682-151d-11e7-b31a-0242ac12000d",
       "next": "8c601876-151d-11e7-b31a-0242ac12000d",
       "previous": "8c60145c-151d-11e7-b31a-0242ac12000d"
      },
      {
       "current": "8c601682-151d-11e7-b31a-0242ac12000d",
       "next": "8c601a74-151d-11e7-b31a-0242ac12000d",
       "previous": "8c60145c-151d-11e7-b31a-0242ac12000d"
      },
      {
       "current": "8c601682-151d-11e7-b31a-0242ac12000d",
       "next": "8c601a74-151d-11e7-b31a-0242ac12000d",
       "previous": "5f0d88e6-1b4d-11e7-b31a-0242ac12000d"
      }
     ],
     "next": "8c601a74-151d-11e7-b31a-0242ac12000d",
     "previous": "e84f524a-1a78-11e7-b31a-0242ac12000d"
    },
    "run_control": {
     "frozen": false,
     "read_only": false
    }
   },
   "source": [
    "## 既存のインベントリのバックアップ\n",
    "出力前に、既存の内容をバックアップ用ディレクトリに退避します。"
   ]
  },
  {
   "cell_type": "markdown",
   "metadata": {
    "hidden": true,
    "lc_cell_meme": {
     "current": "8c601a74-151d-11e7-b31a-0242ac12000d",
     "history": [
      {
       "current": "8c601a74-151d-11e7-b31a-0242ac12000d",
       "next": "8c601c5e-151d-11e7-b31a-0242ac12000d",
       "previous": "8c601876-151d-11e7-b31a-0242ac12000d"
      }
     ],
     "next": "8c601c5e-151d-11e7-b31a-0242ac12000d",
     "previous": "8c601682-151d-11e7-b31a-0242ac12000d"
    },
    "run_control": {
     "frozen": false,
     "read_only": false
    }
   },
   "source": [
    "バックアップ用ディレクトリを生成します。"
   ]
  },
  {
   "cell_type": "code",
   "execution_count": null,
   "metadata": {
    "collapsed": false,
    "hidden": true,
    "lc_cell_meme": {
     "current": "8c601c5e-151d-11e7-b31a-0242ac12000d",
     "next": "8c601e5c-151d-11e7-b31a-0242ac12000d",
     "previous": "8c601a74-151d-11e7-b31a-0242ac12000d"
    },
    "run_control": {
     "frozen": false,
     "read_only": false
    }
   },
   "outputs": [],
   "source": [
    "from datetime import datetime as dt\n",
    "import os\n",
    "bak_dir = './bak_' + dt.now().strftime('%Y%m%d')\n",
    "if(not os.path.isdir(bak_dir)) : os.mkdir(bak_dir)\n",
    "print(bak_dir)"
   ]
  },
  {
   "cell_type": "markdown",
   "metadata": {
    "hidden": true,
    "lc_cell_meme": {
     "current": "8c601e5c-151d-11e7-b31a-0242ac12000d",
     "next": "8c60203c-151d-11e7-b31a-0242ac12000d",
     "previous": "8c601c5e-151d-11e7-b31a-0242ac12000d"
    },
    "run_control": {
     "frozen": false,
     "read_only": false
    }
   },
   "source": [
    "ファイルを生成したディレクトリにコピーします。"
   ]
  },
  {
   "cell_type": "code",
   "execution_count": null,
   "metadata": {
    "collapsed": false,
    "hidden": true,
    "lc_cell_meme": {
     "current": "8c60203c-151d-11e7-b31a-0242ac12000d",
     "next": "8c602226-151d-11e7-b31a-0242ac12000d",
     "previous": "8c601e5c-151d-11e7-b31a-0242ac12000d"
    },
    "run_control": {
     "frozen": false,
     "read_only": false
    },
    "scrolled": true
   },
   "outputs": [],
   "source": [
    "!cp ./hosts {bak_dir}/hosts"
   ]
  },
  {
   "cell_type": "markdown",
   "metadata": {
    "heading_collapsed": true,
    "lc_cell_meme": {
     "current": "8c602226-151d-11e7-b31a-0242ac12000d",
     "next": "8c6023f2-151d-11e7-b31a-0242ac12000d",
     "previous": "8c60203c-151d-11e7-b31a-0242ac12000d"
    },
    "run_control": {
     "frozen": false,
     "read_only": false
    }
   },
   "source": [
    "## ファイルの生成\n",
    "インベントリファイルを生成します。"
   ]
  },
  {
   "cell_type": "markdown",
   "metadata": {
    "hidden": true,
    "lc_cell_meme": {
     "current": "8c6023f2-151d-11e7-b31a-0242ac12000d",
     "next": "8c6025c8-151d-11e7-b31a-0242ac12000d",
     "previous": "8c602226-151d-11e7-b31a-0242ac12000d"
    },
    "run_control": {
     "frozen": false,
     "read_only": false
    }
   },
   "source": [
    "01_02_Accommodation_XXX.ipynb の「Inventory作成用のインスタンスリストを作成」で生成したホストのリストの文字列をコピーし、以下のセルに貼り付けて実行してください。"
   ]
  },
  {
   "cell_type": "code",
   "execution_count": null,
   "metadata": {
    "collapsed": true,
    "hidden": true,
    "lc_cell_meme": {
     "current": "8c6025c8-151d-11e7-b31a-0242ac12000d",
     "next": "8c602794-151d-11e7-b31a-0242ac12000d",
     "previous": "8c6023f2-151d-11e7-b31a-0242ac12000d"
    },
    "run_control": {
     "frozen": false,
     "read_only": false
    }
   },
   "outputs": [],
   "source": [
    "#host_list = {'host1':'xxx1', 'host2':'xxx2', 'host3':'xxx3'}\n",
    "host_list = {'host1':'ec2-54-199-237-7.ap-northeast-1.compute.amazonaws.com'}"
   ]
  },
  {
   "cell_type": "markdown",
   "metadata": {
    "hidden": true,
    "lc_cell_meme": {
     "current": "8c602794-151d-11e7-b31a-0242ac12000d",
     "next": "8c60297e-151d-11e7-b31a-0242ac12000d",
     "previous": "8c6025c8-151d-11e7-b31a-0242ac12000d"
    },
    "run_control": {
     "frozen": false,
     "read_only": false
    }
   },
   "source": [
    "次のセルを実行すると、上のセルで記録したIPリストをインベントリのテンプレート(hosts_template)と合成し、  \n",
    "新しいhostsファイルを生成します。  \n",
    "生成したhostsの内容は画面にも出力されます。"
   ]
  },
  {
   "cell_type": "code",
   "execution_count": null,
   "metadata": {
    "collapsed": false,
    "hidden": true,
    "lc_cell_meme": {
     "current": "8c60297e-151d-11e7-b31a-0242ac12000d",
     "next": "8c602b4a-151d-11e7-b31a-0242ac12000d",
     "previous": "8c602794-151d-11e7-b31a-0242ac12000d"
    },
    "run_control": {
     "frozen": false,
     "read_only": false
    }
   },
   "outputs": [],
   "source": [
    "%run scripts/get-replace-file.py\n",
    "replace_file('hosts_template', 'hosts', host_list)\n",
    "!cat ./hosts"
   ]
  },
  {
   "cell_type": "markdown",
   "metadata": {
    "lc_cell_meme": {
     "current": "8c602b4a-151d-11e7-b31a-0242ac12000d",
     "next": "8c602eb0-151d-11e7-b31a-0242ac12000d",
     "previous": "8c60297e-151d-11e7-b31a-0242ac12000d"
    },
    "run_control": {
     "frozen": false,
     "read_only": false
    }
   },
   "source": [
    "## 内容の確認・修正\n",
    "生成したインベントリファイルの内容を確認、修正したり、前回のバージョンと比較したい場合は以下から実施できます。"
   ]
  },
  {
   "cell_type": "markdown",
   "metadata": {
    "lc_cell_meme": {
     "current": "8c602eb0-151d-11e7-b31a-0242ac12000d",
     "next": "8c6030c2-151d-11e7-b31a-0242ac12000d",
     "previous": "8c602b4a-151d-11e7-b31a-0242ac12000d"
    },
    "run_control": {
     "frozen": false,
     "read_only": false
    }
   },
   "source": [
    "インベントリに出力しているグループの意味と、そのグループに応じたこの後の処理は次の通りです。  \n",
    "各グループに重複して同じサーバアドレスを記入することは、特に問題ありません。"
   ]
  },
  {
   "cell_type": "markdown",
   "metadata": {
    "lc_cell_meme": {
     "current": "8c6030c2-151d-11e7-b31a-0242ac12000d",
     "next": "8c6032ca-151d-11e7-b31a-0242ac12000d",
     "previous": "8c602eb0-151d-11e7-b31a-0242ac12000d"
    },
    "run_control": {
     "frozen": false,
     "read_only": false
    }
   },
   "source": [
    "|グループ|グループに入れるべきサーバ|設定によるこのあとの実際の処理の違い|\n",
    "|---|---|---|\n",
    "|[master-nodes]|master-eligible node<br>（Master Nodeの候補）にしたいサーバ|elasticsearch.ymlの設定内容を変更します。<br>グループ内のサーバか否かで、<br>**\"node.master\"**<br>をtrue/falseに切り替えます。<br>また、**\"discovery.zen.ping.unicast.hosts\"**<br>にグループ内のホスト名またはIPアドレスを配列で指定します。|\n",
    "|[data-nodes]|Data Nodeにしたいサーバ|elasticsearch.ymlの設定内容を変更します。<br>グループ内のサーバか否かで、<br>**\"node.data\"**<br>をtrue/falseに切り替えます。|\n",
    "|[ingest-nodes]|Ingest Nodeにしたいサーバ|elasticsearch.ymlの設定内容を変更します。<br>グループ内のサーバか否かで、<br>**\"node.ingest\"**<br>をtrue/falseに切り替えます。|\n",
    "|[logstash-server]|Logstash用にしたいサーバ|グループ内のサーバか否かで、<br>Logstashをインストールするかを切り替えます。|\n"
   ]
  },
  {
   "cell_type": "markdown",
   "metadata": {
    "lc_cell_meme": {
     "current": "8c6032ca-151d-11e7-b31a-0242ac12000d",
     "next": "8c6034aa-151d-11e7-b31a-0242ac12000d",
     "previous": "8c6030c2-151d-11e7-b31a-0242ac12000d"
    },
    "run_control": {
     "frozen": false,
     "read_only": false
    }
   },
   "source": [
    "出力されたhosts のファイルを修正したい場合は、次のリンクから編集してください。"
   ]
  },
  {
   "cell_type": "markdown",
   "metadata": {
    "lc_cell_meme": {
     "current": "8c6034aa-151d-11e7-b31a-0242ac12000d",
     "next": "8c603676-151d-11e7-b31a-0242ac12000d",
     "previous": "8c6032ca-151d-11e7-b31a-0242ac12000d"
    },
    "run_control": {
     "frozen": false,
     "read_only": false
    }
   },
   "source": [
    "- **[hosts](../edit/hosts)**"
   ]
  },
  {
   "cell_type": "markdown",
   "metadata": {
    "lc_cell_meme": {
     "current": "8c603676-151d-11e7-b31a-0242ac12000d",
     "next": "8c603842-151d-11e7-b31a-0242ac12000d",
     "previous": "8c6034aa-151d-11e7-b31a-0242ac12000d"
    },
    "run_control": {
     "frozen": false,
     "read_only": false
    }
   },
   "source": [
    "変更結果を既存の内容（バックアップディレクトリに退避しているもの）と比較するには  \n",
    "次のセルを実行してください。"
   ]
  },
  {
   "cell_type": "code",
   "execution_count": null,
   "metadata": {
    "collapsed": false,
    "lc_cell_meme": {
     "current": "8c603842-151d-11e7-b31a-0242ac12000d",
     "history": [
      {
       "current": "8c603842-151d-11e7-b31a-0242ac12000d",
       "next": null,
       "previous": "8c603676-151d-11e7-b31a-0242ac12000d"
      },
      {
       "current": "8c603842-151d-11e7-b31a-0242ac12000d",
       "next": "1e76976a-1b4c-11e7-b31a-0242ac12000d",
       "previous": "8c603676-151d-11e7-b31a-0242ac12000d"
      }
     ],
     "next": "e84f4e94-1a78-11e7-b31a-0242ac12000d",
     "previous": "8c603676-151d-11e7-b31a-0242ac12000d"
    },
    "run_control": {
     "frozen": false,
     "read_only": false
    }
   },
   "outputs": [],
   "source": [
    "!diff -ur {bak_dir}/hosts hosts"
   ]
  },
  {
   "cell_type": "markdown",
   "metadata": {
    "lc_cell_meme": {
     "current": "e84f4e94-1a78-11e7-b31a-0242ac12000d",
     "history": [
      {
       "current": "e84f4e94-1a78-11e7-b31a-0242ac12000d",
       "next": "e84f5074-1a78-11e7-b31a-0242ac12000d",
       "previous": "e84f4cbe-1a78-11e7-b31a-0242ac12000d"
      },
      {
       "current": "e84f4e94-1a78-11e7-b31a-0242ac12000d",
       "next": "e84f5074-1a78-11e7-b31a-0242ac12000d",
       "previous": "565273c2-1ab4-11e7-b31a-0242ac12000d"
      },
      {
       "current": "e84f4e94-1a78-11e7-b31a-0242ac12000d",
       "next": "e84f5074-1a78-11e7-b31a-0242ac12000d",
       "previous": "717d6db2-1b4c-11e7-b31a-0242ac12000d"
      },
      {
       "current": "e84f4e94-1a78-11e7-b31a-0242ac12000d",
       "next": "e84f5074-1a78-11e7-b31a-0242ac12000d",
       "previous": "8c603842-151d-11e7-b31a-0242ac12000d"
      },
      {
       "current": "e84f4e94-1a78-11e7-b31a-0242ac12000d",
       "next": "5f0d8ac6-1b4d-11e7-b31a-0242ac12000d",
       "previous": "8c603842-151d-11e7-b31a-0242ac12000d"
      }
     ],
     "next": "e84f5074-1a78-11e7-b31a-0242ac12000d",
     "previous": "8c603842-151d-11e7-b31a-0242ac12000d"
    },
    "run_control": {
     "frozen": false,
     "read_only": false
    }
   },
   "source": [
    "## インベントリのテスト\n",
    "作成したインベントリにある各ホストに、Ansibleから各種の操作が可能か確認します。\n"
   ]
  },
  {
   "cell_type": "markdown",
   "metadata": {
    "heading_collapsed": true,
    "lc_cell_meme": {
     "current": "e84f5074-1a78-11e7-b31a-0242ac12000d",
     "history": [
      {
       "current": "e84f5074-1a78-11e7-b31a-0242ac12000d",
       "next": "e84f524a-1a78-11e7-b31a-0242ac12000d",
       "previous": "e84f4e94-1a78-11e7-b31a-0242ac12000d"
      },
      {
       "current": "e84f5074-1a78-11e7-b31a-0242ac12000d",
       "next": "17863540-1b4d-11e7-b31a-0242ac12000d",
       "previous": "e84f4e94-1a78-11e7-b31a-0242ac12000d"
      },
      {
       "current": "e84f5074-1a78-11e7-b31a-0242ac12000d",
       "next": "17863540-1b4d-11e7-b31a-0242ac12000d",
       "previous": "5f0d905c-1b4d-11e7-b31a-0242ac12000d"
      },
      {
       "current": "e84f5074-1a78-11e7-b31a-0242ac12000d",
       "next": "17863540-1b4d-11e7-b31a-0242ac12000d",
       "previous": "e84f4e94-1a78-11e7-b31a-0242ac12000d"
      }
     ],
     "next": "a692c26c-1b4d-11e7-b31a-0242ac12000d",
     "previous": "e84f4e94-1a78-11e7-b31a-0242ac12000d"
    },
    "run_control": {
     "frozen": false,
     "read_only": false
    }
   },
   "source": [
    "### ホストに到達可能か？\n",
    "インベントリの各ホストに、Ansibleからアクセス可能か確認します。"
   ]
  },
  {
   "cell_type": "markdown",
   "metadata": {
    "hidden": true,
    "lc_cell_meme": {
     "current": "a692c26c-1b4d-11e7-b31a-0242ac12000d",
     "history": [
      {
       "current": "a692c26c-1b4d-11e7-b31a-0242ac12000d",
       "next": "a692c816-1b4d-11e7-b31a-0242ac12000d",
       "previous": "e84f55ec-1a78-11e7-b31a-0242ac12000d"
      },
      {
       "current": "a692c26c-1b4d-11e7-b31a-0242ac12000d",
       "next": "e84f55ec-1a78-11e7-b31a-0242ac12000d",
       "previous": "17863540-1b4d-11e7-b31a-0242ac12000d"
      }
     ],
     "next": "e84f55ec-1a78-11e7-b31a-0242ac12000d",
     "previous": "e84f5074-1a78-11e7-b31a-0242ac12000d"
    }
   },
   "source": [
    "次のコマンドを実行し、全ホストにPINGを発行してください。"
   ]
  },
  {
   "cell_type": "code",
   "execution_count": 11,
   "metadata": {
    "collapsed": false,
    "hidden": true,
    "lc_cell_meme": {
     "current": "e84f55ec-1a78-11e7-b31a-0242ac12000d",
     "history": [
      {
       "current": "e84f55ec-1a78-11e7-b31a-0242ac12000d",
       "next": "e84f57b8-1a78-11e7-b31a-0242ac12000d",
       "previous": "e84f5420-1a78-11e7-b31a-0242ac12000d"
      },
      {
       "current": "e84f55ec-1a78-11e7-b31a-0242ac12000d",
       "next": "e84f5b46-1a78-11e7-b31a-0242ac12000d",
       "previous": "e84f5420-1a78-11e7-b31a-0242ac12000d"
      },
      {
       "current": "e84f55ec-1a78-11e7-b31a-0242ac12000d",
       "next": "a692c26c-1b4d-11e7-b31a-0242ac12000d",
       "previous": "e84f5420-1a78-11e7-b31a-0242ac12000d"
      }
     ],
     "next": "a692c816-1b4d-11e7-b31a-0242ac12000d",
     "previous": "a692c26c-1b4d-11e7-b31a-0242ac12000d"
    },
    "run_control": {
     "frozen": false,
     "read_only": false
    },
    "scrolled": false
   },
   "outputs": [
    {
     "name": "stdout",
     "output_type": "stream",
     "text": [
      "/usr/local/lib/python2.7/dist-packages/cffi/model.py:525: UserWarning: 'point_conversion_form_t' has no values explicitly defined; guessing that it is equivalent to 'unsigned int'\n",
      "  % self._get_c_name())\n",
      "\u001b[0;32mXXX.XXX.XXX.232 | SUCCESS => {\n",
      "    \"changed\": false, \n",
      "    \"ping\": \"pong\"\n",
      "}\u001b[0m\n",
      "\u001b[0;32mXXX.XXX.XXX.233 | SUCCESS => {\n",
      "    \"changed\": false, \n",
      "    \"ping\": \"pong\"\n",
      "}\u001b[0m\n",
      "\u001b[0;32mXXX.XXX.XXX.231 | SUCCESS => {\n",
      "    \"changed\": false, \n",
      "    \"ping\": \"pong\"\n",
      "}\u001b[0m\n",
      "\u001b[0;32mXXX.XXX.XXX.234 | SUCCESS => {\n",
      "    \"changed\": false, \n",
      "    \"ping\": \"pong\"\n",
      "}\u001b[0m\n",
      "\u001b[0;32mXXX.XXX.XXX.235 | SUCCESS => {\n",
      "    \"changed\": false, \n",
      "    \"ping\": \"pong\"\n",
      "}\u001b[0m\n"
     ]
    }
   ],
   "source": [
    "!ansible all -m ping -i ./hosts -u $USER --private-key=$KEYPATH"
   ]
  },
  {
   "cell_type": "markdown",
   "metadata": {
    "hidden": true,
    "lc_cell_meme": {
     "current": "a692c816-1b4d-11e7-b31a-0242ac12000d",
     "history": [
      {
       "current": "a692c816-1b4d-11e7-b31a-0242ac12000d",
       "next": "a692ca82-1b4d-11e7-b31a-0242ac12000d",
       "previous": "a692c26c-1b4d-11e7-b31a-0242ac12000d"
      }
     ],
     "next": "a692ca82-1b4d-11e7-b31a-0242ac12000d",
     "previous": "e84f55ec-1a78-11e7-b31a-0242ac12000d"
    }
   },
   "source": [
    "各サーバから、次のようにSUCCESSという応答が返ってくれば問題なく実行できています。"
   ]
  },
  {
   "cell_type": "raw",
   "metadata": {
    "hidden": true,
    "lc_cell_meme": {
     "current": "a692ca82-1b4d-11e7-b31a-0242ac12000d",
     "history": [
      {
       "current": "a692ca82-1b4d-11e7-b31a-0242ac12000d",
       "next": "a692cc8a-1b4d-11e7-b31a-0242ac12000d",
       "previous": "a692c816-1b4d-11e7-b31a-0242ac12000d"
      }
     ],
     "next": "e84f5b46-1a78-11e7-b31a-0242ac12000d",
     "previous": "a692c816-1b4d-11e7-b31a-0242ac12000d"
    }
   },
   "source": [
    "<各サーバのIPアドレス> | SUCCESS => {\n",
    "    \"changed\": false, \n",
    "    \"ping\": \"pong\"\n",
    "}"
   ]
  },
  {
   "cell_type": "markdown",
   "metadata": {
    "heading_collapsed": true,
    "lc_cell_meme": {
     "current": "e84f5b46-1a78-11e7-b31a-0242ac12000d",
     "history": [
      {
       "current": "e84f5b46-1a78-11e7-b31a-0242ac12000d",
       "next": "e84f5d08-1a78-11e7-b31a-0242ac12000d",
       "previous": "e84f5984-1a78-11e7-b31a-0242ac12000d"
      },
      {
       "current": "e84f5b46-1a78-11e7-b31a-0242ac12000d",
       "next": "e84f5d08-1a78-11e7-b31a-0242ac12000d",
       "previous": "e84f55ec-1a78-11e7-b31a-0242ac12000d"
      },
      {
       "current": "e84f5b46-1a78-11e7-b31a-0242ac12000d",
       "next": "e84f5d08-1a78-11e7-b31a-0242ac12000d",
       "previous": "a692ce7e-1b4d-11e7-b31a-0242ac12000d"
      },
      {
       "current": "e84f5b46-1a78-11e7-b31a-0242ac12000d",
       "next": "e84f5d08-1a78-11e7-b31a-0242ac12000d",
       "previous": "a692ca82-1b4d-11e7-b31a-0242ac12000d"
      }
     ],
     "next": "c4b46d8a-1b4e-11e7-b31a-0242ac12000d",
     "previous": "a692ca82-1b4d-11e7-b31a-0242ac12000d"
    },
    "run_control": {
     "frozen": false,
     "read_only": false
    }
   },
   "source": [
    "### 適切なユーザで認証されるか？\n",
    "\n",
    "Ansibleからホストへの認証は、一般ユーザとして認証されるか確認します。"
   ]
  },
  {
   "cell_type": "markdown",
   "metadata": {
    "hidden": true,
    "lc_cell_meme": {
     "current": "c4b46d8a-1b4e-11e7-b31a-0242ac12000d",
     "next": "e84f5d08-1a78-11e7-b31a-0242ac12000d",
     "previous": "e84f5b46-1a78-11e7-b31a-0242ac12000d"
    }
   },
   "source": [
    "次のコマンドを実行してください。"
   ]
  },
  {
   "cell_type": "code",
   "execution_count": 3,
   "metadata": {
    "collapsed": false,
    "hidden": true,
    "lc_cell_meme": {
     "current": "e84f5d08-1a78-11e7-b31a-0242ac12000d",
     "history": [
      {
       "current": "e84f5d08-1a78-11e7-b31a-0242ac12000d",
       "next": "e84f5ede-1a78-11e7-b31a-0242ac12000d",
       "previous": "e84f5b46-1a78-11e7-b31a-0242ac12000d"
      },
      {
       "current": "e84f5d08-1a78-11e7-b31a-0242ac12000d",
       "next": "7d2534ea-1b4e-11e7-b31a-0242ac12000d",
       "previous": "e84f5b46-1a78-11e7-b31a-0242ac12000d"
      }
     ],
     "next": "7d2534ea-1b4e-11e7-b31a-0242ac12000d",
     "previous": "c4b46d8a-1b4e-11e7-b31a-0242ac12000d"
    },
    "run_control": {
     "frozen": false,
     "marked": false,
     "read_only": false
    },
    "scrolled": false
   },
   "outputs": [
    {
     "name": "stdout",
     "output_type": "stream",
     "text": [
      "/usr/local/lib/python2.7/dist-packages/cffi/model.py:525: UserWarning: 'point_conversion_form_t' has no values explicitly defined; guessing that it is equivalent to 'unsigned int'\n",
      "  % self._get_c_name())\n",
      "\u001b[0;32mXXX.XXX.XXX.232 | SUCCESS | rc=0 >>\n",
      "ansible\n",
      "\u001b[0m\n",
      "\u001b[0;32mXXX.XXX.XXX.231 | SUCCESS | rc=0 >>\n",
      "ansible\n",
      "\u001b[0m\n",
      "\u001b[0;32mXXX.XXX.XXX.233 | SUCCESS | rc=0 >>\n",
      "ansible\n",
      "\u001b[0m\n",
      "\u001b[0;32mXXX.XXX.XXX.234 | SUCCESS | rc=0 >>\n",
      "ansible\n",
      "\u001b[0m\n",
      "\u001b[0;32mXXX.XXX.XXX.235 | SUCCESS | rc=0 >>\n",
      "ansible\n",
      "\u001b[0m\n"
     ]
    }
   ],
   "source": [
    "!ansible -a 'whoami' all -i ./hosts -u $USER --private-key=$KEYPATH"
   ]
  },
  {
   "cell_type": "markdown",
   "metadata": {
    "hidden": true,
    "lc_cell_meme": {
     "current": "7d2534ea-1b4e-11e7-b31a-0242ac12000d",
     "history": [
      {
       "current": "7d2534ea-1b4e-11e7-b31a-0242ac12000d",
       "next": "e84f5ede-1a78-11e7-b31a-0242ac12000d",
       "previous": "e84f5d08-1a78-11e7-b31a-0242ac12000d"
      }
     ],
     "next": "c4b471e0-1b4e-11e7-b31a-0242ac12000d",
     "previous": "e84f5d08-1a78-11e7-b31a-0242ac12000d"
    }
   },
   "source": [
    "各サーバからSUCCESSという結果と、[設定](#設定)の章で設定したユーザ名が次のように応答されていれば、問題なく認証できています。"
   ]
  },
  {
   "cell_type": "raw",
   "metadata": {
    "hidden": true,
    "lc_cell_meme": {
     "current": "c4b471e0-1b4e-11e7-b31a-0242ac12000d",
     "next": "e84f5ede-1a78-11e7-b31a-0242ac12000d",
     "previous": "7d2534ea-1b4e-11e7-b31a-0242ac12000d"
    }
   },
   "source": [
    "<各サーバのIPアドレス> | SUCCESS | rc=0 >>\n",
    "<設定したユーザ名>"
   ]
  },
  {
   "cell_type": "markdown",
   "metadata": {
    "heading_collapsed": true,
    "lc_cell_meme": {
     "current": "e84f5ede-1a78-11e7-b31a-0242ac12000d",
     "history": [
      {
       "current": "e84f5ede-1a78-11e7-b31a-0242ac12000d",
       "next": "e84f60a0-1a78-11e7-b31a-0242ac12000d",
       "previous": "e84f5d08-1a78-11e7-b31a-0242ac12000d"
      },
      {
       "current": "e84f5ede-1a78-11e7-b31a-0242ac12000d",
       "next": "e84f60a0-1a78-11e7-b31a-0242ac12000d",
       "previous": "7d2534ea-1b4e-11e7-b31a-0242ac12000d"
      },
      {
       "current": "e84f5ede-1a78-11e7-b31a-0242ac12000d",
       "next": "e84f60a0-1a78-11e7-b31a-0242ac12000d",
       "previous": "c4b471e0-1b4e-11e7-b31a-0242ac12000d"
      }
     ],
     "next": "0c34a5ee-1b4f-11e7-b31a-0242ac12000d",
     "previous": "c4b471e0-1b4e-11e7-b31a-0242ac12000d"
    },
    "run_control": {
     "frozen": false,
     "read_only": false
    }
   },
   "source": [
    "### 対象ホストでsudo可能か？\n",
    "インベントリの各ホストに、Ansibleからsudo可能か確認します。\n"
   ]
  },
  {
   "cell_type": "markdown",
   "metadata": {
    "hidden": true,
    "lc_cell_meme": {
     "current": "0c34a5ee-1b4f-11e7-b31a-0242ac12000d",
     "next": "e84f60a0-1a78-11e7-b31a-0242ac12000d",
     "previous": "e84f5ede-1a78-11e7-b31a-0242ac12000d"
    }
   },
   "source": [
    "次のコマンドを実行し、全ホストにsudoしてください。"
   ]
  },
  {
   "cell_type": "code",
   "execution_count": 4,
   "metadata": {
    "collapsed": false,
    "hidden": true,
    "lc_cell_meme": {
     "current": "e84f60a0-1a78-11e7-b31a-0242ac12000d",
     "history": [
      {
       "current": "e84f60a0-1a78-11e7-b31a-0242ac12000d",
       "next": "e84f626c-1a78-11e7-b31a-0242ac12000d",
       "previous": "e84f5ede-1a78-11e7-b31a-0242ac12000d"
      },
      {
       "current": "e84f60a0-1a78-11e7-b31a-0242ac12000d",
       "next": "e84f626c-1a78-11e7-b31a-0242ac12000d",
       "previous": "0c34a5ee-1b4f-11e7-b31a-0242ac12000d"
      }
     ],
     "next": "7d2534ea-1b4e-11e7-b31a-0242ac12000d",
     "previous": "0c34a5ee-1b4f-11e7-b31a-0242ac12000d"
    },
    "run_control": {
     "frozen": false,
     "read_only": false
    },
    "scrolled": true
   },
   "outputs": [
    {
     "name": "stdout",
     "output_type": "stream",
     "text": [
      "/usr/local/lib/python2.7/dist-packages/cffi/model.py:525: UserWarning: 'point_conversion_form_t' has no values explicitly defined; guessing that it is equivalent to 'unsigned int'\n",
      "  % self._get_c_name())\n",
      "\u001b[0;32mXXX.XXX.XXX.233 | SUCCESS | rc=0 >>\n",
      "root\n",
      "\u001b[0m\n",
      "\u001b[0;32mXXX.XXX.XXX.232 | SUCCESS | rc=0 >>\n",
      "root\n",
      "\u001b[0m\n",
      "\u001b[0;32mXXX.XXX.XXX.231 | SUCCESS | rc=0 >>\n",
      "root\n",
      "\u001b[0m\n",
      "\u001b[0;32mXXX.XXX.XXX.234 | SUCCESS | rc=0 >>\n",
      "root\n",
      "\u001b[0m\n",
      "\u001b[0;32mXXX.XXX.XXX.235 | SUCCESS | rc=0 >>\n",
      "root\n",
      "\u001b[0m\n"
     ]
    }
   ],
   "source": [
    "!ansible --become --become-user root -a 'whoami' all -i ./hosts -u $USER --private-key=$KEYPATH"
   ]
  },
  {
   "cell_type": "markdown",
   "metadata": {
    "hidden": true,
    "lc_cell_meme": {
     "current": "7d2534ea-1b4e-11e7-b31a-0242ac12000d",
     "history": [
      {
       "current": "7d2534ea-1b4e-11e7-b31a-0242ac12000d",
       "next": "e84f5ede-1a78-11e7-b31a-0242ac12000d",
       "previous": "e84f5d08-1a78-11e7-b31a-0242ac12000d"
      },
      {
       "current": "7d2534ea-1b4e-11e7-b31a-0242ac12000d",
       "next": "c4b471e0-1b4e-11e7-b31a-0242ac12000d",
       "previous": "e84f5d08-1a78-11e7-b31a-0242ac12000d"
      }
     ],
     "next": "c4b471e0-1b4e-11e7-b31a-0242ac12000d",
     "previous": "e84f60a0-1a78-11e7-b31a-0242ac12000d"
    }
   },
   "source": [
    "各サーバからSUCCESSという結果と、rootというユーザ名が次のように応答されていれば、問題なくsudoできています。"
   ]
  },
  {
   "cell_type": "raw",
   "metadata": {
    "hidden": true,
    "lc_cell_meme": {
     "current": "c4b471e0-1b4e-11e7-b31a-0242ac12000d",
     "history": [
      {
       "current": "c4b471e0-1b4e-11e7-b31a-0242ac12000d",
       "next": "e84f5ede-1a78-11e7-b31a-0242ac12000d",
       "previous": "7d2534ea-1b4e-11e7-b31a-0242ac12000d"
      },
      {
       "current": "c4b471e0-1b4e-11e7-b31a-0242ac12000d",
       "next": "e84f642e-1a78-11e7-b31a-0242ac12000d",
       "previous": "7d2534ea-1b4e-11e7-b31a-0242ac12000d"
      }
     ],
     "next": "e84f6604-1a78-11e7-b31a-0242ac12000d",
     "previous": "7d2534ea-1b4e-11e7-b31a-0242ac12000d"
    }
   },
   "source": [
    "<各サーバのIPアドレス> | SUCCESS | rc=0 >>\n",
    "root"
   ]
  },
  {
   "cell_type": "markdown",
   "metadata": {
    "heading_collapsed": true,
    "lc_cell_meme": {
     "current": "e84f6604-1a78-11e7-b31a-0242ac12000d",
     "history": [
      {
       "current": "e84f6604-1a78-11e7-b31a-0242ac12000d",
       "next": "e84f67d0-1a78-11e7-b31a-0242ac12000d",
       "previous": "e84f642e-1a78-11e7-b31a-0242ac12000d"
      },
      {
       "current": "e84f6604-1a78-11e7-b31a-0242ac12000d",
       "next": "e84f67d0-1a78-11e7-b31a-0242ac12000d",
       "previous": "c4b471e0-1b4e-11e7-b31a-0242ac12000d"
      },
      {
       "current": "e84f6604-1a78-11e7-b31a-0242ac12000d",
       "next": "e2d3fc9e-1b4f-11e7-b31a-0242ac12000d",
       "previous": "c4b471e0-1b4e-11e7-b31a-0242ac12000d"
      }
     ],
     "next": "71d97856-1b50-11e7-b31a-0242ac12000d",
     "previous": "c4b471e0-1b4e-11e7-b31a-0242ac12000d"
    },
    "run_control": {
     "frozen": false,
     "read_only": false
    }
   },
   "source": [
    "### Ansibleによる操作ログが記録されているか？\n",
    "Ansibleで各ホストを操作した結果を、過去の分も含めて参照できるか確認します。"
   ]
  },
  {
   "cell_type": "markdown",
   "metadata": {
    "hidden": true,
    "lc_cell_meme": {
     "current": "71d97856-1b50-11e7-b31a-0242ac12000d",
     "next": "e2d3fc9e-1b4f-11e7-b31a-0242ac12000d",
     "previous": "e84f6604-1a78-11e7-b31a-0242ac12000d"
    }
   },
   "source": [
    "ログのディレクトリまたはファイルを指定してください。"
   ]
  },
  {
   "cell_type": "code",
   "execution_count": 9,
   "metadata": {
    "collapsed": false,
    "hidden": true,
    "lc_cell_meme": {
     "current": "e2d3fc9e-1b4f-11e7-b31a-0242ac12000d",
     "history": [
      {
       "current": "e2d3fc9e-1b4f-11e7-b31a-0242ac12000d",
       "next": "e84f67d0-1a78-11e7-b31a-0242ac12000d",
       "previous": "e84f6604-1a78-11e7-b31a-0242ac12000d"
      }
     ],
     "next": "71d97c84-1b50-11e7-b31a-0242ac12000d",
     "previous": "71d97856-1b50-11e7-b31a-0242ac12000d"
    },
    "run_control": {
     "frozen": false,
     "read_only": false
    }
   },
   "outputs": [],
   "source": [
    "LOG_PATH = '/var/log/*'"
   ]
  },
  {
   "cell_type": "markdown",
   "metadata": {
    "hidden": true,
    "lc_cell_meme": {
     "current": "71d97c84-1b50-11e7-b31a-0242ac12000d",
     "next": "e84f67d0-1a78-11e7-b31a-0242ac12000d",
     "previous": "e2d3fc9e-1b4f-11e7-b31a-0242ac12000d"
    }
   },
   "source": [
    "次のコマンドを実行し、ansibleの実行ログが出現するか確認してください。"
   ]
  },
  {
   "cell_type": "code",
   "execution_count": 10,
   "metadata": {
    "collapsed": false,
    "hidden": true,
    "lc_cell_meme": {
     "current": "e84f67d0-1a78-11e7-b31a-0242ac12000d",
     "history": [
      {
       "current": "e84f67d0-1a78-11e7-b31a-0242ac12000d",
       "next": "e84f6992-1a78-11e7-b31a-0242ac12000d",
       "previous": "e84f6604-1a78-11e7-b31a-0242ac12000d"
      },
      {
       "current": "e84f67d0-1a78-11e7-b31a-0242ac12000d",
       "next": "e84f6992-1a78-11e7-b31a-0242ac12000d",
       "previous": "e2d3fc9e-1b4f-11e7-b31a-0242ac12000d"
      },
      {
       "current": "e84f67d0-1a78-11e7-b31a-0242ac12000d",
       "next": "e84f6992-1a78-11e7-b31a-0242ac12000d",
       "previous": "71d97c84-1b50-11e7-b31a-0242ac12000d"
      }
     ],
     "next": "485e5874-1b51-11e7-b31a-0242ac12000d",
     "previous": "71d97c84-1b50-11e7-b31a-0242ac12000d"
    },
    "run_control": {
     "frozen": false,
     "read_only": false
    },
    "scrolled": true
   },
   "outputs": [
    {
     "name": "stdout",
     "output_type": "stream",
     "text": [
      "/usr/local/lib/python2.7/dist-packages/cffi/model.py:525: UserWarning: 'point_conversion_form_t' has no values explicitly defined; guessing that it is equivalent to 'unsigned int'\n",
      "  % self._get_c_name())\n",
      "\u001b[0;32mXXX.XXX.XXX.233 | SUCCESS | rc=0 >>\n",
      "/var/log/secure-20170403:Apr  3 18:23:28 cn01060402 sudo: ansible : TTY=pts/0 ; PWD=/home/ansible ; USER=root ; COMMAND=/bin/sh -c echo BECOME-SUCCESS-tdftwhrvovaiuvdmqzbodoxkmmwlstzq; /usr/bin/python /home/ansible/.ansible/tmp/ansible-tmp-1491211408.34-259287867540840/setup.py; rm -rf \"/home/ansible/.ansible/tmp/ansible-tmp-1491211408.34-259287867540840/\" > /dev/null 2>&1\n",
      "/var/log/secure-20170403:Apr  3 18:23:29 cn01060402 sudo: ansible : TTY=pts/0 ; PWD=/home/ansible ; USER=root ; COMMAND=/bin/sh -c echo BECOME-SUCCESS-qgmitxhyalfbacdiihvmjzdhcwemxvzy; /usr/bin/python /home/ansible/.ansible/tmp/ansible-tmp-1491211408.96-146337141741571/systemd.py; rm -rf \"/home/ansible/.ansible/tmp/ansible-tmp-1491211408.96-146337141741571/\" > /dev/null 2>&1grep: /var/log/anaconda: Is a directory\n",
      "grep: /var/log/audit: Is a directory\n",
      "grep: /var/log/cups: Is a directory\n",
      "grep: /var/log/dodai: Is a directory\n",
      "grep: /var/log/elasticsearch: Is a directory\n",
      "grep: /var/log/munin-node: Is a directory\n",
      "grep: /var/log/ntpstats: Is a directory\n",
      "grep: /var/log/ppp: Is a directory\n",
      "grep: /var/log/sa: Is a directory\n",
      "grep: /var/log/tuned: Is a directory\n",
      "\u001b[0m\n",
      "\u001b[0;32mXXX.XXX.XXX.232 | SUCCESS | rc=0 >>\n",
      "/var/log/secure-20170403:Apr  3 18:17:03 cn01040602 sudo: ansible : TTY=pts/0 ; PWD=/home/ansible ; USER=root ; COMMAND=/bin/sh -c echo BECOME-SUCCESS-bkjcbuqhkqnplcloxncptpclcdbqnywn; /usr/bin/python /home/ansible/.ansible/tmp/ansible-tmp-1491211022.97-58369487818739/setup.py; rm -rf \"/home/ansible/.ansible/tmp/ansible-tmp-1491211022.97-58369487818739/\" > /dev/null 2>&1\n",
      "/var/log/secure-20170403:Apr  3 18:17:03 cn01040602 sudo: ansible : TTY=pts/0 ; PWD=/home/ansible ; USER=root ; COMMAND=/bin/sh -c echo BECOME-SUCCESS-kwgbsbywmqawgfhwcnfkbdexagwybikp; /usr/bin/python /home/ansible/.ansible/tmp/ansible-tmp-1491211023.58-146183593012617/systemd.py; rm -rf \"/home/ansible/.ansible/tmp/ansible-tmp-1491211023.58-146183593012617/\" > /dev/null 2>&1grep: /var/log/anaconda: Is a directory\n",
      "grep: /var/log/audit: Is a directory\n",
      "grep: /var/log/cups: Is a directory\n",
      "grep: /var/log/dodai: Is a directory\n",
      "grep: /var/log/elasticsearch: Is a directory\n",
      "grep: /var/log/munin-node: Is a directory\n",
      "grep: /var/log/ntpstats: Is a directory\n",
      "grep: /var/log/ppp: Is a directory\n",
      "grep: /var/log/sa: Is a directory\n",
      "grep: /var/log/tuned: Is a directory\n",
      "\u001b[0m\n",
      "\u001b[0;32mXXX.XXX.XXX.231 | SUCCESS | rc=0 >>\n",
      "/var/log/secure-20170403:Apr  3 18:17:03 cn01040802 sudo: ansible : TTY=pts/1 ; PWD=/home/ansible ; USER=root ; COMMAND=/bin/sh -c echo BECOME-SUCCESS-ivrsattjtjhjurmuegaueaxvdkvdmvmx; /usr/bin/python /home/ansible/.ansible/tmp/ansible-tmp-1491211022.97-157872616369053/setup.py; rm -rf \"/home/ansible/.ansible/tmp/ansible-tmp-1491211022.97-157872616369053/\" > /dev/null 2>&1\n",
      "/var/log/secure-20170403:Apr  3 18:17:03 cn01040802 sudo: ansible : TTY=pts/1 ; PWD=/home/ansible ; USER=root ; COMMAND=/bin/sh -c echo BECOME-SUCCESS-advlqkzlpokpuizvmyxayruljfjvqphe; /usr/bin/python /home/ansible/.ansible/tmp/ansible-tmp-1491211023.58-8836251762359/systemd.py; rm -rf \"/home/ansible/.ansible/tmp/ansible-tmp-1491211023.58-8836251762359/\" > /dev/null 2>&1grep: /var/log/anaconda: Is a directory\n",
      "grep: /var/log/audit: Is a directory\n",
      "grep: /var/log/cups: Is a directory\n",
      "grep: /var/log/dodai: Is a directory\n",
      "grep: /var/log/elasticsearch: Is a directory\n",
      "grep: /var/log/munin-node: Is a directory\n",
      "grep: /var/log/ntpstats: Is a directory\n",
      "grep: /var/log/ppp: Is a directory\n",
      "grep: /var/log/sa: Is a directory\n",
      "grep: /var/log/tuned: Is a directory\n",
      "\u001b[0m\n",
      "\u001b[0;32mXXX.XXX.XXX.234 | SUCCESS | rc=0 >>\n",
      "/var/log/secure-20170403:Apr  3 18:17:04 cn01060801 sudo: ansible : TTY=pts/0 ; PWD=/home/ansible ; USER=root ; COMMAND=/bin/sh -c echo BECOME-SUCCESS-fwqehqjlzzvpvfvtjjivquirjearvijs; /usr/bin/python /home/ansible/.ansible/tmp/ansible-tmp-1491211024.29-22145232122935/setup.py; rm -rf \"/home/ansible/.ansible/tmp/ansible-tmp-1491211024.29-22145232122935/\" > /dev/null 2>&1\n",
      "/var/log/secure-20170403:Apr  3 18:17:04 cn01060801 sudo: ansible : TTY=pts/0 ; PWD=/home/ansible ; USER=root ; COMMAND=/bin/sh -c echo BECOME-SUCCESS-bkkirtuhoqzqssbihlhlgbahoehwdlac; /usr/bin/python /home/ansible/.ansible/tmp/ansible-tmp-1491211024.77-148582303612169/systemd.py; rm -rf \"/home/ansible/.ansible/tmp/ansible-tmp-1491211024.77-148582303612169/\" > /dev/null 2>&1grep: /var/log/anaconda: Is a directory\n",
      "grep: /var/log/audit: Is a directory\n",
      "grep: /var/log/cups: Is a directory\n",
      "grep: /var/log/dodai: Is a directory\n",
      "grep: /var/log/elasticsearch: Is a directory\n",
      "grep: /var/log/logstash: Is a directory\n",
      "grep: /var/log/munin-node: Is a directory\n",
      "grep: /var/log/ntpstats: Is a directory\n",
      "grep: /var/log/ppp: Is a directory\n",
      "grep: /var/log/sa: Is a directory\n",
      "grep: /var/log/tuned: Is a directory\n",
      "\u001b[0m\n",
      "\u001b[0;32mXXX.XXX.XXX.235 | SUCCESS | rc=0 >>\n",
      "/var/log/secure-20170403:Apr  3 18:03:20 cn01060601 sudo: ansible : TTY=pts/0 ; PWD=/home/ansible ; USER=root ; COMMAND=/bin/sh -c echo BECOME-SUCCESS-hrosxewwixxlfcjgonhpkvnqyywjawcy; /usr/bin/python /home/ansible/.ansible/tmp/ansible-tmp-1491210200.24-255575520280152/setup.py; rm -rf \"/home/ansible/.ansible/tmp/ansible-tmp-1491210200.24-255575520280152/\" > /dev/null 2>&1\n",
      "/var/log/secure-20170403:Apr  3 18:03:21 cn01060601 sudo: ansible : TTY=pts/0 ; PWD=/home/ansible ; USER=root ; COMMAND=/bin/sh -c echo BECOME-SUCCESS-vvvreywtzgddesdmrreceyvmnskipjje; /usr/bin/python /home/ansible/.ansible/tmp/ansible-tmp-1491210200.84-137418523387785/systemd.py; rm -rf \"/home/ansible/.ansible/tmp/ansible-tmp-1491210200.84-137418523387785/\" > /dev/null 2>&1grep: /var/log/anaconda: Is a directory\n",
      "grep: /var/log/audit: Is a directory\n",
      "grep: /var/log/cups: Is a directory\n",
      "grep: /var/log/dodai: Is a directory\n",
      "grep: /var/log/elasticsearch: Is a directory\n",
      "grep: /var/log/munin-node: Is a directory\n",
      "grep: /var/log/ntpstats: Is a directory\n",
      "grep: /var/log/ppp: Is a directory\n",
      "grep: /var/log/sa: Is a directory\n",
      "grep: /var/log/tuned: Is a directory\n",
      "\u001b[0m\n"
     ]
    }
   ],
   "source": [
    "!ansible -b -m shell -a 'grep ansible- {LOG_PATH} | tail -n 2' all -i ./hosts -u $USER --private-key=$KEYPATH"
   ]
  },
  {
   "cell_type": "markdown",
   "metadata": {
    "hidden": true,
    "lc_cell_meme": {
     "current": "485e5874-1b51-11e7-b31a-0242ac12000d",
     "next": null,
     "previous": "e84f67d0-1a78-11e7-b31a-0242ac12000d"
    }
   },
   "source": [
    "※長期運用にあたっては、実行ログがディスクを圧迫しないようrotateされるかを確認してください。  "
   ]
  }
 ],
 "metadata": {
  "anaconda-cloud": {},
  "kernelspec": {
   "display_name": "Python 2",
   "language": "python",
   "name": "python2"
  },
  "language_info": {
   "codemirror_mode": {
    "name": "ipython",
    "version": 2
   },
   "file_extension": ".py",
   "mimetype": "text/x-python",
   "name": "python",
   "nbconvert_exporter": "python",
   "pygments_lexer": "ipython2",
   "version": "2.7.9"
  },
  "latex_envs": {
   "bibliofile": "biblio.bib",
   "cite_by": "apalike",
   "current_citInitial": 1,
   "eqLabelWithNumbers": true,
   "eqNumInitial": 0
  },
  "lc_notebook_meme": {
   "current": "8c600da4-151d-11e7-b31a-0242ac12000d",
   "lc_server_signature": {
    "history": []
   }
  },
  "toc": {
   "colors": {
    "hover_highlight": "#DAA520",
    "running_highlight": "#FF0000",
    "selected_highlight": "#FFD700"
   },
   "moveMenuLeft": true,
   "nav_menu": {
    "height": "407px",
    "width": "252px"
   },
   "navigate_menu": true,
   "number_sections": true,
   "sideBar": true,
   "threshold": 4,
   "toc_cell": false,
   "toc_position": {
    "height": "791px",
    "left": "0px",
    "right": "1576px",
    "top": "130px",
    "width": "268px"
   },
   "toc_section_display": "block",
   "toc_window_display": true
  }
 },
 "nbformat": 4,
 "nbformat_minor": 1
}
